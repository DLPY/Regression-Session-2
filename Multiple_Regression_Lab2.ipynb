{
  "nbformat": 4,
  "nbformat_minor": 0,
  "metadata": {
    "colab": {
      "name": "Multiple_Regression_Lab2.ipynb",
      "private_outputs": true,
      "provenance": [],
      "collapsed_sections": [],
      "toc_visible": true,
      "include_colab_link": true
    },
    "kernelspec": {
      "name": "python3",
      "display_name": "Python 3"
    },
    "language_info": {
      "name": "python"
    },
    "accelerator": "GPU"
  },
  "cells": [
    {
      "cell_type": "markdown",
      "metadata": {
        "id": "view-in-github",
        "colab_type": "text"
      },
      "source": [
        "<a href=\"https://colab.research.google.com/github/DLPY/Regression-Session-2/blob/master/Multiple_Regression_Lab2.ipynb\" target=\"_parent\"><img src=\"https://colab.research.google.com/assets/colab-badge.svg\" alt=\"Open In Colab\"/></a>"
      ]
    },
    {
      "cell_type": "markdown",
      "metadata": {
        "id": "C5he_jAvzM_Q"
      },
      "source": [
        "## 1. Import Pandas, Pyplot and Read data"
      ]
    },
    {
      "cell_type": "code",
      "metadata": {
        "id": "MDfXkCh2zD4v",
        "collapsed": true
      },
      "source": [
        "import matplotlib.pyplot as plt\n",
        "import numpy as np\n",
        "import pandas as pd\n",
        "from sklearn.linear_model import LinearRegression\n",
        "from sklearn.metrics import mean_squared_error, r2_score\n",
        "from sklearn.model_selection import train_test_split\n",
        "import statsmodels.api as sm\n",
        "\n",
        "%matplotlib inline\n",
        "\n",
        "pd.set_option('display.max_colwidth', None)\n",
        "\n",
        "# CSV is first read in from a github raw file another option is to import the notebook to your session storage by click on the file icon on left toolbar then importing csv\n",
        "! wget https://raw.githubusercontent.com/DLPY/Regression-Session-1/master/Data/Diamonds.csv"
      ],
      "execution_count": null,
      "outputs": []
    },
    {
      "cell_type": "code",
      "metadata": {
        "id": "0tA2cpynEzLU"
      },
      "source": [
        "# Once we have the csv file pd.read_csv() converts it to a pandas dataframe\n",
        "df = pd.read_csv('Diamonds.csv')"
      ],
      "execution_count": null,
      "outputs": []
    },
    {
      "cell_type": "markdown",
      "metadata": {
        "id": "f6PdjJN_1UL_"
      },
      "source": [
        "## 2. Investigating the Data"
      ]
    },
    {
      "cell_type": "code",
      "metadata": {
        "id": "V-_nFB440D3R"
      },
      "source": [
        "# First five columns \n",
        "df.head()"
      ],
      "execution_count": null,
      "outputs": []
    },
    {
      "cell_type": "markdown",
      "metadata": {
        "id": "sacCZGbDOUiw"
      },
      "source": [
        "# Diamonds Data Set\n",
        "## Overall a clean dataset with no missing values or messy data.\n",
        "### approximately 54K observations\n",
        "### 10 variables including:\n",
        "**carat** - weight of the diamond ranging between 0.2-5.01\n",
        "\n",
        "**cut** - the quality of the cut\n",
        "- 'Ideal': 1\n",
        "- 'Good': 2\n",
        "- 'Very Good': 3\n",
        "- 'Fair': 4\n",
        "- 'Premium': 5\n",
        "\n",
        "**color** - diamond color   J (worst) to D (best)\n",
        "- 'E': 1\n",
        "- 'D': 2\n",
        "- 'F': 3\n",
        "- 'G': 4\n",
        "- 'H': 5\n",
        "- 'I': 6\n",
        "- 'J':7\n",
        "\n",
        "**clarity** - measurement of how clear the diamond is: I1 (worst), SI2, SI1, VS2, VS1, VVS2, VVS1, IF (best)\n",
        "- 'VVS1': 1\n",
        "- 'IF': 2\n",
        "- 'VVS2': 3\n",
        "- 'VS1':4\n",
        "- 'I1':5\n",
        "- 'VS2':6\n",
        "- 'SI1':7\n",
        "- 'SI2':8\n",
        "\n",
        "**depth** - total depth percentage ranging between 43-79\n",
        "\n",
        "**table** - width of top of diamond relative to widest point ranging between 43-95\n",
        "\n",
        "**price** - price in US dollars ranging between 326-18,823(USD)\n",
        "\n",
        "**x** (length in mm)\n",
        "\n",
        "**y** (width in mm)\n",
        "\n",
        "**z** (depth in mm)\n"
      ]
    },
    {
      "cell_type": "code",
      "metadata": {
        "id": "bIr-Mrth1eTz"
      },
      "source": [
        "# check types, nulls and counts\n",
        "df.info()"
      ],
      "execution_count": null,
      "outputs": []
    },
    {
      "cell_type": "code",
      "metadata": {
        "id": "GJz70t4T1eKT"
      },
      "source": [
        "# investigate the variability of the numeric columns\n",
        "df.describe()"
      ],
      "execution_count": null,
      "outputs": []
    },
    {
      "cell_type": "markdown",
      "metadata": {
        "id": "3g_ErmSZ5t7D"
      },
      "source": [
        "## Multiple ways of exploring regression, we will look into the below two methods.\n",
        "\n",
        "1.   Scikit-learn if you don’t need detailed results and want to use the approach consistent with other regression techniques.\n",
        "2.   Statsmodels if you need the advanced statistical parameters of a model."
      ]
    },
    {
      "cell_type": "markdown",
      "metadata": {
        "id": "2bTXUaz83JHg"
      },
      "source": [
        "## 3. Split the data to prepare training and testing sets"
      ]
    },
    {
      "cell_type": "code",
      "metadata": {
        "id": "XRJG7vkk3s7i"
      },
      "source": [
        "# Independent Variable\n",
        "X = df.drop(['price'], axis=1).values\n",
        "\n",
        "# Depenedent Variable\n",
        "y = df.price.values\n",
        "\n",
        "# Split Observations in 80% training set 20% test set\n",
        "X_train, X_test, y_train, y_test = train_test_split(X, y, test_size=0.2, random_state=21)\n",
        "print('Training Data:', X_train.shape, y_train.shape)\n",
        "print('Testing Data:', X_test.shape, y_test.shape)"
      ],
      "execution_count": null,
      "outputs": []
    },
    {
      "cell_type": "markdown",
      "metadata": {
        "id": "o0yy8CIs4SCc"
      },
      "source": [
        "## 4. Train the model "
      ]
    },
    {
      "cell_type": "code",
      "metadata": {
        "id": "HOeJvm_q4XEM"
      },
      "source": [
        "regressor = LinearRegression() \n",
        "regressor.fit(X_train, y_train)"
      ],
      "execution_count": null,
      "outputs": []
    },
    {
      "cell_type": "code",
      "metadata": {
        "id": "QQpTiUtlAYt8"
      },
      "source": [
        "# Coefficient and Intercept\n",
        "print(regressor.coef_)\n",
        "print(regressor.intercept_)"
      ],
      "execution_count": null,
      "outputs": []
    },
    {
      "cell_type": "code",
      "metadata": {
        "id": "yh8mGv7QgHvK"
      },
      "source": [
        "# Create dataframe from regressor coefficient to display results in a dataframe\n",
        "column_names = ['carat', 'cut', 'color', 'clarity', 'depth', 'table', 'x', 'y', 'z']\n",
        "coefficient_df = pd.DataFrame(regressor.coef_).T # T - Transpose dataframe rows to columns\n",
        "coefficient_df.columns = column_names\n",
        "coefficient_df"
      ],
      "execution_count": null,
      "outputs": []
    },
    {
      "cell_type": "markdown",
      "metadata": {
        "id": "FVzf-4we7QLm"
      },
      "source": [
        "## 5. Predict the test values and calculate error"
      ]
    },
    {
      "cell_type": "code",
      "metadata": {
        "id": "kYgfy4T_7Yj9"
      },
      "source": [
        "# Predict test set from model built during training \n",
        "y_pred = regressor.predict(X_test)"
      ],
      "execution_count": null,
      "outputs": []
    },
    {
      "cell_type": "code",
      "metadata": {
        "id": "9eysBGPTE721"
      },
      "source": [
        "# Mean Squared Error Average ((y_pred - y_test)^2)\n",
        "mse = mean_squared_error(y_pred, y_test)\n",
        "\n",
        "# Root Mean Squared Error - Root of above\n",
        "rmse = np.sqrt(mse)\n",
        "\n",
        "# Coefficient of Determination (R-Square)\n",
        "rsquared = r2_score(y_pred, y_test)\n",
        "\n",
        "# Print Results\n",
        "print('Linear Regression MSE: {}'.format(mse))\n",
        "print('Linear Regression RMSE: {}'.format(rmse))\n",
        "print('Coefficient of determination(r^2): {}'.format(rsquared))"
      ],
      "execution_count": null,
      "outputs": []
    },
    {
      "cell_type": "markdown",
      "metadata": {
        "id": "PylNLz5wicwy"
      },
      "source": [
        "## 6. Regression on Full data using OLS model"
      ]
    },
    {
      "cell_type": "code",
      "metadata": {
        "id": "ihzqk_jF88LB"
      },
      "source": [
        "Regression = sm.OLS(endog=y, exog=X).fit()\n",
        "print(Regression.summary())"
      ],
      "execution_count": null,
      "outputs": []
    }
  ]
}