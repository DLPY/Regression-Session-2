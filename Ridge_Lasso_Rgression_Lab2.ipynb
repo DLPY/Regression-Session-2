{
 "cells": [
  {
   "cell_type": "markdown",
   "id": "52c63234",
   "metadata": {},
   "source": [
    "Open In Colab\n",
    "\n",
    "# House Price Prediction based on Postal Code, Number of Bathrooms, Car Parking and Property Type\n",
    "\n",
    "Detail on Data: https://www.kaggle.com/mihirhalai/sydney-house-prices"
   ]
  },
  {
   "cell_type": "markdown",
   "id": "753a385d",
   "metadata": {},
   "source": [
    "# Download source data from Github\n",
    "!wget https://raw.githubusercontent.com/DLPY/Regression-Session-2/master/Data/SydneyHousePrices.csv"
   ]
  },
  {
   "cell_type": "markdown",
   "id": "216821bb",
   "metadata": {},
   "source": [
    "# Import necessary packages for performing EDA and Multiple Regression"
   ]
  },
  {
   "cell_type": "code",
   "execution_count": 1,
   "id": "a9571271",
   "metadata": {},
   "outputs": [],
   "source": [
    "import datetime as dt\n",
    "import matplotlib.pyplot as plt\n",
    "import pandas as pd\n",
    "import numpy as np \n",
    "import seaborn as sns\n",
    "from sklearn.preprocessing import (LabelEncoder, OneHotEncoder, StandardScaler)\n",
    "from sklearn.model_selection import train_test_split\n",
    "from sklearn.linear_model import (LinearRegression, Ridge, Lasso)\n",
    "from sklearn.metrics import (r2_score, mean_squared_error)\n",
    "import statsmodels.api as sm\n",
    "from statsmodels.stats.outliers_influence import variance_inflation_factor\n",
    "\n",
    "%matplotlib inline\n",
    "\n",
    "pd.set_option('display.max_colwidth', None)"
   ]
  },
  {
   "cell_type": "markdown",
   "id": "1ce79faf",
   "metadata": {},
   "source": [
    "# Read data from csv file into Pandas dataframe"
   ]
  },
  {
   "cell_type": "code",
   "execution_count": 2,
   "id": "d2cd32fb",
   "metadata": {},
   "outputs": [],
   "source": [
    "df = pd.read_csv('C:/Users/jsmith3/Documents/Python Scripts/data/SydneyHousePrices.csv')\n",
    "# df = pd.read_csv('SydneyHousePrices.csv')"
   ]
  },
  {
   "cell_type": "markdown",
   "id": "7fcd9f40",
   "metadata": {},
   "source": [
    "# Exploratory Data Analysis (EDA)\n",
    "Perform data analysis, cleaning and transformation."
   ]
  },
  {
   "cell_type": "markdown",
   "id": "4d735c57",
   "metadata": {},
   "source": [
    "## Data Analysis"
   ]
  },
  {
   "cell_type": "code",
   "execution_count": 3,
   "id": "be8dfbcc",
   "metadata": {},
   "outputs": [
    {
     "data": {
      "text/plain": [
       "(199504, 9)"
      ]
     },
     "execution_count": 3,
     "metadata": {},
     "output_type": "execute_result"
    }
   ],
   "source": [
    "# Display the count of rows and columns.\n",
    "df.shape"
   ]
  },
  {
   "cell_type": "code",
   "execution_count": 4,
   "id": "bc21c34c",
   "metadata": {},
   "outputs": [
    {
     "data": {
      "text/html": [
       "<div>\n",
       "<style scoped>\n",
       "    .dataframe tbody tr th:only-of-type {\n",
       "        vertical-align: middle;\n",
       "    }\n",
       "\n",
       "    .dataframe tbody tr th {\n",
       "        vertical-align: top;\n",
       "    }\n",
       "\n",
       "    .dataframe thead th {\n",
       "        text-align: right;\n",
       "    }\n",
       "</style>\n",
       "<table border=\"1\" class=\"dataframe\">\n",
       "  <thead>\n",
       "    <tr style=\"text-align: right;\">\n",
       "      <th></th>\n",
       "      <th>Date</th>\n",
       "      <th>Id</th>\n",
       "      <th>suburb</th>\n",
       "      <th>postalCode</th>\n",
       "      <th>sellPrice</th>\n",
       "      <th>bed</th>\n",
       "      <th>bath</th>\n",
       "      <th>car</th>\n",
       "      <th>propType</th>\n",
       "    </tr>\n",
       "  </thead>\n",
       "  <tbody>\n",
       "    <tr>\n",
       "      <th>0</th>\n",
       "      <td>2019-06-19</td>\n",
       "      <td>1</td>\n",
       "      <td>Avalon Beach</td>\n",
       "      <td>2107</td>\n",
       "      <td>1210000</td>\n",
       "      <td>4.0</td>\n",
       "      <td>2</td>\n",
       "      <td>2.0</td>\n",
       "      <td>house</td>\n",
       "    </tr>\n",
       "    <tr>\n",
       "      <th>1</th>\n",
       "      <td>2019-06-13</td>\n",
       "      <td>2</td>\n",
       "      <td>Avalon Beach</td>\n",
       "      <td>2107</td>\n",
       "      <td>2250000</td>\n",
       "      <td>4.0</td>\n",
       "      <td>3</td>\n",
       "      <td>4.0</td>\n",
       "      <td>house</td>\n",
       "    </tr>\n",
       "    <tr>\n",
       "      <th>2</th>\n",
       "      <td>2019-06-07</td>\n",
       "      <td>3</td>\n",
       "      <td>Whale Beach</td>\n",
       "      <td>2107</td>\n",
       "      <td>2920000</td>\n",
       "      <td>3.0</td>\n",
       "      <td>3</td>\n",
       "      <td>2.0</td>\n",
       "      <td>house</td>\n",
       "    </tr>\n",
       "    <tr>\n",
       "      <th>3</th>\n",
       "      <td>2019-05-28</td>\n",
       "      <td>4</td>\n",
       "      <td>Avalon Beach</td>\n",
       "      <td>2107</td>\n",
       "      <td>1530000</td>\n",
       "      <td>3.0</td>\n",
       "      <td>1</td>\n",
       "      <td>2.0</td>\n",
       "      <td>house</td>\n",
       "    </tr>\n",
       "    <tr>\n",
       "      <th>4</th>\n",
       "      <td>2019-05-22</td>\n",
       "      <td>5</td>\n",
       "      <td>Whale Beach</td>\n",
       "      <td>2107</td>\n",
       "      <td>8000000</td>\n",
       "      <td>5.0</td>\n",
       "      <td>4</td>\n",
       "      <td>4.0</td>\n",
       "      <td>house</td>\n",
       "    </tr>\n",
       "  </tbody>\n",
       "</table>\n",
       "</div>"
      ],
      "text/plain": [
       "         Date  Id        suburb  postalCode  sellPrice  bed  bath  car  \\\n",
       "0  2019-06-19   1  Avalon Beach        2107    1210000  4.0     2  2.0   \n",
       "1  2019-06-13   2  Avalon Beach        2107    2250000  4.0     3  4.0   \n",
       "2  2019-06-07   3   Whale Beach        2107    2920000  3.0     3  2.0   \n",
       "3  2019-05-28   4  Avalon Beach        2107    1530000  3.0     1  2.0   \n",
       "4  2019-05-22   5   Whale Beach        2107    8000000  5.0     4  4.0   \n",
       "\n",
       "  propType  \n",
       "0    house  \n",
       "1    house  \n",
       "2    house  \n",
       "3    house  \n",
       "4    house  "
      ]
     },
     "execution_count": 4,
     "metadata": {},
     "output_type": "execute_result"
    }
   ],
   "source": [
    "# Review a small sample of the data.\n",
    "df.head(5)"
   ]
  },
  {
   "cell_type": "code",
   "execution_count": 5,
   "id": "2fb5431c",
   "metadata": {
    "scrolled": false
   },
   "outputs": [
    {
     "data": {
      "text/plain": [
       "Date           object\n",
       "Id              int64\n",
       "suburb         object\n",
       "postalCode      int64\n",
       "sellPrice       int64\n",
       "bed           float64\n",
       "bath            int64\n",
       "car           float64\n",
       "propType       object\n",
       "dtype: object"
      ]
     },
     "execution_count": 5,
     "metadata": {},
     "output_type": "execute_result"
    }
   ],
   "source": [
    "# Review the data types.\n",
    "df.dtypes"
   ]
  },
  {
   "cell_type": "markdown",
   "id": "932eded3",
   "metadata": {},
   "source": [
    "##### From the above, notice the different types of data: integer (int64), float (float64), and text (object).\n",
    "---"
   ]
  },
  {
   "cell_type": "markdown",
   "id": "1b923a89",
   "metadata": {},
   "source": [
    "### Review the date range.\n",
    "\n",
    "Additional date-aggregation functions become available when the data type is converted to date format.  \n",
    "\n",
    "The data type for date range is currently text, which is okay for now."
   ]
  },
  {
   "cell_type": "code",
   "execution_count": 6,
   "id": "6479d9d1",
   "metadata": {},
   "outputs": [
    {
     "name": "stdout",
     "output_type": "stream",
     "text": [
      "Date ranges from 2000-12-01 to 2019-07-06\n"
     ]
    }
   ],
   "source": [
    "print('Date ranges from {} to {}'.format(df.Date.min(), df.Date.max()))"
   ]
  },
  {
   "cell_type": "markdown",
   "id": "e3c8071f",
   "metadata": {},
   "source": [
    "### Review descriptive statistics of the numerical data."
   ]
  },
  {
   "cell_type": "code",
   "execution_count": 7,
   "id": "c2826d07",
   "metadata": {},
   "outputs": [
    {
     "data": {
      "text/html": [
       "<div>\n",
       "<style scoped>\n",
       "    .dataframe tbody tr th:only-of-type {\n",
       "        vertical-align: middle;\n",
       "    }\n",
       "\n",
       "    .dataframe tbody tr th {\n",
       "        vertical-align: top;\n",
       "    }\n",
       "\n",
       "    .dataframe thead th {\n",
       "        text-align: right;\n",
       "    }\n",
       "</style>\n",
       "<table border=\"1\" class=\"dataframe\">\n",
       "  <thead>\n",
       "    <tr style=\"text-align: right;\">\n",
       "      <th></th>\n",
       "      <th>Id</th>\n",
       "      <th>postalCode</th>\n",
       "      <th>sellPrice</th>\n",
       "      <th>bed</th>\n",
       "      <th>bath</th>\n",
       "      <th>car</th>\n",
       "    </tr>\n",
       "  </thead>\n",
       "  <tbody>\n",
       "    <tr>\n",
       "      <th>count</th>\n",
       "      <td>199504.00</td>\n",
       "      <td>199504.00</td>\n",
       "      <td>1.995040e+05</td>\n",
       "      <td>199350.00</td>\n",
       "      <td>199504.00</td>\n",
       "      <td>181353.00</td>\n",
       "    </tr>\n",
       "    <tr>\n",
       "      <th>mean</th>\n",
       "      <td>99752.50</td>\n",
       "      <td>2196.38</td>\n",
       "      <td>1.269776e+06</td>\n",
       "      <td>3.52</td>\n",
       "      <td>1.89</td>\n",
       "      <td>1.94</td>\n",
       "    </tr>\n",
       "    <tr>\n",
       "      <th>std</th>\n",
       "      <td>57591.99</td>\n",
       "      <td>193.05</td>\n",
       "      <td>6.948239e+06</td>\n",
       "      <td>1.07</td>\n",
       "      <td>0.93</td>\n",
       "      <td>1.06</td>\n",
       "    </tr>\n",
       "    <tr>\n",
       "      <th>min</th>\n",
       "      <td>1.00</td>\n",
       "      <td>2000.00</td>\n",
       "      <td>1.000000e+00</td>\n",
       "      <td>1.00</td>\n",
       "      <td>1.00</td>\n",
       "      <td>1.00</td>\n",
       "    </tr>\n",
       "    <tr>\n",
       "      <th>25%</th>\n",
       "      <td>49876.75</td>\n",
       "      <td>2082.00</td>\n",
       "      <td>7.200000e+05</td>\n",
       "      <td>3.00</td>\n",
       "      <td>1.00</td>\n",
       "      <td>1.00</td>\n",
       "    </tr>\n",
       "    <tr>\n",
       "      <th>50%</th>\n",
       "      <td>99752.50</td>\n",
       "      <td>2144.00</td>\n",
       "      <td>9.850000e+05</td>\n",
       "      <td>3.00</td>\n",
       "      <td>2.00</td>\n",
       "      <td>2.00</td>\n",
       "    </tr>\n",
       "    <tr>\n",
       "      <th>75%</th>\n",
       "      <td>149628.25</td>\n",
       "      <td>2211.00</td>\n",
       "      <td>1.475000e+06</td>\n",
       "      <td>4.00</td>\n",
       "      <td>2.00</td>\n",
       "      <td>2.00</td>\n",
       "    </tr>\n",
       "    <tr>\n",
       "      <th>max</th>\n",
       "      <td>199504.00</td>\n",
       "      <td>4878.00</td>\n",
       "      <td>2.147484e+09</td>\n",
       "      <td>99.00</td>\n",
       "      <td>99.00</td>\n",
       "      <td>41.00</td>\n",
       "    </tr>\n",
       "  </tbody>\n",
       "</table>\n",
       "</div>"
      ],
      "text/plain": [
       "              Id  postalCode     sellPrice        bed       bath        car\n",
       "count  199504.00   199504.00  1.995040e+05  199350.00  199504.00  181353.00\n",
       "mean    99752.50     2196.38  1.269776e+06       3.52       1.89       1.94\n",
       "std     57591.99      193.05  6.948239e+06       1.07       0.93       1.06\n",
       "min         1.00     2000.00  1.000000e+00       1.00       1.00       1.00\n",
       "25%     49876.75     2082.00  7.200000e+05       3.00       1.00       1.00\n",
       "50%     99752.50     2144.00  9.850000e+05       3.00       2.00       2.00\n",
       "75%    149628.25     2211.00  1.475000e+06       4.00       2.00       2.00\n",
       "max    199504.00     4878.00  2.147484e+09      99.00      99.00      41.00"
      ]
     },
     "execution_count": 7,
     "metadata": {},
     "output_type": "execute_result"
    }
   ],
   "source": [
    "round(df.describe(), 2)"
   ]
  },
  {
   "cell_type": "markdown",
   "id": "c17394d6",
   "metadata": {},
   "source": [
    "##### From the above max (bed & bath) and min (sellPrice) - It shows the dataset has outliers that need to be removed.\n",
    "---"
   ]
  },
  {
   "cell_type": "code",
   "execution_count": 8,
   "id": "2823c547",
   "metadata": {},
   "outputs": [
    {
     "name": "stdout",
     "output_type": "stream",
     "text": [
      "<class 'pandas.core.frame.DataFrame'>\n",
      "RangeIndex: 199504 entries, 0 to 199503\n",
      "Data columns (total 9 columns):\n",
      " #   Column      Non-Null Count   Dtype  \n",
      "---  ------      --------------   -----  \n",
      " 0   Date        199504 non-null  object \n",
      " 1   Id          199504 non-null  int64  \n",
      " 2   suburb      199504 non-null  object \n",
      " 3   postalCode  199504 non-null  int64  \n",
      " 4   sellPrice   199504 non-null  int64  \n",
      " 5   bed         199350 non-null  float64\n",
      " 6   bath        199504 non-null  int64  \n",
      " 7   car         181353 non-null  float64\n",
      " 8   propType    199504 non-null  object \n",
      "dtypes: float64(2), int64(4), object(3)\n",
      "memory usage: 13.7+ MB\n"
     ]
    }
   ],
   "source": [
    "# Detailed overview of the dataframe itself.\n",
    "df.info()"
   ]
  },
  {
   "cell_type": "markdown",
   "id": "53dc877e",
   "metadata": {},
   "source": [
    "##### From the above, notice that the Non-Null Count values are different for bed and car.\n",
    "---"
   ]
  },
  {
   "cell_type": "markdown",
   "id": "57f713f1",
   "metadata": {},
   "source": [
    "## Data Cleaning"
   ]
  },
  {
   "cell_type": "markdown",
   "id": "27cfda73",
   "metadata": {},
   "source": [
    "### Explore the missing values"
   ]
  },
  {
   "cell_type": "markdown",
   "id": "7f70ef07",
   "metadata": {},
   "source": [
    "Review the count of non-null values for each column.  These need to be filled in prior to modelling."
   ]
  },
  {
   "cell_type": "code",
   "execution_count": 66,
   "id": "7aacca80",
   "metadata": {},
   "outputs": [
    {
     "data": {
      "text/plain": [
       "Date          0\n",
       "Id            0\n",
       "suburb        0\n",
       "postalCode    0\n",
       "sellPrice     0\n",
       "bed           0\n",
       "bath          0\n",
       "car           0\n",
       "propType      0\n",
       "Year          0\n",
       "Month         0\n",
       "Day           0\n",
       "Quarter       0\n",
       "ordDate       0\n",
       "dtype: int64"
      ]
     },
     "execution_count": 66,
     "metadata": {},
     "output_type": "execute_result"
    }
   ],
   "source": [
    "df.isnull().sum()"
   ]
  },
  {
   "cell_type": "markdown",
   "id": "467320b8",
   "metadata": {},
   "source": [
    "### Aggregate the missing values by date\n",
    "Combining the method from above with the dataframe's groupby method to group missing car/bed values by date.\n",
    "\n",
    "Plotting the output with the dataframe's plot method to see if there are any pockets of missing data."
   ]
  },
  {
   "cell_type": "code",
   "execution_count": 10,
   "id": "ff2efe61",
   "metadata": {
    "scrolled": true
   },
   "outputs": [
    {
     "data": {
      "text/plain": [
       "<AxesSubplot:xlabel='Date'>"
      ]
     },
     "execution_count": 10,
     "metadata": {},
     "output_type": "execute_result"
    },
    {
     "data": {
      "image/png": "[encoded data removed]",
      "text/plain": [
       "<Figure size 432x288 with 1 Axes>"
      ]
     },
     "metadata": {
      "needs_background": "light"
     },
     "output_type": "display_data"
    }
   ],
   "source": [
    "df.groupby(['Date'])['car'].apply(lambda x: x.isnull().sum()).plot()"
   ]
  },
  {
   "cell_type": "code",
   "execution_count": 11,
   "id": "16a50850",
   "metadata": {
    "scrolled": true
   },
   "outputs": [
    {
     "data": {
      "text/plain": [
       "<AxesSubplot:xlabel='Date'>"
      ]
     },
     "execution_count": 11,
     "metadata": {},
     "output_type": "execute_result"
    },
    {
     "data": {
      "image/png": "[encoded data removed]",
      "text/plain": [
       "<Figure size 432x288 with 1 Axes>"
      ]
     },
     "metadata": {
      "needs_background": "light"
     },
     "output_type": "display_data"
    }
   ],
   "source": [
    "df.groupby(['Date'])['bed'].apply(lambda x: x.isnull().sum()).plot()"
   ]
  },
  {
   "cell_type": "markdown",
   "id": "f72153f0",
   "metadata": {},
   "source": [
    "### Fill in the missing values\n",
    "Assuming that houses in a particular area have a similar bath count, missing values can be filled in by:\n",
    " 1. Grouping postal code and bath.\n",
    " 2. Calculating the median value of bed and car for each of these groups.\n",
    " 3. Filling in the missing values with the median count of each group."
   ]
  },
  {
   "cell_type": "code",
   "execution_count": 12,
   "id": "7904706d",
   "metadata": {
    "scrolled": true
   },
   "outputs": [],
   "source": [
    "df['bed'].fillna(df.groupby(['postalCode', 'bath'])['bed'].transform('median'), inplace=True)"
   ]
  },
  {
   "cell_type": "code",
   "execution_count": 13,
   "id": "c2b668ff",
   "metadata": {},
   "outputs": [],
   "source": [
    "df['car'].fillna(df.groupby(['postalCode', 'bath'])['car'].transform('median'), inplace=True)"
   ]
  },
  {
   "cell_type": "markdown",
   "id": "53a4c27c",
   "metadata": {},
   "source": [
    "### Remove outliers in the data\n",
    "Using a function that removes the outliers from each column on the list, loop through a list of specific columns that were identified earlier in the EDA as having outliers.\n",
    "\n",
    "The resulting dataframe does not contain any outliers."
   ]
  },
  {
   "cell_type": "code",
   "execution_count": 14,
   "id": "a77256ef",
   "metadata": {},
   "outputs": [],
   "source": [
    "def remove_outlier(df_in, col_name):\n",
    "    '''Removes outliers from a specified column of a dataframe using IQR and returns an updated dataframe.'''\n",
    "    q1 = df_in[col_name].quantile(0.25)\n",
    "    q3 = df_in[col_name].quantile(0.75)\n",
    "    iqr = q3 - q1 #Interquartile range\n",
    "    fence_low  = q1 - 1.5 * iqr\n",
    "    fence_high = q3 + 1.5 * iqr\n",
    "    df_out = df_in.loc[(df_in[col_name] > fence_low) & (df_in[col_name] < fence_high)]\n",
    "    return df_out"
   ]
  },
  {
   "cell_type": "code",
   "execution_count": 15,
   "id": "a7cd4d4d",
   "metadata": {},
   "outputs": [],
   "source": [
    "outliers = ['bath', 'sellPrice', 'car', 'bed']\n",
    "\n",
    "for outlier in outliers:\n",
    "    df = remove_outlier(df, outlier).reset_index(drop=True)"
   ]
  },
  {
   "cell_type": "markdown",
   "id": "94eb4814",
   "metadata": {},
   "source": [
    "## Transformation"
   ]
  },
  {
   "cell_type": "markdown",
   "id": "e26014b1",
   "metadata": {},
   "source": [
    "### Transform dates for analysis of sales type prices of property types by year, month."
   ]
  },
  {
   "cell_type": "code",
   "execution_count": 16,
   "id": "0d5c69bb",
   "metadata": {},
   "outputs": [],
   "source": [
    "df['Date'] = pd.to_datetime(df['Date'])\n",
    "df['Year'] = df['Date'].dt.year\n",
    "df['Month'] = df['Date'].dt.month\n",
    "df['Day'] = df['Date'].dt.day\n",
    "df['Quarter'] = df['Date'].dt.quarter"
   ]
  },
  {
   "cell_type": "code",
   "execution_count": 17,
   "id": "eb7198a9",
   "metadata": {},
   "outputs": [
    {
     "data": {
      "text/plain": [
       "<AxesSubplot:xlabel='Month', ylabel='sellPrice'>"
      ]
     },
     "execution_count": 17,
     "metadata": {},
     "output_type": "execute_result"
    },
    {
     "data": {
      "image/png": "[encoded data removed]",
      "text/plain": [
       "<Figure size 1080x864 with 2 Axes>"
      ]
     },
     "metadata": {
      "needs_background": "light"
     },
     "output_type": "display_data"
    }
   ],
   "source": [
    "# Plotting sellPrice by year and month.\n",
    "fig, ax = plt.subplots(nrows=2, ncols=1, figsize=(15, 12))\n",
    "sns.pointplot(data=df, x='Year', y='sellPrice', hue='propType', ax=ax[0], ci=None)\n",
    "sns.pointplot(data=df, x='Month', y='sellPrice', hue='propType', ax=ax[1], ci=None)"
   ]
  },
  {
   "cell_type": "markdown",
   "id": "36669865",
   "metadata": {},
   "source": [
    "##### From the above, notice the overall seasonal and annual trends of each property type.\n",
    "---"
   ]
  },
  {
   "cell_type": "markdown",
   "id": "a7b03f81",
   "metadata": {},
   "source": [
    "### Convert Date to datetime and change the dates into ordinal values, counting from 01/01/01\n",
    "This step is necessary when including date as a feature for linear regression modelling."
   ]
  },
  {
   "cell_type": "code",
   "execution_count": 18,
   "id": "c7b2305d",
   "metadata": {},
   "outputs": [],
   "source": [
    "# TODO: Change this to days before max date.\n",
    "\n",
    "# df['Date'] = pd.to_datetime(df['Date']).dt.date\n",
    "df['ordDate'] = df['Date'].map(dt.date.toordinal)"
   ]
  },
  {
   "cell_type": "code",
   "execution_count": 19,
   "id": "44379d69",
   "metadata": {},
   "outputs": [
    {
     "data": {
      "text/plain": [
       "0    737229\n",
       "1    737207\n",
       "2    737189\n",
       "3    737162\n",
       "4    737160\n",
       "Name: ordDate, dtype: int64"
      ]
     },
     "execution_count": 19,
     "metadata": {},
     "output_type": "execute_result"
    }
   ],
   "source": [
    "df['ordDate'].head(5)"
   ]
  },
  {
   "cell_type": "markdown",
   "id": "737d1d98",
   "metadata": {},
   "source": [
    "### Encoding the categorical variables - Change the text into numbers"
   ]
  },
  {
   "cell_type": "markdown",
   "id": "d78d4223",
   "metadata": {},
   "source": [
    "Review the unique values within property type."
   ]
  },
  {
   "cell_type": "code",
   "execution_count": 20,
   "id": "eaaca23d",
   "metadata": {
    "scrolled": true
   },
   "outputs": [
    {
     "data": {
      "text/plain": [
       "array(['house', 'townhouse', 'duplex/semi-detached', 'other', 'villa',\n",
       "       'terrace', 'warehouse', 'acreage'], dtype=object)"
      ]
     },
     "execution_count": 20,
     "metadata": {},
     "output_type": "execute_result"
    }
   ],
   "source": [
    "df.propType.unique()"
   ]
  },
  {
   "cell_type": "code",
   "execution_count": 21,
   "id": "2b4fc3a3",
   "metadata": {},
   "outputs": [],
   "source": [
    "# Drop warehouse and acreage to focus on housing data.\n",
    "df = df.drop(df[(df.propType == 'warehouse') | (df.propType == 'acreage')].index)"
   ]
  },
  {
   "cell_type": "markdown",
   "id": "3d33d40e",
   "metadata": {},
   "source": [
    "Convert the property type values into numeric categorical labels so that this data can be used in the model."
   ]
  },
  {
   "cell_type": "code",
   "execution_count": 22,
   "id": "df5e60d3",
   "metadata": {
    "scrolled": true
   },
   "outputs": [],
   "source": [
    "df['propType'] = df['propType'].astype('category').cat.codes"
   ]
  },
  {
   "cell_type": "code",
   "execution_count": 23,
   "id": "6933fe4e",
   "metadata": {
    "scrolled": true
   },
   "outputs": [
    {
     "data": {
      "text/html": [
       "<div>\n",
       "<style scoped>\n",
       "    .dataframe tbody tr th:only-of-type {\n",
       "        vertical-align: middle;\n",
       "    }\n",
       "\n",
       "    .dataframe tbody tr th {\n",
       "        vertical-align: top;\n",
       "    }\n",
       "\n",
       "    .dataframe thead th {\n",
       "        text-align: right;\n",
       "    }\n",
       "</style>\n",
       "<table border=\"1\" class=\"dataframe\">\n",
       "  <thead>\n",
       "    <tr style=\"text-align: right;\">\n",
       "      <th></th>\n",
       "      <th>Date</th>\n",
       "      <th>Id</th>\n",
       "      <th>suburb</th>\n",
       "      <th>postalCode</th>\n",
       "      <th>sellPrice</th>\n",
       "      <th>bed</th>\n",
       "      <th>bath</th>\n",
       "      <th>car</th>\n",
       "      <th>propType</th>\n",
       "      <th>Year</th>\n",
       "      <th>Month</th>\n",
       "      <th>Day</th>\n",
       "      <th>Quarter</th>\n",
       "      <th>ordDate</th>\n",
       "    </tr>\n",
       "  </thead>\n",
       "  <tbody>\n",
       "    <tr>\n",
       "      <th>0</th>\n",
       "      <td>2019-06-19</td>\n",
       "      <td>1</td>\n",
       "      <td>Avalon Beach</td>\n",
       "      <td>2107</td>\n",
       "      <td>1210000</td>\n",
       "      <td>4.0</td>\n",
       "      <td>2</td>\n",
       "      <td>2.0</td>\n",
       "      <td>1</td>\n",
       "      <td>2019</td>\n",
       "      <td>6</td>\n",
       "      <td>19</td>\n",
       "      <td>2</td>\n",
       "      <td>737229</td>\n",
       "    </tr>\n",
       "    <tr>\n",
       "      <th>1</th>\n",
       "      <td>2019-05-28</td>\n",
       "      <td>4</td>\n",
       "      <td>Avalon Beach</td>\n",
       "      <td>2107</td>\n",
       "      <td>1530000</td>\n",
       "      <td>3.0</td>\n",
       "      <td>1</td>\n",
       "      <td>2.0</td>\n",
       "      <td>1</td>\n",
       "      <td>2019</td>\n",
       "      <td>5</td>\n",
       "      <td>28</td>\n",
       "      <td>2</td>\n",
       "      <td>737207</td>\n",
       "    </tr>\n",
       "    <tr>\n",
       "      <th>2</th>\n",
       "      <td>2019-05-10</td>\n",
       "      <td>6</td>\n",
       "      <td>Bilgola Plateau</td>\n",
       "      <td>2107</td>\n",
       "      <td>1610000</td>\n",
       "      <td>4.0</td>\n",
       "      <td>2</td>\n",
       "      <td>2.0</td>\n",
       "      <td>1</td>\n",
       "      <td>2019</td>\n",
       "      <td>5</td>\n",
       "      <td>10</td>\n",
       "      <td>2</td>\n",
       "      <td>737189</td>\n",
       "    </tr>\n",
       "    <tr>\n",
       "      <th>3</th>\n",
       "      <td>2019-04-13</td>\n",
       "      <td>7</td>\n",
       "      <td>Avalon Beach</td>\n",
       "      <td>2107</td>\n",
       "      <td>1510000</td>\n",
       "      <td>3.0</td>\n",
       "      <td>1</td>\n",
       "      <td>2.0</td>\n",
       "      <td>1</td>\n",
       "      <td>2019</td>\n",
       "      <td>4</td>\n",
       "      <td>13</td>\n",
       "      <td>2</td>\n",
       "      <td>737162</td>\n",
       "    </tr>\n",
       "    <tr>\n",
       "      <th>4</th>\n",
       "      <td>2019-04-11</td>\n",
       "      <td>9</td>\n",
       "      <td>Avalon Beach</td>\n",
       "      <td>2107</td>\n",
       "      <td>1400000</td>\n",
       "      <td>3.0</td>\n",
       "      <td>1</td>\n",
       "      <td>2.0</td>\n",
       "      <td>1</td>\n",
       "      <td>2019</td>\n",
       "      <td>4</td>\n",
       "      <td>11</td>\n",
       "      <td>2</td>\n",
       "      <td>737160</td>\n",
       "    </tr>\n",
       "  </tbody>\n",
       "</table>\n",
       "</div>"
      ],
      "text/plain": [
       "        Date  Id           suburb  postalCode  sellPrice  bed  bath  car  \\\n",
       "0 2019-06-19   1     Avalon Beach        2107    1210000  4.0     2  2.0   \n",
       "1 2019-05-28   4     Avalon Beach        2107    1530000  3.0     1  2.0   \n",
       "2 2019-05-10   6  Bilgola Plateau        2107    1610000  4.0     2  2.0   \n",
       "3 2019-04-13   7     Avalon Beach        2107    1510000  3.0     1  2.0   \n",
       "4 2019-04-11   9     Avalon Beach        2107    1400000  3.0     1  2.0   \n",
       "\n",
       "   propType  Year  Month  Day  Quarter  ordDate  \n",
       "0         1  2019      6   19        2   737229  \n",
       "1         1  2019      5   28        2   737207  \n",
       "2         1  2019      5   10        2   737189  \n",
       "3         1  2019      4   13        2   737162  \n",
       "4         1  2019      4   11        2   737160  "
      ]
     },
     "execution_count": 23,
     "metadata": {},
     "output_type": "execute_result"
    }
   ],
   "source": [
    "df.head(5)"
   ]
  },
  {
   "cell_type": "markdown",
   "id": "d4b74cb9",
   "metadata": {},
   "source": [
    "##### From the above, notice that:\n",
    " * The propType has been converted to a numeric value. Warehouse and acreage have been removed,to specifically focus on housing.\n",
    " * There are new columns: Year, Quarter, ordDate.\n",
    " ---"
   ]
  },
  {
   "cell_type": "markdown",
   "id": "08390182",
   "metadata": {},
   "source": [
    "### Quick review - columns that are not useful:\n",
    "* **Date** - ordDate will be used instead.\n",
    "* **Id** - This is simply a row number of the data.\n",
    "* **suburb** - postalCode will be used instead because it is a more generalised representation of location.\n",
    "* **Year, Month, Day** - Quarter and ordDate will be used because they are generalised representations of Date. "
   ]
  },
  {
   "cell_type": "markdown",
   "id": "151d7fd5",
   "metadata": {},
   "source": [
    "# Choosing predictors and target variables for performing Multiple Regression\n",
    "**Target and Source variables**\n",
    "\n",
    "* **Target Variable:** sellingPrice\n",
    "* **Predictor Variables:** ordDate, postalCode, bed, bath, car, propType"
   ]
  },
  {
   "cell_type": "markdown",
   "id": "710b767d",
   "metadata": {},
   "source": [
    "### Create a new dataframe that includes only the selected columns"
   ]
  },
  {
   "cell_type": "code",
   "execution_count": 24,
   "id": "1d65256c",
   "metadata": {},
   "outputs": [],
   "source": [
    "df_new = df[['Quarter', 'ordDate', 'postalCode', 'bed', 'bath', 'car', 'propType', 'sellPrice']]"
   ]
  },
  {
   "cell_type": "code",
   "execution_count": 25,
   "id": "805d5606",
   "metadata": {},
   "outputs": [
    {
     "data": {
      "text/html": [
       "<div>\n",
       "<style scoped>\n",
       "    .dataframe tbody tr th:only-of-type {\n",
       "        vertical-align: middle;\n",
       "    }\n",
       "\n",
       "    .dataframe tbody tr th {\n",
       "        vertical-align: top;\n",
       "    }\n",
       "\n",
       "    .dataframe thead th {\n",
       "        text-align: right;\n",
       "    }\n",
       "</style>\n",
       "<table border=\"1\" class=\"dataframe\">\n",
       "  <thead>\n",
       "    <tr style=\"text-align: right;\">\n",
       "      <th></th>\n",
       "      <th>Quarter</th>\n",
       "      <th>ordDate</th>\n",
       "      <th>postalCode</th>\n",
       "      <th>bed</th>\n",
       "      <th>bath</th>\n",
       "      <th>car</th>\n",
       "      <th>propType</th>\n",
       "      <th>sellPrice</th>\n",
       "    </tr>\n",
       "  </thead>\n",
       "  <tbody>\n",
       "    <tr>\n",
       "      <th>0</th>\n",
       "      <td>2</td>\n",
       "      <td>737229</td>\n",
       "      <td>2107</td>\n",
       "      <td>4.0</td>\n",
       "      <td>2</td>\n",
       "      <td>2.0</td>\n",
       "      <td>1</td>\n",
       "      <td>1210000</td>\n",
       "    </tr>\n",
       "    <tr>\n",
       "      <th>1</th>\n",
       "      <td>2</td>\n",
       "      <td>737207</td>\n",
       "      <td>2107</td>\n",
       "      <td>3.0</td>\n",
       "      <td>1</td>\n",
       "      <td>2.0</td>\n",
       "      <td>1</td>\n",
       "      <td>1530000</td>\n",
       "    </tr>\n",
       "    <tr>\n",
       "      <th>2</th>\n",
       "      <td>2</td>\n",
       "      <td>737189</td>\n",
       "      <td>2107</td>\n",
       "      <td>4.0</td>\n",
       "      <td>2</td>\n",
       "      <td>2.0</td>\n",
       "      <td>1</td>\n",
       "      <td>1610000</td>\n",
       "    </tr>\n",
       "    <tr>\n",
       "      <th>3</th>\n",
       "      <td>2</td>\n",
       "      <td>737162</td>\n",
       "      <td>2107</td>\n",
       "      <td>3.0</td>\n",
       "      <td>1</td>\n",
       "      <td>2.0</td>\n",
       "      <td>1</td>\n",
       "      <td>1510000</td>\n",
       "    </tr>\n",
       "    <tr>\n",
       "      <th>4</th>\n",
       "      <td>2</td>\n",
       "      <td>737160</td>\n",
       "      <td>2107</td>\n",
       "      <td>3.0</td>\n",
       "      <td>1</td>\n",
       "      <td>2.0</td>\n",
       "      <td>1</td>\n",
       "      <td>1400000</td>\n",
       "    </tr>\n",
       "  </tbody>\n",
       "</table>\n",
       "</div>"
      ],
      "text/plain": [
       "   Quarter  ordDate  postalCode  bed  bath  car  propType  sellPrice\n",
       "0        2   737229        2107  4.0     2  2.0         1    1210000\n",
       "1        2   737207        2107  3.0     1  2.0         1    1530000\n",
       "2        2   737189        2107  4.0     2  2.0         1    1610000\n",
       "3        2   737162        2107  3.0     1  2.0         1    1510000\n",
       "4        2   737160        2107  3.0     1  2.0         1    1400000"
      ]
     },
     "execution_count": 25,
     "metadata": {},
     "output_type": "execute_result"
    }
   ],
   "source": [
    "df_new.head(5)"
   ]
  },
  {
   "cell_type": "markdown",
   "id": "6c139586",
   "metadata": {},
   "source": [
    "# Investigate correlation in the new dataframe."
   ]
  },
  {
   "cell_type": "markdown",
   "id": "7749e097",
   "metadata": {},
   "source": [
    "Pandas has a built-in correlation function."
   ]
  },
  {
   "cell_type": "code",
   "execution_count": 26,
   "id": "6378bc47",
   "metadata": {},
   "outputs": [],
   "source": [
    "corr = df_new.corr()"
   ]
  },
  {
   "cell_type": "code",
   "execution_count": 27,
   "id": "bae30820",
   "metadata": {},
   "outputs": [
    {
     "data": {
      "text/html": [
       "<div>\n",
       "<style scoped>\n",
       "    .dataframe tbody tr th:only-of-type {\n",
       "        vertical-align: middle;\n",
       "    }\n",
       "\n",
       "    .dataframe tbody tr th {\n",
       "        vertical-align: top;\n",
       "    }\n",
       "\n",
       "    .dataframe thead th {\n",
       "        text-align: right;\n",
       "    }\n",
       "</style>\n",
       "<table border=\"1\" class=\"dataframe\">\n",
       "  <thead>\n",
       "    <tr style=\"text-align: right;\">\n",
       "      <th></th>\n",
       "      <th>Quarter</th>\n",
       "      <th>ordDate</th>\n",
       "      <th>postalCode</th>\n",
       "      <th>bed</th>\n",
       "      <th>bath</th>\n",
       "      <th>car</th>\n",
       "      <th>propType</th>\n",
       "      <th>sellPrice</th>\n",
       "    </tr>\n",
       "  </thead>\n",
       "  <tbody>\n",
       "    <tr>\n",
       "      <th>Quarter</th>\n",
       "      <td>1.000000</td>\n",
       "      <td>-0.033019</td>\n",
       "      <td>-0.016949</td>\n",
       "      <td>-0.005361</td>\n",
       "      <td>-0.004926</td>\n",
       "      <td>-0.007871</td>\n",
       "      <td>-0.003524</td>\n",
       "      <td>0.011452</td>\n",
       "    </tr>\n",
       "    <tr>\n",
       "      <th>ordDate</th>\n",
       "      <td>-0.033019</td>\n",
       "      <td>1.000000</td>\n",
       "      <td>0.247113</td>\n",
       "      <td>0.095735</td>\n",
       "      <td>0.042005</td>\n",
       "      <td>0.068235</td>\n",
       "      <td>0.006005</td>\n",
       "      <td>0.203979</td>\n",
       "    </tr>\n",
       "    <tr>\n",
       "      <th>postalCode</th>\n",
       "      <td>-0.016949</td>\n",
       "      <td>0.247113</td>\n",
       "      <td>1.000000</td>\n",
       "      <td>0.093534</td>\n",
       "      <td>-0.051130</td>\n",
       "      <td>0.050859</td>\n",
       "      <td>-0.013814</td>\n",
       "      <td>-0.422004</td>\n",
       "    </tr>\n",
       "    <tr>\n",
       "      <th>bed</th>\n",
       "      <td>-0.005361</td>\n",
       "      <td>0.095735</td>\n",
       "      <td>0.093534</td>\n",
       "      <td>1.000000</td>\n",
       "      <td>0.595902</td>\n",
       "      <td>0.349496</td>\n",
       "      <td>-0.258585</td>\n",
       "      <td>0.269125</td>\n",
       "    </tr>\n",
       "    <tr>\n",
       "      <th>bath</th>\n",
       "      <td>-0.004926</td>\n",
       "      <td>0.042005</td>\n",
       "      <td>-0.051130</td>\n",
       "      <td>0.595902</td>\n",
       "      <td>1.000000</td>\n",
       "      <td>0.336161</td>\n",
       "      <td>-0.051120</td>\n",
       "      <td>0.312592</td>\n",
       "    </tr>\n",
       "    <tr>\n",
       "      <th>car</th>\n",
       "      <td>-0.007871</td>\n",
       "      <td>0.068235</td>\n",
       "      <td>0.050859</td>\n",
       "      <td>0.349496</td>\n",
       "      <td>0.336161</td>\n",
       "      <td>1.000000</td>\n",
       "      <td>-0.053399</td>\n",
       "      <td>0.159985</td>\n",
       "    </tr>\n",
       "    <tr>\n",
       "      <th>propType</th>\n",
       "      <td>-0.003524</td>\n",
       "      <td>0.006005</td>\n",
       "      <td>-0.013814</td>\n",
       "      <td>-0.258585</td>\n",
       "      <td>-0.051120</td>\n",
       "      <td>-0.053399</td>\n",
       "      <td>1.000000</td>\n",
       "      <td>-0.198107</td>\n",
       "    </tr>\n",
       "    <tr>\n",
       "      <th>sellPrice</th>\n",
       "      <td>0.011452</td>\n",
       "      <td>0.203979</td>\n",
       "      <td>-0.422004</td>\n",
       "      <td>0.269125</td>\n",
       "      <td>0.312592</td>\n",
       "      <td>0.159985</td>\n",
       "      <td>-0.198107</td>\n",
       "      <td>1.000000</td>\n",
       "    </tr>\n",
       "  </tbody>\n",
       "</table>\n",
       "</div>"
      ],
      "text/plain": [
       "             Quarter   ordDate  postalCode       bed      bath       car  \\\n",
       "Quarter     1.000000 -0.033019   -0.016949 -0.005361 -0.004926 -0.007871   \n",
       "ordDate    -0.033019  1.000000    0.247113  0.095735  0.042005  0.068235   \n",
       "postalCode -0.016949  0.247113    1.000000  0.093534 -0.051130  0.050859   \n",
       "bed        -0.005361  0.095735    0.093534  1.000000  0.595902  0.349496   \n",
       "bath       -0.004926  0.042005   -0.051130  0.595902  1.000000  0.336161   \n",
       "car        -0.007871  0.068235    0.050859  0.349496  0.336161  1.000000   \n",
       "propType   -0.003524  0.006005   -0.013814 -0.258585 -0.051120 -0.053399   \n",
       "sellPrice   0.011452  0.203979   -0.422004  0.269125  0.312592  0.159985   \n",
       "\n",
       "            propType  sellPrice  \n",
       "Quarter    -0.003524   0.011452  \n",
       "ordDate     0.006005   0.203979  \n",
       "postalCode -0.013814  -0.422004  \n",
       "bed        -0.258585   0.269125  \n",
       "bath       -0.051120   0.312592  \n",
       "car        -0.053399   0.159985  \n",
       "propType    1.000000  -0.198107  \n",
       "sellPrice  -0.198107   1.000000  "
      ]
     },
     "execution_count": 27,
     "metadata": {},
     "output_type": "execute_result"
    }
   ],
   "source": [
    "# View the correlations within the dataframe.\n",
    "corr"
   ]
  },
  {
   "cell_type": "markdown",
   "id": "a0253aaa",
   "metadata": {},
   "source": [
    "Create a heatmap chart of the correlations, using a mask to hide redundant information and correct aspect ratio to ensure proper spacing of the chart."
   ]
  },
  {
   "cell_type": "code",
   "execution_count": 28,
   "id": "36097e9f",
   "metadata": {},
   "outputs": [
    {
     "data": {
      "text/plain": [
       "<AxesSubplot:>"
      ]
     },
     "execution_count": 28,
     "metadata": {},
     "output_type": "execute_result"
    },
    {
     "data": {
      "image/png": "[encoded data removed]",
      "text/plain": [
       "<Figure size 792x648 with 2 Axes>"
      ]
     },
     "metadata": {
      "needs_background": "light"
     },
     "output_type": "display_data"
    }
   ],
   "source": [
    "mask = np.zeros_like(corr, dtype=bool)\n",
    "mask[np.triu_indices_from(mask)] = True\n",
    "cmap = sns.diverging_palette(10, 250, as_cmap=True)\n",
    "f, ax = plt.subplots(figsize=(11, 9))\n",
    "sns.heatmap(corr, mask=mask, cmap=cmap, square=True,\n",
    "            linewidths=0.2, cbar_kws={'shrink': 0.5}, ax=ax, annot=True)"
   ]
  },
  {
   "cell_type": "markdown",
   "id": "f1a44e37",
   "metadata": {},
   "source": [
    "##### From the above; notice the medium correlation of bed and bath, the negative medium correlation of postCode and sellPrice.  \n",
    "\n",
    "Multicollinearity has a negative impact on multiple regression models.  The steps for overcoming multicollinearity are different for the chosen model.\n",
    "\n",
    "* **Training a model and testing on unseen data:** standardize the features.\n",
    "* **Multiple Regression on entire data set:** a variance inflation factor (VIF) analysis will be used for feature selection.\n",
    "\n",
    "Either way, the target and predictor variables must be split into different dataframes prior to modelling."
   ]
  },
  {
   "cell_type": "markdown",
   "id": "b140f87d",
   "metadata": {},
   "source": [
    "# Isolate Target and Predictor Variables to Different Dataframes"
   ]
  },
  {
   "cell_type": "code",
   "execution_count": 29,
   "id": "6bb2efcf",
   "metadata": {},
   "outputs": [],
   "source": [
    "X = df_new[['Quarter', 'ordDate', 'postalCode', 'bed', 'bath', 'car', 'propType']]\n",
    "y = df_new[['sellPrice']]\n",
    "\n",
    "# Save this list of column values for later\n",
    "columns_list = list(X.columns.values)"
   ]
  },
  {
   "cell_type": "code",
   "execution_count": 30,
   "id": "b54019e7",
   "metadata": {},
   "outputs": [
    {
     "data": {
      "text/html": [
       "<div>\n",
       "<style scoped>\n",
       "    .dataframe tbody tr th:only-of-type {\n",
       "        vertical-align: middle;\n",
       "    }\n",
       "\n",
       "    .dataframe tbody tr th {\n",
       "        vertical-align: top;\n",
       "    }\n",
       "\n",
       "    .dataframe thead th {\n",
       "        text-align: right;\n",
       "    }\n",
       "</style>\n",
       "<table border=\"1\" class=\"dataframe\">\n",
       "  <thead>\n",
       "    <tr style=\"text-align: right;\">\n",
       "      <th></th>\n",
       "      <th>Quarter</th>\n",
       "      <th>ordDate</th>\n",
       "      <th>postalCode</th>\n",
       "      <th>bed</th>\n",
       "      <th>bath</th>\n",
       "      <th>car</th>\n",
       "      <th>propType</th>\n",
       "    </tr>\n",
       "  </thead>\n",
       "  <tbody>\n",
       "    <tr>\n",
       "      <th>0</th>\n",
       "      <td>2</td>\n",
       "      <td>737229</td>\n",
       "      <td>2107</td>\n",
       "      <td>4.0</td>\n",
       "      <td>2</td>\n",
       "      <td>2.0</td>\n",
       "      <td>1</td>\n",
       "    </tr>\n",
       "    <tr>\n",
       "      <th>1</th>\n",
       "      <td>2</td>\n",
       "      <td>737207</td>\n",
       "      <td>2107</td>\n",
       "      <td>3.0</td>\n",
       "      <td>1</td>\n",
       "      <td>2.0</td>\n",
       "      <td>1</td>\n",
       "    </tr>\n",
       "    <tr>\n",
       "      <th>2</th>\n",
       "      <td>2</td>\n",
       "      <td>737189</td>\n",
       "      <td>2107</td>\n",
       "      <td>4.0</td>\n",
       "      <td>2</td>\n",
       "      <td>2.0</td>\n",
       "      <td>1</td>\n",
       "    </tr>\n",
       "    <tr>\n",
       "      <th>3</th>\n",
       "      <td>2</td>\n",
       "      <td>737162</td>\n",
       "      <td>2107</td>\n",
       "      <td>3.0</td>\n",
       "      <td>1</td>\n",
       "      <td>2.0</td>\n",
       "      <td>1</td>\n",
       "    </tr>\n",
       "    <tr>\n",
       "      <th>4</th>\n",
       "      <td>2</td>\n",
       "      <td>737160</td>\n",
       "      <td>2107</td>\n",
       "      <td>3.0</td>\n",
       "      <td>1</td>\n",
       "      <td>2.0</td>\n",
       "      <td>1</td>\n",
       "    </tr>\n",
       "  </tbody>\n",
       "</table>\n",
       "</div>"
      ],
      "text/plain": [
       "   Quarter  ordDate  postalCode  bed  bath  car  propType\n",
       "0        2   737229        2107  4.0     2  2.0         1\n",
       "1        2   737207        2107  3.0     1  2.0         1\n",
       "2        2   737189        2107  4.0     2  2.0         1\n",
       "3        2   737162        2107  3.0     1  2.0         1\n",
       "4        2   737160        2107  3.0     1  2.0         1"
      ]
     },
     "execution_count": 30,
     "metadata": {},
     "output_type": "execute_result"
    }
   ],
   "source": [
    "X.head(5)"
   ]
  },
  {
   "cell_type": "code",
   "execution_count": 31,
   "id": "bfb8e65d",
   "metadata": {
    "scrolled": true
   },
   "outputs": [
    {
     "data": {
      "text/html": [
       "<div>\n",
       "<style scoped>\n",
       "    .dataframe tbody tr th:only-of-type {\n",
       "        vertical-align: middle;\n",
       "    }\n",
       "\n",
       "    .dataframe tbody tr th {\n",
       "        vertical-align: top;\n",
       "    }\n",
       "\n",
       "    .dataframe thead th {\n",
       "        text-align: right;\n",
       "    }\n",
       "</style>\n",
       "<table border=\"1\" class=\"dataframe\">\n",
       "  <thead>\n",
       "    <tr style=\"text-align: right;\">\n",
       "      <th></th>\n",
       "      <th>sellPrice</th>\n",
       "    </tr>\n",
       "  </thead>\n",
       "  <tbody>\n",
       "    <tr>\n",
       "      <th>0</th>\n",
       "      <td>1210000</td>\n",
       "    </tr>\n",
       "    <tr>\n",
       "      <th>1</th>\n",
       "      <td>1530000</td>\n",
       "    </tr>\n",
       "    <tr>\n",
       "      <th>2</th>\n",
       "      <td>1610000</td>\n",
       "    </tr>\n",
       "    <tr>\n",
       "      <th>3</th>\n",
       "      <td>1510000</td>\n",
       "    </tr>\n",
       "    <tr>\n",
       "      <th>4</th>\n",
       "      <td>1400000</td>\n",
       "    </tr>\n",
       "  </tbody>\n",
       "</table>\n",
       "</div>"
      ],
      "text/plain": [
       "   sellPrice\n",
       "0    1210000\n",
       "1    1530000\n",
       "2    1610000\n",
       "3    1510000\n",
       "4    1400000"
      ]
     },
     "execution_count": 31,
     "metadata": {},
     "output_type": "execute_result"
    }
   ],
   "source": [
    "y.head(5)"
   ]
  },
  {
   "cell_type": "markdown",
   "id": "ddd1f009",
   "metadata": {},
   "source": [
    "# Standardise Features\n",
    "\n",
    "Because in linear regression the value of the coefficients is partially determined by the scale of the feature, and in regularized models all coefficients are summed together, the features must be standardised prior to training.\n",
    "\n",
    "The approach to standardising features is removing the mean and scale to unit variance.\n",
    "\n",
    "The standard score of a sample x is calculated as:\n",
    "\n",
    "    z = (x - u) / s\n",
    "\n",
    "where _u_ is the mean of the training samples and _s_ is the standard deviation of the training samples."
   ]
  },
  {
   "cell_type": "code",
   "execution_count": 32,
   "id": "fb3272e6",
   "metadata": {},
   "outputs": [],
   "source": [
    "scaler = StandardScaler()\n",
    "X_std = scaler.fit_transform(X)"
   ]
  },
  {
   "cell_type": "code",
   "execution_count": 33,
   "id": "b087ad41",
   "metadata": {},
   "outputs": [
    {
     "data": {
      "text/plain": [
       "array([[-0.51582963,  1.52939123, -0.49164012,  0.79180606,  0.3961588 ,\n",
       "         0.57106709, -0.33475608],\n",
       "       [-0.51582963,  1.50854559, -0.49164012, -0.43041138, -1.06476085,\n",
       "         0.57106709, -0.33475608],\n",
       "       [-0.51582963,  1.49149006, -0.49164012,  0.79180606,  0.3961588 ,\n",
       "         0.57106709, -0.33475608],\n",
       "       [-0.51582963,  1.46590678, -0.49164012, -0.43041138, -1.06476085,\n",
       "         0.57106709, -0.33475608],\n",
       "       [-0.51582963,  1.46401172, -0.49164012, -0.43041138, -1.06476085,\n",
       "         0.57106709, -0.33475608]])"
      ]
     },
     "execution_count": 33,
     "metadata": {},
     "output_type": "execute_result"
    }
   ],
   "source": [
    "# The scaled values are now stored as an array.\n",
    "X_std[: 5]"
   ]
  },
  {
   "cell_type": "code",
   "execution_count": 34,
   "id": "a6256d53",
   "metadata": {},
   "outputs": [],
   "source": [
    "# X is already an array data type, so y also needs converting (the model expects these as inputs).\n",
    "y = y.values"
   ]
  },
  {
   "cell_type": "markdown",
   "id": "90b332d6",
   "metadata": {},
   "source": [
    "# Split dataset into the training and test using train_set_split: \n",
    "\n",
    "90% - train\n",
    "\n",
    "10% - test"
   ]
  },
  {
   "cell_type": "code",
   "execution_count": 35,
   "id": "71ae35df",
   "metadata": {},
   "outputs": [],
   "source": [
    "X_train, X_test, y_train, y_test = train_test_split(X_std, y, test_size=0.1, random_state=23)"
   ]
  },
  {
   "cell_type": "code",
   "execution_count": 36,
   "id": "b3abd11a",
   "metadata": {},
   "outputs": [
    {
     "name": "stdout",
     "output_type": "stream",
     "text": [
      "Training Data: (151499, 7) (151499, 1)\n",
      "Testing Data: (16834, 7) (16834, 1)\n"
     ]
    }
   ],
   "source": [
    "print('Training Data:', X_train.shape, y_train.shape)\n",
    "print('Testing Data:', X_test.shape, y_test.shape)"
   ]
  },
  {
   "cell_type": "markdown",
   "id": "bef9dc24",
   "metadata": {},
   "source": [
    "# Train, Test and Predict using ridge and lasso regression models"
   ]
  },
  {
   "cell_type": "markdown",
   "id": "7941b919",
   "metadata": {},
   "source": [
    "## Ridge Regression\n",
    "Create an object called RidgeRegression in the regression class with alpha 0.01"
   ]
  },
  {
   "cell_type": "code",
   "execution_count": 37,
   "id": "a7500b90",
   "metadata": {},
   "outputs": [],
   "source": [
    "ridgeregressor = Ridge(alpha=0.01)"
   ]
  },
  {
   "cell_type": "markdown",
   "id": "bec8a1d0",
   "metadata": {},
   "source": [
    "Fit the linear regression model to the training set. We use the fit method the arguments of the fit method will be training sets"
   ]
  },
  {
   "cell_type": "code",
   "execution_count": 38,
   "id": "d6fb66f9",
   "metadata": {},
   "outputs": [
    {
     "data": {
      "text/plain": [
       "Ridge(alpha=0.01)"
      ]
     },
     "execution_count": 38,
     "metadata": {},
     "output_type": "execute_result"
    }
   ],
   "source": [
    "ridgeregressor.fit(X_train, y_train)"
   ]
  },
  {
   "cell_type": "markdown",
   "id": "1346a7e1",
   "metadata": {},
   "source": [
    "Regression Coefficients"
   ]
  },
  {
   "cell_type": "code",
   "execution_count": 39,
   "id": "65fa1590",
   "metadata": {},
   "outputs": [
    {
     "data": {
      "text/html": [
       "<div>\n",
       "<style scoped>\n",
       "    .dataframe tbody tr th:only-of-type {\n",
       "        vertical-align: middle;\n",
       "    }\n",
       "\n",
       "    .dataframe tbody tr th {\n",
       "        vertical-align: top;\n",
       "    }\n",
       "\n",
       "    .dataframe thead th {\n",
       "        text-align: right;\n",
       "    }\n",
       "</style>\n",
       "<table border=\"1\" class=\"dataframe\">\n",
       "  <thead>\n",
       "    <tr style=\"text-align: right;\">\n",
       "      <th></th>\n",
       "      <th>Quarter</th>\n",
       "      <th>ordDate</th>\n",
       "      <th>postalCode</th>\n",
       "      <th>bed</th>\n",
       "      <th>bath</th>\n",
       "      <th>car</th>\n",
       "      <th>propType</th>\n",
       "    </tr>\n",
       "  </thead>\n",
       "  <tbody>\n",
       "    <tr>\n",
       "      <th>0</th>\n",
       "      <td>6851.679901</td>\n",
       "      <td>142700.574254</td>\n",
       "      <td>-234467.248603</td>\n",
       "      <td>56302.397325</td>\n",
       "      <td>81973.526586</td>\n",
       "      <td>25236.105213</td>\n",
       "      <td>-75953.791822</td>\n",
       "    </tr>\n",
       "  </tbody>\n",
       "</table>\n",
       "</div>"
      ],
      "text/plain": [
       "       Quarter        ordDate     postalCode           bed          bath  \\\n",
       "0  6851.679901  142700.574254 -234467.248603  56302.397325  81973.526586   \n",
       "\n",
       "            car      propType  \n",
       "0  25236.105213 -75953.791822  "
      ]
     },
     "execution_count": 39,
     "metadata": {},
     "output_type": "execute_result"
    }
   ],
   "source": [
    "coefficient = pd.DataFrame(ridgeregressor.coef_)\n",
    "coefficient.columns = columns_list\n",
    "coefficient"
   ]
  },
  {
   "cell_type": "markdown",
   "id": "90a85f96",
   "metadata": {},
   "source": [
    "### Predicting the results"
   ]
  },
  {
   "cell_type": "markdown",
   "id": "4636e088",
   "metadata": {},
   "source": [
    "Training set prediction score"
   ]
  },
  {
   "cell_type": "code",
   "execution_count": 40,
   "id": "6e15715a",
   "metadata": {},
   "outputs": [],
   "source": [
    "y_pred = ridgeregressor.predict(X_train)"
   ]
  },
  {
   "cell_type": "code",
   "execution_count": 41,
   "id": "4585af57",
   "metadata": {},
   "outputs": [
    {
     "data": {
      "text/plain": [
       "0.40513647325203783"
      ]
     },
     "execution_count": 41,
     "metadata": {},
     "output_type": "execute_result"
    }
   ],
   "source": [
    "ridge_train_score = ridgeregressor.score(X_train, y_train)\n",
    "ridge_train_score"
   ]
  },
  {
   "cell_type": "markdown",
   "id": "a4986645",
   "metadata": {},
   "source": [
    "Training set prediction score"
   ]
  },
  {
   "cell_type": "code",
   "execution_count": 42,
   "id": "0d377763",
   "metadata": {},
   "outputs": [],
   "source": [
    "y_pred = ridgeregressor.predict(X_test)"
   ]
  },
  {
   "cell_type": "code",
   "execution_count": 43,
   "id": "7de07a9e",
   "metadata": {},
   "outputs": [
    {
     "data": {
      "text/plain": [
       "0.3998395017232157"
      ]
     },
     "execution_count": 43,
     "metadata": {},
     "output_type": "execute_result"
    }
   ],
   "source": [
    "ridge_test_score = ridgeregressor.score(X_test, y_test)\n",
    "ridge_test_score"
   ]
  },
  {
   "cell_type": "markdown",
   "id": "db067c91",
   "metadata": {},
   "source": [
    "##### From the above, notice that the results of the test data are slightly better than the results of the training data (higher score is better).\n",
    "This suggests that the model is generalised enough to work well with previously unseen data."
   ]
  },
  {
   "cell_type": "markdown",
   "id": "16663a90",
   "metadata": {},
   "source": [
    "### Evaluation metrics - How to Calculate R-Square and RMSE"
   ]
  },
  {
   "cell_type": "code",
   "execution_count": 44,
   "id": "db5b7355",
   "metadata": {},
   "outputs": [
    {
     "name": "stdout",
     "output_type": "stream",
     "text": [
      "Ridge results:\n",
      "R-squared: 0.3998395017232157\n",
      "Root Mean Squared Error: 359544.0153126222\n"
     ]
    }
   ],
   "source": [
    "print('Ridge results:')\n",
    "coefficient_of_dermination_ridge = r2_score(y_test, y_pred)\n",
    "print('R-squared: {}'.format(coefficient_of_dermination_ridge))\n",
    "\n",
    "rmse_ridge = np.sqrt(mean_squared_error(y_test, y_pred))\n",
    "print('Root Mean Squared Error: {}'.format(rmse_ridge))"
   ]
  },
  {
   "cell_type": "markdown",
   "id": "7a2cb7b0",
   "metadata": {},
   "source": [
    "##### From the above, notice that the results of the R-Square score are the same as the prediction score on the test set."
   ]
  },
  {
   "cell_type": "code",
   "execution_count": 45,
   "id": "c6612663",
   "metadata": {
    "scrolled": true
   },
   "outputs": [
    {
     "data": {
      "text/html": [
       "<div>\n",
       "<style scoped>\n",
       "    .dataframe tbody tr th:only-of-type {\n",
       "        vertical-align: middle;\n",
       "    }\n",
       "\n",
       "    .dataframe tbody tr th {\n",
       "        vertical-align: top;\n",
       "    }\n",
       "\n",
       "    .dataframe thead th {\n",
       "        text-align: right;\n",
       "    }\n",
       "</style>\n",
       "<table border=\"1\" class=\"dataframe\">\n",
       "  <thead>\n",
       "    <tr style=\"text-align: right;\">\n",
       "      <th></th>\n",
       "      <th>Price</th>\n",
       "      <th>Prediction</th>\n",
       "      <th>Difference</th>\n",
       "    </tr>\n",
       "  </thead>\n",
       "  <tbody>\n",
       "    <tr>\n",
       "      <th>0</th>\n",
       "      <td>1011000</td>\n",
       "      <td>1015579.0</td>\n",
       "      <td>4579.0</td>\n",
       "    </tr>\n",
       "    <tr>\n",
       "      <th>1</th>\n",
       "      <td>1330000</td>\n",
       "      <td>1096752.0</td>\n",
       "      <td>-233248.0</td>\n",
       "    </tr>\n",
       "    <tr>\n",
       "      <th>2</th>\n",
       "      <td>2165000</td>\n",
       "      <td>1130628.0</td>\n",
       "      <td>-1034372.0</td>\n",
       "    </tr>\n",
       "    <tr>\n",
       "      <th>3</th>\n",
       "      <td>782900</td>\n",
       "      <td>567278.0</td>\n",
       "      <td>-215622.0</td>\n",
       "    </tr>\n",
       "    <tr>\n",
       "      <th>4</th>\n",
       "      <td>1610000</td>\n",
       "      <td>1314841.0</td>\n",
       "      <td>-295159.0</td>\n",
       "    </tr>\n",
       "  </tbody>\n",
       "</table>\n",
       "</div>"
      ],
      "text/plain": [
       "     Price  Prediction  Difference\n",
       "0  1011000   1015579.0      4579.0\n",
       "1  1330000   1096752.0   -233248.0\n",
       "2  2165000   1130628.0  -1034372.0\n",
       "3   782900    567278.0   -215622.0\n",
       "4  1610000   1314841.0   -295159.0"
      ]
     },
     "execution_count": 45,
     "metadata": {},
     "output_type": "execute_result"
    }
   ],
   "source": [
    "# Displaying Results and Difference in Table \n",
    "res = pd.DataFrame(y_pred, y_test.ravel())\n",
    "res = res.reset_index()\n",
    "res.columns = ['Price', 'Prediction']\n",
    "res['Prediction'] = round(res['Prediction'], 0)\n",
    "res['Difference'] = res['Prediction'] - res['Price']\n",
    "res.head(5)"
   ]
  },
  {
   "cell_type": "code",
   "execution_count": 46,
   "id": "60ad0261",
   "metadata": {},
   "outputs": [
    {
     "data": {
      "text/plain": [
       "45590.0"
      ]
     },
     "execution_count": 46,
     "metadata": {},
     "output_type": "execute_result"
    }
   ],
   "source": [
    "res['Difference'].median()"
   ]
  },
  {
   "cell_type": "markdown",
   "id": "2e79cccf",
   "metadata": {},
   "source": [
    "## Create an object called RidgeRegression in the regression class with alpha 100"
   ]
  },
  {
   "cell_type": "code",
   "execution_count": 47,
   "id": "fc0cb1f9",
   "metadata": {},
   "outputs": [
    {
     "data": {
      "text/plain": [
       "Ridge(alpha=100)"
      ]
     },
     "execution_count": 47,
     "metadata": {},
     "output_type": "execute_result"
    }
   ],
   "source": [
    "ridgeregressor100 = Ridge(alpha=100)\n",
    "ridgeregressor100.fit(X_train, y_train)"
   ]
  },
  {
   "cell_type": "code",
   "execution_count": 48,
   "id": "6a602fc4",
   "metadata": {},
   "outputs": [
    {
     "data": {
      "text/html": [
       "<div>\n",
       "<style scoped>\n",
       "    .dataframe tbody tr th:only-of-type {\n",
       "        vertical-align: middle;\n",
       "    }\n",
       "\n",
       "    .dataframe tbody tr th {\n",
       "        vertical-align: top;\n",
       "    }\n",
       "\n",
       "    .dataframe thead th {\n",
       "        text-align: right;\n",
       "    }\n",
       "</style>\n",
       "<table border=\"1\" class=\"dataframe\">\n",
       "  <thead>\n",
       "    <tr style=\"text-align: right;\">\n",
       "      <th></th>\n",
       "      <th>Quarter</th>\n",
       "      <th>ordDate</th>\n",
       "      <th>postalCode</th>\n",
       "      <th>bed</th>\n",
       "      <th>bath</th>\n",
       "      <th>car</th>\n",
       "      <th>propType</th>\n",
       "    </tr>\n",
       "  </thead>\n",
       "  <tbody>\n",
       "    <tr>\n",
       "      <th>0</th>\n",
       "      <td>6845.401547</td>\n",
       "      <td>142561.411533</td>\n",
       "      <td>-234278.100747</td>\n",
       "      <td>56291.36391</td>\n",
       "      <td>81944.252461</td>\n",
       "      <td>25235.325004</td>\n",
       "      <td>-75904.722203</td>\n",
       "    </tr>\n",
       "  </tbody>\n",
       "</table>\n",
       "</div>"
      ],
      "text/plain": [
       "       Quarter        ordDate     postalCode          bed          bath  \\\n",
       "0  6845.401547  142561.411533 -234278.100747  56291.36391  81944.252461   \n",
       "\n",
       "            car      propType  \n",
       "0  25235.325004 -75904.722203  "
      ]
     },
     "execution_count": 48,
     "metadata": {},
     "output_type": "execute_result"
    }
   ],
   "source": [
    "Coefficient = pd.DataFrame(ridgeregressor100.coef_)\n",
    "Coefficient.columns = columns_list\n",
    "Coefficient"
   ]
  },
  {
   "cell_type": "code",
   "execution_count": 49,
   "id": "ca9dc1e4",
   "metadata": {},
   "outputs": [
    {
     "name": "stdout",
     "output_type": "stream",
     "text": [
      "Ridge100 results:\n",
      "R-squared: 0.39984069213918794\n",
      "Root Mean Squared Error: 359543.6587353799\n"
     ]
    }
   ],
   "source": [
    "print('Ridge100 results:')\n",
    "y_pred = ridgeregressor100.predict(X_test)\n",
    "\n",
    "coefficient_of_dermination_ridge100 = r2_score(y_test, y_pred)\n",
    "print('R-squared:', coefficient_of_dermination_ridge100)\n",
    "\n",
    "rmse_ridge100 = np.sqrt(mean_squared_error(y_test, y_pred))\n",
    "print('Root Mean Squared Error: {}'.format(rmse_ridge100))"
   ]
  },
  {
   "cell_type": "code",
   "execution_count": 50,
   "id": "654b08d2",
   "metadata": {},
   "outputs": [
    {
     "data": {
      "text/plain": [
       "0.40513625594187297"
      ]
     },
     "execution_count": 50,
     "metadata": {},
     "output_type": "execute_result"
    }
   ],
   "source": [
    "Ridge_train_score_100 = ridgeregressor100.score(X_train, y_train)\n",
    "Ridge_train_score_100"
   ]
  },
  {
   "cell_type": "code",
   "execution_count": null,
   "id": "7cd3e8b0",
   "metadata": {},
   "outputs": [],
   "source": [
    "# TODO: PUT TEST SCORE"
   ]
  },
  {
   "cell_type": "code",
   "execution_count": 51,
   "id": "44c113f5",
   "metadata": {},
   "outputs": [
    {
     "data": {
      "text/html": [
       "<div>\n",
       "<style scoped>\n",
       "    .dataframe tbody tr th:only-of-type {\n",
       "        vertical-align: middle;\n",
       "    }\n",
       "\n",
       "    .dataframe tbody tr th {\n",
       "        vertical-align: top;\n",
       "    }\n",
       "\n",
       "    .dataframe thead th {\n",
       "        text-align: right;\n",
       "    }\n",
       "</style>\n",
       "<table border=\"1\" class=\"dataframe\">\n",
       "  <thead>\n",
       "    <tr style=\"text-align: right;\">\n",
       "      <th></th>\n",
       "      <th>Price</th>\n",
       "      <th>Prediction</th>\n",
       "      <th>Difference</th>\n",
       "    </tr>\n",
       "  </thead>\n",
       "  <tbody>\n",
       "    <tr>\n",
       "      <th>0</th>\n",
       "      <td>1011000</td>\n",
       "      <td>1015751.0</td>\n",
       "      <td>4751.0</td>\n",
       "    </tr>\n",
       "    <tr>\n",
       "      <th>1</th>\n",
       "      <td>1330000</td>\n",
       "      <td>1096804.0</td>\n",
       "      <td>-233196.0</td>\n",
       "    </tr>\n",
       "    <tr>\n",
       "      <th>2</th>\n",
       "      <td>2165000</td>\n",
       "      <td>1130549.0</td>\n",
       "      <td>-1034451.0</td>\n",
       "    </tr>\n",
       "    <tr>\n",
       "      <th>3</th>\n",
       "      <td>782900</td>\n",
       "      <td>567651.0</td>\n",
       "      <td>-215249.0</td>\n",
       "    </tr>\n",
       "    <tr>\n",
       "      <th>4</th>\n",
       "      <td>1610000</td>\n",
       "      <td>1314646.0</td>\n",
       "      <td>-295354.0</td>\n",
       "    </tr>\n",
       "  </tbody>\n",
       "</table>\n",
       "</div>"
      ],
      "text/plain": [
       "     Price  Prediction  Difference\n",
       "0  1011000   1015751.0      4751.0\n",
       "1  1330000   1096804.0   -233196.0\n",
       "2  2165000   1130549.0  -1034451.0\n",
       "3   782900    567651.0   -215249.0\n",
       "4  1610000   1314646.0   -295354.0"
      ]
     },
     "execution_count": 51,
     "metadata": {},
     "output_type": "execute_result"
    }
   ],
   "source": [
    "# Displaying Results and Difference in Table \n",
    "res = pd.DataFrame(y_pred, y_test.ravel())\n",
    "res = res.reset_index()\n",
    "res.columns = ['Price', 'Prediction']\n",
    "res['Prediction'] = round(res['Prediction'], 0)\n",
    "res['Difference'] = res['Prediction'] - res['Price']\n",
    "res.head(5)"
   ]
  },
  {
   "cell_type": "code",
   "execution_count": 52,
   "id": "959d2e1d",
   "metadata": {},
   "outputs": [
    {
     "data": {
      "text/plain": [
       "45643.5"
      ]
     },
     "execution_count": 52,
     "metadata": {},
     "output_type": "execute_result"
    }
   ],
   "source": [
    "res['Difference'].median()"
   ]
  },
  {
   "cell_type": "markdown",
   "id": "7b23d694",
   "metadata": {},
   "source": [
    "## Create an object called Lasso in the regression class with alpha 1"
   ]
  },
  {
   "cell_type": "code",
   "execution_count": 53,
   "id": "f89f9c96",
   "metadata": {},
   "outputs": [
    {
     "name": "stdout",
     "output_type": "stream",
     "text": [
      "Coefficients:  [   6850.63922069  142699.29535488 -234466.54878189   56304.46919441\n",
      "   81972.04187837   25235.04399494  -75952.38022076]\n"
     ]
    }
   ],
   "source": [
    "lassoregressor = Lasso(alpha=1, max_iter=10e6)\n",
    "lassoregressor.fit(X_train, y_train)\n",
    "print('Coefficients: ', lassoregressor.coef_)"
   ]
  },
  {
   "cell_type": "code",
   "execution_count": 54,
   "id": "1d3ef628",
   "metadata": {},
   "outputs": [
    {
     "data": {
      "text/html": [
       "<div>\n",
       "<style scoped>\n",
       "    .dataframe tbody tr th:only-of-type {\n",
       "        vertical-align: middle;\n",
       "    }\n",
       "\n",
       "    .dataframe tbody tr th {\n",
       "        vertical-align: top;\n",
       "    }\n",
       "\n",
       "    .dataframe thead th {\n",
       "        text-align: right;\n",
       "    }\n",
       "</style>\n",
       "<table border=\"1\" class=\"dataframe\">\n",
       "  <thead>\n",
       "    <tr style=\"text-align: right;\">\n",
       "      <th></th>\n",
       "      <th>Quarter</th>\n",
       "      <th>ordDate</th>\n",
       "      <th>postalCode</th>\n",
       "      <th>bed</th>\n",
       "      <th>bath</th>\n",
       "      <th>car</th>\n",
       "      <th>propType</th>\n",
       "    </tr>\n",
       "  </thead>\n",
       "  <tbody>\n",
       "    <tr>\n",
       "      <th>0</th>\n",
       "      <td>6850.639221</td>\n",
       "      <td>142699.295355</td>\n",
       "      <td>-234466.548782</td>\n",
       "      <td>56304.469194</td>\n",
       "      <td>81972.041878</td>\n",
       "      <td>25235.043995</td>\n",
       "      <td>-75952.380221</td>\n",
       "    </tr>\n",
       "  </tbody>\n",
       "</table>\n",
       "</div>"
      ],
      "text/plain": [
       "       Quarter        ordDate     postalCode           bed          bath  \\\n",
       "0  6850.639221  142699.295355 -234466.548782  56304.469194  81972.041878   \n",
       "\n",
       "            car      propType  \n",
       "0  25235.043995 -75952.380221  "
      ]
     },
     "execution_count": 54,
     "metadata": {},
     "output_type": "execute_result"
    }
   ],
   "source": [
    "Coefficient = pd.DataFrame(lassoregressor.coef_).T\n",
    "Coefficient.columns = columns_list\n",
    "Coefficient"
   ]
  },
  {
   "cell_type": "code",
   "execution_count": 55,
   "id": "bbce343c",
   "metadata": {},
   "outputs": [
    {
     "name": "stdout",
     "output_type": "stream",
     "text": [
      "Lasso results:\n",
      "R-squared: 0.3998395394390041\n",
      "Root Mean Squared Error: 359544.0040152391\n"
     ]
    }
   ],
   "source": [
    "print('Lasso results:')\n",
    "y_pred= lassoregressor.predict(X_test)\n",
    "\n",
    "coefficient_of_dermination_lasso = r2_score(y_test, y_pred)\n",
    "print('R-squared:', coefficient_of_dermination_lasso)\n",
    "\n",
    "rmse_lasso = np.sqrt(mean_squared_error(y_test, y_pred))\n",
    "print('Root Mean Squared Error: {}'.format(rmse_lasso))"
   ]
  },
  {
   "cell_type": "code",
   "execution_count": 56,
   "id": "45cafffe",
   "metadata": {},
   "outputs": [],
   "source": [
    "# Create a list of models, their coefficients, and rmse values.\n",
    "model_results = [('ridge', coefficient_of_dermination_ridge, rmse_ridge),\n",
    "                 ('ridge10', coefficient_of_dermination_ridge100, rmse_ridge100),\n",
    "                 ('lasso', coefficient_of_dermination_lasso, rmse_lasso)]"
   ]
  },
  {
   "cell_type": "code",
   "execution_count": 57,
   "id": "3e391f1b",
   "metadata": {},
   "outputs": [],
   "source": [
    "# Create a dataframe to review the model results.\n",
    "overall_results = pd.DataFrame(model_results, columns=['Model', 'Coefficient', 'RMSE'])"
   ]
  },
  {
   "cell_type": "code",
   "execution_count": 58,
   "id": "c8ea0ae3",
   "metadata": {},
   "outputs": [
    {
     "data": {
      "text/html": [
       "<div>\n",
       "<style scoped>\n",
       "    .dataframe tbody tr th:only-of-type {\n",
       "        vertical-align: middle;\n",
       "    }\n",
       "\n",
       "    .dataframe tbody tr th {\n",
       "        vertical-align: top;\n",
       "    }\n",
       "\n",
       "    .dataframe thead th {\n",
       "        text-align: right;\n",
       "    }\n",
       "</style>\n",
       "<table border=\"1\" class=\"dataframe\">\n",
       "  <thead>\n",
       "    <tr style=\"text-align: right;\">\n",
       "      <th></th>\n",
       "      <th>Model</th>\n",
       "      <th>Coefficient</th>\n",
       "      <th>RMSE</th>\n",
       "    </tr>\n",
       "  </thead>\n",
       "  <tbody>\n",
       "    <tr>\n",
       "      <th>0</th>\n",
       "      <td>ridge</td>\n",
       "      <td>0.399840</td>\n",
       "      <td>359544.015313</td>\n",
       "    </tr>\n",
       "    <tr>\n",
       "      <th>1</th>\n",
       "      <td>ridge10</td>\n",
       "      <td>0.399841</td>\n",
       "      <td>359543.658735</td>\n",
       "    </tr>\n",
       "    <tr>\n",
       "      <th>2</th>\n",
       "      <td>lasso</td>\n",
       "      <td>0.399840</td>\n",
       "      <td>359544.004015</td>\n",
       "    </tr>\n",
       "  </tbody>\n",
       "</table>\n",
       "</div>"
      ],
      "text/plain": [
       "     Model  Coefficient           RMSE\n",
       "0    ridge     0.399840  359544.015313\n",
       "1  ridge10     0.399841  359543.658735\n",
       "2    lasso     0.399840  359544.004015"
      ]
     },
     "execution_count": 58,
     "metadata": {},
     "output_type": "execute_result"
    }
   ],
   "source": [
    "overall_results"
   ]
  },
  {
   "cell_type": "markdown",
   "id": "0e89487f",
   "metadata": {},
   "source": [
    "##### From the above, notice that the overall results are similar. Ridge is the champion model due to the highest RMSE value.\n",
    "---"
   ]
  },
  {
   "cell_type": "markdown",
   "id": "2a2088b6",
   "metadata": {},
   "source": [
    "Plotting the coefficients of each model displays that the values of each model's coefficients are also quite similar."
   ]
  },
  {
   "cell_type": "code",
   "execution_count": 59,
   "id": "719fd7cf",
   "metadata": {},
   "outputs": [
    {
     "data": {
      "image/png": "[encoded data removed]",
      "text/plain": [
       "<Figure size 432x288 with 1 Axes>"
      ]
     },
     "metadata": {
      "needs_background": "light"
     },
     "output_type": "display_data"
    }
   ],
   "source": [
    "# Note: is this too much information?\n",
    "plt.plot(ridgeregressor.coef_.ravel(), alpha=0.7, linestyle='none', marker='*', markersize=5,\n",
    "         color='red', label=r'Ridge; $\\alpha = 0.01$', zorder=7) \n",
    "plt.plot(ridgeregressor100.coef_.ravel(), alpha=0.5, linestyle='none', marker='d', markersize=6,\n",
    "         color='blue', label=r'Ridge; $\\alpha = 100$') \n",
    "plt.plot(lassoregressor.coef_.ravel(), alpha=0.4, linestyle='none', marker='o', markersize=7,\n",
    "         color='green', label='Linear Regression')\n",
    "plt.xlabel('Coefficient Index', fontsize=14)\n",
    "plt.ylabel('Coefficient Magnitude', fontsize=14)\n",
    "plt.legend(fontsize=13, loc=4)\n",
    "plt.xticks(range(0, len(columns_list)), columns_list)\n",
    "plt.show()"
   ]
  },
  {
   "cell_type": "markdown",
   "id": "134ce19d",
   "metadata": {},
   "source": [
    "# Recap of outputs using these methods\n",
    "\n",
    "TODO...\n",
    "example - things to try that will improve the model, such as including additional data e.g. tying Census data to postal code."
   ]
  },
  {
   "cell_type": "markdown",
   "id": "e370a6b3",
   "metadata": {},
   "source": [
    "---"
   ]
  },
  {
   "cell_type": "markdown",
   "id": "c0e31597",
   "metadata": {},
   "source": [
    "# VIF\n",
    "\n",
    "A simple method to detect multicollinearity in a model is by using something called the variance inflation factor or the VIF for each predicting variable.\n",
    "\n",
    "VIF measures the ratio between the variance for a given regression coefficient with only that variable in the model versus the variance for a given regression coefficient with all variables in the model.\n",
    "\n",
    "VIF starts at 1 and has no limits. A VIF of 1 (the minimum possible VIF) means the tested predictor is not correlated with the other predictors. A VIF of 1 (the minimum possible VIF) means the tested predictor is not correlated with the other predictors.\n",
    "\n",
    "The higher the VIF:\n",
    "* The more correlated a predictor is with the other predictors\n",
    "* The more the standard error is inflated\n",
    "* The larger the confidence interval\n",
    "* The less likely it is that a coefficient will be evaluated as statistically significant\n",
    "\n",
    "VIF = 1, _no correlation_ beetween independent variables. \n",
    "\n",
    "VIF > 10, _high multicollinearity_ between independent variables."
   ]
  },
  {
   "cell_type": "code",
   "execution_count": 60,
   "id": "374c7fbf",
   "metadata": {},
   "outputs": [
    {
     "data": {
      "text/html": [
       "<div>\n",
       "<style scoped>\n",
       "    .dataframe tbody tr th:only-of-type {\n",
       "        vertical-align: middle;\n",
       "    }\n",
       "\n",
       "    .dataframe tbody tr th {\n",
       "        vertical-align: top;\n",
       "    }\n",
       "\n",
       "    .dataframe thead th {\n",
       "        text-align: right;\n",
       "    }\n",
       "</style>\n",
       "<table border=\"1\" class=\"dataframe\">\n",
       "  <thead>\n",
       "    <tr style=\"text-align: right;\">\n",
       "      <th></th>\n",
       "      <th>feature</th>\n",
       "      <th>VIF</th>\n",
       "    </tr>\n",
       "  </thead>\n",
       "  <tbody>\n",
       "    <tr>\n",
       "      <th>0</th>\n",
       "      <td>Quarter</td>\n",
       "      <td>6.419931</td>\n",
       "    </tr>\n",
       "    <tr>\n",
       "      <th>1</th>\n",
       "      <td>ordDate</td>\n",
       "      <td>152.619860</td>\n",
       "    </tr>\n",
       "    <tr>\n",
       "      <th>2</th>\n",
       "      <td>postalCode</td>\n",
       "      <td>132.900202</td>\n",
       "    </tr>\n",
       "    <tr>\n",
       "      <th>3</th>\n",
       "      <td>bed</td>\n",
       "      <td>31.869893</td>\n",
       "    </tr>\n",
       "    <tr>\n",
       "      <th>4</th>\n",
       "      <td>bath</td>\n",
       "      <td>12.222944</td>\n",
       "    </tr>\n",
       "    <tr>\n",
       "      <th>5</th>\n",
       "      <td>car</td>\n",
       "      <td>9.651596</td>\n",
       "    </tr>\n",
       "    <tr>\n",
       "      <th>6</th>\n",
       "      <td>propType</td>\n",
       "      <td>2.743183</td>\n",
       "    </tr>\n",
       "  </tbody>\n",
       "</table>\n",
       "</div>"
      ],
      "text/plain": [
       "      feature         VIF\n",
       "0     Quarter    6.419931\n",
       "1     ordDate  152.619860\n",
       "2  postalCode  132.900202\n",
       "3         bed   31.869893\n",
       "4        bath   12.222944\n",
       "5         car    9.651596\n",
       "6    propType    2.743183"
      ]
     },
     "execution_count": 60,
     "metadata": {},
     "output_type": "execute_result"
    }
   ],
   "source": [
    "# Create VIF dataframe and calculate VIF for each feature.\n",
    "vif_data = pd.DataFrame()\n",
    "vif_data['feature'] = X.columns.values\n",
    "vif_data['VIF'] = [variance_inflation_factor(X.values, i) for i in range(len(X.columns))]\n",
    "vif_data"
   ]
  },
  {
   "cell_type": "markdown",
   "id": "20eaf4d9",
   "metadata": {},
   "source": [
    "##### From the above, there are several multicollinear features. \n",
    "An additional feature selection step is required, using a custom function to eliminate featuers with high VIF values."
   ]
  },
  {
   "cell_type": "code",
   "execution_count": 61,
   "id": "ac6d71a1",
   "metadata": {},
   "outputs": [],
   "source": [
    "def vif_feature_selection(X, thresh=10):\n",
    "    '''Iterate through the features and calculate their respective values,\n",
    "        continuously dropping the highest VIF features until all the features\n",
    "        have VIF less than the threshold'''\n",
    "    variables = list(range(X.shape[1]))\n",
    "    dropped = True\n",
    "    while dropped:\n",
    "        dropped = False\n",
    "        vif = [variance_inflation_factor(X.iloc[:, variables].values, ix)\n",
    "               for ix in range(X.iloc[:, variables].shape[1])]\n",
    "\n",
    "        maxloc = vif.index(max(vif))\n",
    "        if max(vif) > thresh:\n",
    "            print('dropping {} at index: {}'.format(\n",
    "                X.iloc[:, variables].columns[maxloc], str(maxloc)))\n",
    "            del variables[maxloc]\n",
    "            dropped = True\n",
    "\n",
    "    print('Remaining variables: {}'.format(list(X.columns[variables])))\n",
    "    return X.iloc[:, variables]"
   ]
  },
  {
   "cell_type": "code",
   "execution_count": 62,
   "id": "8c3500d0",
   "metadata": {
    "scrolled": false
   },
   "outputs": [
    {
     "name": "stdout",
     "output_type": "stream",
     "text": [
      "dropping ordDate at index: 1\n",
      "dropping bed at index: 2\n",
      "dropping postalCode at index: 1\n",
      "Remaining variables: ['Quarter', 'bath', 'car', 'propType']\n"
     ]
    }
   ],
   "source": [
    "# Apply the function to the dataframe with independent variables (X) and assign updated values as X.\n",
    "X_vif = vif_feature_selection(X)"
   ]
  },
  {
   "cell_type": "code",
   "execution_count": 63,
   "id": "7412291a",
   "metadata": {},
   "outputs": [
    {
     "data": {
      "text/html": [
       "<div>\n",
       "<style scoped>\n",
       "    .dataframe tbody tr th:only-of-type {\n",
       "        vertical-align: middle;\n",
       "    }\n",
       "\n",
       "    .dataframe tbody tr th {\n",
       "        vertical-align: top;\n",
       "    }\n",
       "\n",
       "    .dataframe thead th {\n",
       "        text-align: right;\n",
       "    }\n",
       "</style>\n",
       "<table border=\"1\" class=\"dataframe\">\n",
       "  <thead>\n",
       "    <tr style=\"text-align: right;\">\n",
       "      <th></th>\n",
       "      <th>Quarter</th>\n",
       "      <th>bath</th>\n",
       "      <th>car</th>\n",
       "      <th>propType</th>\n",
       "    </tr>\n",
       "  </thead>\n",
       "  <tbody>\n",
       "    <tr>\n",
       "      <th>0</th>\n",
       "      <td>2</td>\n",
       "      <td>2</td>\n",
       "      <td>2.0</td>\n",
       "      <td>1</td>\n",
       "    </tr>\n",
       "    <tr>\n",
       "      <th>1</th>\n",
       "      <td>2</td>\n",
       "      <td>1</td>\n",
       "      <td>2.0</td>\n",
       "      <td>1</td>\n",
       "    </tr>\n",
       "    <tr>\n",
       "      <th>2</th>\n",
       "      <td>2</td>\n",
       "      <td>2</td>\n",
       "      <td>2.0</td>\n",
       "      <td>1</td>\n",
       "    </tr>\n",
       "    <tr>\n",
       "      <th>3</th>\n",
       "      <td>2</td>\n",
       "      <td>1</td>\n",
       "      <td>2.0</td>\n",
       "      <td>1</td>\n",
       "    </tr>\n",
       "    <tr>\n",
       "      <th>4</th>\n",
       "      <td>2</td>\n",
       "      <td>1</td>\n",
       "      <td>2.0</td>\n",
       "      <td>1</td>\n",
       "    </tr>\n",
       "  </tbody>\n",
       "</table>\n",
       "</div>"
      ],
      "text/plain": [
       "   Quarter  bath  car  propType\n",
       "0        2     2  2.0         1\n",
       "1        2     1  2.0         1\n",
       "2        2     2  2.0         1\n",
       "3        2     1  2.0         1\n",
       "4        2     1  2.0         1"
      ]
     },
     "execution_count": 63,
     "metadata": {},
     "output_type": "execute_result"
    }
   ],
   "source": [
    "X_vif.head(5)"
   ]
  },
  {
   "cell_type": "markdown",
   "id": "d648d158",
   "metadata": {},
   "source": [
    "##### From the above, the remaining variables are not multicollinear."
   ]
  },
  {
   "cell_type": "markdown",
   "id": "8ec9d9cf",
   "metadata": {},
   "source": [
    "# Regression on Full data using OLS model"
   ]
  },
  {
   "cell_type": "code",
   "execution_count": 64,
   "id": "bf623380",
   "metadata": {},
   "outputs": [],
   "source": [
    "Regression = sm.OLS(endog=y, exog=X_vif).fit()"
   ]
  },
  {
   "cell_type": "code",
   "execution_count": 65,
   "id": "2fd23b5c",
   "metadata": {},
   "outputs": [
    {
     "name": "stdout",
     "output_type": "stream",
     "text": [
      "                                 OLS Regression Results                                \n",
      "=======================================================================================\n",
      "Dep. Variable:                      y   R-squared (uncentered):                   0.835\n",
      "Model:                            OLS   Adj. R-squared (uncentered):              0.835\n",
      "Method:                 Least Squares   F-statistic:                          2.128e+05\n",
      "Date:                Fri, 12 Nov 2021   Prob (F-statistic):                        0.00\n",
      "Time:                        10:12:44   Log-Likelihood:                     -2.4351e+06\n",
      "No. Observations:              168333   AIC:                                  4.870e+06\n",
      "Df Residuals:                  168329   BIC:                                  4.870e+06\n",
      "Df Model:                           4                                                  \n",
      "Covariance Type:            nonrobust                                                  \n",
      "==============================================================================\n",
      "                 coef    std err          t      P>|t|      [0.025      0.975]\n",
      "------------------------------------------------------------------------------\n",
      "Quarter     8.821e+04    859.223    102.662      0.000    8.65e+04    8.99e+04\n",
      "bath        3.004e+05   1599.779    187.793      0.000    2.97e+05    3.04e+05\n",
      "car         1.767e+05   1730.261    102.144      0.000    1.73e+05     1.8e+05\n",
      "propType   -2.473e+04    955.152    -25.896      0.000   -2.66e+04   -2.29e+04\n",
      "==============================================================================\n",
      "Omnibus:                    10886.944   Durbin-Watson:                   0.690\n",
      "Prob(Omnibus):                  0.000   Jarque-Bera (JB):            13121.028\n",
      "Skew:                           0.665   Prob(JB):                         0.00\n",
      "Kurtosis:                       3.320   Cond. No.                         7.38\n",
      "==============================================================================\n",
      "\n",
      "Notes:\n",
      "[1] R² is computed without centering (uncentered) since the model does not contain a constant.\n",
      "[2] Standard Errors assume that the covariance matrix of the errors is correctly specified.\n"
     ]
    }
   ],
   "source": [
    "print(Regression.summary())"
   ]
  },
  {
   "cell_type": "markdown",
   "id": "e46cd9fa",
   "metadata": {},
   "source": [
    "# Recap of outputs using this method\n",
    "TODO..."
   ]
  },
  {
   "cell_type": "markdown",
   "id": "2c526e8c",
   "metadata": {},
   "source": [
    "# Overall takeaways\n",
    "TODO..."
   ]
  },
  {
   "cell_type": "markdown",
   "id": "06dc0d92",
   "metadata": {},
   "source": [
    "# To read more on lasso and ridge regression.\n",
    "https://towardsdatascience.com/ridge-and-lasso-regression-a-complete-guide-with-python-scikit-learn-e20e34bcbf0b"
   ]
  }
 ],
 "metadata": {
  "kernelspec": {
   "display_name": "Python 3 (ipykernel)",
   "language": "python",
   "name": "python3"
  },
  "language_info": {
   "codemirror_mode": {
    "name": "ipython",
    "version": 3
   },
   "file_extension": ".py",
   "mimetype": "text/x-python",
   "name": "python",
   "nbconvert_exporter": "python",
   "pygments_lexer": "ipython3",
   "version": "3.8.12"
  }
 },
 "nbformat": 4,
 "nbformat_minor": 5
}
