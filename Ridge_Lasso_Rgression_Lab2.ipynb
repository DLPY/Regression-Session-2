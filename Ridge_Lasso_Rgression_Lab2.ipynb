{
  "nbformat": 4,
  "nbformat_minor": 5,
  "metadata": {
    "kernelspec": {
      "display_name": "Python 3 (ipykernel)",
      "language": "python",
      "name": "python3"
    },
    "language_info": {
      "codemirror_mode": {
        "name": "ipython",
        "version": 3
      },
      "file_extension": ".py",
      "mimetype": "text/x-python",
      "name": "python",
      "nbconvert_exporter": "python",
      "pygments_lexer": "ipython3",
      "version": "3.8.12"
    },
    "colab": {
      "name": "Ridge_Lasso_Rgression_Lab2.ipynb",
      "provenance": [],
      "include_colab_link": true
    }
  },
  "cells": [
    {
      "cell_type": "markdown",
      "metadata": {
        "id": "view-in-github",
        "colab_type": "text"
      },
      "source": [
        "<a href=\"https://colab.research.google.com/github/DLPY/Regression-Session-2/blob/master/Ridge_Lasso_Rgression_Lab2.ipynb\" target=\"_parent\"><img src=\"https://colab.research.google.com/assets/colab-badge.svg\" alt=\"Open In Colab\"/></a>"
      ]
    },
    {
      "cell_type": "markdown",
      "metadata": {
        "id": "52c63234"
      },
      "source": [
        "Open In Colab\n",
        "\n",
        "# House Price Prediction based on Postal Code, Number of Bathrooms, Car Parking and Property Type\n",
        "\n",
        "Detail on Data: https://www.kaggle.com/mihirhalai/sydney-house-prices"
      ],
      "id": "52c63234"
    },
    {
      "cell_type": "markdown",
      "metadata": {
        "id": "753a385d"
      },
      "source": [
        "# Download source data from Github\n",
        "!wget https://raw.githubusercontent.com/DLPY/Regression-Session-2/master/Data/SydneyHousePrices.csv"
      ],
      "id": "753a385d"
    },
    {
      "cell_type": "markdown",
      "metadata": {
        "id": "216821bb"
      },
      "source": [
        "# Import necessary packages for performing EDA and Multiple Regression"
      ],
      "id": "216821bb"
    },
    {
      "cell_type": "code",
      "metadata": {
        "id": "a9571271"
      },
      "source": [
        "import datetime as dt\n",
        "import matplotlib.pyplot as plt\n",
        "import pandas as pd\n",
        "import numpy as np \n",
        "import seaborn as sns\n",
        "from sklearn.preprocessing import (LabelEncoder, OneHotEncoder, StandardScaler)\n",
        "from sklearn.model_selection import train_test_split\n",
        "from sklearn.linear_model import (LinearRegression, Ridge, Lasso)\n",
        "from sklearn.metrics import (r2_score, mean_squared_error)\n",
        "import statsmodels.api as sm\n",
        "from statsmodels.stats.outliers_influence import variance_inflation_factor\n",
        "\n",
        "%matplotlib inline\n",
        "\n",
        "pd.set_option('display.max_colwidth', None)\n",
        "\n",
        "!wget https://raw.githubusercontent.com/DLPY/Regression-Session-2/master/Data/SydneyHousePrices.csv"
      ],
      "id": "a9571271",
      "execution_count": null,
      "outputs": []
    },
    {
      "cell_type": "markdown",
      "metadata": {
        "id": "1ce79faf"
      },
      "source": [
        "# Read data from csv file into Pandas dataframe"
      ],
      "id": "1ce79faf"
    },
    {
      "cell_type": "code",
      "metadata": {
        "id": "d2cd32fb"
      },
      "source": [
        "df = pd.read_csv('SydneyHousePrices.csv')\n",
        "# df = pd.read_csv('SydneyHousePrices.csv')"
      ],
      "id": "d2cd32fb",
      "execution_count": null,
      "outputs": []
    },
    {
      "cell_type": "markdown",
      "metadata": {
        "id": "7fcd9f40"
      },
      "source": [
        "# Exploratory Data Analysis (EDA)\n",
        "Perform data analysis, cleaning and transformation."
      ],
      "id": "7fcd9f40"
    },
    {
      "cell_type": "markdown",
      "metadata": {
        "id": "4d735c57"
      },
      "source": [
        "## Data Analysis"
      ],
      "id": "4d735c57"
    },
    {
      "cell_type": "code",
      "metadata": {
        "id": "be8dfbcc"
      },
      "source": [
        "# Display the count of rows and columns.\n",
        "df.shape"
      ],
      "id": "be8dfbcc",
      "execution_count": null,
      "outputs": []
    },
    {
      "cell_type": "code",
      "metadata": {
        "id": "bc21c34c"
      },
      "source": [
        "# Review a small sample of the data.\n",
        "df.head(5)"
      ],
      "id": "bc21c34c",
      "execution_count": null,
      "outputs": []
    },
    {
      "cell_type": "code",
      "metadata": {
        "scrolled": false,
        "id": "2fb5431c"
      },
      "source": [
        "# Review the data types.\n",
        "df.dtypes"
      ],
      "id": "2fb5431c",
      "execution_count": null,
      "outputs": []
    },
    {
      "cell_type": "markdown",
      "metadata": {
        "id": "932eded3"
      },
      "source": [
        "##### From the above, notice the different types of data: integer (int64), float (float64), and text (object).\n",
        "---"
      ],
      "id": "932eded3"
    },
    {
      "cell_type": "markdown",
      "metadata": {
        "id": "1b923a89"
      },
      "source": [
        "### Review the date range.\n",
        "\n",
        "Additional date-aggregation functions become available when the data type is converted to date format.  \n",
        "\n",
        "The data type for date range is currently text, which is okay for now."
      ],
      "id": "1b923a89"
    },
    {
      "cell_type": "code",
      "metadata": {
        "id": "6479d9d1"
      },
      "source": [
        "print('Date ranges from {} to {}'.format(df.Date.min(), df.Date.max()))"
      ],
      "id": "6479d9d1",
      "execution_count": null,
      "outputs": []
    },
    {
      "cell_type": "markdown",
      "metadata": {
        "id": "e3c8071f"
      },
      "source": [
        "### Review descriptive statistics of the numerical data."
      ],
      "id": "e3c8071f"
    },
    {
      "cell_type": "code",
      "metadata": {
        "id": "c2826d07"
      },
      "source": [
        "round(df.describe(), 2)"
      ],
      "id": "c2826d07",
      "execution_count": null,
      "outputs": []
    },
    {
      "cell_type": "markdown",
      "metadata": {
        "id": "c17394d6"
      },
      "source": [
        "##### From the above max (bed & bath) and min (sellPrice) - It shows the dataset has outliers that need to be removed.\n",
        "---"
      ],
      "id": "c17394d6"
    },
    {
      "cell_type": "code",
      "metadata": {
        "id": "2823c547"
      },
      "source": [
        "# Detailed overview of the dataframe itself.\n",
        "df.info()"
      ],
      "id": "2823c547",
      "execution_count": null,
      "outputs": []
    },
    {
      "cell_type": "markdown",
      "metadata": {
        "id": "53dc877e"
      },
      "source": [
        "##### From the above, notice that the Non-Null Count values are different for bed and car.\n",
        "---"
      ],
      "id": "53dc877e"
    },
    {
      "cell_type": "markdown",
      "metadata": {
        "id": "57f713f1"
      },
      "source": [
        "## Data Cleaning"
      ],
      "id": "57f713f1"
    },
    {
      "cell_type": "markdown",
      "metadata": {
        "id": "27cfda73"
      },
      "source": [
        "### Explore the missing values"
      ],
      "id": "27cfda73"
    },
    {
      "cell_type": "markdown",
      "metadata": {
        "id": "7f70ef07"
      },
      "source": [
        "Review the count of non-null values for each column.  These need to be filled in prior to modelling."
      ],
      "id": "7f70ef07"
    },
    {
      "cell_type": "code",
      "metadata": {
        "id": "7aacca80"
      },
      "source": [
        "df.isnull().sum()"
      ],
      "id": "7aacca80",
      "execution_count": null,
      "outputs": []
    },
    {
      "cell_type": "markdown",
      "metadata": {
        "id": "467320b8"
      },
      "source": [
        "### Aggregate the missing values by date\n",
        "Combining the method from above with the dataframe's groupby method to group missing car/bed values by date.\n",
        "\n",
        "Plotting the output with the dataframe's plot method to see if there are any pockets of missing data."
      ],
      "id": "467320b8"
    },
    {
      "cell_type": "code",
      "metadata": {
        "scrolled": true,
        "id": "ff2efe61"
      },
      "source": [
        "df.groupby(['Date'])['car'].apply(lambda x: x.isnull().sum()).plot()"
      ],
      "id": "ff2efe61",
      "execution_count": null,
      "outputs": []
    },
    {
      "cell_type": "code",
      "metadata": {
        "scrolled": true,
        "id": "16a50850"
      },
      "source": [
        "df.groupby(['Date'])['bed'].apply(lambda x: x.isnull().sum()).plot()"
      ],
      "id": "16a50850",
      "execution_count": null,
      "outputs": []
    },
    {
      "cell_type": "markdown",
      "metadata": {
        "id": "f72153f0"
      },
      "source": [
        "### Fill in the missing values\n",
        "Assuming that houses in a particular area have a similar bath count, missing values can be filled in by:\n",
        " 1. Grouping postal code and bath.\n",
        " 2. Calculating the median value of bed and car for each of these groups.\n",
        " 3. Filling in the missing values with the median count of each group."
      ],
      "id": "f72153f0"
    },
    {
      "cell_type": "code",
      "metadata": {
        "scrolled": true,
        "id": "7904706d"
      },
      "source": [
        "df['bed'].fillna(df.groupby(['postalCode', 'bath'])['bed'].transform('median'), inplace=True)"
      ],
      "id": "7904706d",
      "execution_count": null,
      "outputs": []
    },
    {
      "cell_type": "code",
      "metadata": {
        "id": "c2b668ff"
      },
      "source": [
        "df['car'].fillna(df.groupby(['postalCode', 'bath'])['car'].transform('median'), inplace=True)"
      ],
      "id": "c2b668ff",
      "execution_count": null,
      "outputs": []
    },
    {
      "cell_type": "markdown",
      "metadata": {
        "id": "53a4c27c"
      },
      "source": [
        "### Remove outliers in the data\n",
        "Using a function that removes the outliers from each column on the list, loop through a list of specific columns that were identified earlier in the EDA as having outliers.\n",
        "\n",
        "The resulting dataframe does not contain any outliers."
      ],
      "id": "53a4c27c"
    },
    {
      "cell_type": "code",
      "metadata": {
        "id": "a77256ef"
      },
      "source": [
        "def remove_outlier(df_in, col_name):\n",
        "    '''Removes outliers from a specified column of a dataframe using IQR and returns an updated dataframe.'''\n",
        "    q1 = df_in[col_name].quantile(0.25)\n",
        "    q3 = df_in[col_name].quantile(0.75)\n",
        "    iqr = q3 - q1 #Interquartile range\n",
        "    fence_low  = q1 - 1.5 * iqr\n",
        "    fence_high = q3 + 1.5 * iqr\n",
        "    df_out = df_in.loc[(df_in[col_name] > fence_low) & (df_in[col_name] < fence_high)]\n",
        "    return df_out"
      ],
      "id": "a77256ef",
      "execution_count": null,
      "outputs": []
    },
    {
      "cell_type": "code",
      "metadata": {
        "id": "a7cd4d4d"
      },
      "source": [
        "outliers = ['bath', 'sellPrice', 'car', 'bed']\n",
        "\n",
        "for outlier in outliers:\n",
        "    df = remove_outlier(df, outlier).reset_index(drop=True)"
      ],
      "id": "a7cd4d4d",
      "execution_count": null,
      "outputs": []
    },
    {
      "cell_type": "markdown",
      "metadata": {
        "id": "94eb4814"
      },
      "source": [
        "## Transformation"
      ],
      "id": "94eb4814"
    },
    {
      "cell_type": "markdown",
      "metadata": {
        "id": "66649c21"
      },
      "source": [
        "The model must include some date related features in order to make better predictions.\n",
        "\n",
        "New features can be created using the purchase dates.\n",
        "\n",
        " * Recent house prices are typically different from historic prices.\n",
        "   - The date range of the model should be fairly recent, so date can be filtered to only include three years of the most recent data.\n",
        " * House prices tend to move slowly, on a monthly basis. \n",
        "   - A 'diffDate' feature can be created by calculating the difference of sale date and most recent date within the data.\n",
        " * There may be annual seasonality associated with house purchases.\n",
        "   - A 'Quarter' feature can be created that bins the dates by annual quarter."
      ],
      "id": "66649c21"
    },
    {
      "cell_type": "markdown",
      "metadata": {
        "id": "e26014b1"
      },
      "source": [
        "### Transform dates for analysis of sales type prices of property types by year, month."
      ],
      "id": "e26014b1"
    },
    {
      "cell_type": "code",
      "metadata": {
        "id": "88564fb3"
      },
      "source": [
        "# Convert the 'Date' datatype to datetime so that Pandas date functions become available.\n",
        "df['Date'] = pd.to_datetime(df['Date'])"
      ],
      "id": "88564fb3",
      "execution_count": null,
      "outputs": []
    },
    {
      "cell_type": "code",
      "metadata": {
        "id": "1cb19518"
      },
      "source": [
        "# Get the maximum purchase date.\n",
        "max_date = df['Date'].max()\n",
        "max_date"
      ],
      "id": "1cb19518",
      "execution_count": null,
      "outputs": []
    },
    {
      "cell_type": "code",
      "metadata": {
        "id": "4931ee5a"
      },
      "source": [
        "# Filter the dataframe so that the most recent data is available, three years in this case.\n",
        "df = df[df['Date'] >= (max_date - np.timedelta64(3, 'Y'))]"
      ],
      "id": "4931ee5a",
      "execution_count": null,
      "outputs": []
    },
    {
      "cell_type": "code",
      "metadata": {
        "id": "4f501401"
      },
      "source": [
        "df.shape"
      ],
      "id": "4f501401",
      "execution_count": null,
      "outputs": []
    },
    {
      "cell_type": "code",
      "metadata": {
        "id": "a4519468"
      },
      "source": [
        "# Create the 'diffDate' feature.\n",
        "df['diffDate'] = df['Date'].apply(lambda x: max_date - x)"
      ],
      "id": "a4519468",
      "execution_count": null,
      "outputs": []
    },
    {
      "cell_type": "code",
      "metadata": {
        "id": "3b262e46"
      },
      "source": [
        "# Alter 'diffDate' so that it captures the timeframe values as months.\n",
        "df['diffDate'] = df['diffDate'] / np.timedelta64(1, 'M')"
      ],
      "id": "3b262e46",
      "execution_count": null,
      "outputs": []
    },
    {
      "cell_type": "code",
      "metadata": {
        "id": "5597273a"
      },
      "source": [
        "# Alter 'diffDate' so that monthly values are ints, not floats. Floats would be equivalent to weekly values, too granular.\n",
        "df['diffDate'] = df['diffDate'].astype(int)"
      ],
      "id": "5597273a",
      "execution_count": null,
      "outputs": []
    },
    {
      "cell_type": "code",
      "metadata": {
        "id": "0d5c69bb"
      },
      "source": [
        "# The Pandas date type allows the date to be split in various ways: year, month, day, quarter.\n",
        "df['Year'] = df['Date'].dt.year\n",
        "df['Month'] = df['Date'].dt.month\n",
        "df['Day'] = df['Date'].dt.day\n",
        "df['Quarter'] = df['Date'].dt.quarter"
      ],
      "id": "0d5c69bb",
      "execution_count": null,
      "outputs": []
    },
    {
      "cell_type": "code",
      "metadata": {
        "id": "eb7198a9"
      },
      "source": [
        "# Plotting sellPrice by year and month.\n",
        "fig, ax = plt.subplots(nrows=4, ncols=1, figsize=(15, 12))\n",
        "sns.pointplot(data=df, x='Year', y='sellPrice', hue='propType', ax=ax[0], ci=None)\n",
        "sns.pointplot(data=df, x='Month', y='sellPrice', hue='propType', ax=ax[1], ci=None)\n",
        "sns.pointplot(data=df, x='Day', y='sellPrice', hue='propType', ax=ax[2], ci=None)\n",
        "sns.pointplot(data=df, x='Quarter', y='sellPrice', hue='propType', ax=ax[3], ci=None)"
      ],
      "id": "eb7198a9",
      "execution_count": null,
      "outputs": []
    },
    {
      "cell_type": "markdown",
      "metadata": {
        "id": "36669865"
      },
      "source": [
        "##### From the above, notice the overall seasonal and annual trends of each property type.\n",
        "---"
      ],
      "id": "36669865"
    },
    {
      "cell_type": "markdown",
      "metadata": {
        "id": "2b9acd0c"
      },
      "source": [
        "Create a new dataframe that captures the median sale price value of similar sized property types within each postal code and suburb."
      ],
      "id": "2b9acd0c"
    },
    {
      "cell_type": "code",
      "metadata": {
        "id": "bc6b3726"
      },
      "source": [
        "medSellPrice = df.groupby(['postalCode', 'suburb', 'bath', 'car', 'bed'])['sellPrice'].apply(lambda x: x.median()).reset_index()"
      ],
      "id": "bc6b3726",
      "execution_count": null,
      "outputs": []
    },
    {
      "cell_type": "code",
      "metadata": {
        "id": "638b56b7"
      },
      "source": [
        "# Rename the column as 'medSellPrice'\n",
        "medSellPrice = medSellPrice.rename(columns={'sellPrice': 'medSellPrice'})\n",
        "medSellPrice[:5]"
      ],
      "id": "638b56b7",
      "execution_count": null,
      "outputs": []
    },
    {
      "cell_type": "markdown",
      "metadata": {
        "id": "cc6d15e9"
      },
      "source": [
        "##### From the above, notice the median sale price for each property size are different even when the postal code and suburb are the same.\n",
        "---"
      ],
      "id": "cc6d15e9"
    },
    {
      "cell_type": "code",
      "metadata": {
        "id": "e17e8528"
      },
      "source": [
        "# Merge the dataframes based on property similarity, postalCode and sellPrice\n",
        "df = pd.merge(df, medSellPrice, how='outer', on=['postalCode', 'suburb', 'bath', 'car', 'bed'])"
      ],
      "id": "e17e8528",
      "execution_count": null,
      "outputs": []
    },
    {
      "cell_type": "code",
      "metadata": {
        "scrolled": true,
        "id": "42cb3e7e"
      },
      "source": [
        "df.head()"
      ],
      "id": "42cb3e7e",
      "execution_count": null,
      "outputs": []
    },
    {
      "cell_type": "markdown",
      "metadata": {
        "id": "737d1d98"
      },
      "source": [
        "### Encoding the categorical variables - Change the text into numbers"
      ],
      "id": "737d1d98"
    },
    {
      "cell_type": "markdown",
      "metadata": {
        "id": "d78d4223"
      },
      "source": [
        "Review the unique values within property type."
      ],
      "id": "d78d4223"
    },
    {
      "cell_type": "code",
      "metadata": {
        "scrolled": true,
        "id": "eaaca23d"
      },
      "source": [
        "df.propType.unique()"
      ],
      "id": "eaaca23d",
      "execution_count": null,
      "outputs": []
    },
    {
      "cell_type": "code",
      "metadata": {
        "id": "2b4fc3a3"
      },
      "source": [
        "# Drop warehouse, acreage, and other property types in order to focus specifically on housing data.\n",
        "df = df.drop(df[(df.propType == 'warehouse') | (df.propType == 'acreage') | (df.propType == 'other')].index)"
      ],
      "id": "2b4fc3a3",
      "execution_count": null,
      "outputs": []
    },
    {
      "cell_type": "markdown",
      "metadata": {
        "id": "3d33d40e"
      },
      "source": [
        "Convert the property type values into numeric categorical labels so that this data can be used in the model."
      ],
      "id": "3d33d40e"
    },
    {
      "cell_type": "code",
      "metadata": {
        "scrolled": true,
        "id": "df5e60d3"
      },
      "source": [
        "df['propType'] = df['propType'].astype('category').cat.codes"
      ],
      "id": "df5e60d3",
      "execution_count": null,
      "outputs": []
    },
    {
      "cell_type": "code",
      "metadata": {
        "scrolled": true,
        "id": "6933fe4e"
      },
      "source": [
        "df.head(5)"
      ],
      "id": "6933fe4e",
      "execution_count": null,
      "outputs": []
    },
    {
      "cell_type": "markdown",
      "metadata": {
        "id": "d4b74cb9"
      },
      "source": [
        "##### From the above, notice that:\n",
        " * diffDate is a numeric value representing the approximate count of months from sale date to July 6, 2019, (the max date in the data).\n",
        " * The original date column has been split into new columns: Year, Month, Day, Quarter, diffDate, and medSellPrice.\n",
        " * The propType categories have been converted to a numeric value. Warehouse, acreage, and other property types have been removed to specifically focus on housing.\n",
        " ---"
      ],
      "id": "d4b74cb9"
    },
    {
      "cell_type": "markdown",
      "metadata": {
        "id": "08390182"
      },
      "source": [
        "### Quick review - columns that are not useful and need to be dropped:\n",
        "* **Date** - diffDate will be used instead.\n",
        "* **Id** - This is simply a row number of the data.\n",
        "* **suburb** - postalCode will be used instead because it is a more generalised representation of locality.\n",
        "* **Year, Month, Day** - Quarter will be used because it is a more generalised representations of Date. "
      ],
      "id": "08390182"
    },
    {
      "cell_type": "markdown",
      "metadata": {
        "id": "151d7fd5"
      },
      "source": [
        "# Choosing predictors and target variables for performing Multiple Regression\n",
        "**Target and Source variables**\n",
        "\n",
        "* **Target Variable:** sellingPrice\n",
        "* **Predictor Variables:** ordDate, postalCode, bed, bath, car, propType"
      ],
      "id": "151d7fd5"
    },
    {
      "cell_type": "markdown",
      "metadata": {
        "id": "710b767d"
      },
      "source": [
        "### Create a new dataframe that includes only the selected columns"
      ],
      "id": "710b767d"
    },
    {
      "cell_type": "code",
      "metadata": {
        "id": "1d65256c"
      },
      "source": [
        "df_new = df[['Quarter', 'diffDate', 'medSellPrice', 'postalCode', 'bed', 'bath', 'car', 'propType', 'sellPrice']]"
      ],
      "id": "1d65256c",
      "execution_count": null,
      "outputs": []
    },
    {
      "cell_type": "code",
      "metadata": {
        "id": "805d5606"
      },
      "source": [
        "df_new.head(5)"
      ],
      "id": "805d5606",
      "execution_count": null,
      "outputs": []
    },
    {
      "cell_type": "markdown",
      "metadata": {
        "id": "6c139586"
      },
      "source": [
        "# Investigate correlation in the new dataframe."
      ],
      "id": "6c139586"
    },
    {
      "cell_type": "markdown",
      "metadata": {
        "id": "7749e097"
      },
      "source": [
        "Pandas has a built-in correlation function."
      ],
      "id": "7749e097"
    },
    {
      "cell_type": "code",
      "metadata": {
        "id": "6378bc47"
      },
      "source": [
        "corr = df_new.corr()"
      ],
      "id": "6378bc47",
      "execution_count": null,
      "outputs": []
    },
    {
      "cell_type": "code",
      "metadata": {
        "id": "bae30820"
      },
      "source": [
        "# View the correlations within the dataframe.\n",
        "corr"
      ],
      "id": "bae30820",
      "execution_count": null,
      "outputs": []
    },
    {
      "cell_type": "markdown",
      "metadata": {
        "id": "a0253aaa"
      },
      "source": [
        "Create a heatmap chart of the correlations, using a mask to hide redundant information and correct aspect ratio to ensure proper spacing of the chart."
      ],
      "id": "a0253aaa"
    },
    {
      "cell_type": "code",
      "metadata": {
        "id": "36097e9f"
      },
      "source": [
        "mask = np.zeros_like(corr, dtype=bool)\n",
        "mask[np.triu_indices_from(mask)] = True\n",
        "cmap = sns.diverging_palette(10, 250, as_cmap=True)\n",
        "f, ax = plt.subplots(figsize=(11, 9))\n",
        "sns.heatmap(corr, mask=mask, cmap=cmap, square=True,\n",
        "            linewidths=0.2, cbar_kws={'shrink': 0.5}, ax=ax, annot=True)"
      ],
      "id": "36097e9f",
      "execution_count": null,
      "outputs": []
    },
    {
      "cell_type": "markdown",
      "metadata": {
        "id": "f1a44e37"
      },
      "source": [
        "##### From the above; notice the medium correlation of bed and bath, the negative medium correlation of postCode and sellPrice.  \n",
        "\n",
        "Multicollinearity has a negative impact on multiple regression models.  The steps for overcoming multicollinearity are different for the chosen model.\n",
        "\n",
        "* **Training a model and testing on unseen data:** standardize the features.\n",
        "* **Multiple Regression on entire data set:** a variance inflation factor (VIF) analysis will be used for feature selection.\n",
        "\n",
        "Either way, the target and predictor variables must be split into different dataframes prior to modelling."
      ],
      "id": "f1a44e37"
    },
    {
      "cell_type": "markdown",
      "metadata": {
        "id": "b140f87d"
      },
      "source": [
        "# Isolate Target and Predictor Variables to Different Dataframes"
      ],
      "id": "b140f87d"
    },
    {
      "cell_type": "code",
      "metadata": {
        "id": "6bb2efcf"
      },
      "source": [
        "X = df_new[['Quarter', 'diffDate', 'medSellPrice', 'postalCode', 'bed', 'bath', 'car', 'propType']]\n",
        "y = df_new[['sellPrice']]\n",
        "\n",
        "# Save this list of column values for later\n",
        "columns_list = list(X.columns.values)"
      ],
      "id": "6bb2efcf",
      "execution_count": null,
      "outputs": []
    },
    {
      "cell_type": "code",
      "metadata": {
        "id": "b54019e7"
      },
      "source": [
        "X.head(5)"
      ],
      "id": "b54019e7",
      "execution_count": null,
      "outputs": []
    },
    {
      "cell_type": "code",
      "metadata": {
        "scrolled": true,
        "id": "bfb8e65d"
      },
      "source": [
        "y.head(5)"
      ],
      "id": "bfb8e65d",
      "execution_count": null,
      "outputs": []
    },
    {
      "cell_type": "markdown",
      "metadata": {
        "id": "ddd1f009"
      },
      "source": [
        "# Standardise Features\n",
        "\n",
        "Because in linear regression the value of the coefficients is partially determined by the scale of the feature, and in regularized models all coefficients are summed together, the features must be standardised prior to training.\n",
        "\n",
        "The approach to standardising features is removing the mean and scale to unit variance.\n",
        "\n",
        "The standard score of a sample x is calculated as:\n",
        "\n",
        "    z = (x - u) / s\n",
        "\n",
        "where _u_ is the mean of the training samples and _s_ is the standard deviation of the training samples."
      ],
      "id": "ddd1f009"
    },
    {
      "cell_type": "code",
      "metadata": {
        "id": "fb3272e6"
      },
      "source": [
        "scaler = StandardScaler()\n",
        "X_std = scaler.fit_transform(X)"
      ],
      "id": "fb3272e6",
      "execution_count": null,
      "outputs": []
    },
    {
      "cell_type": "code",
      "metadata": {
        "id": "b087ad41"
      },
      "source": [
        "# The scaled values are now stored as an array.\n",
        "X_std[: 5]"
      ],
      "id": "b087ad41",
      "execution_count": null,
      "outputs": []
    },
    {
      "cell_type": "code",
      "metadata": {
        "id": "a6256d53"
      },
      "source": [
        "# X is already an array data type, so y also needs converting (the model expects these as inputs).\n",
        "y = y.values"
      ],
      "id": "a6256d53",
      "execution_count": null,
      "outputs": []
    },
    {
      "cell_type": "markdown",
      "metadata": {
        "id": "90b332d6"
      },
      "source": [
        "# Split dataset into the training and test using train_set_split: \n",
        "\n",
        "90% - train\n",
        "\n",
        "10% - test"
      ],
      "id": "90b332d6"
    },
    {
      "cell_type": "code",
      "metadata": {
        "id": "71ae35df"
      },
      "source": [
        "X_train, X_test, y_train, y_test = train_test_split(X_std, y, test_size=0.1, random_state=23)"
      ],
      "id": "71ae35df",
      "execution_count": null,
      "outputs": []
    },
    {
      "cell_type": "code",
      "metadata": {
        "id": "b3abd11a"
      },
      "source": [
        "print('Training Data:', X_train.shape, y_train.shape)\n",
        "print('Testing Data:', X_test.shape, y_test.shape)"
      ],
      "id": "b3abd11a",
      "execution_count": null,
      "outputs": []
    },
    {
      "cell_type": "markdown",
      "metadata": {
        "id": "bef9dc24"
      },
      "source": [
        "# Train, Test and Predict using ridge and lasso regression models"
      ],
      "id": "bef9dc24"
    },
    {
      "cell_type": "markdown",
      "metadata": {
        "id": "Lb1cmAq_7nbJ"
      },
      "source": [
        "## Multiple Regression"
      ],
      "id": "Lb1cmAq_7nbJ"
    },
    {
      "cell_type": "code",
      "metadata": {
        "id": "6uASbOk37ud5"
      },
      "source": [
        "multipleregressor = LinearRegression()"
      ],
      "id": "6uASbOk37ud5",
      "execution_count": null,
      "outputs": []
    },
    {
      "cell_type": "markdown",
      "metadata": {
        "id": "G7AbEw-CAUMg"
      },
      "source": [
        "Fit the linear regression model to the training set. We use the fit method the arguments of the fit method will be training sets"
      ],
      "id": "G7AbEw-CAUMg"
    },
    {
      "cell_type": "code",
      "metadata": {
        "id": "voSfAxZqACqB"
      },
      "source": [
        "multipleregressor.fit(X_train, y_train)"
      ],
      "id": "voSfAxZqACqB",
      "execution_count": null,
      "outputs": []
    },
    {
      "cell_type": "markdown",
      "metadata": {
        "id": "yQwYbPMCAYGG"
      },
      "source": [
        "Regression Coefficients"
      ],
      "id": "yQwYbPMCAYGG"
    },
    {
      "cell_type": "code",
      "metadata": {
        "id": "CCT6L-5XAZGH"
      },
      "source": [
        "regression_coefficients = pd.DataFrame(multipleregressor.coef_)\n",
        "regression_coefficients.columns = columns_list\n",
        "regression_coefficients"
      ],
      "id": "CCT6L-5XAZGH",
      "execution_count": null,
      "outputs": []
    },
    {
      "cell_type": "markdown",
      "metadata": {
        "id": "90a85f96"
      },
      "source": [
        "### Prediction and Evaluation metrics - How to Calculate R-Square and RMSE"
      ],
      "id": "90a85f96"
    },
    {
      "cell_type": "code",
      "metadata": {
        "id": "EEhdeYkcBE2Q"
      },
      "source": [
        "y_pred = multipleregressor.predict(X_test)\n",
        "\n",
        "print('Multiple Regression results:')\n",
        "coefficient_of_dermination_reg = r2_score(y_test, y_pred)\n",
        "print('R-squared: {}'.format(coefficient_of_dermination_reg))\n",
        "\n",
        "rmse_reg = np.sqrt(mean_squared_error(y_test, y_pred))\n",
        "print('Root Mean Squared Error: {}'.format(rmse_reg))"
      ],
      "id": "EEhdeYkcBE2Q",
      "execution_count": null,
      "outputs": []
    },
    {
      "cell_type": "code",
      "metadata": {
        "id": "Apr6I1j1DtOw"
      },
      "source": [
        "# Displaying Results and Difference in Table \n",
        "res = pd.DataFrame(y_pred, y_test.ravel())\n",
        "res = res.reset_index()\n",
        "res.columns = ['Price', 'Prediction']\n",
        "res['Prediction'] = round(res['Prediction'], 0)\n",
        "res['Difference'] = res['Prediction'] - res['Price']\n",
        "res.head(5)"
      ],
      "id": "Apr6I1j1DtOw",
      "execution_count": null,
      "outputs": []
    },
    {
      "cell_type": "markdown",
      "metadata": {
        "id": "7941b919"
      },
      "source": [
        "## Ridge Regression\n",
        "Create an object called RidgeRegression in the regression class with alpha 0.01"
      ],
      "id": "7941b919"
    },
    {
      "cell_type": "code",
      "metadata": {
        "id": "a7500b90"
      },
      "source": [
        "ridgeregressor = Ridge(alpha=0.01)"
      ],
      "id": "a7500b90",
      "execution_count": null,
      "outputs": []
    },
    {
      "cell_type": "markdown",
      "metadata": {
        "id": "bec8a1d0"
      },
      "source": [
        "Fit the ridge regression model to the training set. We use the fit method the arguments of the fit method will be training sets"
      ],
      "id": "bec8a1d0"
    },
    {
      "cell_type": "code",
      "metadata": {
        "id": "d6fb66f9"
      },
      "source": [
        "ridgeregressor.fit(X_train, y_train)"
      ],
      "id": "d6fb66f9",
      "execution_count": null,
      "outputs": []
    },
    {
      "cell_type": "markdown",
      "metadata": {
        "id": "1346a7e1"
      },
      "source": [
        "Regression Coefficients"
      ],
      "id": "1346a7e1"
    },
    {
      "cell_type": "code",
      "metadata": {
        "id": "65fa1590"
      },
      "source": [
        "ridge_coefficients = pd.DataFrame(ridgeregressor.coef_)\n",
        "ridge_coefficients.columns = columns_list\n",
        "ridge_coefficients"
      ],
      "id": "65fa1590",
      "execution_count": null,
      "outputs": []
    },
    {
      "cell_type": "markdown",
      "metadata": {
        "id": "4636e088"
      },
      "source": [
        "Training set prediction score"
      ],
      "id": "4636e088"
    },
    {
      "cell_type": "code",
      "metadata": {
        "id": "6e15715a"
      },
      "source": [
        "y_pred = ridgeregressor.predict(X_train)"
      ],
      "id": "6e15715a",
      "execution_count": null,
      "outputs": []
    },
    {
      "cell_type": "code",
      "metadata": {
        "id": "4585af57"
      },
      "source": [
        "ridge_train_score = ridgeregressor.score(X_train, y_train)\n",
        "ridge_train_score"
      ],
      "id": "4585af57",
      "execution_count": null,
      "outputs": []
    },
    {
      "cell_type": "markdown",
      "metadata": {
        "id": "a4986645"
      },
      "source": [
        "Training set prediction score"
      ],
      "id": "a4986645"
    },
    {
      "cell_type": "code",
      "metadata": {
        "id": "0d377763"
      },
      "source": [
        "y_pred = ridgeregressor.predict(X_test)"
      ],
      "id": "0d377763",
      "execution_count": null,
      "outputs": []
    },
    {
      "cell_type": "code",
      "metadata": {
        "id": "7de07a9e"
      },
      "source": [
        "ridge_test_score = ridgeregressor.score(X_test, y_test)\n",
        "ridge_test_score"
      ],
      "id": "7de07a9e",
      "execution_count": null,
      "outputs": []
    },
    {
      "cell_type": "markdown",
      "metadata": {
        "id": "db067c91"
      },
      "source": [
        "##### From the above, notice that the results of the test data are slightly better than the results of the training data (higher score is better).\n",
        "This suggests that the model is generalised enough to work well with previously unseen data."
      ],
      "id": "db067c91"
    },
    {
      "cell_type": "markdown",
      "metadata": {
        "id": "16663a90"
      },
      "source": [
        "### Evaluation metrics - How to Calculate R-Square and RMSE"
      ],
      "id": "16663a90"
    },
    {
      "cell_type": "code",
      "metadata": {
        "id": "db5b7355"
      },
      "source": [
        "print('Ridge results:')\n",
        "coefficient_of_dermination_ridge = r2_score(y_test, y_pred)\n",
        "print('R-squared: {}'.format(coefficient_of_dermination_ridge))\n",
        "\n",
        "rmse_ridge = np.sqrt(mean_squared_error(y_test, y_pred))\n",
        "print('Root Mean Squared Error: {}'.format(rmse_ridge))"
      ],
      "id": "db5b7355",
      "execution_count": null,
      "outputs": []
    },
    {
      "cell_type": "markdown",
      "metadata": {
        "id": "7a2cb7b0"
      },
      "source": [
        "##### From the above, notice that the results of the R-Square score are the same as the prediction score on the test set."
      ],
      "id": "7a2cb7b0"
    },
    {
      "cell_type": "code",
      "metadata": {
        "scrolled": true,
        "id": "c6612663"
      },
      "source": [
        "# Displaying Results and Difference in Table \n",
        "res = pd.DataFrame(y_pred, y_test.ravel())\n",
        "res = res.reset_index()\n",
        "res.columns = ['Price', 'Prediction']\n",
        "res['Prediction'] = round(res['Prediction'], 0)\n",
        "res['Difference'] = res['Prediction'] - res['Price']\n",
        "res.head(5)"
      ],
      "id": "c6612663",
      "execution_count": null,
      "outputs": []
    },
    {
      "cell_type": "code",
      "metadata": {
        "id": "60ad0261"
      },
      "source": [
        "res['Difference'].median()"
      ],
      "id": "60ad0261",
      "execution_count": null,
      "outputs": []
    },
    {
      "cell_type": "markdown",
      "metadata": {
        "id": "2e79cccf"
      },
      "source": [
        "## Create an object called RidgeRegression in the regression class with alpha 100"
      ],
      "id": "2e79cccf"
    },
    {
      "cell_type": "code",
      "metadata": {
        "id": "fc0cb1f9"
      },
      "source": [
        "ridgeregressor100 = Ridge(alpha=100)\n",
        "ridgeregressor100.fit(X_train, y_train)"
      ],
      "id": "fc0cb1f9",
      "execution_count": null,
      "outputs": []
    },
    {
      "cell_type": "code",
      "metadata": {
        "id": "6a602fc4"
      },
      "source": [
        "ridge100_coefficients = pd.DataFrame(ridgeregressor100.coef_)\n",
        "ridge100_coefficients.columns = columns_list\n",
        "ridge100_coefficients"
      ],
      "id": "6a602fc4",
      "execution_count": null,
      "outputs": []
    },
    {
      "cell_type": "code",
      "metadata": {
        "id": "ca9dc1e4"
      },
      "source": [
        "print('Ridge100 results:')\n",
        "y_pred = ridgeregressor100.predict(X_test)\n",
        "\n",
        "coefficient_of_dermination_ridge100 = r2_score(y_test, y_pred)\n",
        "print('R-squared:', coefficient_of_dermination_ridge100)\n",
        "\n",
        "rmse_ridge100 = np.sqrt(mean_squared_error(y_test, y_pred))\n",
        "print('Root Mean Squared Error: {}'.format(rmse_ridge100))"
      ],
      "id": "ca9dc1e4",
      "execution_count": null,
      "outputs": []
    },
    {
      "cell_type": "code",
      "metadata": {
        "id": "654b08d2"
      },
      "source": [
        "Ridge_train_score_100 = ridgeregressor100.score(X_train, y_train)\n",
        "Ridge_train_score_100"
      ],
      "id": "654b08d2",
      "execution_count": null,
      "outputs": []
    },
    {
      "cell_type": "code",
      "metadata": {
        "id": "7cd3e8b0"
      },
      "source": [
        "Ridge_test_score_100 = ridgeregressor100.score(X_test, y_test)\n",
        "Ridge_test_score_100"
      ],
      "id": "7cd3e8b0",
      "execution_count": null,
      "outputs": []
    },
    {
      "cell_type": "code",
      "metadata": {
        "id": "44c113f5"
      },
      "source": [
        "# Displaying Results and Difference in Table \n",
        "res = pd.DataFrame(y_pred, y_test.ravel())\n",
        "res = res.reset_index()\n",
        "res.columns = ['Price', 'Prediction']\n",
        "res['Prediction'] = round(res['Prediction'], 0)\n",
        "res['Difference'] = res['Prediction'] - res['Price']\n",
        "res.head(5)"
      ],
      "id": "44c113f5",
      "execution_count": null,
      "outputs": []
    },
    {
      "cell_type": "code",
      "metadata": {
        "id": "959d2e1d"
      },
      "source": [
        "res['Difference'].median()"
      ],
      "id": "959d2e1d",
      "execution_count": null,
      "outputs": []
    },
    {
      "cell_type": "markdown",
      "metadata": {
        "id": "7b23d694"
      },
      "source": [
        "## Create an object called Lasso in the regression class with alpha 1"
      ],
      "id": "7b23d694"
    },
    {
      "cell_type": "code",
      "metadata": {
        "id": "4c9ee05b"
      },
      "source": [
        "# TODO: Should explain here that Python uses the term Alpha..."
      ],
      "id": "4c9ee05b",
      "execution_count": null,
      "outputs": []
    },
    {
      "cell_type": "code",
      "metadata": {
        "id": "f89f9c96"
      },
      "source": [
        "lassoregressor = Lasso(alpha=1, max_iter=10e6)\n",
        "lassoregressor.fit(X_train, y_train)\n",
        "print('Coefficients: ', lassoregressor.coef_)"
      ],
      "id": "f89f9c96",
      "execution_count": null,
      "outputs": []
    },
    {
      "cell_type": "code",
      "metadata": {
        "id": "1d3ef628"
      },
      "source": [
        "lasso_coefficients = pd.DataFrame(lassoregressor.coef_).T\n",
        "lasso_coefficients.columns = columns_list\n",
        "lasso_coefficients"
      ],
      "id": "1d3ef628",
      "execution_count": null,
      "outputs": []
    },
    {
      "cell_type": "code",
      "metadata": {
        "id": "bbce343c"
      },
      "source": [
        "print('Lasso results:')\n",
        "y_pred= lassoregressor.predict(X_test)\n",
        "\n",
        "coefficient_of_dermination_lasso = r2_score(y_test, y_pred)\n",
        "print('R-squared:', coefficient_of_dermination_lasso)\n",
        "\n",
        "rmse_lasso = np.sqrt(mean_squared_error(y_test, y_pred))\n",
        "print('Root Mean Squared Error: {}'.format(rmse_lasso))"
      ],
      "id": "bbce343c",
      "execution_count": null,
      "outputs": []
    },
    {
      "cell_type": "markdown",
      "metadata": {
        "id": "80c934fe"
      },
      "source": [
        "# Comparison of Model Outputs"
      ],
      "id": "80c934fe"
    },
    {
      "cell_type": "code",
      "metadata": {
        "id": "6f73040d"
      },
      "source": [
        "# Append the model coefficient outputs into a single dataframe.\n",
        "df_coeff = ridge_coefficients.append([regression_coefficients,ridge100_coefficients, lasso_coefficients]).reset_index(drop=True)"
      ],
      "id": "6f73040d",
      "execution_count": null,
      "outputs": []
    },
    {
      "cell_type": "code",
      "metadata": {
        "id": "d8a71c73"
      },
      "source": [
        "df_coeff"
      ],
      "id": "d8a71c73",
      "execution_count": null,
      "outputs": []
    },
    {
      "cell_type": "code",
      "metadata": {
        "id": "45cafffe"
      },
      "source": [
        "# Create a list of models, their r-squared and rmse values.\n",
        "model_results = [('multiple regression', coefficient_of_dermination_reg, rmse_reg),\n",
        "                 ('ridge', coefficient_of_dermination_ridge, rmse_ridge),\n",
        "                 ('ridge100', coefficient_of_dermination_ridge100, rmse_ridge100),\n",
        "                 ('lasso', coefficient_of_dermination_lasso, rmse_lasso)]"
      ],
      "id": "45cafffe",
      "execution_count": null,
      "outputs": []
    },
    {
      "cell_type": "code",
      "metadata": {
        "id": "3e391f1b"
      },
      "source": [
        "# Create a dataframe to review the model results.\n",
        "overall_results = pd.DataFrame(model_results, columns=['Model', 'R-Squared', 'RMSE'])"
      ],
      "id": "3e391f1b",
      "execution_count": null,
      "outputs": []
    },
    {
      "cell_type": "code",
      "metadata": {
        "id": "dafad33c"
      },
      "source": [
        "overall_results"
      ],
      "id": "dafad33c",
      "execution_count": null,
      "outputs": []
    },
    {
      "cell_type": "code",
      "metadata": {
        "id": "c8ea0ae3"
      },
      "source": [
        "overall_results.merge(df_coeff, how='outer', left_index=True, right_index=True)"
      ],
      "id": "c8ea0ae3",
      "execution_count": null,
      "outputs": []
    },
    {
      "cell_type": "markdown",
      "metadata": {
        "id": "0e89487f"
      },
      "source": [
        "##### From the above, notice that the overall results are similar. Ridge is the champion model due to the lowest RMSE and highest R-Squared values.\n",
        "---"
      ],
      "id": "0e89487f"
    },
    {
      "cell_type": "markdown",
      "metadata": {
        "id": "2a2088b6"
      },
      "source": [
        "Plotting the coefficients of each model displays that the values of each model's coefficients are also quite similar."
      ],
      "id": "2a2088b6"
    },
    {
      "cell_type": "code",
      "metadata": {
        "id": "719fd7cf"
      },
      "source": [
        "# Note: is this too much information?\n",
        "plt.plot(ridgeregressor.coef_.ravel(), alpha=0.7, linestyle='none', marker='*', markersize=5,\n",
        "         color='red', label=r'Ridge; $\\alpha = 0.01$', zorder=7) \n",
        "plt.plot(ridgeregressor100.coef_.ravel(), alpha=0.5, linestyle='none', marker='d', markersize=6,\n",
        "         color='blue', label=r'Ridge; $\\alpha = 100$') \n",
        "plt.plot(lassoregressor.coef_.ravel(), alpha=0.4, linestyle='none', marker='o', markersize=7,\n",
        "         color='green', label='Lasso Regression')\n",
        "plt.xlabel('Coefficient Index', fontsize=14)\n",
        "plt.ylabel('Coefficient Magnitude', fontsize=14)\n",
        "plt.legend(fontsize=13, loc=1)\n",
        "plt.xticks(range(0, len(columns_list)), columns_list)\n",
        "plt.show()"
      ],
      "id": "719fd7cf",
      "execution_count": null,
      "outputs": []
    },
    {
      "cell_type": "markdown",
      "metadata": {
        "id": "134ce19d"
      },
      "source": [
        "# Recap of outputs using these methods\n",
        "\n",
        "TODO: Recap the model approaches, similarities/differences, and the intent."
      ],
      "id": "134ce19d"
    },
    {
      "cell_type": "markdown",
      "metadata": {
        "id": "e370a6b3"
      },
      "source": [
        "---"
      ],
      "id": "e370a6b3"
    },
    {
      "cell_type": "markdown",
      "metadata": {
        "id": "c0e31597"
      },
      "source": [
        "# VIF\n",
        "\n",
        "A simple method to detect multicollinearity in a model is by using something called the variance inflation factor or the VIF for each predicting variable.\n",
        "\n",
        "VIF measures the ratio between the variance for a given regression coefficient with only that variable in the model versus the variance for a given regression coefficient with all variables in the model.\n",
        "\n",
        "VIF starts at 1 and has no limits. A VIF of 1 (the minimum possible VIF) means the tested predictor is not correlated with the other predictors. A VIF of 1 (the minimum possible VIF) means the tested predictor is not correlated with the other predictors.\n",
        "\n",
        "The higher the VIF:\n",
        "* The more correlated a predictor is with the other predictors\n",
        "* The more the standard error is inflated\n",
        "* The larger the confidence interval\n",
        "* The less likely it is that a coefficient will be evaluated as statistically significant\n",
        "\n",
        "VIF = 1, _no correlation_ beetween independent variables. \n",
        "\n",
        "VIF > 10, _high multicollinearity_ between independent variables."
      ],
      "id": "c0e31597"
    },
    {
      "cell_type": "code",
      "metadata": {
        "id": "374c7fbf"
      },
      "source": [
        "# Create VIF dataframe and calculate VIF for each feature.\n",
        "vif_data = pd.DataFrame()\n",
        "vif_data['feature'] = X.columns.values\n",
        "vif_data['VIF'] = [variance_inflation_factor(X.values, i) for i in range(len(X.columns))]\n",
        "vif_data"
      ],
      "id": "374c7fbf",
      "execution_count": null,
      "outputs": []
    },
    {
      "cell_type": "markdown",
      "metadata": {
        "id": "20eaf4d9"
      },
      "source": [
        "##### From the above, there are several multicollinear features. \n",
        "An additional feature selection step is required, using a custom function to eliminate featuers with high VIF values."
      ],
      "id": "20eaf4d9"
    },
    {
      "cell_type": "code",
      "metadata": {
        "id": "ac6d71a1"
      },
      "source": [
        "def vif_feature_selection(X, thresh=10):\n",
        "    '''Iterate through the features and calculate their respective values,\n",
        "        continuously dropping the highest VIF features until all the features\n",
        "        have VIF less than the threshold'''\n",
        "    variables = list(range(X.shape[1]))\n",
        "    dropped = True\n",
        "    while dropped:\n",
        "        dropped = False\n",
        "        vif = [variance_inflation_factor(X.iloc[:, variables].values, ix)\n",
        "               for ix in range(X.iloc[:, variables].shape[1])]\n",
        "\n",
        "        maxloc = vif.index(max(vif))\n",
        "        if max(vif) > thresh:\n",
        "            print('dropping {} at index: {}'.format(\n",
        "                X.iloc[:, variables].columns[maxloc], str(maxloc)))\n",
        "            del variables[maxloc]\n",
        "            dropped = True\n",
        "\n",
        "    print('Remaining variables: {}'.format(list(X.columns[variables])))\n",
        "    return X.iloc[:, variables]"
      ],
      "id": "ac6d71a1",
      "execution_count": null,
      "outputs": []
    },
    {
      "cell_type": "code",
      "metadata": {
        "scrolled": false,
        "id": "8c3500d0"
      },
      "source": [
        "# Apply the function to the dataframe with independent variables (X) and assign updated values as X.\n",
        "X_vif = vif_feature_selection(X)"
      ],
      "id": "8c3500d0",
      "execution_count": null,
      "outputs": []
    },
    {
      "cell_type": "code",
      "metadata": {
        "id": "7412291a"
      },
      "source": [
        "X_vif.head(5)"
      ],
      "id": "7412291a",
      "execution_count": null,
      "outputs": []
    },
    {
      "cell_type": "markdown",
      "metadata": {
        "id": "d648d158"
      },
      "source": [
        "##### From the above, the remaining variables are not multicollinear."
      ],
      "id": "d648d158"
    },
    {
      "cell_type": "markdown",
      "metadata": {
        "id": "8ec9d9cf"
      },
      "source": [
        "# Regression on Full data using OLS model"
      ],
      "id": "8ec9d9cf"
    },
    {
      "cell_type": "code",
      "metadata": {
        "id": "bf623380"
      },
      "source": [
        "Regression = sm.OLS(endog=y, exog=X_vif).fit()"
      ],
      "id": "bf623380",
      "execution_count": null,
      "outputs": []
    },
    {
      "cell_type": "code",
      "metadata": {
        "id": "2fd23b5c"
      },
      "source": [
        "print(Regression.summary())"
      ],
      "id": "2fd23b5c",
      "execution_count": null,
      "outputs": []
    },
    {
      "cell_type": "markdown",
      "metadata": {
        "id": "e46cd9fa"
      },
      "source": [
        "# Recap of outputs using this method\n",
        "TODO..."
      ],
      "id": "e46cd9fa"
    },
    {
      "cell_type": "markdown",
      "metadata": {
        "id": "2c526e8c"
      },
      "source": [
        "# Overall takeaways\n",
        "TODO..."
      ],
      "id": "2c526e8c"
    },
    {
      "cell_type": "markdown",
      "metadata": {
        "id": "06dc0d92"
      },
      "source": [
        "# To read more on lasso and ridge regression.\n",
        "https://towardsdatascience.com/ridge-and-lasso-regression-a-complete-guide-with-python-scikit-learn-e20e34bcbf0b"
      ],
      "id": "06dc0d92"
    }
  ]
}