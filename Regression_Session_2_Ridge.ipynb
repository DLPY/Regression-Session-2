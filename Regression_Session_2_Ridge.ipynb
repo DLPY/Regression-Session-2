{
  "cells": [
    {
      "cell_type": "markdown",
      "metadata": {
        "id": "view-in-github",
        "colab_type": "text"
      },
      "source": [
        "<a href=\"https://colab.research.google.com/github/DLPY/Regression-Session-2/blob/master/Regression_Session_2_Ridge.ipynb\" target=\"_parent\"><img src=\"https://colab.research.google.com/assets/colab-badge.svg\" alt=\"Open In Colab\"/></a>"
      ]
    },
    {
      "cell_type": "markdown",
      "id": "52c63234",
      "metadata": {
        "id": "52c63234"
      },
      "source": [
        "Open In Colab\n",
        "\n",
        "# House Price Prediction based on Postal Code, Number of Bathrooms, Car Parking and Property Type\n",
        "\n",
        "Detail on Data: https://www.kaggle.com/mihirhalai/sydney-house-prices"
      ]
    },
    {
      "cell_type": "markdown",
      "id": "216821bb",
      "metadata": {
        "id": "216821bb"
      },
      "source": [
        "# **1.Import necessary packages for performing EDA and Regression**"
      ]
    },
    {
      "cell_type": "code",
      "execution_count": null,
      "id": "a9571271",
      "metadata": {
        "id": "a9571271"
      },
      "outputs": [],
      "source": [
        "import datetime as dt\n",
        "import matplotlib.pyplot as plt\n",
        "import pandas as pd\n",
        "import numpy as np \n",
        "import seaborn as sns\n",
        "from sklearn.linear_model import (Ridge, Lasso, ElasticNet, RidgeCV, LassoCV, ElasticNetCV)\n",
        "from sklearn.metrics import (r2_score, mean_squared_error)\n",
        "from sklearn.model_selection import (RepeatedKFold, train_test_split)\n",
        "from sklearn.preprocessing import StandardScaler\n",
        "# from sklearn.preprocessing import (LabelEncoder, OneHotEncoder, StandardScaler)\n",
        "\n",
        "%matplotlib inline\n",
        "\n",
        "pd.set_option('display.max_colwidth', None)"
      ]
    },
    {
      "cell_type": "markdown",
      "id": "1ce79faf",
      "metadata": {
        "id": "1ce79faf"
      },
      "source": [
        "## i) Read data from csv file into Pandas dataframe"
      ]
    },
    {
      "cell_type": "code",
      "execution_count": null,
      "id": "d2cd32fb",
      "metadata": {
        "id": "d2cd32fb"
      },
      "outputs": [],
      "source": [
        "!wget https://raw.githubusercontent.com/DLPY/Regression-Session-2/master/Data/Processed_SydneyHousePrices.csv\n",
        "df = pd.read_csv('Processed_SydneyHousePrices.csv')"
      ]
    },
    {
      "cell_type": "markdown",
      "id": "b140f87d",
      "metadata": {
        "id": "b140f87d"
      },
      "source": [
        "## ii) Isolate Target and Predictor Variables to Different Dataframes"
      ]
    },
    {
      "cell_type": "code",
      "execution_count": null,
      "id": "2b64fd96",
      "metadata": {
        "id": "2b64fd96"
      },
      "outputs": [],
      "source": [
        "X = df[['postalCode', 'bed', 'bath', 'car', 'propType', 'diffDate', 'Year', 'Month', 'Day', 'Quarter', 'medSellPrice']]\n",
        "y = df[['sellPrice']]\n",
        "\n",
        "# Save this list of column values for later\n",
        "columns_list = list(X.columns.values)"
      ]
    },
    {
      "cell_type": "code",
      "execution_count": null,
      "id": "b54019e7",
      "metadata": {
        "id": "b54019e7"
      },
      "outputs": [],
      "source": [
        "X.head(5)"
      ]
    },
    {
      "cell_type": "code",
      "execution_count": null,
      "id": "bfb8e65d",
      "metadata": {
        "scrolled": true,
        "id": "bfb8e65d"
      },
      "outputs": [],
      "source": [
        "y.head(5)"
      ]
    },
    {
      "cell_type": "markdown",
      "id": "ddd1f009",
      "metadata": {
        "id": "ddd1f009"
      },
      "source": [
        "# **2.Standardise Features**\n",
        "\n",
        "Because in linear regression the value of the coefficients is partially determined by the scale of the feature, and in regularized models all coefficients are summed together, the features must be standardised prior to training.\n",
        "\n",
        "The approach to standardising features is removing the mean and scale to unit variance.\n",
        "\n",
        "The standard score of a sample x is calculated as:\n",
        "\n",
        "    z = (x - u) / s\n",
        "\n",
        "where _u_ is the mean of the training samples and _s_ is the standard deviation of the training samples."
      ]
    },
    {
      "cell_type": "code",
      "execution_count": null,
      "id": "fb3272e6",
      "metadata": {
        "id": "fb3272e6"
      },
      "outputs": [],
      "source": [
        "scaler = StandardScaler()\n",
        "X_std = scaler.fit_transform(X)"
      ]
    },
    {
      "cell_type": "code",
      "execution_count": null,
      "id": "b087ad41",
      "metadata": {
        "id": "b087ad41"
      },
      "outputs": [],
      "source": [
        "# The scaled values are now stored as an array.\n",
        "X_std[: 5]"
      ]
    },
    {
      "cell_type": "code",
      "execution_count": null,
      "id": "a6256d53",
      "metadata": {
        "id": "a6256d53"
      },
      "outputs": [],
      "source": [
        "# X is already an array data type, so y also needs converting (the model expects these as inputs).\n",
        "y = y.values"
      ]
    },
    {
      "cell_type": "markdown",
      "id": "90b332d6",
      "metadata": {
        "id": "90b332d6"
      },
      "source": [
        "# **3.Split dataset into the training and test using train_set_split**\n",
        "\n",
        "90% - train\n",
        "\n",
        "10% - test"
      ]
    },
    {
      "cell_type": "code",
      "execution_count": null,
      "id": "71ae35df",
      "metadata": {
        "id": "71ae35df"
      },
      "outputs": [],
      "source": [
        "X_train, X_test, y_train, y_test = train_test_split(X_std, y, test_size=0.1, random_state=23)"
      ]
    },
    {
      "cell_type": "code",
      "execution_count": null,
      "id": "b3abd11a",
      "metadata": {
        "id": "b3abd11a"
      },
      "outputs": [],
      "source": [
        "print('Training Data:', X_train.shape, y_train.shape)\n",
        "print('Testing Data:', X_test.shape, y_test.shape)"
      ]
    },
    {
      "cell_type": "markdown",
      "id": "bef9dc24",
      "metadata": {
        "id": "bef9dc24"
      },
      "source": [
        "# **4.Train, Test and Predict using Ridge regression**"
      ]
    },
    {
      "cell_type": "markdown",
      "id": "7941b919",
      "metadata": {
        "id": "7941b919"
      },
      "source": [
        "## i) Ridge Regression Model\n",
        "Create ridge regression with seven possible alpha values (a series of log10), set to 5-fold cross-validation."
      ]
    },
    {
      "cell_type": "code",
      "execution_count": null,
      "id": "4de9f6be",
      "metadata": {
        "id": "4de9f6be"
      },
      "outputs": [],
      "source": [
        "alpha_list = [1e-3, 1e-2, 1e-1, 0.1, 1.0, 10.0, 100.0]"
      ]
    },
    {
      "cell_type": "code",
      "execution_count": null,
      "id": "d958612a",
      "metadata": {
        "id": "d958612a"
      },
      "outputs": [],
      "source": [
        "# Run RidgeCV to get the optimal alpha value.\n",
        "ridge_cv_regr = RidgeCV(alphas=alpha_list, cv=5)"
      ]
    },
    {
      "cell_type": "markdown",
      "id": "bec8a1d0",
      "metadata": {
        "id": "bec8a1d0"
      },
      "source": [
        "Fit the linear regression model to the training set. We use the fit method the arguments of the fit method will be training sets"
      ]
    },
    {
      "cell_type": "code",
      "execution_count": null,
      "id": "7736d769",
      "metadata": {
        "id": "7736d769"
      },
      "outputs": [],
      "source": [
        "ridge_cv_regr_model = ridge_cv_regr.fit(X_train, y_train)\n",
        "\n",
        "# View best alpha value\n",
        "alpha_ = ridge_cv_regr_model.alpha_\n",
        "print('The optimal alpha value is: {}'.format(alpha_))"
      ]
    },
    {
      "cell_type": "code",
      "execution_count": null,
      "id": "d432633d",
      "metadata": {
        "id": "d432633d"
      },
      "outputs": [],
      "source": [
        "feature_importance = pd.Series(index=columns_list, data=np.abs(ridge_cv_regr_model.coef_.ravel()))\n",
        "\n",
        "n_selected_features = (feature_importance > 0).sum()\n",
        "print('{0:d} features, reduction of {1:2.2f}%'.format(\n",
        "    n_selected_features,(1 - n_selected_features / len(feature_importance)) * 100))\n",
        "\n",
        "feature_importance.sort_values().tail(30).plot(kind='barh', figsize=(18, 6))"
      ]
    },
    {
      "cell_type": "code",
      "execution_count": null,
      "id": "59729b67",
      "metadata": {
        "id": "59729b67"
      },
      "outputs": [],
      "source": [
        "# Review the absolute values of coefficients\n",
        "ridge_coef = pd.DataFrame(abs(ridge_cv_regr_model.coef_))\n",
        "ridge_coef.columns = columns_list\n",
        "ridge_coef"
      ]
    },
    {
      "cell_type": "markdown",
      "id": "4d7a5e68",
      "metadata": {
        "id": "4d7a5e68"
      },
      "source": [
        "From the above; notice that there are no Zero values at Alpha=10.\n",
        "\n",
        "This means that we can keep all of the features in the data set.\n",
        "\n",
        "---"
      ]
    },
    {
      "cell_type": "code",
      "execution_count": null,
      "id": "d32060c1",
      "metadata": {
        "id": "d32060c1"
      },
      "outputs": [],
      "source": [
        "# Create the Ridge model using the optimal alpha value.\n",
        "ridge_regr_model = Ridge(alpha=alpha_)"
      ]
    },
    {
      "cell_type": "code",
      "execution_count": null,
      "id": "6093b144",
      "metadata": {
        "id": "6093b144"
      },
      "outputs": [],
      "source": [
        "ridge_regr_model.fit(X_train, y_train)"
      ]
    },
    {
      "cell_type": "markdown",
      "id": "1346a7e1",
      "metadata": {
        "id": "1346a7e1"
      },
      "source": [
        "Regression Coefficients"
      ]
    },
    {
      "cell_type": "markdown",
      "id": "90a85f96",
      "metadata": {
        "id": "90a85f96"
      },
      "source": [
        "## ii) Predicting the results"
      ]
    },
    {
      "cell_type": "markdown",
      "id": "4636e088",
      "metadata": {
        "id": "4636e088"
      },
      "source": [
        "Training set prediction score"
      ]
    },
    {
      "cell_type": "code",
      "execution_count": null,
      "id": "6e15715a",
      "metadata": {
        "id": "6e15715a"
      },
      "outputs": [],
      "source": [
        "y_pred = ridge_regr_model.predict(X_train)"
      ]
    },
    {
      "cell_type": "code",
      "execution_count": null,
      "id": "4585af57",
      "metadata": {
        "id": "4585af57"
      },
      "outputs": [],
      "source": [
        "ridge_train_score = ridge_regr_model.score(X_train, y_train)\n",
        "ridge_train_score"
      ]
    },
    {
      "cell_type": "markdown",
      "id": "a4986645",
      "metadata": {
        "id": "a4986645"
      },
      "source": [
        "Test set prediction score"
      ]
    },
    {
      "cell_type": "code",
      "execution_count": null,
      "id": "0d377763",
      "metadata": {
        "id": "0d377763"
      },
      "outputs": [],
      "source": [
        "y_pred = ridge_regr_model.predict(X_test)"
      ]
    },
    {
      "cell_type": "code",
      "execution_count": null,
      "id": "7de07a9e",
      "metadata": {
        "id": "7de07a9e"
      },
      "outputs": [],
      "source": [
        "ridge_test_score = ridge_regr_model.score(X_test, y_test)\n",
        "ridge_test_score"
      ]
    },
    {
      "cell_type": "markdown",
      "id": "db067c91",
      "metadata": {
        "id": "db067c91"
      },
      "source": [
        "From the above, notice that the results of the test data are slightly better than the results of the training data (higher score is better).\n",
        "This suggests that the model is generalised enough to work well with previously unseen data."
      ]
    },
    {
      "cell_type": "markdown",
      "id": "16663a90",
      "metadata": {
        "id": "16663a90"
      },
      "source": [
        "# **5.Evaluation metrics - How to Calculate R-Square and RMSE**"
      ]
    },
    {
      "cell_type": "code",
      "execution_count": null,
      "id": "9630b79f",
      "metadata": {
        "id": "9630b79f"
      },
      "outputs": [],
      "source": [
        "print('Ridge Test Data Results:')\n",
        "y_pred = ridge_regr_model.predict(X_test)\n",
        "\n",
        "coef_of_determination_ridge = r2_score(y_test, y_pred)\n",
        "print('R-squared: {}'.format(coef_of_determination_ridge))\n",
        "\n",
        "rmse_ridge = np.sqrt(mean_squared_error(y_test, y_pred))\n",
        "print('Root Mean Squared Error: {}'.format(rmse_ridge))"
      ]
    },
    {
      "cell_type": "markdown",
      "id": "7a2cb7b0",
      "metadata": {
        "id": "7a2cb7b0"
      },
      "source": [
        "From the above, notice that the results of the R-Square score retrieve the same value as the model's prediction score method."
      ]
    },
    {
      "cell_type": "code",
      "execution_count": null,
      "id": "f63856e5",
      "metadata": {
        "id": "f63856e5"
      },
      "outputs": [],
      "source": [
        "# Review the absolute values of coefficients\n",
        "ridge_coef = pd.DataFrame(abs(ridge_regr_model.coef_))\n",
        "ridge_coef.columns = columns_list\n",
        "ridge_coef"
      ]
    },
    {
      "cell_type": "code",
      "execution_count": null,
      "id": "95aa704d",
      "metadata": {
        "id": "95aa704d"
      },
      "outputs": [],
      "source": [
        "# Displaying Results and Difference in Table \n",
        "res = pd.DataFrame(y_pred, y_test.ravel())\n",
        "res = res.reset_index()\n",
        "res.columns = ['Price', 'Prediction']\n",
        "res['Prediction'] = round(res['Prediction'], 0)\n",
        "res['Difference'] = res['Prediction'] - res['Price']\n",
        "res.head(5)"
      ]
    },
    {
      "cell_type": "code",
      "execution_count": null,
      "id": "09d140bf",
      "metadata": {
        "id": "09d140bf"
      },
      "outputs": [],
      "source": [
        "# Get the median difference of actual prices and predicted prices\n",
        "ridge_med_diff = res['Difference'].median()\n",
        "\n",
        "print('The median difference of actual prices and predicted prices using Ridge: {}'.format(ridge_med_diff))"
      ]
    }
  ],
  "metadata": {
    "kernelspec": {
      "display_name": "Python 3 (ipykernel)",
      "language": "python",
      "name": "python3"
    },
    "language_info": {
      "codemirror_mode": {
        "name": "ipython",
        "version": 3
      },
      "file_extension": ".py",
      "mimetype": "text/x-python",
      "name": "python",
      "nbconvert_exporter": "python",
      "pygments_lexer": "ipython3",
      "version": "3.8.12"
    },
    "colab": {
      "name": "Regression-Session-2-Ridge.ipynb",
      "provenance": [],
      "collapsed_sections": [],
      "toc_visible": true,
      "include_colab_link": true
    }
  },
  "nbformat": 4,
  "nbformat_minor": 5
}