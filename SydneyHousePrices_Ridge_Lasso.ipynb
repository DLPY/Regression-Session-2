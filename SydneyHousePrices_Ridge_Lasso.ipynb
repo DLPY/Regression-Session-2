{
  "nbformat": 4,
  "nbformat_minor": 0,
  "metadata": {
    "colab": {
      "name": "SydneyHousePrices_Ridge_Lasso.ipynb",
      "provenance": [],
      "collapsed_sections": [],
      "include_colab_link": true
    },
    "kernelspec": {
      "name": "python3",
      "display_name": "Python 3"
    },
    "language_info": {
      "name": "python"
    }
  },
  "cells": [
    {
      "cell_type": "markdown",
      "metadata": {
        "id": "view-in-github",
        "colab_type": "text"
      },
      "source": [
        "<a href=\"https://colab.research.google.com/github/DLPY/Regression-Session-2/blob/master/SydneyHousePrices_Ridge_Lasso.ipynb\" target=\"_parent\"><img src=\"https://colab.research.google.com/assets/colab-badge.svg\" alt=\"Open In Colab\"/></a>"
      ]
    },
    {
      "cell_type": "markdown",
      "metadata": {
        "id": "ud2tAPt5VBa9"
      },
      "source": [
        "# **House Price Prediction based on Postal Code, Number of Bathrooms, Car Parking  and Property Type**"
      ]
    },
    {
      "cell_type": "markdown",
      "metadata": {
        "id": "FwR4liJvnIwU"
      },
      "source": [
        "Detail on Data : https://www.kaggle.com/mihirhalai/sydney-house-prices"
      ]
    },
    {
      "cell_type": "markdown",
      "metadata": {
        "id": "zu1ja9k4TEvE"
      },
      "source": [
        "## 1. Download source data from Github"
      ]
    },
    {
      "cell_type": "code",
      "metadata": {
        "id": "sei0kC5gPk6K"
      },
      "source": [
        "!wget https://raw.githubusercontent.com/DLPY/Regression-Session-2/master/Data/SydneyHousePrices.csv"
      ],
      "execution_count": null,
      "outputs": []
    },
    {
      "cell_type": "markdown",
      "metadata": {
        "id": "2zktx2ZETgjC"
      },
      "source": [
        "## 2. Import neccssary packages for performing EDA, Lasso and Ridge regression"
      ]
    },
    {
      "cell_type": "code",
      "metadata": {
        "id": "3rZfVG0gtYTq"
      },
      "source": [
        "import matplotlib.pyplot as plt\n",
        "import numpy as np \n",
        "import pandas as pd\n",
        "import seaborn as sns\n",
        "from sklearn.linear_model import Lasso, LinearRegression, Ridge\n",
        "from sklearn.metrics import mean_squared_error, r2_score\n",
        "from sklearn.model_selection import train_test_split\n",
        "import statsmodels.api as sm\n",
        "from statsmodels.stats.outliers_influence import variance_inflation_factor\n",
        "\n",
        "%matplotlib inline\n",
        "\n",
        "pd.set_option('display.max_colwidth', None)"
      ],
      "execution_count": null,
      "outputs": []
    },
    {
      "cell_type": "markdown",
      "metadata": {
        "id": "QMBooIu2TuTJ"
      },
      "source": [
        "## 3. Read data into pandas dataframe to perform data analysis, cleaning and transformation"
      ]
    },
    {
      "cell_type": "code",
      "metadata": {
        "id": "KOJdx4LmQwC3"
      },
      "source": [
        "df = pd.read_csv('SydneyHousePrices.csv')"
      ],
      "execution_count": null,
      "outputs": []
    },
    {
      "cell_type": "code",
      "metadata": {
        "id": "Zi1iRejKtqyt"
      },
      "source": [
        "df.head(5)"
      ],
      "execution_count": null,
      "outputs": []
    },
    {
      "cell_type": "code",
      "metadata": {
        "id": "fCw_zPdLuRvr"
      },
      "source": [
        "df.shape"
      ],
      "execution_count": null,
      "outputs": []
    },
    {
      "cell_type": "code",
      "metadata": {
        "id": "MROUhjkvtrJu"
      },
      "source": [
        "df.info()"
      ],
      "execution_count": null,
      "outputs": []
    },
    {
      "cell_type": "code",
      "metadata": {
        "id": "-X3wkC1gtrR1"
      },
      "source": [
        "round(df.describe(),2)"
      ],
      "execution_count": null,
      "outputs": []
    },
    {
      "cell_type": "markdown",
      "metadata": {
        "id": "GeZCTIuazuew"
      },
      "source": [
        "**From the above max - It shows the dataset has outliers and it needs to be removed.**"
      ]
    },
    {
      "cell_type": "markdown",
      "metadata": {
        "id": "ELD27hi3UnzO"
      },
      "source": [
        "## 4. Choosing predictors and target variables for performing Regression"
      ]
    },
    {
      "cell_type": "markdown",
      "metadata": {
        "id": "x1qfXutU0OjZ"
      },
      "source": [
        "**Target and Source variables**\n",
        "\n",
        "*   SellingPrice - Target Variable\n",
        "*   Bed, Bath, Car, propType, postalCode  - Predictor Variables\n",
        "\n"
      ]
    },
    {
      "cell_type": "code",
      "metadata": {
        "id": "MgpMuZXp0BWg"
      },
      "source": [
        "df_new = df[(df['Date']>= '2017-01-01') & (df['Date']< '2020-01-01')].reset_index(drop=True)\n",
        "df_new = df_new[['postalCode', 'bath', 'car', 'propType' , 'sellPrice']]"
      ],
      "execution_count": null,
      "outputs": []
    },
    {
      "cell_type": "code",
      "metadata": {
        "id": "4hxaowKcSntL"
      },
      "source": [
        "df_new.propType.unique()"
      ],
      "execution_count": null,
      "outputs": []
    },
    {
      "cell_type": "code",
      "metadata": {
        "id": "-zR9DXCn1F8r"
      },
      "source": [
        "df_new.head(5)"
      ],
      "execution_count": null,
      "outputs": []
    },
    {
      "cell_type": "markdown",
      "metadata": {
        "id": "PD8_zJrU_9CX"
      },
      "source": [
        "Encoding the categorical variables - Change the text into numbers"
      ]
    },
    {
      "cell_type": "code",
      "metadata": {
        "id": "dXi025d87t7J"
      },
      "source": [
        "df_new['propType'] = df_new['propType'].astype('category').cat.codes"
      ],
      "execution_count": null,
      "outputs": []
    },
    {
      "cell_type": "code",
      "metadata": {
        "id": "TOPJyDy0Stpv"
      },
      "source": [
        "df_new.propType.unique()"
      ],
      "execution_count": null,
      "outputs": []
    },
    {
      "cell_type": "code",
      "metadata": {
        "id": "p3iOdYnh72mQ"
      },
      "source": [
        "df_new.head(5)"
      ],
      "execution_count": null,
      "outputs": []
    },
    {
      "cell_type": "code",
      "metadata": {
        "id": "kew-yZLjEz7Q"
      },
      "source": [
        "df_new.dtypes"
      ],
      "execution_count": null,
      "outputs": []
    },
    {
      "cell_type": "code",
      "metadata": {
        "id": "OwJYvNbMGpKH"
      },
      "source": [
        "df_new.count()"
      ],
      "execution_count": null,
      "outputs": []
    },
    {
      "cell_type": "code",
      "metadata": {
        "id": "mwMTcS7Ivmuk"
      },
      "source": [
        "df_new.isnull().sum()"
      ],
      "execution_count": null,
      "outputs": []
    },
    {
      "cell_type": "code",
      "metadata": {
        "id": "0vOjQBvUhgnd"
      },
      "source": [
        "df_new['car'].fillna(df_new.groupby(['postalCode'])['car'].transform('median'), inplace=True)\n",
        "#df_new['bed'].fillna(df_new.groupby(['postalCode', 'propType'])['bed'].transform('median'), inplace=True)"
      ],
      "execution_count": null,
      "outputs": []
    },
    {
      "cell_type": "code",
      "metadata": {
        "id": "xkdWdXCChlKr"
      },
      "source": [
        "df_new.isnull().sum()"
      ],
      "execution_count": null,
      "outputs": []
    },
    {
      "cell_type": "markdown",
      "metadata": {
        "id": "Mk-BdqGC5Kkm"
      },
      "source": [
        "## 5. Remove outliers in the data"
      ]
    },
    {
      "cell_type": "code",
      "metadata": {
        "id": "2Hm7FDLBGCqq"
      },
      "source": [
        "def remove_outlier(df_in, col_name):\n",
        "    q1 = df_in[col_name].quantile(0.25)\n",
        "    q3 = df_in[col_name].quantile(0.75)\n",
        "    iqr = q3-q1 #Interquartile range\n",
        "    fence_low  = q1-1.5*iqr\n",
        "    fence_high = q3+1.5*iqr\n",
        "    df_out = df_in.loc[(df_in[col_name] > fence_low) & (df_in[col_name] < fence_high)]\n",
        "    return df_out"
      ],
      "execution_count": null,
      "outputs": []
    },
    {
      "cell_type": "code",
      "metadata": {
        "id": "0DFWQzfZGu9w"
      },
      "source": [
        "#df_no_outlier_bed=remove_outlier(df_new, 'bed').reset_index(drop=True)\n",
        "df_no_outlier_bath=remove_outlier(df_new, 'bath').reset_index(drop=True)\n",
        "df_no_outlier_car=remove_outlier(df_no_outlier_bath, 'car').reset_index(drop=True)\n",
        "df_no_outlier=remove_outlier(df_no_outlier_car, 'sellPrice').reset_index(drop=True)"
      ],
      "execution_count": null,
      "outputs": []
    },
    {
      "cell_type": "code",
      "metadata": {
        "id": "2YFjMaQ3G26P"
      },
      "source": [
        "df_no_outlier"
      ],
      "execution_count": null,
      "outputs": []
    },
    {
      "cell_type": "code",
      "metadata": {
        "id": "MsrzaKfNEOss"
      },
      "source": [
        "corr = df_no_outlier.corr()"
      ],
      "execution_count": null,
      "outputs": []
    },
    {
      "cell_type": "code",
      "metadata": {
        "id": "6CJcE8PS9WwQ"
      },
      "source": [
        "corr"
      ],
      "execution_count": null,
      "outputs": []
    },
    {
      "cell_type": "markdown",
      "metadata": {
        "id": "SyOZVymo-Ucu"
      },
      "source": [
        "## 6. Correlation heatmap with the mask and correct aspect ratio"
      ]
    },
    {
      "cell_type": "code",
      "metadata": {
        "id": "P0i-1i6q7iXO"
      },
      "source": [
        "mask = np.zeros_like(corr, dtype=np.bool)\n",
        "mask[np.triu_indices_from(mask)] = True\n",
        "cmap = sns.diverging_palette(10, 250, as_cmap=True)\n",
        "f, ax = plt.subplots(figsize=(11, 9))\n",
        "sns.heatmap(corr, mask=mask, cmap=cmap,\n",
        "            square=True, linewidths=.2, cbar_kws={'shrink': .5}, ax=ax, annot=True)"
      ],
      "execution_count": null,
      "outputs": []
    },
    {
      "cell_type": "markdown",
      "metadata": {
        "id": "kgpwjaf2CMz5"
      },
      "source": [
        "## 7. Split Target and Predictor Variables to different dataframes"
      ]
    },
    {
      "cell_type": "code",
      "metadata": {
        "id": "yjYR2O6NCJRt"
      },
      "source": [
        "X = df_no_outlier.iloc[:,:-1]\n",
        "y = df_no_outlier.iloc[:,4]"
      ],
      "execution_count": null,
      "outputs": []
    },
    {
      "cell_type": "code",
      "metadata": {
        "id": "7A03Wa-jC8-i"
      },
      "source": [
        "X.head(5)"
      ],
      "execution_count": null,
      "outputs": []
    },
    {
      "cell_type": "code",
      "metadata": {
        "id": "vT693h-mC_-Z"
      },
      "source": [
        "y.head(5)"
      ],
      "execution_count": null,
      "outputs": []
    },
    {
      "cell_type": "markdown",
      "metadata": {
        "id": "OtebqAqQDEcD"
      },
      "source": [
        "Convert dataframes to values to feed into Model"
      ]
    },
    {
      "cell_type": "code",
      "metadata": {
        "id": "vqAKWnYDDCyZ"
      },
      "source": [
        "X = X.values\n",
        "y = y.values"
      ],
      "execution_count": null,
      "outputs": []
    },
    {
      "cell_type": "code",
      "metadata": {
        "id": "DU3u3eRdDRNr"
      },
      "source": [
        "print('Number of records and predictor variables:', X.shape)\n",
        "print('Number of records and target variable:', y.shape)"
      ],
      "execution_count": null,
      "outputs": []
    },
    {
      "cell_type": "markdown",
      "metadata": {
        "id": "T9OsPog_DqPJ"
      },
      "source": [
        "## 8. Split dataset into the training and test using train_set_split: 90% - train and 10% - test"
      ]
    },
    {
      "cell_type": "code",
      "metadata": {
        "id": "jbTStZckEPx3"
      },
      "source": [
        "X_train, X_test, y_train, y_test = train_test_split( X, y, test_size=0.1, random_state=23)"
      ],
      "execution_count": null,
      "outputs": []
    },
    {
      "cell_type": "code",
      "metadata": {
        "id": "TsDkySmVEaw-"
      },
      "source": [
        "print('Training Data:', X_train.shape, y_train.shape)\n",
        "print('Testing Data:', X_test.shape, y_test.shape)"
      ],
      "execution_count": null,
      "outputs": []
    },
    {
      "cell_type": "markdown",
      "metadata": {
        "id": "ntbC1AdIFgr-"
      },
      "source": [
        "## 9. Train, Test and Predict using ridge and lasso regression model"
      ]
    },
    {
      "cell_type": "markdown",
      "metadata": {
        "id": "nyfw2aBCFIDs"
      },
      "source": [
        "Create an object called RidgeRegression in the regression class with alpha 0.01"
      ]
    },
    {
      "cell_type": "code",
      "metadata": {
        "id": "tiDx7EdrFOwv"
      },
      "source": [
        "ridgeregressor = Ridge(alpha=0.01)"
      ],
      "execution_count": null,
      "outputs": []
    },
    {
      "cell_type": "markdown",
      "metadata": {
        "id": "dGcxP5OAFam_"
      },
      "source": [
        "Fit the linear regression model to the training set. We use the fit method the arguments of the fit method will be training sets"
      ]
    },
    {
      "cell_type": "code",
      "metadata": {
        "id": "iJFpxajpFcZf"
      },
      "source": [
        "ridgeregressor.fit(X_train, y_train)"
      ],
      "execution_count": null,
      "outputs": []
    },
    {
      "cell_type": "markdown",
      "metadata": {
        "id": "Qg_GAA22Oomq"
      },
      "source": [
        "Regression Coefficients"
      ]
    },
    {
      "cell_type": "code",
      "metadata": {
        "id": "IxuEcAqwLA9I"
      },
      "source": [
        "print('Coefficients: ', ridgeregressor.coef_)"
      ],
      "execution_count": null,
      "outputs": []
    },
    {
      "cell_type": "code",
      "metadata": {
        "id": "WVjIGt5pT-H7"
      },
      "source": [
        "column_names = ['postalCode', 'bath', 'car', 'propType' ]\n",
        "coefficient_df = pd.DataFrame(ridgeregressor.coef_).T\n",
        "coefficient_df.columns = column_names\n",
        "coefficient_df"
      ],
      "execution_count": null,
      "outputs": []
    },
    {
      "cell_type": "markdown",
      "metadata": {
        "id": "msEAq6_FFvX-"
      },
      "source": [
        "Predicting the Test set results"
      ]
    },
    {
      "cell_type": "code",
      "metadata": {
        "id": "qatuSLFHFzH-"
      },
      "source": [
        "y_pred= ridgeregressor.predict(X_test)"
      ],
      "execution_count": null,
      "outputs": []
    },
    {
      "cell_type": "markdown",
      "metadata": {
        "id": "mehJbVfqHv9c"
      },
      "source": [
        "## 10. Evaluation metrics - How to Calculate R-Square and RMSE"
      ]
    },
    {
      "cell_type": "code",
      "metadata": {
        "id": "tJmxLtSKHtPe"
      },
      "source": [
        "coefficient_of_dermination = r2_score(y_test,y_pred)\n",
        "print('R-squared:',coefficient_of_dermination)\n",
        "\n",
        "rmse = np.sqrt(mean_squared_error(y_test, y_pred))\n",
        "print('Root Mean Squared Error: {}'.format(rmse))"
      ],
      "execution_count": null,
      "outputs": []
    },
    {
      "cell_type": "code",
      "metadata": {
        "id": "8JeIf2txYaHD"
      },
      "source": [
        "# Displaying Results and Difference in Table \n",
        "res = pd.DataFrame(y_pred, y_test)\n",
        "res = res.reset_index()\n",
        "res.columns = ['Price', 'Prediction']\n",
        "res['Prediction'] = round(res['Prediction'],0)\n",
        "res['Difference'] = res['Price'] - res['Prediction']\n",
        "res.head(5)"
      ],
      "execution_count": null,
      "outputs": []
    },
    {
      "cell_type": "markdown",
      "metadata": {
        "id": "Wvj630uJR8XG"
      },
      "source": [
        "Create an object called RidgeRegression in the regression class with alpha 100"
      ]
    },
    {
      "cell_type": "code",
      "metadata": {
        "id": "VMsvviRWSPtZ"
      },
      "source": [
        "ridgeregressor100 = Ridge(alpha=100)\n",
        "ridgeregressor100.fit(X_train, y_train)\n",
        "print('Coefficients: ', ridgeregressor100.coef_)"
      ],
      "execution_count": null,
      "outputs": []
    },
    {
      "cell_type": "code",
      "metadata": {
        "id": "-vOciGZdSf4e"
      },
      "source": [
        "column_names = ['postalCode', 'bath', 'car', 'propType' ]\n",
        "coefficient_df = pd.DataFrame(ridgeregressor100.coef_).T\n",
        "coefficient_df.columns = column_names\n",
        "coefficient_df"
      ],
      "execution_count": null,
      "outputs": []
    },
    {
      "cell_type": "code",
      "metadata": {
        "id": "-X52Xdw1SmYe"
      },
      "source": [
        "y_pred= ridgeregressor100.predict(X_test)\n",
        "\n",
        "coefficient_of_dermination = r2_score(y_test, y_pred)\n",
        "print('R-squared:',coefficient_of_dermination)\n",
        "\n",
        "rmse = np.sqrt(mean_squared_error(y_test, y_pred))\n",
        "print('Root Mean Squared Error: {}'.format(rmse))"
      ],
      "execution_count": null,
      "outputs": []
    },
    {
      "cell_type": "code",
      "metadata": {
        "id": "XF7pEjlWSyD4"
      },
      "source": [
        "# Displaying Results and Difference in Table \n",
        "res = pd.DataFrame(y_pred, y_test)\n",
        "res = res.reset_index()\n",
        "res.columns = ['Price', 'Prediction']\n",
        "res['Prediction'] = round(res['Prediction'],0)\n",
        "res['Difference'] = res['Price'] - res['Prediction']\n",
        "res.head(5)"
      ],
      "execution_count": null,
      "outputs": []
    },
    {
      "cell_type": "markdown",
      "metadata": {
        "id": "m9xtzT_hVPhW"
      },
      "source": [
        "Create an object called Lasso in the regression class with alpha 0.01"
      ]
    },
    {
      "cell_type": "code",
      "metadata": {
        "id": "d_V44WqNVtxz"
      },
      "source": [
        "lassoregressor = Lasso(alpha=0.01, max_iter=10e6)\n",
        "lassoregressor.fit(X_train, y_train)\n",
        "print('Coefficients: ', lassoregressor.coef_)"
      ],
      "execution_count": null,
      "outputs": []
    },
    {
      "cell_type": "code",
      "metadata": {
        "id": "whRXFELpWHz0"
      },
      "source": [
        "column_names = ['postalCode', 'bath', 'car', 'propType' ]\n",
        "coefficient_df = pd.DataFrame(lassoregressor.coef_).T\n",
        "coefficient_df.columns = column_names\n",
        "coefficient_df"
      ],
      "execution_count": null,
      "outputs": []
    },
    {
      "cell_type": "code",
      "metadata": {
        "id": "Nd7FKS4PWJf8"
      },
      "source": [
        "coeff_used = np.sum(lassoregressor.coef_!=0)\n",
        "coeff_used"
      ],
      "execution_count": null,
      "outputs": []
    },
    {
      "cell_type": "code",
      "metadata": {
        "id": "G9mQhhzZWU39"
      },
      "source": [
        "y_pred= lassoregressor.predict(X_test)\n",
        "\n",
        "coefficient_of_dermination = r2_score(y_test, y_pred)\n",
        "print('R-squared:',coefficient_of_dermination)\n",
        "\n",
        "rmse = np.sqrt(mean_squared_error(y_test, y_pred))\n",
        "print('Root Mean Squared Error: {}'.format(rmse))"
      ],
      "execution_count": null,
      "outputs": []
    },
    {
      "cell_type": "markdown",
      "metadata": {
        "id": "ScdbGeKSlAOZ"
      },
      "source": [
        "Create an object called Lasso in the regression class with alpha 100"
      ]
    },
    {
      "cell_type": "code",
      "metadata": {
        "id": "zGcFkdB5lCOA"
      },
      "source": [
        "lassoregressor100 = Lasso(alpha=100, max_iter=10e6)\n",
        "lassoregressor100.fit(X_train, y_train)\n",
        "print('Coefficients: ', lassoregressor100.coef_)"
      ],
      "execution_count": null,
      "outputs": []
    },
    {
      "cell_type": "code",
      "metadata": {
        "id": "lv-ud-ksm5g4"
      },
      "source": [
        "column_names = ['postalCode', 'bath', 'car', 'propType' ]\n",
        "coefficient_df = pd.DataFrame(lassoregressor100.coef_).T\n",
        "coefficient_df.columns = column_names\n",
        "coefficient_df"
      ],
      "execution_count": null,
      "outputs": []
    },
    {
      "cell_type": "code",
      "metadata": {
        "id": "O4Qaq26Hm97D"
      },
      "source": [
        "y_pred= lassoregressor100.predict(X_test)\n",
        "\n",
        "coefficient_of_dermination = r2_score(y_test, y_pred)\n",
        "print('R-squared:',coefficient_of_dermination)\n",
        "\n",
        "rmse = np.sqrt(mean_squared_error(y_test, y_pred))\n",
        "print('Root Mean Squared Error: {}'.format(rmse))"
      ],
      "execution_count": null,
      "outputs": []
    },
    {
      "cell_type": "markdown",
      "metadata": {
        "id": "1SZSXG5ERnok"
      },
      "source": [
        "## 12. Regression on Full data using OLS model"
      ]
    },
    {
      "cell_type": "code",
      "metadata": {
        "id": "X_fB-s6iKKrN"
      },
      "source": [
        "Regression = sm.OLS(endog = y, exog = X).fit()"
      ],
      "execution_count": null,
      "outputs": []
    },
    {
      "cell_type": "code",
      "metadata": {
        "id": "G8pZ2Qf9J8xA"
      },
      "source": [
        "print(Regression.summary())"
      ],
      "execution_count": null,
      "outputs": []
    },
    {
      "cell_type": "markdown",
      "metadata": {
        "id": "PSHZRbXeMfUE"
      },
      "source": [
        "###To read more on lasso and ridge regression.\n",
        "\n",
        "---\n",
        "https://towardsdatascience.com/ridge-and-lasso-regression-a-complete-guide-with-python-scikit-learn-e20e34bcbf0b"
      ]
    }
  ]
}