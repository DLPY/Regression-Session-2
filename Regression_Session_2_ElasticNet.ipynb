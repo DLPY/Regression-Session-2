{
  "cells": [
    {
      "cell_type": "markdown",
      "metadata": {
        "id": "view-in-github",
        "colab_type": "text"
      },
      "source": [
        "<a href=\"https://colab.research.google.com/github/DLPY/Regression-Session-2/blob/master/Regression_Session_2_ElasticNet.ipynb\" target=\"_parent\"><img src=\"https://colab.research.google.com/assets/colab-badge.svg\" alt=\"Open In Colab\"/></a>"
      ]
    },
    {
      "cell_type": "markdown",
      "id": "52c63234",
      "metadata": {
        "id": "52c63234"
      },
      "source": [
        "Open In Colab\n",
        "\n",
        "# House Price Prediction based on Postal Code, Number of Bathrooms, Car Parking and Property Type\n",
        "\n",
        "Detail on Data: https://www.kaggle.com/mihirhalai/sydney-house-prices"
      ]
    },
    {
      "cell_type": "markdown",
      "id": "216821bb",
      "metadata": {
        "id": "216821bb"
      },
      "source": [
        "# **1.Import necessary packages for performing EDA and Multiple Regression**"
      ]
    },
    {
      "cell_type": "code",
      "execution_count": null,
      "id": "a9571271",
      "metadata": {
        "id": "a9571271"
      },
      "outputs": [],
      "source": [
        "import datetime as dt\n",
        "import matplotlib.pyplot as plt\n",
        "import pandas as pd\n",
        "import numpy as np \n",
        "import seaborn as sns\n",
        "from sklearn.linear_model import (Ridge, Lasso, ElasticNet, RidgeCV, LassoCV, ElasticNetCV)\n",
        "from sklearn.metrics import (r2_score, mean_squared_error)\n",
        "from sklearn.model_selection import (RepeatedKFold, train_test_split)\n",
        "from sklearn.preprocessing import StandardScaler\n",
        "# from sklearn.preprocessing import (LabelEncoder, OneHotEncoder, StandardScaler)\n",
        "\n",
        "%matplotlib inline\n",
        "\n",
        "pd.set_option('display.max_colwidth', None)"
      ]
    },
    {
      "cell_type": "markdown",
      "id": "1ce79faf",
      "metadata": {
        "id": "1ce79faf"
      },
      "source": [
        "## i) Read data from csv file into Pandas dataframe"
      ]
    },
    {
      "cell_type": "code",
      "execution_count": null,
      "id": "d2cd32fb",
      "metadata": {
        "id": "d2cd32fb"
      },
      "outputs": [],
      "source": [
        "!wget https://raw.githubusercontent.com/DLPY/Regression-Session-2/master/Data/Processed_SydneyHousePrices.csv\n",
        "df = pd.read_csv('Processed_SydneyHousePrices.csv')"
      ]
    },
    {
      "cell_type": "markdown",
      "id": "b140f87d",
      "metadata": {
        "id": "b140f87d"
      },
      "source": [
        "## ii) Isolate Target and Predictor Variables to Different Dataframes"
      ]
    },
    {
      "cell_type": "code",
      "execution_count": null,
      "id": "2b64fd96",
      "metadata": {
        "id": "2b64fd96"
      },
      "outputs": [],
      "source": [
        "X = df[['postalCode', 'bed', 'bath', 'car', 'propType', 'diffDate', 'Year', 'Month', 'Day', 'Quarter', 'medSellPrice']]\n",
        "y = df[['sellPrice']]\n",
        "\n",
        "# Save this list of column values for later\n",
        "columns_list = list(X.columns.values)"
      ]
    },
    {
      "cell_type": "code",
      "execution_count": null,
      "id": "b54019e7",
      "metadata": {
        "id": "b54019e7"
      },
      "outputs": [],
      "source": [
        "X.head(5)"
      ]
    },
    {
      "cell_type": "code",
      "execution_count": null,
      "id": "bfb8e65d",
      "metadata": {
        "scrolled": true,
        "id": "bfb8e65d"
      },
      "outputs": [],
      "source": [
        "y.head(5)"
      ]
    },
    {
      "cell_type": "markdown",
      "id": "ddd1f009",
      "metadata": {
        "id": "ddd1f009"
      },
      "source": [
        "# **2. Standardise Features**"
      ]
    },
    {
      "cell_type": "code",
      "execution_count": null,
      "id": "fb3272e6",
      "metadata": {
        "id": "fb3272e6"
      },
      "outputs": [],
      "source": [
        "scaler = StandardScaler()\n",
        "X_std = scaler.fit_transform(X)"
      ]
    },
    {
      "cell_type": "code",
      "execution_count": null,
      "id": "b087ad41",
      "metadata": {
        "id": "b087ad41"
      },
      "outputs": [],
      "source": [
        "# The scaled values are now stored as an array.\n",
        "X_std[: 5]"
      ]
    },
    {
      "cell_type": "code",
      "execution_count": null,
      "id": "a6256d53",
      "metadata": {
        "id": "a6256d53"
      },
      "outputs": [],
      "source": [
        "# X is already an array data type, so y also needs converting (the model expects these as inputs).\n",
        "y = y.values"
      ]
    },
    {
      "cell_type": "markdown",
      "id": "90b332d6",
      "metadata": {
        "id": "90b332d6"
      },
      "source": [
        "# **3.Split dataset into the training and test using train_set_split**\n",
        "\n",
        "90% - train\n",
        "\n",
        "10% - test"
      ]
    },
    {
      "cell_type": "code",
      "execution_count": null,
      "id": "71ae35df",
      "metadata": {
        "id": "71ae35df"
      },
      "outputs": [],
      "source": [
        "X_train, X_test, y_train, y_test = train_test_split(X_std, y, test_size=0.1, random_state=23)"
      ]
    },
    {
      "cell_type": "code",
      "execution_count": null,
      "id": "b3abd11a",
      "metadata": {
        "id": "b3abd11a"
      },
      "outputs": [],
      "source": [
        "print('Training Data:', X_train.shape, y_train.shape)\n",
        "print('Testing Data:', X_test.shape, y_test.shape)"
      ]
    },
    {
      "cell_type": "markdown",
      "id": "bef9dc24",
      "metadata": {
        "id": "bef9dc24"
      },
      "source": [
        "# **4.Train, Test and Predict using Elastic Net regression**"
      ]
    },
    {
      "cell_type": "markdown",
      "id": "a5a6ea2b",
      "metadata": {
        "id": "a5a6ea2b"
      },
      "source": [
        "## ElasticNet Model"
      ]
    },
    {
      "cell_type": "markdown",
      "id": "b41a3bf9",
      "metadata": {
        "id": "b41a3bf9"
      },
      "source": [
        "Set the cross-validation parameters separately, ratios values range from 0 to 1, alphas are a series of log10 values."
      ]
    },
    {
      "cell_type": "code",
      "execution_count": null,
      "id": "964a76c3",
      "metadata": {
        "id": "964a76c3"
      },
      "outputs": [],
      "source": [
        "%%capture\n",
        "\n",
        "# define model evaluation method (the value for n_splits is typically 3, 5, or 10)\n",
        "cross_val = RepeatedKFold(n_splits=5, n_repeats=3, random_state=1)\n",
        "\n",
        "# define model parameters\n",
        "ratios = np.arange(0, 1, 0.01)\n",
        "alpha_list = [1e-5, 1e-4, 1e-3, 1e-2, 1e-1, 0.0, 1.0, 10.0, 100.0]\n",
        "elasticnet_cv_regr = ElasticNetCV(l1_ratio=ratios, alphas=alpha_list, cv=cross_val, n_jobs=-1)\n",
        "\n",
        "# fit model\n",
        "elasticnet_cv_regr_model = elasticnet_cv_regr.fit(X_train, y_train.ravel())"
      ]
    },
    {
      "cell_type": "markdown",
      "id": "b628336b",
      "metadata": {
        "id": "b628336b"
      },
      "source": [
        "Investigate the importance of each feature based on the absolute value of their coefficients."
      ]
    },
    {
      "cell_type": "code",
      "execution_count": null,
      "id": "19019887",
      "metadata": {
        "id": "19019887"
      },
      "outputs": [],
      "source": [
        "feature_importance = pd.Series(index=columns_list, data=np.abs(elasticnet_cv_regr_model.coef_))\n",
        "\n",
        "n_selected_features = (feature_importance > 0).sum()\n",
        "print('{0:d} features, reduction of {1:2.2f}%'.format(\n",
        "    n_selected_features,(1 - n_selected_features / len(feature_importance)) * 100))\n",
        "\n",
        "feature_importance.sort_values().tail(30).plot(kind='barh', figsize=(18, 6))"
      ]
    },
    {
      "cell_type": "code",
      "execution_count": null,
      "id": "476cd1e8",
      "metadata": {
        "id": "476cd1e8"
      },
      "outputs": [],
      "source": [
        "alpha_ = elasticnet_cv_regr_model.alpha_\n",
        "l1_ratio_ = elasticnet_cv_regr_model.l1_ratio_\n",
        "n_iter_ = elasticnet_cv_regr_model.n_iter_\n",
        "\n",
        "# summarize chosen configuration\n",
        "print('alpha: {}'.format(alpha_))\n",
        "print('L1_ratio_: {}'.format(l1_ratio_))\n",
        "print('Number of iterations {}'.format(n_iter_))"
      ]
    },
    {
      "cell_type": "code",
      "execution_count": null,
      "id": "3fe04ff6",
      "metadata": {
        "id": "3fe04ff6"
      },
      "outputs": [],
      "source": [
        "elasticnet_coef = pd.DataFrame(abs(elasticnet_cv_regr_model.coef_)).T\n",
        "elasticnet_coef.columns = columns_list\n",
        "elasticnet_coef"
      ]
    },
    {
      "cell_type": "markdown",
      "id": "e21c22fa",
      "metadata": {
        "id": "e21c22fa"
      },
      "source": [
        "From the above; notice that there are no Zero values at Alpha=0.001. \n",
        "\n",
        "This means that we can keep all of the features in the data set."
      ]
    },
    {
      "cell_type": "markdown",
      "id": "238b4740",
      "metadata": {
        "id": "238b4740"
      },
      "source": [
        "Use the above alpha, L1 ratio, and number of iterations values for the ElasticNet model."
      ]
    },
    {
      "cell_type": "code",
      "execution_count": null,
      "id": "75418f99",
      "metadata": {
        "id": "75418f99"
      },
      "outputs": [],
      "source": [
        "# If a 'model did not converge' warning appears, increase the value of max_iter.\n",
        "elasticnet_regr = ElasticNet(alpha=alpha_, l1_ratio=l1_ratio_, max_iter=7000)"
      ]
    },
    {
      "cell_type": "code",
      "execution_count": null,
      "id": "22773d5b",
      "metadata": {
        "id": "22773d5b"
      },
      "outputs": [],
      "source": [
        "# fit model\n",
        "elasticnet_regr_model = elasticnet_regr.fit(X_train, y_train.ravel())"
      ]
    },
    {
      "cell_type": "code",
      "execution_count": null,
      "id": "b7e04122",
      "metadata": {
        "id": "b7e04122"
      },
      "outputs": [],
      "source": [
        "elasticnet_train_score = elasticnet_regr_model.score(X_train, y_train)\n",
        "elasticnet_train_score"
      ]
    },
    {
      "cell_type": "markdown",
      "source": [
        "# **5.Evaluation metrics - How to Calculate R-Square and RMSE**"
      ],
      "metadata": {
        "id": "iBNC5jz00njX"
      },
      "id": "iBNC5jz00njX"
    },
    {
      "cell_type": "code",
      "execution_count": null,
      "id": "9551b2ab",
      "metadata": {
        "id": "9551b2ab"
      },
      "outputs": [],
      "source": [
        "print('LassoCV Test data results:')\n",
        "y_pred = elasticnet_regr_model.predict(X_test)\n",
        "\n",
        "coef_of_determination_elasticnet = r2_score(y_test, y_pred)\n",
        "print('R-squared: {}'.format(coef_of_determination_elasticnet))\n",
        "\n",
        "rmse_elasticnet = np.sqrt(mean_squared_error(y_test, y_pred))\n",
        "print('Root Mean Squared Error: {}'.format(rmse_elasticnet))"
      ]
    },
    {
      "cell_type": "code",
      "execution_count": null,
      "id": "0873121a",
      "metadata": {
        "id": "0873121a"
      },
      "outputs": [],
      "source": [
        "# Displaying Results and Difference in Table \n",
        "res = pd.DataFrame(y_pred, y_test.ravel())\n",
        "res = res.reset_index()\n",
        "res.columns = ['Price', 'Prediction']\n",
        "res['Prediction'] = round(res['Prediction'], 0)\n",
        "res['Difference'] = res['Prediction'] - res['Price']\n",
        "res.head(5)"
      ]
    },
    {
      "cell_type": "code",
      "execution_count": null,
      "id": "6e232db8",
      "metadata": {
        "id": "6e232db8"
      },
      "outputs": [],
      "source": [
        "# Get the median difference of actual prices and predicted prices\n",
        "elasticnet_med_diff = res['Difference'].median()\n",
        "\n",
        "print('The median difference of actual prices and predicted prices using Elastic Net: {}'.format(elasticnet_med_diff))"
      ]
    },
    {
      "cell_type": "markdown",
      "id": "80c934fe",
      "metadata": {
        "id": "80c934fe"
      },
      "source": [
        "# **6.Comparison of Model Outputs**"
      ]
    },
    {
      "cell_type": "code",
      "execution_count": null,
      "id": "6f73040d",
      "metadata": {
        "id": "6f73040d"
      },
      "outputs": [],
      "source": [
        "!wget https://raw.githubusercontent.com/DLPY/Regression-Session-2/master/Data/df_coef.csv\n",
        "df_coef = pd.read_csv('df_coef.csv')"
      ]
    },
    {
      "cell_type": "code",
      "execution_count": null,
      "id": "d8a71c73",
      "metadata": {
        "id": "d8a71c73"
      },
      "outputs": [],
      "source": [
        "# Review coefficients of each model 0=Ridge, 1=Lasso, 2=ElasticNet\n",
        "df_coef"
      ]
    },
    {
      "cell_type": "markdown",
      "id": "311d2eec",
      "metadata": {
        "id": "311d2eec"
      },
      "source": [
        "From the above; notice the Zero values for the Ridge Model (Line 0) and Lasso Model (Line 1). This is due to not using these features in these models."
      ]
    },
    {
      "cell_type": "code",
      "execution_count": null,
      "id": "45cafffe",
      "metadata": {
        "id": "45cafffe"
      },
      "outputs": [],
      "source": [
        "!wget https://raw.githubusercontent.com/DLPY/Regression-Session-2/master/Data/model_result.csv\n",
        "model_results = pd.read_csv('model_result.csv', header=None, index_col=0, names= [ 'Model', 'R-Squared', 'RMSE'] )"
      ]
    },
    {
      "cell_type": "code",
      "source": [
        "model_results"
      ],
      "metadata": {
        "id": "q0o4AZSf3tHU"
      },
      "id": "q0o4AZSf3tHU",
      "execution_count": null,
      "outputs": []
    },
    {
      "cell_type": "code",
      "execution_count": null,
      "id": "dafad33c",
      "metadata": {
        "id": "dafad33c"
      },
      "outputs": [],
      "source": [
        "model_results.sort_values(ascending=True, by='RMSE')"
      ]
    },
    {
      "cell_type": "code",
      "source": [
        "!wget https://raw.githubusercontent.com/DLPY/Regression-Session-2/master/Data/Median_Error.csv\n",
        "median_error = pd.read_csv('Median_Error.csv' )"
      ],
      "metadata": {
        "id": "EQaV3i5N6L2m"
      },
      "id": "EQaV3i5N6L2m",
      "execution_count": null,
      "outputs": []
    },
    {
      "cell_type": "code",
      "source": [
        "median_error"
      ],
      "metadata": {
        "id": "pDUBHAGu6htq"
      },
      "id": "pDUBHAGu6htq",
      "execution_count": null,
      "outputs": []
    },
    {
      "cell_type": "markdown",
      "id": "0e89487f",
      "metadata": {
        "id": "0e89487f"
      },
      "source": [
        "From the above, notice that the overall results are similar. Lasso is the champion model due to the lowest RMSE and highest R-Squared values, even though the predicted median sell price difference of the Ridge model is the lowest of the three models."
      ]
    },
    {
      "cell_type": "markdown",
      "id": "2a2088b6",
      "metadata": {
        "id": "2a2088b6"
      },
      "source": [
        "Plotting the coefficients of each model displays that the values of each model's coefficients are mostly quite similar."
      ]
    },
    {
      "cell_type": "code",
      "execution_count": null,
      "id": "719fd7cf",
      "metadata": {
        "id": "719fd7cf"
      },
      "outputs": [],
      "source": [
        "df_coef = df_coef.iloc[:, :-1]\n",
        "plt.plot(df_coef.loc[0], alpha=0.7, linestyle='none', marker='*', markersize=4,\n",
        "         color='red', label=r'Ridge', zorder=7) \n",
        "plt.plot(df_coef.loc[1], alpha=0.5, linestyle='none', marker='d', markersize=6,\n",
        "         color='blue', label=r'Lasso') \n",
        "plt.plot(df_coef.loc[2], alpha=0.4, linestyle='none', marker='o', markersize=8,\n",
        "         color='green', label='ElasticNet')\n",
        "plt.xlabel('Coefficient Index', fontsize=10)\n",
        "plt.ylabel('Coefficient Magnitude', fontsize=10)\n",
        "plt.legend(title='Model', title_fontsize=15,\n",
        "           fontsize=13, loc='center left', bbox_to_anchor=(1, 0.5))\n",
        "plt.xticks(range(0, len(columns_list)), columns_list, rotation=45)\n",
        "plt.show()"
      ]
    },
    {
      "cell_type": "markdown",
      "id": "06dc0d92",
      "metadata": {
        "id": "06dc0d92"
      },
      "source": [
        "# **7.To read more on lasso, ridge, and elastic net regression.**\n",
        "https://towardsdatascience.com/ridge-and-lasso-regression-a-complete-guide-with-python-scikit-learn-e20e34bcbf0b\n",
        "\n",
        "https://medium.com/mlearning-ai/elasticnet-regression-fundamentals-and-modeling-in-python-8668f3c2e39e"
      ]
    }
  ],
  "metadata": {
    "kernelspec": {
      "display_name": "Python 3 (ipykernel)",
      "language": "python",
      "name": "python3"
    },
    "language_info": {
      "codemirror_mode": {
        "name": "ipython",
        "version": 3
      },
      "file_extension": ".py",
      "mimetype": "text/x-python",
      "name": "python",
      "nbconvert_exporter": "python",
      "pygments_lexer": "ipython3",
      "version": "3.8.12"
    },
    "colab": {
      "name": "Regression-Session-2-ElasticNet.ipynb",
      "provenance": [],
      "collapsed_sections": [],
      "include_colab_link": true
    }
  },
  "nbformat": 4,
  "nbformat_minor": 5
}