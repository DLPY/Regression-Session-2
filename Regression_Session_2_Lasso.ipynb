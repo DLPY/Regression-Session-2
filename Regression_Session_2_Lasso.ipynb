{
  "cells": [
    {
      "cell_type": "markdown",
      "metadata": {
        "id": "view-in-github",
        "colab_type": "text"
      },
      "source": [
        "<a href=\"https://colab.research.google.com/github/DLPY/Regression-Session-2/blob/master/Regression_Session_2_Lasso.ipynb\" target=\"_parent\"><img src=\"https://colab.research.google.com/assets/colab-badge.svg\" alt=\"Open In Colab\"/></a>"
      ]
    },
    {
      "cell_type": "markdown",
      "id": "52c63234",
      "metadata": {
        "id": "52c63234"
      },
      "source": [
        "Open In Colab\n",
        "\n",
        "# House Price Prediction based on Postal Code, Number of Bathrooms, Car Parking and Property Type\n",
        "\n",
        "Detail on Data: https://www.kaggle.com/mihirhalai/sydney-house-prices"
      ]
    },
    {
      "cell_type": "markdown",
      "id": "216821bb",
      "metadata": {
        "id": "216821bb"
      },
      "source": [
        "# **1.Import necessary packages for performing EDA and Multiple Regression**"
      ]
    },
    {
      "cell_type": "code",
      "execution_count": null,
      "id": "a9571271",
      "metadata": {
        "id": "a9571271"
      },
      "outputs": [],
      "source": [
        "import datetime as dt\n",
        "import matplotlib.pyplot as plt\n",
        "import pandas as pd\n",
        "import numpy as np \n",
        "import seaborn as sns\n",
        "from sklearn.linear_model import (Ridge, Lasso, ElasticNet, RidgeCV, LassoCV, ElasticNetCV)\n",
        "from sklearn.metrics import (r2_score, mean_squared_error)\n",
        "from sklearn.model_selection import (RepeatedKFold, train_test_split)\n",
        "from sklearn.preprocessing import StandardScaler\n",
        "# from sklearn.preprocessing import (LabelEncoder, OneHotEncoder, StandardScaler)\n",
        "\n",
        "%matplotlib inline\n",
        "\n",
        "pd.set_option('display.max_colwidth', None)"
      ]
    },
    {
      "cell_type": "markdown",
      "id": "1ce79faf",
      "metadata": {
        "id": "1ce79faf"
      },
      "source": [
        "## i) Read data from csv file into Pandas dataframe"
      ]
    },
    {
      "cell_type": "code",
      "execution_count": null,
      "id": "d2cd32fb",
      "metadata": {
        "id": "d2cd32fb"
      },
      "outputs": [],
      "source": [
        "!wget https://raw.githubusercontent.com/DLPY/Regression-Session-2/master/Data/Processed_SydneyHousePrices.csv\n",
        "df = pd.read_csv('Processed_SydneyHousePrices.csv')"
      ]
    },
    {
      "cell_type": "markdown",
      "id": "b140f87d",
      "metadata": {
        "id": "b140f87d"
      },
      "source": [
        "## ii) Isolate Target and Predictor Variables to Different Dataframes"
      ]
    },
    {
      "cell_type": "code",
      "execution_count": null,
      "id": "2b64fd96",
      "metadata": {
        "id": "2b64fd96"
      },
      "outputs": [],
      "source": [
        "X = df[['postalCode', 'bed', 'bath', 'car', 'propType', 'diffDate', 'Year', 'Month', 'Day', 'Quarter', 'medSellPrice']]\n",
        "y = df[['sellPrice']]\n",
        "\n",
        "# Save this list of column values for later\n",
        "columns_list = list(X.columns.values)"
      ]
    },
    {
      "cell_type": "code",
      "execution_count": null,
      "id": "b54019e7",
      "metadata": {
        "id": "b54019e7"
      },
      "outputs": [],
      "source": [
        "X.head(5)"
      ]
    },
    {
      "cell_type": "code",
      "execution_count": null,
      "id": "bfb8e65d",
      "metadata": {
        "scrolled": true,
        "id": "bfb8e65d"
      },
      "outputs": [],
      "source": [
        "y.head(5)"
      ]
    },
    {
      "cell_type": "markdown",
      "id": "ddd1f009",
      "metadata": {
        "id": "ddd1f009"
      },
      "source": [
        "# **2.Standardise Features**"
      ]
    },
    {
      "cell_type": "code",
      "execution_count": null,
      "id": "fb3272e6",
      "metadata": {
        "id": "fb3272e6"
      },
      "outputs": [],
      "source": [
        "scaler = StandardScaler()\n",
        "X_std = scaler.fit_transform(X)"
      ]
    },
    {
      "cell_type": "code",
      "execution_count": null,
      "id": "b087ad41",
      "metadata": {
        "id": "b087ad41"
      },
      "outputs": [],
      "source": [
        "# The scaled values are now stored as an array.\n",
        "X_std[: 5]"
      ]
    },
    {
      "cell_type": "code",
      "execution_count": null,
      "id": "a6256d53",
      "metadata": {
        "id": "a6256d53"
      },
      "outputs": [],
      "source": [
        "# X is already an array data type, so y also needs converting (the model expects these as inputs).\n",
        "y = y.values"
      ]
    },
    {
      "cell_type": "markdown",
      "id": "90b332d6",
      "metadata": {
        "id": "90b332d6"
      },
      "source": [
        "# **3.Split dataset into the training and test using train_set_split**\n",
        "\n",
        "90% - train\n",
        "\n",
        "10% - test"
      ]
    },
    {
      "cell_type": "code",
      "execution_count": null,
      "id": "71ae35df",
      "metadata": {
        "id": "71ae35df"
      },
      "outputs": [],
      "source": [
        "X_train, X_test, y_train, y_test = train_test_split(X_std, y, test_size=0.1, random_state=23)"
      ]
    },
    {
      "cell_type": "code",
      "execution_count": null,
      "id": "b3abd11a",
      "metadata": {
        "id": "b3abd11a"
      },
      "outputs": [],
      "source": [
        "print('Training Data:', X_train.shape, y_train.shape)\n",
        "print('Testing Data:', X_test.shape, y_test.shape)"
      ]
    },
    {
      "cell_type": "markdown",
      "id": "bef9dc24",
      "metadata": {
        "id": "bef9dc24"
      },
      "source": [
        "# **4.Train, Test and Predict using Lasso regression**"
      ]
    },
    {
      "cell_type": "markdown",
      "id": "36a4d350",
      "metadata": {
        "id": "36a4d350"
      },
      "source": [
        "## i) Lasso Regression Model"
      ]
    },
    {
      "cell_type": "markdown",
      "id": "72c54e62",
      "metadata": {
        "id": "72c54e62"
      },
      "source": [
        "<b>Note:</b> There were no modifications to the training and testing data sets so the same train/test data will be used again for this model."
      ]
    },
    {
      "cell_type": "markdown",
      "id": "7b23d694",
      "metadata": {
        "id": "7b23d694"
      },
      "source": [
        "Create an object called LassoCV in the regression class with various alpha values and 5-fold cross-validation"
      ]
    },
    {
      "cell_type": "code",
      "execution_count": null,
      "id": "bcfdd5f3",
      "metadata": {
        "id": "bcfdd5f3"
      },
      "outputs": [],
      "source": [
        "%%capture\n",
        "# Supress warnings from displaying while running this cell using %%capture at the very first line of the cell.\n",
        "\n",
        "# alpha values are on a log10 scale.\n",
        "lasso_cv_regr = LassoCV(alphas=(1e-3, 1e-2, 1e-1, 0.1, 1.0, 10.0, 100.0), cv=5, random_state=0)\n",
        "\n",
        "# Fit the linear regression\n",
        "lasso_cv_regr_model = lasso_cv_regr.fit(X_train, y_train.ravel())"
      ]
    },
    {
      "cell_type": "code",
      "execution_count": null,
      "id": "f631a8ac",
      "metadata": {
        "id": "f631a8ac"
      },
      "outputs": [],
      "source": [
        "# View best alpha value\n",
        "alpha_ = lasso_cv_regr_model.alpha_\n",
        "print('The optimal alpha value is: {}'.format(alpha_))"
      ]
    },
    {
      "cell_type": "markdown",
      "id": "48e36b83",
      "metadata": {
        "id": "48e36b83"
      },
      "source": [
        "## ii) How does penalty parameter impact features in Lasso Regression?"
      ]
    },
    {
      "cell_type": "code",
      "execution_count": null,
      "id": "0d023a8a",
      "metadata": {
        "id": "0d023a8a"
      },
      "outputs": [],
      "source": [
        "# Create a function that runs through a list of alpha values and outputs a table to review the penalty impact.\n",
        "\n",
        "def lasso(alphas):\n",
        "    '''Determine what impact lambda/alpha may have on feature selection.'''\n",
        "    # Create an empty data frame\n",
        "    df = pd.DataFrame()\n",
        "\n",
        "    # Create a column of feature names\n",
        "    df['Feature Name'] = columns_list\n",
        "\n",
        "    # For each alpha value in the list of alpha values,\n",
        "    for alpha in alphas:\n",
        "        # Create a lasso regression with that alpha value,\n",
        "        lasso = Lasso(alpha=alpha)\n",
        "\n",
        "        # Fit the lasso regression on training data\n",
        "        lasso.fit(X_train, y_train)\n",
        "\n",
        "        # Create a column name for that alpha value\n",
        "        column_name = 'Alpha = %f' % alpha\n",
        "\n",
        "        # Create a column of coefficient values\n",
        "        df[column_name] = lasso.coef_\n",
        "\n",
        "    # Return the dataframe    \n",
        "    return df"
      ]
    },
    {
      "cell_type": "code",
      "execution_count": null,
      "id": "a735119f",
      "metadata": {
        "id": "a735119f"
      },
      "outputs": [],
      "source": [
        "# As alpha increases, some of the feature importances may be reduced.  Zero values are of particular interest.\n",
        "alpha_list = [1e-3, 1e-2, 1e-1, 0.1, 1.0, 10.0, 100.0]\n",
        "\n",
        "print('Alpha Impact On Features')\n",
        "lasso(alpha_list)"
      ]
    },
    {
      "cell_type": "markdown",
      "id": "2a1a2015",
      "metadata": {
        "id": "2a1a2015"
      },
      "source": [
        "From the above; notice that Day has a Zero value at Alpha=100. Currently, the optimal alpha value of LassoCV is 100.\n",
        "\n",
        "This means that we should remove 'Day' from the data set."
      ]
    },
    {
      "cell_type": "code",
      "execution_count": null,
      "id": "f0413587",
      "metadata": {
        "id": "f0413587"
      },
      "outputs": [],
      "source": [
        "# Remove 'Day' feature from the model, and prepare the data as before.\n",
        "\n",
        "X = df[['postalCode', 'bed', 'bath', 'car', 'propType', 'diffDate', 'Year', 'Month', 'Quarter', 'medSellPrice']]\n",
        "y = df[['sellPrice']]\n",
        "\n",
        "# Save this list of column values for later\n",
        "columns_list = list(X.columns.values)\n",
        "\n",
        "# Scale the values of X\n",
        "scaler = StandardScaler()\n",
        "X_std = scaler.fit_transform(X)\n",
        "\n",
        "y = y.values"
      ]
    },
    {
      "cell_type": "code",
      "execution_count": null,
      "id": "14aa4767",
      "metadata": {
        "id": "14aa4767"
      },
      "outputs": [],
      "source": [
        "# Split data into test/train, same parameter values as before\n",
        "X_train, X_test, y_train, y_test = train_test_split(X_std, y, test_size=0.1, random_state=23)"
      ]
    },
    {
      "cell_type": "markdown",
      "id": "6f9472ad",
      "metadata": {
        "id": "6f9472ad"
      },
      "source": [
        "Use LassoCV again to identify the optimal Alpha value."
      ]
    },
    {
      "cell_type": "code",
      "execution_count": null,
      "id": "02ca6d2e",
      "metadata": {
        "id": "02ca6d2e"
      },
      "outputs": [],
      "source": [
        "%%capture\n",
        "\n",
        "lasso_cv_regr = LassoCV(alphas=(1e-3, 1e-2, 1e-1, 0.1, 1.0, 10.0, 100.0), cv=5, random_state=0)\n",
        "\n",
        "# Fit the linear regression\n",
        "lasso_cv_regr_model = lasso_cv_regr.fit(X_train, y_train.ravel())"
      ]
    },
    {
      "cell_type": "code",
      "execution_count": null,
      "id": "1b97bd33",
      "metadata": {
        "id": "1b97bd33"
      },
      "outputs": [],
      "source": [
        "# View best alpha value\n",
        "alpha_ = lasso_cv_regr_model.alpha_\n",
        "print('The optimal alpha value is: {}'.format(alpha_))"
      ]
    },
    {
      "cell_type": "code",
      "execution_count": null,
      "id": "c5ea8d4f",
      "metadata": {
        "id": "c5ea8d4f"
      },
      "outputs": [],
      "source": [
        "# Review the features coefficients again.\n",
        "lasso(alpha_list)"
      ]
    },
    {
      "cell_type": "markdown",
      "id": "eb9783a6",
      "metadata": {
        "id": "eb9783a6"
      },
      "source": [
        "From the above; notice that there are no Zero values, regardless that the optimal alpha value of LassoCV is 10.\n",
        "\n",
        "This means that we may proceed with modelling without any further modifying the features."
      ]
    },
    {
      "cell_type": "markdown",
      "id": "03157af6",
      "metadata": {
        "id": "03157af6"
      },
      "source": [
        "# **5.Create the Lasso model with alpha value discovered during cross-validation**"
      ]
    },
    {
      "cell_type": "code",
      "execution_count": null,
      "id": "d9f71982",
      "metadata": {
        "id": "d9f71982"
      },
      "outputs": [],
      "source": [
        "lasso_regr = Lasso(alpha=alpha_)"
      ]
    },
    {
      "cell_type": "code",
      "execution_count": null,
      "id": "e2018e09",
      "metadata": {
        "id": "e2018e09"
      },
      "outputs": [],
      "source": [
        "# Fit the linear regression\n",
        "lasso_regr_model = lasso_regr.fit(X_train, y_train.ravel())"
      ]
    },
    {
      "cell_type": "code",
      "execution_count": null,
      "id": "f43e9ebd",
      "metadata": {
        "id": "f43e9ebd"
      },
      "outputs": [],
      "source": [
        "lasso_coef = pd.DataFrame(abs(lasso_regr_model.coef_)).T\n",
        "lasso_coef.columns = columns_list\n",
        "lasso_coef"
      ]
    },
    {
      "cell_type": "code",
      "execution_count": null,
      "id": "5a70a53a",
      "metadata": {
        "id": "5a70a53a"
      },
      "outputs": [],
      "source": [
        "lasso_train_score = lasso_regr_model.score(X_train, y_train)\n",
        "print('Training data r-squared score: {}'.format(lasso_train_score))"
      ]
    },
    {
      "cell_type": "code",
      "execution_count": null,
      "id": "f699d3c4",
      "metadata": {
        "id": "f699d3c4"
      },
      "outputs": [],
      "source": [
        "print('Lasso Test Data results:')\n",
        "y_pred = lasso_regr_model.predict(X_test)\n",
        "\n",
        "coef_of_determination_lasso = r2_score(y_test, y_pred)\n",
        "print('R-squared: {}'.format(coef_of_determination_lasso))\n",
        "\n",
        "rmse_lasso = np.sqrt(mean_squared_error(y_test, y_pred))\n",
        "print('Root Mean Squared Error: {}'.format(rmse_lasso))"
      ]
    },
    {
      "cell_type": "code",
      "execution_count": null,
      "id": "8f30807d",
      "metadata": {
        "id": "8f30807d"
      },
      "outputs": [],
      "source": [
        "# Displaying Results and Difference in Table \n",
        "res = pd.DataFrame(y_pred, y_test.ravel())\n",
        "res = res.reset_index()\n",
        "res.columns = ['Price', 'Prediction']\n",
        "res['Prediction'] = round(res['Prediction'], 0)\n",
        "res['Difference'] = res['Prediction'] - res['Price']\n",
        "res.head(5)"
      ]
    },
    {
      "cell_type": "code",
      "execution_count": null,
      "id": "7fc0159f",
      "metadata": {
        "id": "7fc0159f"
      },
      "outputs": [],
      "source": [
        "# Get the median difference of actual prices and predicted prices.\n",
        "lasso_med_diff = res['Difference'].median()\n",
        "\n",
        "print('The median difference of actual prices and predicted prices using Lasso: {}'.format(lasso_med_diff))"
      ]
    }
  ],
  "metadata": {
    "kernelspec": {
      "display_name": "Python 3 (ipykernel)",
      "language": "python",
      "name": "python3"
    },
    "language_info": {
      "codemirror_mode": {
        "name": "ipython",
        "version": 3
      },
      "file_extension": ".py",
      "mimetype": "text/x-python",
      "name": "python",
      "nbconvert_exporter": "python",
      "pygments_lexer": "ipython3",
      "version": "3.8.12"
    },
    "colab": {
      "name": "Regression-Session-2-Lasso.ipynb",
      "provenance": [],
      "collapsed_sections": [],
      "toc_visible": true,
      "include_colab_link": true
    }
  },
  "nbformat": 4,
  "nbformat_minor": 5
}