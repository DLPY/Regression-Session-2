{
  "nbformat": 4,
  "nbformat_minor": 0,
  "metadata": {
    "colab": {
      "name": "Regression-Session-2-EDA.ipynb",
      "provenance": [],
      "collapsed_sections": [],
      "authorship_tag": "ABX9TyPYudaS5xYq22g/y51b/+UB",
      "include_colab_link": true
    },
    "kernelspec": {
      "name": "python3",
      "display_name": "Python 3"
    },
    "language_info": {
      "name": "python"
    }
  },
  "cells": [
    {
      "cell_type": "markdown",
      "metadata": {
        "id": "view-in-github",
        "colab_type": "text"
      },
      "source": [
        "<a href=\"https://colab.research.google.com/github/DLPY/Regression-Session-2/blob/master/Regression_Session_2_EDA.ipynb\" target=\"_parent\"><img src=\"https://colab.research.google.com/assets/colab-badge.svg\" alt=\"Open In Colab\"/></a>"
      ]
    },
    {
      "cell_type": "markdown",
      "source": [
        "# House Price Prediction based on Postal Code, Number of Bathrooms, Car Parking and Property Type\n",
        "\n",
        "Detail on Data: https://www.kaggle.com/mihirhalai/sydney-house-prices"
      ],
      "metadata": {
        "id": "mKHHbH488LW2"
      }
    },
    {
      "cell_type": "markdown",
      "source": [
        "## **1.Import necessary packages for performing EDA and Regression**"
      ],
      "metadata": {
        "id": "cB5xCH-A8ckB"
      }
    },
    {
      "cell_type": "code",
      "source": [
        "import datetime as dt\n",
        "import matplotlib.pyplot as plt\n",
        "import pandas as pd\n",
        "import numpy as np \n",
        "import seaborn as sns\n",
        "from sklearn.linear_model import (Ridge, Lasso, ElasticNet, RidgeCV, LassoCV, ElasticNetCV)\n",
        "from sklearn.metrics import (r2_score, mean_squared_error)\n",
        "from sklearn.model_selection import (RepeatedKFold, train_test_split)\n",
        "from sklearn.preprocessing import StandardScaler\n",
        "\n",
        "%matplotlib inline\n",
        "\n",
        "pd.set_option('display.max_colwidth', None)"
      ],
      "metadata": {
        "id": "WkxrV8FE8b9W"
      },
      "execution_count": null,
      "outputs": []
    },
    {
      "cell_type": "markdown",
      "source": [
        "## **2.Read data from csv file into Pandas dataframe**"
      ],
      "metadata": {
        "id": "7RmtYuQg8okt"
      }
    },
    {
      "cell_type": "code",
      "execution_count": null,
      "metadata": {
        "id": "72jDBVic8EGd"
      },
      "outputs": [],
      "source": [
        "# CSV is first read in from a github raw file another option is to import the notebook to your session storage by click on the file icon on left toolbar then importing csv\n",
        "!wget https://raw.githubusercontent.com/DLPY/Regression-Session-2/master/Data/SydneyHousePrices.csv\n",
        "df = pd.read_csv('SydneyHousePrices.csv')"
      ]
    },
    {
      "cell_type": "markdown",
      "source": [
        "## **3.Exploratory Data Analysis (EDA)**\n",
        "Perform data analysis, cleaning and transformation."
      ],
      "metadata": {
        "id": "0Rcw3M6l8yVT"
      }
    },
    {
      "cell_type": "markdown",
      "source": [
        "### i) Data Analysis"
      ],
      "metadata": {
        "id": "zcg6KPy686Be"
      }
    },
    {
      "cell_type": "code",
      "source": [
        "# Display the count of rows and columns.\n",
        "df.shape"
      ],
      "metadata": {
        "id": "mdqvkGdc8urN"
      },
      "execution_count": null,
      "outputs": []
    },
    {
      "cell_type": "code",
      "source": [
        "# Review a small sample of the data.\n",
        "df.head(5)"
      ],
      "metadata": {
        "id": "sz-3kZHV8_QL"
      },
      "execution_count": null,
      "outputs": []
    },
    {
      "cell_type": "code",
      "source": [
        "# Review the data types.\n",
        "df.dtypes"
      ],
      "metadata": {
        "id": "t8cyCG4m9BGY"
      },
      "execution_count": null,
      "outputs": []
    },
    {
      "cell_type": "markdown",
      "source": [
        "### From the above, notice the different types of data: integer (int64), float (float64), and text (object).\n",
        "---"
      ],
      "metadata": {
        "id": "sqx6g9-w9GZa"
      }
    },
    {
      "cell_type": "markdown",
      "source": [
        "### Review the date range.\n",
        "\n",
        "Additional date-aggregation functions become available when the data type is converted to date format.  \n",
        "\n",
        "The data type for date range is currently text, which is okay for now."
      ],
      "metadata": {
        "id": "sUyFH2-V89kN"
      }
    },
    {
      "cell_type": "code",
      "source": [
        "print('Date ranges from {} to {}'.format(df.Date.min(), df.Date.max()))"
      ],
      "metadata": {
        "id": "KlkC_A2C9C-B"
      },
      "execution_count": null,
      "outputs": []
    },
    {
      "cell_type": "markdown",
      "source": [
        "### Review descriptive statistics of the numerical data."
      ],
      "metadata": {
        "id": "40q6iUyv9NUE"
      }
    },
    {
      "cell_type": "code",
      "source": [
        "round(df.describe(), 2)"
      ],
      "metadata": {
        "id": "4dUwJgBV9Dee"
      },
      "execution_count": null,
      "outputs": []
    },
    {
      "cell_type": "markdown",
      "source": [
        "##### From the above max (bed & bath) and min (sellPrice) - It shows the dataset has outliers that need to be removed.\n",
        "---"
      ],
      "metadata": {
        "id": "ZyB3shef9SvI"
      }
    },
    {
      "cell_type": "code",
      "source": [
        "# Detailed overview of the dataframe itself.\n",
        "df.info()"
      ],
      "metadata": {
        "id": "IUnGXpGB9Pn0"
      },
      "execution_count": null,
      "outputs": []
    },
    {
      "cell_type": "markdown",
      "source": [
        "##### From the above, notice that the Non-Null Count values are different for bed and car.\n",
        "---"
      ],
      "metadata": {
        "id": "GIPXRy299cYU"
      }
    },
    {
      "cell_type": "markdown",
      "source": [
        "### ii) Data Cleaning"
      ],
      "metadata": {
        "id": "eC-5onhR9nuL"
      }
    },
    {
      "cell_type": "code",
      "source": [
        "df.isnull().sum()"
      ],
      "metadata": {
        "id": "XwJ0XIYM9WIj"
      },
      "execution_count": null,
      "outputs": []
    },
    {
      "cell_type": "markdown",
      "source": [
        "### Aggregate the missing values by date\n",
        "Combining the method from above with the dataframe's groupby method to group missing car/bed values by date.\n",
        "\n",
        "Plotting the output with the dataframe's plot method to see if there are any pockets of missing data."
      ],
      "metadata": {
        "id": "MFFNGuOJ9vGQ"
      }
    },
    {
      "cell_type": "code",
      "source": [
        "df.groupby(['Date'])['car'].apply(lambda x: x.isnull().sum()).plot()"
      ],
      "metadata": {
        "id": "G6_C_Lv69Z7V"
      },
      "execution_count": null,
      "outputs": []
    },
    {
      "cell_type": "code",
      "source": [
        "df.groupby(['Date'])['bed'].apply(lambda x: x.isnull().sum()).plot()"
      ],
      "metadata": {
        "id": "d1ayinYj9xpT"
      },
      "execution_count": null,
      "outputs": []
    },
    {
      "cell_type": "markdown",
      "source": [
        "### Fill in the missing values\n",
        "Assuming that houses in a particular area have a similar bath count, missing values can be filled in by:\n",
        " 1. Grouping postal code and bath.\n",
        " 2. Calculating the median value of bed and car for each of these groups.\n",
        " 3. Filling in the missing values with the median count of each group."
      ],
      "metadata": {
        "id": "kUUCaJBe92or"
      }
    },
    {
      "cell_type": "code",
      "source": [
        "df['bed'].fillna(df.groupby(['postalCode', 'bath'])['bed'].transform('median'), inplace=True)"
      ],
      "metadata": {
        "id": "0TD26oQo9zXb"
      },
      "execution_count": null,
      "outputs": []
    },
    {
      "cell_type": "code",
      "source": [
        "df['car'].fillna(df.groupby(['postalCode', 'bath'])['car'].transform('median'), inplace=True)"
      ],
      "metadata": {
        "id": "6hmUKxwp96pr"
      },
      "execution_count": null,
      "outputs": []
    },
    {
      "cell_type": "markdown",
      "source": [
        "### Remove outliers in the data\n",
        "Using a function that removes the outliers from each column on the list, loop through a list of specific columns that were identified earlier in the EDA as having outliers.\n",
        "\n",
        "The resulting dataframe does not contain any outliers."
      ],
      "metadata": {
        "id": "vWKATx3q9_tY"
      }
    },
    {
      "cell_type": "code",
      "source": [
        "def remove_outlier(df_in, col_name):\n",
        "    '''Removes outliers from a specified column of a dataframe using IQR and returns an updated dataframe.'''\n",
        "    q1 = df_in[col_name].quantile(0.25)\n",
        "    q3 = df_in[col_name].quantile(0.75)\n",
        "    iqr = q3 - q1 # Interquartile range\n",
        "    fence_low  = q1 - 1.5 * iqr\n",
        "    fence_high = q3 + 1.5 * iqr\n",
        "    df_out = df_in.loc[(df_in[col_name] > fence_low) & (df_in[col_name] < fence_high)]\n",
        "    return df_out"
      ],
      "metadata": {
        "id": "oD8f2rq698d7"
      },
      "execution_count": null,
      "outputs": []
    },
    {
      "cell_type": "code",
      "source": [
        "outliers = ['bath', 'sellPrice', 'car', 'bed']\n",
        "\n",
        "for outlier in outliers:\n",
        "    df = remove_outlier(df, outlier).reset_index(drop=True)"
      ],
      "metadata": {
        "id": "wmAxO1o5-CVU"
      },
      "execution_count": null,
      "outputs": []
    },
    {
      "cell_type": "markdown",
      "source": [
        "### iii) Data Transformation"
      ],
      "metadata": {
        "id": "mGqjz_y_-KEf"
      }
    },
    {
      "cell_type": "markdown",
      "source": [
        "The model must include some date related features in order to make better predictions.\n",
        "\n",
        "New features can be created using the purchase dates.\n",
        "\n",
        " * Recent house prices are typically different from historic prices.\n",
        "   - The date range of the model should be fairly recent, so date can be filtered to only include three years of the most recent data.\n",
        " * House prices tend to move slowly, on a monthly basis. \n",
        "   - A 'diffDate' feature can be created by calculating the difference of sale date and most recent date within the data.\n",
        " * There may be annual seasonality associated with house purchases.\n",
        "   - A 'Quarter' feature can be created that bins the dates by annual quarter."
      ],
      "metadata": {
        "id": "yeuF6hiT-QYT"
      }
    },
    {
      "cell_type": "markdown",
      "source": [
        "Transform dates for analysis of sales type prices of property types by year, month."
      ],
      "metadata": {
        "id": "Y2C1cVt3-Uiv"
      }
    },
    {
      "cell_type": "code",
      "source": [
        "# Convert the 'Date' datatype to datetime so that Pandas date functions become available.\n",
        "df['Date'] = pd.to_datetime(df['Date'])"
      ],
      "metadata": {
        "id": "r0gToz4s-EDE"
      },
      "execution_count": null,
      "outputs": []
    },
    {
      "cell_type": "code",
      "source": [
        "# Get the maximum purchase date.\n",
        "max_date = df['Date'].max()\n",
        "max_date"
      ],
      "metadata": {
        "id": "l8C9EUEk-Z_9"
      },
      "execution_count": null,
      "outputs": []
    },
    {
      "cell_type": "code",
      "source": [
        "# Filter the dataframe so that the most recent data is available, three years in this case.\n",
        "df = df[df['Date'] >= (max_date - np.timedelta64(3, 'Y'))]"
      ],
      "metadata": {
        "id": "UkCOU9z_-hYb"
      },
      "execution_count": null,
      "outputs": []
    },
    {
      "cell_type": "code",
      "source": [
        "df.shape"
      ],
      "metadata": {
        "id": "kx9kBtOE-jQf"
      },
      "execution_count": null,
      "outputs": []
    },
    {
      "cell_type": "code",
      "source": [
        "# Create the 'diffDate' feature.\n",
        "df['diffDate'] = df['Date'].apply(lambda x: max_date - x)"
      ],
      "metadata": {
        "id": "nYE66Rzw-k57"
      },
      "execution_count": null,
      "outputs": []
    },
    {
      "cell_type": "code",
      "source": [
        "# Alter 'diffDate' so that it captures the timeframe values as months.\n",
        "df['diffDate'] = df['diffDate'] / np.timedelta64(1, 'M')"
      ],
      "metadata": {
        "id": "Fa_I-RKK-mbE"
      },
      "execution_count": null,
      "outputs": []
    },
    {
      "cell_type": "code",
      "source": [
        "# Alter 'diffDate' so that monthly values are ints, not floats. Floats would be equivalent to weekly values, too granular.\n",
        "df['diffDate'] = df['diffDate'].astype(int)"
      ],
      "metadata": {
        "id": "GCPN7A7--oOj"
      },
      "execution_count": null,
      "outputs": []
    },
    {
      "cell_type": "code",
      "source": [
        "# The Pandas date type allows the date to be split in various ways: year, month, day, quarter.\n",
        "df['Year'] = df['Date'].dt.year\n",
        "df['Month'] = df['Date'].dt.month\n",
        "df['Day'] = df['Date'].dt.day\n",
        "df['Quarter'] = df['Date'].dt.quarter"
      ],
      "metadata": {
        "id": "IX4OW3Xa-qrr"
      },
      "execution_count": null,
      "outputs": []
    },
    {
      "cell_type": "code",
      "source": [
        "# Plotting sellPrice by year\n",
        "sns.pointplot(data=df, x='Year', y='sellPrice', hue='propType', ci=None)\n",
        "plt.title('Sale Prices by Year')\n",
        "plt.legend(title='Property Type', bbox_to_anchor=(1.02, 1), loc='upper left', borderaxespad=0)"
      ],
      "metadata": {
        "id": "fi50MEVn-wJz"
      },
      "execution_count": null,
      "outputs": []
    },
    {
      "cell_type": "code",
      "source": [
        "# Plotting sellPrice by quarter.\n",
        "sns.pointplot(data=df, x='Quarter', y='sellPrice', hue='propType', ci=None)\n",
        "plt.title('Sale Prices by Quarter')\n",
        "plt.legend(title='Property Type', bbox_to_anchor=(1.02, 1), loc='upper left', borderaxespad=0)"
      ],
      "metadata": {
        "id": "v4U4JpcQ-zgT"
      },
      "execution_count": null,
      "outputs": []
    },
    {
      "cell_type": "markdown",
      "source": [
        "##### From the above, notice the overall seasonal and annual trends of each property type.\n",
        "---"
      ],
      "metadata": {
        "id": "UlbrGNUK-3Tw"
      }
    },
    {
      "cell_type": "markdown",
      "source": [
        "Create a new dataframe that captures the median sale price value of similar sized property types within each postal code and suburb."
      ],
      "metadata": {
        "id": "zWvGm2-O-5zl"
      }
    },
    {
      "cell_type": "code",
      "source": [
        "medSellPrice = df.groupby(['postalCode', 'suburb', 'bath', 'car', 'bed'])['sellPrice'].apply(lambda x: x.median()).reset_index()"
      ],
      "metadata": {
        "id": "vcC5dl29-1Xz"
      },
      "execution_count": null,
      "outputs": []
    },
    {
      "cell_type": "code",
      "source": [
        "# Rename the column as 'medSellPrice' - median sell price\n",
        "medSellPrice = medSellPrice.rename(columns={'sellPrice': 'medSellPrice'})\n",
        "medSellPrice[:5]"
      ],
      "metadata": {
        "id": "yDwiWQvU_DMb"
      },
      "execution_count": null,
      "outputs": []
    },
    {
      "cell_type": "markdown",
      "source": [
        "##### From the above, notice the median sale price for each property size are different even when the postal code and suburb are the same.\n",
        "---"
      ],
      "metadata": {
        "id": "SCmM0lSD_Hfs"
      }
    },
    {
      "cell_type": "code",
      "source": [
        "# Merge the dataframes based on property similarity, postalCode and sellPrice\n",
        "df = pd.merge(df, medSellPrice, how='outer', on=['postalCode', 'suburb', 'bath', 'car', 'bed'])"
      ],
      "metadata": {
        "id": "trVr7KUz_Fdr"
      },
      "execution_count": null,
      "outputs": []
    },
    {
      "cell_type": "code",
      "source": [
        "df.head()"
      ],
      "metadata": {
        "id": "xNrPBn7K_J_V"
      },
      "execution_count": null,
      "outputs": []
    },
    {
      "cell_type": "markdown",
      "source": [
        "Encoding the categorical variables - Change the text into numbers"
      ],
      "metadata": {
        "id": "hc-HFsnX_NYX"
      }
    },
    {
      "cell_type": "markdown",
      "source": [
        "Review the unique values within property type."
      ],
      "metadata": {
        "id": "raVmsyi__P5m"
      }
    },
    {
      "cell_type": "code",
      "source": [
        "df.propType.unique()"
      ],
      "metadata": {
        "id": "c05dU_Cn_Lir"
      },
      "execution_count": null,
      "outputs": []
    },
    {
      "cell_type": "code",
      "source": [
        "# Drop warehouse, acreage, and other property types in order to focus specifically on housing data.\n",
        "df = df.drop(df[(df.propType == 'warehouse') | (df.propType == 'acreage') | (df.propType == 'other')].index)"
      ],
      "metadata": {
        "id": "Fqq0OwFe_SBj"
      },
      "execution_count": null,
      "outputs": []
    },
    {
      "cell_type": "markdown",
      "source": [
        "Convert the property type values into numeric categorical labels so that this data can be used in the model."
      ],
      "metadata": {
        "id": "p9ZsbHAF_VmY"
      }
    },
    {
      "cell_type": "code",
      "source": [
        "df['propType'] = df['propType'].astype('category').cat.codes"
      ],
      "metadata": {
        "id": "3xv914AX_Tvr"
      },
      "execution_count": null,
      "outputs": []
    },
    {
      "cell_type": "code",
      "source": [
        "df.head()"
      ],
      "metadata": {
        "id": "RcnAPZb__Xbq"
      },
      "execution_count": null,
      "outputs": []
    },
    {
      "cell_type": "markdown",
      "source": [
        "##### From the above, notice that:\n",
        " * diffDate is a numeric value representing the approximate count of months from sale date to July 6, 2019, (the max date in the data).\n",
        " * The original date column has been split into new columns: Year, Month, Day, Quarter, diffDate, and medSellPrice.\n",
        " * The propType categories have been converted to a numeric value. Warehouse, acreage, and other property types have been removed to specifically focus on housing.\n",
        " ---"
      ],
      "metadata": {
        "id": "k7rjT1Yz_cql"
      }
    },
    {
      "cell_type": "markdown",
      "source": [
        "Quick review - columns that are assumed to be not useful and will be dropped:\n",
        "* **Date** - diffDate will be used instead.\n",
        "* **Id** - This is simply a row number of the data.\n",
        "* **suburb** - postalCode will be used instead because it is a more generalised representation of locality."
      ],
      "metadata": {
        "id": "fZYXqaaF_izW"
      }
    },
    {
      "cell_type": "markdown",
      "source": [
        "## **4.Choosing predictors and target variables for performing Regression Analysis**\n",
        "**Target and Source variables**\n",
        "\n",
        "* **Target Variable:** sellingPrice\n",
        "* **Predictor Variables:** ordDate, postalCode, bed, bath, car, propType"
      ],
      "metadata": {
        "id": "5qlWjcEG_k-1"
      }
    },
    {
      "cell_type": "markdown",
      "source": [
        "Create a new dataframe that includes only the selected columns"
      ],
      "metadata": {
        "id": "GAXYkR5S_wu1"
      }
    },
    {
      "cell_type": "code",
      "source": [
        "df_new = df[['postalCode', 'bed', 'bath', 'car', 'propType', 'diffDate', 'Year', 'Month', 'Day', 'Quarter', 'medSellPrice', 'sellPrice']]"
      ],
      "metadata": {
        "id": "ThVe13L8_ZSK"
      },
      "execution_count": null,
      "outputs": []
    },
    {
      "cell_type": "code",
      "source": [
        "df_new.head()"
      ],
      "metadata": {
        "id": "_3IL8WKd_0qa"
      },
      "execution_count": null,
      "outputs": []
    },
    {
      "cell_type": "markdown",
      "source": [
        "### Investigate correlation in the new dataframe."
      ],
      "metadata": {
        "id": "aHlXYMgO_4z_"
      }
    },
    {
      "cell_type": "markdown",
      "source": [
        "Pandas has a built-in correlation function."
      ],
      "metadata": {
        "id": "u_wGkkPj__f1"
      }
    },
    {
      "cell_type": "code",
      "source": [
        "corr = df_new.corr()"
      ],
      "metadata": {
        "id": "l1Xj0AcL_2Z0"
      },
      "execution_count": null,
      "outputs": []
    },
    {
      "cell_type": "markdown",
      "source": [
        "### Create a heatmap plot of the correlations, using a mask to hide redundant information and correct aspect ratio to ensure proper spacing of the chart."
      ],
      "metadata": {
        "id": "ItRAnPgQAIUy"
      }
    },
    {
      "cell_type": "code",
      "source": [
        "mask = np.zeros_like(corr, dtype=bool)\n",
        "mask[np.triu_indices_from(mask)] = True\n",
        "cmap = sns.diverging_palette(10, 250, as_cmap=True)\n",
        "f, ax = plt.subplots(figsize=(11, 9))\n",
        "ax.set_title('Correlation of Features')\n",
        "sns.heatmap(corr, mask=mask, cmap=cmap, square=True,\n",
        "            linewidths=0.2, cbar_kws={'shrink': 0.5}, ax=ax, annot=True)"
      ],
      "metadata": {
        "id": "q5zEjGZKAGYq"
      },
      "execution_count": null,
      "outputs": []
    },
    {
      "cell_type": "markdown",
      "source": [
        "From the above, notice:\n",
        "\n",
        "The high positive correlation between\n",
        "* Month / Quarter\n",
        "* Sell Price / Median Sell Price\n",
        "* Bed / Bath\n",
        "\n",
        "The slight positive correlation between\n",
        "* Bed / Bath / Median Sell Price / Sell Price\n",
        "* Diffdate / Month / Quarter\n",
        "* Bed / Bath / Car\n",
        "\n",
        "The high negative correlation between\n",
        "* Post Code / Sell Price / Median Sell Price\n",
        "\n",
        "The slight negative correlation between\n",
        "* Year / Month / Quarter\n",
        "* Property Type / Bed"
      ],
      "metadata": {
        "id": "yj3tKroFASiW"
      }
    },
    {
      "cell_type": "markdown",
      "source": [
        "Multicollinearity has a negative impact on multiple regression models.  The steps for overcoming multicollinearity are different for the chosen model.\n",
        "\n",
        "* **Training a model and testing on unseen data:** standardize the features for all models.\n",
        "* **Use Lasso for feature selection:** regularization will be used for feature selection."
      ],
      "metadata": {
        "id": "K5oLGY1vAXUl"
      }
    },
    {
      "cell_type": "markdown",
      "source": [
        "## **5.Create Final working dataset for Models**"
      ],
      "metadata": {
        "id": "gnMO5ozyB-J5"
      }
    },
    {
      "cell_type": "code",
      "source": [
        "final_df = df[['postalCode', 'bed', 'bath', 'car', 'propType', 'diffDate', 'Year', 'Month', 'Day', 'Quarter', 'medSellPrice', 'sellPrice']]"
      ],
      "metadata": {
        "id": "TuKqNbtDCMax"
      },
      "execution_count": null,
      "outputs": []
    },
    {
      "cell_type": "code",
      "source": [
        "final_df.to_csv(\"Processed_SydneyHousePrices.csv\", index=False)"
      ],
      "metadata": {
        "id": "KDqmeJmgCSwA"
      },
      "execution_count": null,
      "outputs": []
    }
  ]
}
