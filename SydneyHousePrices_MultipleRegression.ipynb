{
  "nbformat": 4,
  "nbformat_minor": 0,
  "metadata": {
    "colab": {
      "name": "SydneyHousePrices_MultipleRegression.ipynb",
      "provenance": [],
      "collapsed_sections": [],
      "include_colab_link": true
    },
    "kernelspec": {
      "name": "python3",
      "display_name": "Python 3"
    },
    "language_info": {
      "name": "python"
    }
  },
  "cells": [
    {
      "cell_type": "markdown",
      "metadata": {
        "id": "view-in-github",
        "colab_type": "text"
      },
      "source": [
        "<a href=\"https://colab.research.google.com/github/DLPY/Regression-Session-2/blob/master/SydneyHousePrices_MultipleRegression.ipynb\" target=\"_parent\"><img src=\"https://colab.research.google.com/assets/colab-badge.svg\" alt=\"Open In Colab\"/></a>"
      ]
    },
    {
      "cell_type": "markdown",
      "metadata": {
        "id": "ud2tAPt5VBa9"
      },
      "source": [
        "# **House Price Prediction based on Postal Code, Number of Bathrooms, Car Parking  and Property Type**"
      ]
    },
    {
      "cell_type": "markdown",
      "metadata": {
        "id": "FwR4liJvnIwU"
      },
      "source": [
        "Detail on Data : https://www.kaggle.com/mihirhalai/sydney-house-prices"
      ]
    },
    {
      "cell_type": "markdown",
      "metadata": {
        "id": "zu1ja9k4TEvE"
      },
      "source": [
        "## 1. Download source data from Github"
      ]
    },
    {
      "cell_type": "code",
      "metadata": {
        "id": "sei0kC5gPk6K",
        "colab": {
          "base_uri": "https://localhost:8080/"
        },
        "outputId": "ad07a9b1-e5bf-453a-f698-3017b06b8d3d"
      },
      "source": [
        "!wget https://raw.githubusercontent.com/DLPY/Regression-Session-2/master/Data/SydneyHousePrices.csv"
      ],
      "execution_count": 1,
      "outputs": [
        {
          "output_type": "stream",
          "name": "stdout",
          "text": [
            "--2021-11-10 11:58:45--  https://raw.githubusercontent.com/DLPY/Regression-Session-2/master/Data/SydneyHousePrices.csv\n",
            "Resolving raw.githubusercontent.com (raw.githubusercontent.com)... 185.199.108.133, 185.199.109.133, 185.199.110.133, ...\n",
            "Connecting to raw.githubusercontent.com (raw.githubusercontent.com)|185.199.108.133|:443... connected.\n",
            "HTTP request sent, awaiting response... 200 OK\n",
            "Length: 11406664 (11M) [text/plain]\n",
            "Saving to: ‘SydneyHousePrices.csv.2’\n",
            "\n",
            "SydneyHousePrices.c 100%[===================>]  10.88M  --.-KB/s    in 0.1s    \n",
            "\n",
            "2021-11-10 11:58:46 (84.5 MB/s) - ‘SydneyHousePrices.csv.2’ saved [11406664/11406664]\n",
            "\n"
          ]
        }
      ]
    },
    {
      "cell_type": "markdown",
      "metadata": {
        "id": "2zktx2ZETgjC"
      },
      "source": [
        "## 2. Import neccssary packages for performing EDA and Multiple regression"
      ]
    },
    {
      "cell_type": "code",
      "metadata": {
        "id": "3rZfVG0gtYTq",
        "colab": {
          "base_uri": "https://localhost:8080/"
        },
        "outputId": "20c8da05-5643-449c-f945-917c9c4e3f48"
      },
      "source": [
        "import matplotlib.pyplot as plt\n",
        "import numpy as np \n",
        "import pandas as pd\n",
        "import seaborn as sns\n",
        "from sklearn.linear_model import LinearRegression\n",
        "from sklearn.metrics import mean_squared_error, r2_score\n",
        "from sklearn.model_selection import train_test_split\n",
        "import statsmodels.api as sm\n",
        "from statsmodels.stats.outliers_influence import variance_inflation_factor\n",
        "\n",
        "%matplotlib inline\n",
        "\n",
        "pd.set_option('display.max_colwidth', None)"
      ],
      "execution_count": 2,
      "outputs": [
        {
          "output_type": "stream",
          "name": "stderr",
          "text": [
            "/usr/local/lib/python3.7/dist-packages/statsmodels/tools/_testing.py:19: FutureWarning: pandas.util.testing is deprecated. Use the functions in the public API at pandas.testing instead.\n",
            "  import pandas.util.testing as tm\n"
          ]
        }
      ]
    },
    {
      "cell_type": "markdown",
      "metadata": {
        "id": "QMBooIu2TuTJ"
      },
      "source": [
        "## 3. Read data into pandas dataframe to perform data analysis, cleaning and transformation"
      ]
    },
    {
      "cell_type": "code",
      "metadata": {
        "id": "KOJdx4LmQwC3"
      },
      "source": [
        "df = pd.read_csv('SydneyHousePrices.csv')"
      ],
      "execution_count": 3,
      "outputs": []
    },
    {
      "cell_type": "code",
      "metadata": {
        "id": "Zi1iRejKtqyt",
        "colab": {
          "base_uri": "https://localhost:8080/",
          "height": 203
        },
        "outputId": "637eb3a8-ee24-440e-9cb1-44284cdb851f"
      },
      "source": [
        "df.head(5)"
      ],
      "execution_count": 4,
      "outputs": [
        {
          "output_type": "execute_result",
          "data": {
            "text/html": [
              "<div>\n",
              "<style scoped>\n",
              "    .dataframe tbody tr th:only-of-type {\n",
              "        vertical-align: middle;\n",
              "    }\n",
              "\n",
              "    .dataframe tbody tr th {\n",
              "        vertical-align: top;\n",
              "    }\n",
              "\n",
              "    .dataframe thead th {\n",
              "        text-align: right;\n",
              "    }\n",
              "</style>\n",
              "<table border=\"1\" class=\"dataframe\">\n",
              "  <thead>\n",
              "    <tr style=\"text-align: right;\">\n",
              "      <th></th>\n",
              "      <th>Date</th>\n",
              "      <th>Id</th>\n",
              "      <th>suburb</th>\n",
              "      <th>postalCode</th>\n",
              "      <th>sellPrice</th>\n",
              "      <th>bed</th>\n",
              "      <th>bath</th>\n",
              "      <th>car</th>\n",
              "      <th>propType</th>\n",
              "    </tr>\n",
              "  </thead>\n",
              "  <tbody>\n",
              "    <tr>\n",
              "      <th>0</th>\n",
              "      <td>2019-06-19</td>\n",
              "      <td>1</td>\n",
              "      <td>Avalon Beach</td>\n",
              "      <td>2107</td>\n",
              "      <td>1210000</td>\n",
              "      <td>4.0</td>\n",
              "      <td>2</td>\n",
              "      <td>2.0</td>\n",
              "      <td>house</td>\n",
              "    </tr>\n",
              "    <tr>\n",
              "      <th>1</th>\n",
              "      <td>2019-06-13</td>\n",
              "      <td>2</td>\n",
              "      <td>Avalon Beach</td>\n",
              "      <td>2107</td>\n",
              "      <td>2250000</td>\n",
              "      <td>4.0</td>\n",
              "      <td>3</td>\n",
              "      <td>4.0</td>\n",
              "      <td>house</td>\n",
              "    </tr>\n",
              "    <tr>\n",
              "      <th>2</th>\n",
              "      <td>2019-06-07</td>\n",
              "      <td>3</td>\n",
              "      <td>Whale Beach</td>\n",
              "      <td>2107</td>\n",
              "      <td>2920000</td>\n",
              "      <td>3.0</td>\n",
              "      <td>3</td>\n",
              "      <td>2.0</td>\n",
              "      <td>house</td>\n",
              "    </tr>\n",
              "    <tr>\n",
              "      <th>3</th>\n",
              "      <td>2019-05-28</td>\n",
              "      <td>4</td>\n",
              "      <td>Avalon Beach</td>\n",
              "      <td>2107</td>\n",
              "      <td>1530000</td>\n",
              "      <td>3.0</td>\n",
              "      <td>1</td>\n",
              "      <td>2.0</td>\n",
              "      <td>house</td>\n",
              "    </tr>\n",
              "    <tr>\n",
              "      <th>4</th>\n",
              "      <td>2019-05-22</td>\n",
              "      <td>5</td>\n",
              "      <td>Whale Beach</td>\n",
              "      <td>2107</td>\n",
              "      <td>8000000</td>\n",
              "      <td>5.0</td>\n",
              "      <td>4</td>\n",
              "      <td>4.0</td>\n",
              "      <td>house</td>\n",
              "    </tr>\n",
              "  </tbody>\n",
              "</table>\n",
              "</div>"
            ],
            "text/plain": [
              "         Date  Id        suburb  postalCode  sellPrice  bed  bath  car propType\n",
              "0  2019-06-19   1  Avalon Beach        2107    1210000  4.0     2  2.0    house\n",
              "1  2019-06-13   2  Avalon Beach        2107    2250000  4.0     3  4.0    house\n",
              "2  2019-06-07   3   Whale Beach        2107    2920000  3.0     3  2.0    house\n",
              "3  2019-05-28   4  Avalon Beach        2107    1530000  3.0     1  2.0    house\n",
              "4  2019-05-22   5   Whale Beach        2107    8000000  5.0     4  4.0    house"
            ]
          },
          "metadata": {},
          "execution_count": 4
        }
      ]
    },
    {
      "cell_type": "code",
      "metadata": {
        "id": "fCw_zPdLuRvr",
        "colab": {
          "base_uri": "https://localhost:8080/"
        },
        "outputId": "9018e6a8-e294-45da-b8a1-44e2cbef023f"
      },
      "source": [
        "df.shape"
      ],
      "execution_count": 5,
      "outputs": [
        {
          "output_type": "execute_result",
          "data": {
            "text/plain": [
              "(199504, 9)"
            ]
          },
          "metadata": {},
          "execution_count": 5
        }
      ]
    },
    {
      "cell_type": "code",
      "metadata": {
        "id": "MROUhjkvtrJu",
        "colab": {
          "base_uri": "https://localhost:8080/"
        },
        "outputId": "244d1e52-8c6f-4274-d631-23a325178db7"
      },
      "source": [
        "df.info()"
      ],
      "execution_count": 6,
      "outputs": [
        {
          "output_type": "stream",
          "name": "stdout",
          "text": [
            "<class 'pandas.core.frame.DataFrame'>\n",
            "RangeIndex: 199504 entries, 0 to 199503\n",
            "Data columns (total 9 columns):\n",
            " #   Column      Non-Null Count   Dtype  \n",
            "---  ------      --------------   -----  \n",
            " 0   Date        199504 non-null  object \n",
            " 1   Id          199504 non-null  int64  \n",
            " 2   suburb      199504 non-null  object \n",
            " 3   postalCode  199504 non-null  int64  \n",
            " 4   sellPrice   199504 non-null  int64  \n",
            " 5   bed         199350 non-null  float64\n",
            " 6   bath        199504 non-null  int64  \n",
            " 7   car         181353 non-null  float64\n",
            " 8   propType    199504 non-null  object \n",
            "dtypes: float64(2), int64(4), object(3)\n",
            "memory usage: 13.7+ MB\n"
          ]
        }
      ]
    },
    {
      "cell_type": "code",
      "metadata": {
        "id": "-X3wkC1gtrR1",
        "colab": {
          "base_uri": "https://localhost:8080/",
          "height": 295
        },
        "outputId": "46216d39-d3f9-42b1-ad7a-5202349d5cfd"
      },
      "source": [
        "round(df.describe(), 2)"
      ],
      "execution_count": 7,
      "outputs": [
        {
          "output_type": "execute_result",
          "data": {
            "text/html": [
              "<div>\n",
              "<style scoped>\n",
              "    .dataframe tbody tr th:only-of-type {\n",
              "        vertical-align: middle;\n",
              "    }\n",
              "\n",
              "    .dataframe tbody tr th {\n",
              "        vertical-align: top;\n",
              "    }\n",
              "\n",
              "    .dataframe thead th {\n",
              "        text-align: right;\n",
              "    }\n",
              "</style>\n",
              "<table border=\"1\" class=\"dataframe\">\n",
              "  <thead>\n",
              "    <tr style=\"text-align: right;\">\n",
              "      <th></th>\n",
              "      <th>Id</th>\n",
              "      <th>postalCode</th>\n",
              "      <th>sellPrice</th>\n",
              "      <th>bed</th>\n",
              "      <th>bath</th>\n",
              "      <th>car</th>\n",
              "    </tr>\n",
              "  </thead>\n",
              "  <tbody>\n",
              "    <tr>\n",
              "      <th>count</th>\n",
              "      <td>199504.00</td>\n",
              "      <td>199504.00</td>\n",
              "      <td>1.995040e+05</td>\n",
              "      <td>199350.00</td>\n",
              "      <td>199504.00</td>\n",
              "      <td>181353.00</td>\n",
              "    </tr>\n",
              "    <tr>\n",
              "      <th>mean</th>\n",
              "      <td>99752.50</td>\n",
              "      <td>2196.38</td>\n",
              "      <td>1.269776e+06</td>\n",
              "      <td>3.52</td>\n",
              "      <td>1.89</td>\n",
              "      <td>1.94</td>\n",
              "    </tr>\n",
              "    <tr>\n",
              "      <th>std</th>\n",
              "      <td>57591.99</td>\n",
              "      <td>193.05</td>\n",
              "      <td>6.948239e+06</td>\n",
              "      <td>1.07</td>\n",
              "      <td>0.93</td>\n",
              "      <td>1.06</td>\n",
              "    </tr>\n",
              "    <tr>\n",
              "      <th>min</th>\n",
              "      <td>1.00</td>\n",
              "      <td>2000.00</td>\n",
              "      <td>1.000000e+00</td>\n",
              "      <td>1.00</td>\n",
              "      <td>1.00</td>\n",
              "      <td>1.00</td>\n",
              "    </tr>\n",
              "    <tr>\n",
              "      <th>25%</th>\n",
              "      <td>49876.75</td>\n",
              "      <td>2082.00</td>\n",
              "      <td>7.200000e+05</td>\n",
              "      <td>3.00</td>\n",
              "      <td>1.00</td>\n",
              "      <td>1.00</td>\n",
              "    </tr>\n",
              "    <tr>\n",
              "      <th>50%</th>\n",
              "      <td>99752.50</td>\n",
              "      <td>2144.00</td>\n",
              "      <td>9.850000e+05</td>\n",
              "      <td>3.00</td>\n",
              "      <td>2.00</td>\n",
              "      <td>2.00</td>\n",
              "    </tr>\n",
              "    <tr>\n",
              "      <th>75%</th>\n",
              "      <td>149628.25</td>\n",
              "      <td>2211.00</td>\n",
              "      <td>1.475000e+06</td>\n",
              "      <td>4.00</td>\n",
              "      <td>2.00</td>\n",
              "      <td>2.00</td>\n",
              "    </tr>\n",
              "    <tr>\n",
              "      <th>max</th>\n",
              "      <td>199504.00</td>\n",
              "      <td>4878.00</td>\n",
              "      <td>2.147484e+09</td>\n",
              "      <td>99.00</td>\n",
              "      <td>99.00</td>\n",
              "      <td>41.00</td>\n",
              "    </tr>\n",
              "  </tbody>\n",
              "</table>\n",
              "</div>"
            ],
            "text/plain": [
              "              Id  postalCode     sellPrice        bed       bath        car\n",
              "count  199504.00   199504.00  1.995040e+05  199350.00  199504.00  181353.00\n",
              "mean    99752.50     2196.38  1.269776e+06       3.52       1.89       1.94\n",
              "std     57591.99      193.05  6.948239e+06       1.07       0.93       1.06\n",
              "min         1.00     2000.00  1.000000e+00       1.00       1.00       1.00\n",
              "25%     49876.75     2082.00  7.200000e+05       3.00       1.00       1.00\n",
              "50%     99752.50     2144.00  9.850000e+05       3.00       2.00       2.00\n",
              "75%    149628.25     2211.00  1.475000e+06       4.00       2.00       2.00\n",
              "max    199504.00     4878.00  2.147484e+09      99.00      99.00      41.00"
            ]
          },
          "metadata": {},
          "execution_count": 7
        }
      ]
    },
    {
      "cell_type": "markdown",
      "metadata": {
        "id": "GeZCTIuazuew"
      },
      "source": [
        "**From the above max - It shows the dataset has outliers and it needs to be removed.**"
      ]
    },
    {
      "cell_type": "markdown",
      "metadata": {
        "id": "ELD27hi3UnzO"
      },
      "source": [
        "## 4. Choosing predictors and target variables for performing Multiple Regression"
      ]
    },
    {
      "cell_type": "markdown",
      "metadata": {
        "id": "x1qfXutU0OjZ"
      },
      "source": [
        "**Target and Source variables**\n",
        "\n",
        "*   SellingPrice - Target Variable\n",
        "*   Bed, Bath, Car, propType, postalCode  - Predictor Variables\n",
        "\n"
      ]
    },
    {
      "cell_type": "code",
      "metadata": {
        "id": "MgpMuZXp0BWg"
      },
      "source": [
        "df_new = df[(df['Date']>= '2017-01-01') & (df['Date']< '2020-01-01')].reset_index(drop=True)\n",
        "df_new = df_new[['postalCode', 'bath', 'car', 'propType', 'sellPrice']]"
      ],
      "execution_count": 67,
      "outputs": []
    },
    {
      "cell_type": "code",
      "metadata": {
        "id": "4hxaowKcSntL",
        "colab": {
          "base_uri": "https://localhost:8080/"
        },
        "outputId": "d53b5608-d0e4-4d6f-9328-84a1577fa65e"
      },
      "source": [
        "df_new.propType.unique()"
      ],
      "execution_count": 44,
      "outputs": [
        {
          "output_type": "execute_result",
          "data": {
            "text/plain": [
              "array(['house', 'townhouse', 'duplex/semi-detached', 'villa', 'other',\n",
              "       'terrace', 'warehouse', 'acreage'], dtype=object)"
            ]
          },
          "metadata": {},
          "execution_count": 44
        }
      ]
    },
    {
      "cell_type": "code",
      "metadata": {
        "id": "3SKZbw9sRQt0",
        "colab": {
          "base_uri": "https://localhost:8080/"
        },
        "outputId": "c834b255-514e-4391-ad95-70ef1725bc49"
      },
      "source": [
        "df['propType'].value_counts()"
      ],
      "execution_count": 45,
      "outputs": [
        {
          "output_type": "execute_result",
          "data": {
            "text/plain": [
              "house                   170117\n",
              "townhouse                15177\n",
              "duplex/semi-detached      6722\n",
              "villa                     5701\n",
              "terrace                   1344\n",
              "other                      392\n",
              "warehouse                   40\n",
              "acreage                     11\n",
              "Name: propType, dtype: int64"
            ]
          },
          "metadata": {},
          "execution_count": 45
        }
      ]
    },
    {
      "cell_type": "code",
      "metadata": {
        "id": "-zR9DXCn1F8r",
        "colab": {
          "base_uri": "https://localhost:8080/",
          "height": 203
        },
        "outputId": "5d66559a-8c13-43c9-f8bc-1ca32439be98"
      },
      "source": [
        "df_new.head(5)"
      ],
      "execution_count": 46,
      "outputs": [
        {
          "output_type": "execute_result",
          "data": {
            "text/html": [
              "<div>\n",
              "<style scoped>\n",
              "    .dataframe tbody tr th:only-of-type {\n",
              "        vertical-align: middle;\n",
              "    }\n",
              "\n",
              "    .dataframe tbody tr th {\n",
              "        vertical-align: top;\n",
              "    }\n",
              "\n",
              "    .dataframe thead th {\n",
              "        text-align: right;\n",
              "    }\n",
              "</style>\n",
              "<table border=\"1\" class=\"dataframe\">\n",
              "  <thead>\n",
              "    <tr style=\"text-align: right;\">\n",
              "      <th></th>\n",
              "      <th>propType</th>\n",
              "      <th>postalCode</th>\n",
              "      <th>bath</th>\n",
              "      <th>car</th>\n",
              "      <th>sellPrice</th>\n",
              "    </tr>\n",
              "  </thead>\n",
              "  <tbody>\n",
              "    <tr>\n",
              "      <th>0</th>\n",
              "      <td>house</td>\n",
              "      <td>2107</td>\n",
              "      <td>2</td>\n",
              "      <td>2.0</td>\n",
              "      <td>1210000</td>\n",
              "    </tr>\n",
              "    <tr>\n",
              "      <th>1</th>\n",
              "      <td>house</td>\n",
              "      <td>2107</td>\n",
              "      <td>3</td>\n",
              "      <td>4.0</td>\n",
              "      <td>2250000</td>\n",
              "    </tr>\n",
              "    <tr>\n",
              "      <th>2</th>\n",
              "      <td>house</td>\n",
              "      <td>2107</td>\n",
              "      <td>3</td>\n",
              "      <td>2.0</td>\n",
              "      <td>2920000</td>\n",
              "    </tr>\n",
              "    <tr>\n",
              "      <th>3</th>\n",
              "      <td>house</td>\n",
              "      <td>2107</td>\n",
              "      <td>1</td>\n",
              "      <td>2.0</td>\n",
              "      <td>1530000</td>\n",
              "    </tr>\n",
              "    <tr>\n",
              "      <th>4</th>\n",
              "      <td>house</td>\n",
              "      <td>2107</td>\n",
              "      <td>4</td>\n",
              "      <td>4.0</td>\n",
              "      <td>8000000</td>\n",
              "    </tr>\n",
              "  </tbody>\n",
              "</table>\n",
              "</div>"
            ],
            "text/plain": [
              "  propType  postalCode  bath  car  sellPrice\n",
              "0    house        2107     2  2.0    1210000\n",
              "1    house        2107     3  4.0    2250000\n",
              "2    house        2107     3  2.0    2920000\n",
              "3    house        2107     1  2.0    1530000\n",
              "4    house        2107     4  4.0    8000000"
            ]
          },
          "metadata": {},
          "execution_count": 46
        }
      ]
    },
    {
      "cell_type": "markdown",
      "metadata": {
        "id": "PD8_zJrU_9CX"
      },
      "source": [
        "Encoding the categorical variables - Change the text into numbers"
      ]
    },
    {
      "cell_type": "code",
      "metadata": {
        "id": "dXi025d87t7J"
      },
      "source": [
        "df_new['propType'] = df_new['propType'].astype('category').cat.codes"
      ],
      "execution_count": 47,
      "outputs": []
    },
    {
      "cell_type": "code",
      "metadata": {
        "id": "TOPJyDy0Stpv",
        "colab": {
          "base_uri": "https://localhost:8080/"
        },
        "outputId": "6058c7c4-946c-410f-fdbc-67018c3b7646"
      },
      "source": [
        "df_new.propType.unique()"
      ],
      "execution_count": 48,
      "outputs": [
        {
          "output_type": "execute_result",
          "data": {
            "text/plain": [
              "array([2, 5, 1, 6, 3, 4, 7, 0], dtype=int8)"
            ]
          },
          "metadata": {},
          "execution_count": 48
        }
      ]
    },
    {
      "cell_type": "code",
      "metadata": {
        "id": "p3iOdYnh72mQ",
        "colab": {
          "base_uri": "https://localhost:8080/",
          "height": 203
        },
        "outputId": "5e8d609c-d107-4040-fb53-017f49ba7ced"
      },
      "source": [
        "df_new.head(5)"
      ],
      "execution_count": 49,
      "outputs": [
        {
          "output_type": "execute_result",
          "data": {
            "text/html": [
              "<div>\n",
              "<style scoped>\n",
              "    .dataframe tbody tr th:only-of-type {\n",
              "        vertical-align: middle;\n",
              "    }\n",
              "\n",
              "    .dataframe tbody tr th {\n",
              "        vertical-align: top;\n",
              "    }\n",
              "\n",
              "    .dataframe thead th {\n",
              "        text-align: right;\n",
              "    }\n",
              "</style>\n",
              "<table border=\"1\" class=\"dataframe\">\n",
              "  <thead>\n",
              "    <tr style=\"text-align: right;\">\n",
              "      <th></th>\n",
              "      <th>propType</th>\n",
              "      <th>postalCode</th>\n",
              "      <th>bath</th>\n",
              "      <th>car</th>\n",
              "      <th>sellPrice</th>\n",
              "    </tr>\n",
              "  </thead>\n",
              "  <tbody>\n",
              "    <tr>\n",
              "      <th>0</th>\n",
              "      <td>2</td>\n",
              "      <td>2107</td>\n",
              "      <td>2</td>\n",
              "      <td>2.0</td>\n",
              "      <td>1210000</td>\n",
              "    </tr>\n",
              "    <tr>\n",
              "      <th>1</th>\n",
              "      <td>2</td>\n",
              "      <td>2107</td>\n",
              "      <td>3</td>\n",
              "      <td>4.0</td>\n",
              "      <td>2250000</td>\n",
              "    </tr>\n",
              "    <tr>\n",
              "      <th>2</th>\n",
              "      <td>2</td>\n",
              "      <td>2107</td>\n",
              "      <td>3</td>\n",
              "      <td>2.0</td>\n",
              "      <td>2920000</td>\n",
              "    </tr>\n",
              "    <tr>\n",
              "      <th>3</th>\n",
              "      <td>2</td>\n",
              "      <td>2107</td>\n",
              "      <td>1</td>\n",
              "      <td>2.0</td>\n",
              "      <td>1530000</td>\n",
              "    </tr>\n",
              "    <tr>\n",
              "      <th>4</th>\n",
              "      <td>2</td>\n",
              "      <td>2107</td>\n",
              "      <td>4</td>\n",
              "      <td>4.0</td>\n",
              "      <td>8000000</td>\n",
              "    </tr>\n",
              "  </tbody>\n",
              "</table>\n",
              "</div>"
            ],
            "text/plain": [
              "   propType  postalCode  bath  car  sellPrice\n",
              "0         2        2107     2  2.0    1210000\n",
              "1         2        2107     3  4.0    2250000\n",
              "2         2        2107     3  2.0    2920000\n",
              "3         2        2107     1  2.0    1530000\n",
              "4         2        2107     4  4.0    8000000"
            ]
          },
          "metadata": {},
          "execution_count": 49
        }
      ]
    },
    {
      "cell_type": "code",
      "metadata": {
        "id": "kew-yZLjEz7Q",
        "colab": {
          "base_uri": "https://localhost:8080/"
        },
        "outputId": "bd9efca2-ce05-411b-e1c5-419053294446"
      },
      "source": [
        "df_new.dtypes"
      ],
      "execution_count": 50,
      "outputs": [
        {
          "output_type": "execute_result",
          "data": {
            "text/plain": [
              "propType         int8\n",
              "postalCode      int64\n",
              "bath            int64\n",
              "car           float64\n",
              "sellPrice       int64\n",
              "dtype: object"
            ]
          },
          "metadata": {},
          "execution_count": 50
        }
      ]
    },
    {
      "cell_type": "code",
      "metadata": {
        "id": "OwJYvNbMGpKH",
        "colab": {
          "base_uri": "https://localhost:8080/"
        },
        "outputId": "020ac2ac-326e-48df-c13d-1bb791fd1808"
      },
      "source": [
        "df_new.count()"
      ],
      "execution_count": 51,
      "outputs": [
        {
          "output_type": "execute_result",
          "data": {
            "text/plain": [
              "propType      60995\n",
              "postalCode    60995\n",
              "bath          60995\n",
              "car           57090\n",
              "sellPrice     60995\n",
              "dtype: int64"
            ]
          },
          "metadata": {},
          "execution_count": 51
        }
      ]
    },
    {
      "cell_type": "code",
      "metadata": {
        "id": "jeLpJdyERkp5",
        "colab": {
          "base_uri": "https://localhost:8080/"
        },
        "outputId": "6f018eb0-267e-4d90-b544-1d3aa6dfd42e"
      },
      "source": [
        "df_new.isnull().sum()"
      ],
      "execution_count": 52,
      "outputs": [
        {
          "output_type": "execute_result",
          "data": {
            "text/plain": [
              "propType         0\n",
              "postalCode       0\n",
              "bath             0\n",
              "car           3905\n",
              "sellPrice        0\n",
              "dtype: int64"
            ]
          },
          "metadata": {},
          "execution_count": 52
        }
      ]
    },
    {
      "cell_type": "code",
      "metadata": {
        "id": "mwMTcS7Ivmuk"
      },
      "source": [
        "df_new['car'].fillna(df_new.groupby(['postalCode'])['car'].transform('median'), inplace=True)\n",
        "#df_new['bed'].fillna(df_new.groupby(['postalCode', 'propType'])['bed'].transform('median'), inplace=True)"
      ],
      "execution_count": 53,
      "outputs": []
    },
    {
      "cell_type": "code",
      "metadata": {
        "id": "YYybAfybUm1a",
        "colab": {
          "base_uri": "https://localhost:8080/"
        },
        "outputId": "f726ae7f-da0e-4409-be1a-d53c88daac3a"
      },
      "source": [
        "df_new.isnull().sum()"
      ],
      "execution_count": 19,
      "outputs": [
        {
          "output_type": "execute_result",
          "data": {
            "text/plain": [
              "postalCode    0\n",
              "bath          0\n",
              "car           0\n",
              "propType      0\n",
              "sellPrice     0\n",
              "dtype: int64"
            ]
          },
          "metadata": {},
          "execution_count": 19
        }
      ]
    },
    {
      "cell_type": "markdown",
      "metadata": {
        "id": "Mk-BdqGC5Kkm"
      },
      "source": [
        "## 5. Remove outliers in the data"
      ]
    },
    {
      "cell_type": "code",
      "metadata": {
        "id": "2Hm7FDLBGCqq"
      },
      "source": [
        "def remove_outlier(df_in, col_name):\n",
        "# Removes outliers from a specified column of a dataframe using IQR and returns an updated dataframe.\n",
        "    q1 = df_in[col_name].quantile(0.25)\n",
        "    q3 = df_in[col_name].quantile(0.75)\n",
        "    iqr = q3 - q1 # Interquartile range\n",
        "    fence_low  = q1 - 1.5 * iqr\n",
        "    fence_high = q3 + 1.5 * iqr\n",
        "    df_out = df_in.loc[(df_in[col_name] > fence_low) & (df_in[col_name] < fence_high)]\n",
        "    return df_out"
      ],
      "execution_count": 54,
      "outputs": []
    },
    {
      "cell_type": "code",
      "metadata": {
        "id": "0DFWQzfZGu9w"
      },
      "source": [
        "#df_no_outlier_bed = remove_outlier(df_new, 'bed').reset_index(drop=True)\n",
        "df_no_outlier_bath = remove_outlier(df_new, 'bath').reset_index(drop=True)\n",
        "df_no_outlier_car = remove_outlier(df_no_outlier_bath, 'car').reset_index(drop=True)\n",
        "df_no_outlier = remove_outlier(df_no_outlier_car, 'sellPrice').reset_index(drop=True)"
      ],
      "execution_count": 55,
      "outputs": []
    },
    {
      "cell_type": "code",
      "metadata": {
        "id": "2YFjMaQ3G26P",
        "colab": {
          "base_uri": "https://localhost:8080/",
          "height": 295
        },
        "outputId": "e102ef21-9626-4d96-c181-a82762d2b38e"
      },
      "source": [
        "df_no_outlier.describe()"
      ],
      "execution_count": 56,
      "outputs": [
        {
          "output_type": "execute_result",
          "data": {
            "text/html": [
              "<div>\n",
              "<style scoped>\n",
              "    .dataframe tbody tr th:only-of-type {\n",
              "        vertical-align: middle;\n",
              "    }\n",
              "\n",
              "    .dataframe tbody tr th {\n",
              "        vertical-align: top;\n",
              "    }\n",
              "\n",
              "    .dataframe thead th {\n",
              "        text-align: right;\n",
              "    }\n",
              "</style>\n",
              "<table border=\"1\" class=\"dataframe\">\n",
              "  <thead>\n",
              "    <tr style=\"text-align: right;\">\n",
              "      <th></th>\n",
              "      <th>propType</th>\n",
              "      <th>postalCode</th>\n",
              "      <th>bath</th>\n",
              "      <th>car</th>\n",
              "      <th>sellPrice</th>\n",
              "    </tr>\n",
              "  </thead>\n",
              "  <tbody>\n",
              "    <tr>\n",
              "      <th>count</th>\n",
              "      <td>52458.000000</td>\n",
              "      <td>52458.000000</td>\n",
              "      <td>52458.000000</td>\n",
              "      <td>52458.000000</td>\n",
              "      <td>5.245800e+04</td>\n",
              "    </tr>\n",
              "    <tr>\n",
              "      <th>mean</th>\n",
              "      <td>2.370067</td>\n",
              "      <td>2259.887110</td>\n",
              "      <td>1.767814</td>\n",
              "      <td>1.712256</td>\n",
              "      <td>1.155078e+06</td>\n",
              "    </tr>\n",
              "    <tr>\n",
              "      <th>std</th>\n",
              "      <td>1.123813</td>\n",
              "      <td>231.380742</td>\n",
              "      <td>0.680559</td>\n",
              "      <td>0.606963</td>\n",
              "      <td>5.224147e+05</td>\n",
              "    </tr>\n",
              "    <tr>\n",
              "      <th>min</th>\n",
              "      <td>0.000000</td>\n",
              "      <td>2000.000000</td>\n",
              "      <td>1.000000</td>\n",
              "      <td>1.000000</td>\n",
              "      <td>1.000000e+03</td>\n",
              "    </tr>\n",
              "    <tr>\n",
              "      <th>25%</th>\n",
              "      <td>2.000000</td>\n",
              "      <td>2115.000000</td>\n",
              "      <td>1.000000</td>\n",
              "      <td>1.000000</td>\n",
              "      <td>7.450000e+05</td>\n",
              "    </tr>\n",
              "    <tr>\n",
              "      <th>50%</th>\n",
              "      <td>2.000000</td>\n",
              "      <td>2166.000000</td>\n",
              "      <td>2.000000</td>\n",
              "      <td>2.000000</td>\n",
              "      <td>1.005000e+06</td>\n",
              "    </tr>\n",
              "    <tr>\n",
              "      <th>75%</th>\n",
              "      <td>2.000000</td>\n",
              "      <td>2232.000000</td>\n",
              "      <td>2.000000</td>\n",
              "      <td>2.000000</td>\n",
              "      <td>1.460000e+06</td>\n",
              "    </tr>\n",
              "    <tr>\n",
              "      <th>max</th>\n",
              "      <td>7.000000</td>\n",
              "      <td>4212.000000</td>\n",
              "      <td>3.000000</td>\n",
              "      <td>3.000000</td>\n",
              "      <td>2.766000e+06</td>\n",
              "    </tr>\n",
              "  </tbody>\n",
              "</table>\n",
              "</div>"
            ],
            "text/plain": [
              "           propType    postalCode          bath           car     sellPrice\n",
              "count  52458.000000  52458.000000  52458.000000  52458.000000  5.245800e+04\n",
              "mean       2.370067   2259.887110      1.767814      1.712256  1.155078e+06\n",
              "std        1.123813    231.380742      0.680559      0.606963  5.224147e+05\n",
              "min        0.000000   2000.000000      1.000000      1.000000  1.000000e+03\n",
              "25%        2.000000   2115.000000      1.000000      1.000000  7.450000e+05\n",
              "50%        2.000000   2166.000000      2.000000      2.000000  1.005000e+06\n",
              "75%        2.000000   2232.000000      2.000000      2.000000  1.460000e+06\n",
              "max        7.000000   4212.000000      3.000000      3.000000  2.766000e+06"
            ]
          },
          "metadata": {},
          "execution_count": 56
        }
      ]
    },
    {
      "cell_type": "code",
      "metadata": {
        "id": "MsrzaKfNEOss"
      },
      "source": [
        "corr = df_no_outlier.corr()"
      ],
      "execution_count": 57,
      "outputs": []
    },
    {
      "cell_type": "code",
      "metadata": {
        "id": "6CJcE8PS9WwQ",
        "colab": {
          "base_uri": "https://localhost:8080/",
          "height": 203
        },
        "outputId": "2a4fb965-b1f5-450b-859e-d944beb2f302"
      },
      "source": [
        "corr"
      ],
      "execution_count": 58,
      "outputs": [
        {
          "output_type": "execute_result",
          "data": {
            "text/html": [
              "<div>\n",
              "<style scoped>\n",
              "    .dataframe tbody tr th:only-of-type {\n",
              "        vertical-align: middle;\n",
              "    }\n",
              "\n",
              "    .dataframe tbody tr th {\n",
              "        vertical-align: top;\n",
              "    }\n",
              "\n",
              "    .dataframe thead th {\n",
              "        text-align: right;\n",
              "    }\n",
              "</style>\n",
              "<table border=\"1\" class=\"dataframe\">\n",
              "  <thead>\n",
              "    <tr style=\"text-align: right;\">\n",
              "      <th></th>\n",
              "      <th>propType</th>\n",
              "      <th>postalCode</th>\n",
              "      <th>bath</th>\n",
              "      <th>car</th>\n",
              "      <th>sellPrice</th>\n",
              "    </tr>\n",
              "  </thead>\n",
              "  <tbody>\n",
              "    <tr>\n",
              "      <th>propType</th>\n",
              "      <td>1.000000</td>\n",
              "      <td>-0.030173</td>\n",
              "      <td>-0.086355</td>\n",
              "      <td>-0.087028</td>\n",
              "      <td>-0.185970</td>\n",
              "    </tr>\n",
              "    <tr>\n",
              "      <th>postalCode</th>\n",
              "      <td>-0.030173</td>\n",
              "      <td>1.000000</td>\n",
              "      <td>-0.051593</td>\n",
              "      <td>0.017311</td>\n",
              "      <td>-0.539464</td>\n",
              "    </tr>\n",
              "    <tr>\n",
              "      <th>bath</th>\n",
              "      <td>-0.086355</td>\n",
              "      <td>-0.051593</td>\n",
              "      <td>1.000000</td>\n",
              "      <td>0.288033</td>\n",
              "      <td>0.273533</td>\n",
              "    </tr>\n",
              "    <tr>\n",
              "      <th>car</th>\n",
              "      <td>-0.087028</td>\n",
              "      <td>0.017311</td>\n",
              "      <td>0.288033</td>\n",
              "      <td>1.000000</td>\n",
              "      <td>0.143199</td>\n",
              "    </tr>\n",
              "    <tr>\n",
              "      <th>sellPrice</th>\n",
              "      <td>-0.185970</td>\n",
              "      <td>-0.539464</td>\n",
              "      <td>0.273533</td>\n",
              "      <td>0.143199</td>\n",
              "      <td>1.000000</td>\n",
              "    </tr>\n",
              "  </tbody>\n",
              "</table>\n",
              "</div>"
            ],
            "text/plain": [
              "            propType  postalCode      bath       car  sellPrice\n",
              "propType    1.000000   -0.030173 -0.086355 -0.087028  -0.185970\n",
              "postalCode -0.030173    1.000000 -0.051593  0.017311  -0.539464\n",
              "bath       -0.086355   -0.051593  1.000000  0.288033   0.273533\n",
              "car        -0.087028    0.017311  0.288033  1.000000   0.143199\n",
              "sellPrice  -0.185970   -0.539464  0.273533  0.143199   1.000000"
            ]
          },
          "metadata": {},
          "execution_count": 58
        }
      ]
    },
    {
      "cell_type": "markdown",
      "metadata": {
        "id": "SyOZVymo-Ucu"
      },
      "source": [
        "## 6. Correlation heatmap with the mask and correct aspect ratio"
      ]
    },
    {
      "cell_type": "code",
      "metadata": {
        "id": "P0i-1i6q7iXO",
        "colab": {
          "base_uri": "https://localhost:8080/",
          "height": 554
        },
        "outputId": "a56ab167-759c-4f79-b06d-7685fb3540e0"
      },
      "source": [
        "mask = np.zeros_like(corr, dtype=np.bool)\n",
        "mask[np.triu_indices_from(mask)] = True\n",
        "cmap = sns.diverging_palette(10, 250, as_cmap=True)\n",
        "f, ax = plt.subplots(figsize=(11, 9))\n",
        "sns.heatmap(corr, mask=mask, cmap=cmap,\n",
        "            square=True, linewidths=0.2, cbar_kws={'shrink': 0.5}, ax=ax, annot=True)"
      ],
      "execution_count": 59,
      "outputs": [
        {
          "output_type": "execute_result",
          "data": {
            "text/plain": [
              "<matplotlib.axes._subplots.AxesSubplot at 0x7fa387d61c90>"
            ]
          },
          "metadata": {},
          "execution_count": 59
        },
        {
          "output_type": "display_data",
          "data": {
            "image/png": "[encoded data removed]",
            "text/plain": [
              "<Figure size 792x648 with 2 Axes>"
            ]
          },
          "metadata": {
            "needs_background": "light"
          }
        }
      ]
    },
    {
      "cell_type": "markdown",
      "metadata": {
        "id": "kgpwjaf2CMz5"
      },
      "source": [
        "## 7. Split Target and Predictor Variables to different dataframes"
      ]
    },
    {
      "cell_type": "code",
      "metadata": {
        "id": "yjYR2O6NCJRt"
      },
      "source": [
        "X = df_no_outlier.iloc[:, :-1]\n",
        "y = df_no_outlier.iloc[:, 4]"
      ],
      "execution_count": 60,
      "outputs": []
    },
    {
      "cell_type": "code",
      "metadata": {
        "id": "7A03Wa-jC8-i",
        "colab": {
          "base_uri": "https://localhost:8080/",
          "height": 203
        },
        "outputId": "2762c45d-4668-44ae-c8a1-4c612b6ca3f5"
      },
      "source": [
        "X.head(5)"
      ],
      "execution_count": 61,
      "outputs": [
        {
          "output_type": "execute_result",
          "data": {
            "text/html": [
              "<div>\n",
              "<style scoped>\n",
              "    .dataframe tbody tr th:only-of-type {\n",
              "        vertical-align: middle;\n",
              "    }\n",
              "\n",
              "    .dataframe tbody tr th {\n",
              "        vertical-align: top;\n",
              "    }\n",
              "\n",
              "    .dataframe thead th {\n",
              "        text-align: right;\n",
              "    }\n",
              "</style>\n",
              "<table border=\"1\" class=\"dataframe\">\n",
              "  <thead>\n",
              "    <tr style=\"text-align: right;\">\n",
              "      <th></th>\n",
              "      <th>propType</th>\n",
              "      <th>postalCode</th>\n",
              "      <th>bath</th>\n",
              "      <th>car</th>\n",
              "    </tr>\n",
              "  </thead>\n",
              "  <tbody>\n",
              "    <tr>\n",
              "      <th>0</th>\n",
              "      <td>2</td>\n",
              "      <td>2107</td>\n",
              "      <td>2</td>\n",
              "      <td>2.0</td>\n",
              "    </tr>\n",
              "    <tr>\n",
              "      <th>1</th>\n",
              "      <td>2</td>\n",
              "      <td>2107</td>\n",
              "      <td>1</td>\n",
              "      <td>2.0</td>\n",
              "    </tr>\n",
              "    <tr>\n",
              "      <th>2</th>\n",
              "      <td>2</td>\n",
              "      <td>2107</td>\n",
              "      <td>2</td>\n",
              "      <td>2.0</td>\n",
              "    </tr>\n",
              "    <tr>\n",
              "      <th>3</th>\n",
              "      <td>2</td>\n",
              "      <td>2107</td>\n",
              "      <td>1</td>\n",
              "      <td>2.0</td>\n",
              "    </tr>\n",
              "    <tr>\n",
              "      <th>4</th>\n",
              "      <td>2</td>\n",
              "      <td>2107</td>\n",
              "      <td>1</td>\n",
              "      <td>2.0</td>\n",
              "    </tr>\n",
              "  </tbody>\n",
              "</table>\n",
              "</div>"
            ],
            "text/plain": [
              "   propType  postalCode  bath  car\n",
              "0         2        2107     2  2.0\n",
              "1         2        2107     1  2.0\n",
              "2         2        2107     2  2.0\n",
              "3         2        2107     1  2.0\n",
              "4         2        2107     1  2.0"
            ]
          },
          "metadata": {},
          "execution_count": 61
        }
      ]
    },
    {
      "cell_type": "code",
      "metadata": {
        "id": "vT693h-mC_-Z",
        "colab": {
          "base_uri": "https://localhost:8080/"
        },
        "outputId": "566390ab-e5c4-4099-a4e1-0bfa005497c8"
      },
      "source": [
        "y.head(5)"
      ],
      "execution_count": 62,
      "outputs": [
        {
          "output_type": "execute_result",
          "data": {
            "text/plain": [
              "0    1210000\n",
              "1    1530000\n",
              "2    1610000\n",
              "3    1510000\n",
              "4    1400000\n",
              "Name: sellPrice, dtype: int64"
            ]
          },
          "metadata": {},
          "execution_count": 62
        }
      ]
    },
    {
      "cell_type": "markdown",
      "metadata": {
        "id": "OtebqAqQDEcD"
      },
      "source": [
        "Convert dataframes to values to feed into Model"
      ]
    },
    {
      "cell_type": "code",
      "metadata": {
        "id": "vqAKWnYDDCyZ"
      },
      "source": [
        "X = X.values\n",
        "y = y.values"
      ],
      "execution_count": 63,
      "outputs": []
    },
    {
      "cell_type": "code",
      "metadata": {
        "id": "DU3u3eRdDRNr",
        "colab": {
          "base_uri": "https://localhost:8080/"
        },
        "outputId": "9c5422eb-4586-43b4-8138-6e1194ce375b"
      },
      "source": [
        "print('Number of records and predictor variables:', X.shape)\n",
        "print('Number of records and target variable:', y.shape)"
      ],
      "execution_count": 64,
      "outputs": [
        {
          "output_type": "stream",
          "name": "stdout",
          "text": [
            "Number of records and predictor variables: (52458, 4)\n",
            "Number of records and target variable: (52458,)\n"
          ]
        }
      ]
    },
    {
      "cell_type": "markdown",
      "metadata": {
        "id": "T9OsPog_DqPJ"
      },
      "source": [
        "## 8. Split dataset into the training and test using train_set_split: 90% - train and 10% - test"
      ]
    },
    {
      "cell_type": "code",
      "metadata": {
        "id": "jbTStZckEPx3"
      },
      "source": [
        "X_train, X_test, y_train, y_test = train_test_split( X, y, test_size=0.1, random_state=23)"
      ],
      "execution_count": 31,
      "outputs": []
    },
    {
      "cell_type": "code",
      "metadata": {
        "id": "TsDkySmVEaw-",
        "colab": {
          "base_uri": "https://localhost:8080/"
        },
        "outputId": "a72b4e3c-1fb0-4ce6-e827-d91c8645fae3"
      },
      "source": [
        "print('Training Data:', X_train.shape, y_train.shape)\n",
        "print('Testing Data:', X_test.shape, y_test.shape)"
      ],
      "execution_count": 32,
      "outputs": [
        {
          "output_type": "stream",
          "name": "stdout",
          "text": [
            "Training Data: (47212, 4) (47212,)\n",
            "Testing Data: (5246, 4) (5246,)\n"
          ]
        }
      ]
    },
    {
      "cell_type": "markdown",
      "metadata": {
        "id": "ntbC1AdIFgr-"
      },
      "source": [
        "## 9. Train, Test and Predict using regression model"
      ]
    },
    {
      "cell_type": "markdown",
      "metadata": {
        "id": "nyfw2aBCFIDs"
      },
      "source": [
        "Create an object called regressor in the LinearRegression class"
      ]
    },
    {
      "cell_type": "code",
      "metadata": {
        "id": "tiDx7EdrFOwv"
      },
      "source": [
        "regressor = LinearRegression()"
      ],
      "execution_count": 33,
      "outputs": []
    },
    {
      "cell_type": "markdown",
      "metadata": {
        "id": "dGcxP5OAFam_"
      },
      "source": [
        "Fit the linear regression model to the training set. We use the fit method the arguments of the fit method will be training sets"
      ]
    },
    {
      "cell_type": "code",
      "metadata": {
        "id": "iJFpxajpFcZf",
        "colab": {
          "base_uri": "https://localhost:8080/"
        },
        "outputId": "812964ae-1fca-451c-c66f-0bb09f05e4c8"
      },
      "source": [
        "regressor.fit(X_train,y_train)"
      ],
      "execution_count": 34,
      "outputs": [
        {
          "output_type": "execute_result",
          "data": {
            "text/plain": [
              "LinearRegression(copy_X=True, fit_intercept=True, n_jobs=None, normalize=False)"
            ]
          },
          "metadata": {},
          "execution_count": 34
        }
      ]
    },
    {
      "cell_type": "markdown",
      "metadata": {
        "id": "Qg_GAA22Oomq"
      },
      "source": [
        "Regression Coefficients"
      ]
    },
    {
      "cell_type": "code",
      "metadata": {
        "id": "IxuEcAqwLA9I",
        "colab": {
          "base_uri": "https://localhost:8080/"
        },
        "outputId": "c34e6370-407a-4675-908d-ed8169857a93"
      },
      "source": [
        "print('Coefficients: ', regressor.coef_)"
      ],
      "execution_count": 35,
      "outputs": [
        {
          "output_type": "stream",
          "name": "stdout",
          "text": [
            "Coefficients:  [ -1204.26160164 159007.81926934  65613.1335534  -82366.65052855]\n"
          ]
        }
      ]
    },
    {
      "cell_type": "code",
      "metadata": {
        "id": "WVjIGt5pT-H7",
        "colab": {
          "base_uri": "https://localhost:8080/",
          "height": 80
        },
        "outputId": "88439ba0-668c-4018-813a-40cd585742ac"
      },
      "source": [
        "column_names=['postalCode', 'bath', 'car', 'propType' ]\n",
        "coefficient_df = pd.DataFrame(regressor.coef_).T\n",
        "coefficient_df.columns = column_names\n",
        "coefficient_df"
      ],
      "execution_count": 36,
      "outputs": [
        {
          "output_type": "execute_result",
          "data": {
            "text/html": [
              "<div>\n",
              "<style scoped>\n",
              "    .dataframe tbody tr th:only-of-type {\n",
              "        vertical-align: middle;\n",
              "    }\n",
              "\n",
              "    .dataframe tbody tr th {\n",
              "        vertical-align: top;\n",
              "    }\n",
              "\n",
              "    .dataframe thead th {\n",
              "        text-align: right;\n",
              "    }\n",
              "</style>\n",
              "<table border=\"1\" class=\"dataframe\">\n",
              "  <thead>\n",
              "    <tr style=\"text-align: right;\">\n",
              "      <th></th>\n",
              "      <th>postalCode</th>\n",
              "      <th>bath</th>\n",
              "      <th>car</th>\n",
              "      <th>propType</th>\n",
              "    </tr>\n",
              "  </thead>\n",
              "  <tbody>\n",
              "    <tr>\n",
              "      <th>0</th>\n",
              "      <td>-1204.261602</td>\n",
              "      <td>159007.819269</td>\n",
              "      <td>65613.133553</td>\n",
              "      <td>-82366.650529</td>\n",
              "    </tr>\n",
              "  </tbody>\n",
              "</table>\n",
              "</div>"
            ],
            "text/plain": [
              "    postalCode           bath           car      propType\n",
              "0 -1204.261602  159007.819269  65613.133553 -82366.650529"
            ]
          },
          "metadata": {},
          "execution_count": 36
        }
      ]
    },
    {
      "cell_type": "markdown",
      "metadata": {
        "id": "msEAq6_FFvX-"
      },
      "source": [
        "Predicting the Test set results"
      ]
    },
    {
      "cell_type": "code",
      "metadata": {
        "id": "qatuSLFHFzH-"
      },
      "source": [
        "y_pred= regressor.predict(X_test)"
      ],
      "execution_count": 37,
      "outputs": []
    },
    {
      "cell_type": "markdown",
      "metadata": {
        "id": "mehJbVfqHv9c"
      },
      "source": [
        "## 10. Evaluation metrics - How to Calculate R-Square and RMSE"
      ]
    },
    {
      "cell_type": "code",
      "metadata": {
        "id": "tJmxLtSKHtPe",
        "colab": {
          "base_uri": "https://localhost:8080/"
        },
        "outputId": "f9d80be1-96b4-48ae-c77f-791df1cd30c4"
      },
      "source": [
        "coefficient_of_dermination = r2_score(y_test,y_pred)\n",
        "print('R-squared:',coefficient_of_dermination)\n",
        "\n",
        "rmse = np.sqrt(mean_squared_error(y_test, y_pred))\n",
        "print('Root Mean Squared Error: {}'.format(rmse))"
      ],
      "execution_count": 38,
      "outputs": [
        {
          "output_type": "stream",
          "name": "stdout",
          "text": [
            "R-squared: 0.4087963299441838\n",
            "Root Mean Squared Error: 407483.5079411727\n"
          ]
        }
      ]
    },
    {
      "cell_type": "code",
      "metadata": {
        "id": "8JeIf2txYaHD",
        "colab": {
          "base_uri": "https://localhost:8080/",
          "height": 203
        },
        "outputId": "9d1dc286-4180-4370-ce4b-8090fc912e31"
      },
      "source": [
        "# Displaying Results and Difference in Table \n",
        "res = pd.DataFrame(y_pred, y_test)\n",
        "res = res.reset_index()\n",
        "res.columns = ['Price', 'Prediction']\n",
        "res['Prediction'] = round(res['Prediction'], 0)\n",
        "res['Difference'] = res['Price'] - res['Prediction']\n",
        "res.head(5)"
      ],
      "execution_count": 39,
      "outputs": [
        {
          "output_type": "execute_result",
          "data": {
            "text/html": [
              "<div>\n",
              "<style scoped>\n",
              "    .dataframe tbody tr th:only-of-type {\n",
              "        vertical-align: middle;\n",
              "    }\n",
              "\n",
              "    .dataframe tbody tr th {\n",
              "        vertical-align: top;\n",
              "    }\n",
              "\n",
              "    .dataframe thead th {\n",
              "        text-align: right;\n",
              "    }\n",
              "</style>\n",
              "<table border=\"1\" class=\"dataframe\">\n",
              "  <thead>\n",
              "    <tr style=\"text-align: right;\">\n",
              "      <th></th>\n",
              "      <th>Price</th>\n",
              "      <th>Prediction</th>\n",
              "      <th>Difference</th>\n",
              "    </tr>\n",
              "  </thead>\n",
              "  <tbody>\n",
              "    <tr>\n",
              "      <th>0</th>\n",
              "      <td>2702000</td>\n",
              "      <td>1547549.0</td>\n",
              "      <td>1154451.0</td>\n",
              "    </tr>\n",
              "    <tr>\n",
              "      <th>1</th>\n",
              "      <td>929000</td>\n",
              "      <td>1301251.0</td>\n",
              "      <td>-372251.0</td>\n",
              "    </tr>\n",
              "    <tr>\n",
              "      <th>2</th>\n",
              "      <td>1042000</td>\n",
              "      <td>918131.0</td>\n",
              "      <td>123869.0</td>\n",
              "    </tr>\n",
              "    <tr>\n",
              "      <th>3</th>\n",
              "      <td>692000</td>\n",
              "      <td>1153665.0</td>\n",
              "      <td>-461665.0</td>\n",
              "    </tr>\n",
              "    <tr>\n",
              "      <th>4</th>\n",
              "      <td>1900000</td>\n",
              "      <td>1560796.0</td>\n",
              "      <td>339204.0</td>\n",
              "    </tr>\n",
              "  </tbody>\n",
              "</table>\n",
              "</div>"
            ],
            "text/plain": [
              "     Price  Prediction  Difference\n",
              "0  2702000   1547549.0   1154451.0\n",
              "1   929000   1301251.0   -372251.0\n",
              "2  1042000    918131.0    123869.0\n",
              "3   692000   1153665.0   -461665.0\n",
              "4  1900000   1560796.0    339204.0"
            ]
          },
          "metadata": {},
          "execution_count": 39
        }
      ]
    },
    {
      "cell_type": "markdown",
      "metadata": {
        "id": "1SZSXG5ERnok"
      },
      "source": [
        "## 11. Regression on Full data using OLS model"
      ]
    },
    {
      "cell_type": "code",
      "metadata": {
        "id": "X_fB-s6iKKrN"
      },
      "source": [
        "Regression = sm.OLS(endog = y, exog = X).fit()"
      ],
      "execution_count": 65,
      "outputs": []
    },
    {
      "cell_type": "code",
      "metadata": {
        "id": "G8pZ2Qf9J8xA",
        "colab": {
          "base_uri": "https://localhost:8080/"
        },
        "outputId": "d5d229f5-8cbc-4443-a53b-91474dda20bc"
      },
      "source": [
        "print(Regression.summary())"
      ],
      "execution_count": 66,
      "outputs": [
        {
          "output_type": "stream",
          "name": "stdout",
          "text": [
            "                                 OLS Regression Results                                \n",
            "=======================================================================================\n",
            "Dep. Variable:                      y   R-squared (uncentered):                   0.824\n",
            "Model:                            OLS   Adj. R-squared (uncentered):              0.824\n",
            "Method:                 Least Squares   F-statistic:                          6.153e+04\n",
            "Date:                Wed, 10 Nov 2021   Prob (F-statistic):                        0.00\n",
            "Time:                        12:00:15   Log-Likelihood:                     -7.6600e+05\n",
            "No. Observations:               52458   AIC:                                  1.532e+06\n",
            "Df Residuals:                   52454   BIC:                                  1.532e+06\n",
            "Df Model:                           4                                                  \n",
            "Covariance Type:            nonrobust                                                  \n",
            "==============================================================================\n",
            "                 coef    std err          t      P>|t|      [0.025      0.975]\n",
            "------------------------------------------------------------------------------\n",
            "x1         -3349.0696   2006.499     -1.669      0.095   -7281.827     583.687\n",
            "x2           143.5532      4.005     35.842      0.000     135.703     151.403\n",
            "x3           2.87e+05   3467.600     82.755      0.000     2.8e+05    2.94e+05\n",
            "x4          1.751e+05   3932.680     44.534      0.000    1.67e+05    1.83e+05\n",
            "==============================================================================\n",
            "Omnibus:                     4737.149   Durbin-Watson:                   0.565\n",
            "Prob(Omnibus):                  0.000   Jarque-Bera (JB):             6132.886\n",
            "Skew:                           0.831   Prob(JB):                         0.00\n",
            "Kurtosis:                       3.205   Cond. No.                     4.24e+03\n",
            "==============================================================================\n",
            "\n",
            "Warnings:\n",
            "[1] Standard Errors assume that the covariance matrix of the errors is correctly specified.\n",
            "[2] The condition number is large, 4.24e+03. This might indicate that there are\n",
            "strong multicollinearity or other numerical problems.\n"
          ]
        }
      ]
    },
    {
      "cell_type": "code",
      "metadata": {
        "id": "gnJSbu8_Xwaw",
        "colab": {
          "base_uri": "https://localhost:8080/",
          "height": 172
        },
        "outputId": "0f2b2c30-d9dd-46b5-9b38-38c40aa1f470"
      },
      "source": [
        "\n",
        "VIF = df_no_outlier[list(df_no_outlier.columns[:-1])]\n",
        "vif_info = pd.DataFrame()\n",
        "vif_info['VIF'] = [variance_inflation_factor(VIF.values, i) for i in range(VIF.shape[1])]\n",
        "vif_info['Column'] = VIF.columns\n",
        "vif_info.sort_values('VIF', ascending=False)"
      ],
      "execution_count": 42,
      "outputs": [
        {
          "output_type": "execute_result",
          "data": {
            "text/html": [
              "<div>\n",
              "<style scoped>\n",
              "    .dataframe tbody tr th:only-of-type {\n",
              "        vertical-align: middle;\n",
              "    }\n",
              "\n",
              "    .dataframe tbody tr th {\n",
              "        vertical-align: top;\n",
              "    }\n",
              "\n",
              "    .dataframe thead th {\n",
              "        text-align: right;\n",
              "    }\n",
              "</style>\n",
              "<table border=\"1\" class=\"dataframe\">\n",
              "  <thead>\n",
              "    <tr style=\"text-align: right;\">\n",
              "      <th></th>\n",
              "      <th>VIF</th>\n",
              "      <th>Column</th>\n",
              "    </tr>\n",
              "  </thead>\n",
              "  <tbody>\n",
              "    <tr>\n",
              "      <th>0</th>\n",
              "      <td>15.379863</td>\n",
              "      <td>postalCode</td>\n",
              "    </tr>\n",
              "    <tr>\n",
              "      <th>2</th>\n",
              "      <td>9.482412</td>\n",
              "      <td>car</td>\n",
              "    </tr>\n",
              "    <tr>\n",
              "      <th>1</th>\n",
              "      <td>8.015820</td>\n",
              "      <td>bath</td>\n",
              "    </tr>\n",
              "    <tr>\n",
              "      <th>3</th>\n",
              "      <td>5.146063</td>\n",
              "      <td>propType</td>\n",
              "    </tr>\n",
              "  </tbody>\n",
              "</table>\n",
              "</div>"
            ],
            "text/plain": [
              "         VIF      Column\n",
              "0  15.379863  postalCode\n",
              "2   9.482412         car\n",
              "1   8.015820        bath\n",
              "3   5.146063    propType"
            ]
          },
          "metadata": {},
          "execution_count": 42
        }
      ]
    },
    {
      "cell_type": "markdown",
      "metadata": {
        "id": "PSHZRbXeMfUE"
      },
      "source": [
        "###To read more on skewness, kurtosis, autocorrelation and multicollinearity.\n",
        "\n",
        "---\n",
        "https://www.sciencedirect.com/topics/neuroscience/kurtosis \n",
        "\n",
        "---\n",
        "https://www.investopedia.com/terms/d/durbin-watson-statistic.asp \n",
        "\n",
        "---\n",
        "https://www.analyticsvidhya.com/blog/2020/03/what-is-multicollinearity"
      ]
    }
  ]
}