{
  "nbformat": 4,
  "nbformat_minor": 0,
  "metadata": {
    "colab": {
      "name": "SydneyHousePrices_MultipleRegression.ipynb",
      "provenance": [],
      "collapsed_sections": [],
      "include_colab_link": true
    },
    "kernelspec": {
      "name": "python3",
      "display_name": "Python 3"
    },
    "language_info": {
      "name": "python"
    }
  },
  "cells": [
    {
      "cell_type": "markdown",
      "metadata": {
        "id": "view-in-github",
        "colab_type": "text"
      },
      "source": [
        "<a href=\"https://colab.research.google.com/github/DLPY/Regression-Session-2/blob/master/SydneyHousePrices_MultipleRegression.ipynb\" target=\"_parent\"><img src=\"https://colab.research.google.com/assets/colab-badge.svg\" alt=\"Open In Colab\"/></a>"
      ]
    },
    {
      "cell_type": "markdown",
      "metadata": {
        "id": "ud2tAPt5VBa9"
      },
      "source": [
        "#<centre> **House Price Prediction based on Postal Code, Number of Bedrooms and Bathrooms, Car Parking  and Property Type**</centre>"
      ]
    },
    {
      "cell_type": "markdown",
      "metadata": {
        "id": "FwR4liJvnIwU"
      },
      "source": [
        "Detail on Data : https://www.kaggle.com/mihirhalai/sydney-house-prices"
      ]
    },
    {
      "cell_type": "markdown",
      "metadata": {
        "id": "zu1ja9k4TEvE"
      },
      "source": [
        "## 1. Download source data from Github"
      ]
    },
    {
      "cell_type": "code",
      "metadata": {
        "id": "sei0kC5gPk6K",
        "outputId": "be0768f5-c01d-4f61-86fa-a71099ac6058",
        "colab": {
          "base_uri": "https://localhost:8080/"
        }
      },
      "source": [
        "!wget https://raw.githubusercontent.com/DLPY/Regression-Session-2/master/Data/SydneyHousePrices.csv"
      ],
      "execution_count": 1,
      "outputs": [
        {
          "output_type": "stream",
          "name": "stdout",
          "text": [
            "--2021-11-09 16:03:04--  https://raw.githubusercontent.com/DLPY/Regression-Session-2/master/Data/SydneyHousePrices.csv\n",
            "Resolving raw.githubusercontent.com (raw.githubusercontent.com)... 185.199.108.133, 185.199.109.133, 185.199.110.133, ...\n",
            "Connecting to raw.githubusercontent.com (raw.githubusercontent.com)|185.199.108.133|:443... connected.\n",
            "HTTP request sent, awaiting response... 200 OK\n",
            "Length: 11406664 (11M) [text/plain]\n",
            "Saving to: ‘SydneyHousePrices.csv.3’\n",
            "\n",
            "\rSydneyHousePrices.c   0%[                    ]       0  --.-KB/s               \rSydneyHousePrices.c 100%[===================>]  10.88M  --.-KB/s    in 0.1s    \n",
            "\n",
            "2021-11-09 16:03:04 (103 MB/s) - ‘SydneyHousePrices.csv.3’ saved [11406664/11406664]\n",
            "\n"
          ]
        }
      ]
    },
    {
      "cell_type": "markdown",
      "metadata": {
        "id": "2zktx2ZETgjC"
      },
      "source": [
        "## 2. Import neccssary packages for performing EDA and Multiple regression"
      ]
    },
    {
      "cell_type": "code",
      "metadata": {
        "id": "3rZfVG0gtYTq",
        "outputId": "ea681485-0e2d-466c-b57b-b5b383c4582b",
        "colab": {
          "base_uri": "https://localhost:8080/"
        }
      },
      "source": [
        "import matplotlib.pyplot as plt\n",
        "import numpy as np \n",
        "import pandas as pd\n",
        "import seaborn as sns\n",
        "from sklearn.linear_model import LinearRegression\n",
        "from sklearn.metrics import mean_squared_error, r2_score\n",
        "from sklearn.model_selection import train_test_split\n",
        "import statsmodels.api as sm\n",
        "from statsmodels.stats.outliers_influence import variance_inflation_factor\n",
        "\n",
        "%matplotlib inline\n",
        "\n",
        "pd.set_option('display.max_colwidth', None)"
      ],
      "execution_count": 2,
      "outputs": [
        {
          "output_type": "stream",
          "name": "stderr",
          "text": [
            "/usr/local/lib/python3.7/dist-packages/statsmodels/tools/_testing.py:19: FutureWarning: pandas.util.testing is deprecated. Use the functions in the public API at pandas.testing instead.\n",
            "  import pandas.util.testing as tm\n"
          ]
        }
      ]
    },
    {
      "cell_type": "markdown",
      "metadata": {
        "id": "QMBooIu2TuTJ"
      },
      "source": [
        "## 3. Read data into pandas dataframe to perform data analysis, cleaning and transformation"
      ]
    },
    {
      "cell_type": "code",
      "metadata": {
        "id": "KOJdx4LmQwC3"
      },
      "source": [
        "df = pd.read_csv('SydneyHousePrices.csv')"
      ],
      "execution_count": 3,
      "outputs": []
    },
    {
      "cell_type": "code",
      "metadata": {
        "id": "Zi1iRejKtqyt",
        "outputId": "ca562599-51a7-45eb-bcff-e9462b116a45",
        "colab": {
          "base_uri": "https://localhost:8080/",
          "height": 203
        }
      },
      "source": [
        "df.head(5)"
      ],
      "execution_count": 4,
      "outputs": [
        {
          "output_type": "execute_result",
          "data": {
            "text/html": [
              "<div>\n",
              "<style scoped>\n",
              "    .dataframe tbody tr th:only-of-type {\n",
              "        vertical-align: middle;\n",
              "    }\n",
              "\n",
              "    .dataframe tbody tr th {\n",
              "        vertical-align: top;\n",
              "    }\n",
              "\n",
              "    .dataframe thead th {\n",
              "        text-align: right;\n",
              "    }\n",
              "</style>\n",
              "<table border=\"1\" class=\"dataframe\">\n",
              "  <thead>\n",
              "    <tr style=\"text-align: right;\">\n",
              "      <th></th>\n",
              "      <th>Date</th>\n",
              "      <th>Id</th>\n",
              "      <th>suburb</th>\n",
              "      <th>postalCode</th>\n",
              "      <th>sellPrice</th>\n",
              "      <th>bed</th>\n",
              "      <th>bath</th>\n",
              "      <th>car</th>\n",
              "      <th>propType</th>\n",
              "    </tr>\n",
              "  </thead>\n",
              "  <tbody>\n",
              "    <tr>\n",
              "      <th>0</th>\n",
              "      <td>2019-06-19</td>\n",
              "      <td>1</td>\n",
              "      <td>Avalon Beach</td>\n",
              "      <td>2107</td>\n",
              "      <td>1210000</td>\n",
              "      <td>4.0</td>\n",
              "      <td>2</td>\n",
              "      <td>2.0</td>\n",
              "      <td>house</td>\n",
              "    </tr>\n",
              "    <tr>\n",
              "      <th>1</th>\n",
              "      <td>2019-06-13</td>\n",
              "      <td>2</td>\n",
              "      <td>Avalon Beach</td>\n",
              "      <td>2107</td>\n",
              "      <td>2250000</td>\n",
              "      <td>4.0</td>\n",
              "      <td>3</td>\n",
              "      <td>4.0</td>\n",
              "      <td>house</td>\n",
              "    </tr>\n",
              "    <tr>\n",
              "      <th>2</th>\n",
              "      <td>2019-06-07</td>\n",
              "      <td>3</td>\n",
              "      <td>Whale Beach</td>\n",
              "      <td>2107</td>\n",
              "      <td>2920000</td>\n",
              "      <td>3.0</td>\n",
              "      <td>3</td>\n",
              "      <td>2.0</td>\n",
              "      <td>house</td>\n",
              "    </tr>\n",
              "    <tr>\n",
              "      <th>3</th>\n",
              "      <td>2019-05-28</td>\n",
              "      <td>4</td>\n",
              "      <td>Avalon Beach</td>\n",
              "      <td>2107</td>\n",
              "      <td>1530000</td>\n",
              "      <td>3.0</td>\n",
              "      <td>1</td>\n",
              "      <td>2.0</td>\n",
              "      <td>house</td>\n",
              "    </tr>\n",
              "    <tr>\n",
              "      <th>4</th>\n",
              "      <td>2019-05-22</td>\n",
              "      <td>5</td>\n",
              "      <td>Whale Beach</td>\n",
              "      <td>2107</td>\n",
              "      <td>8000000</td>\n",
              "      <td>5.0</td>\n",
              "      <td>4</td>\n",
              "      <td>4.0</td>\n",
              "      <td>house</td>\n",
              "    </tr>\n",
              "  </tbody>\n",
              "</table>\n",
              "</div>"
            ],
            "text/plain": [
              "         Date  Id        suburb  postalCode  sellPrice  bed  bath  car propType\n",
              "0  2019-06-19   1  Avalon Beach        2107    1210000  4.0     2  2.0    house\n",
              "1  2019-06-13   2  Avalon Beach        2107    2250000  4.0     3  4.0    house\n",
              "2  2019-06-07   3   Whale Beach        2107    2920000  3.0     3  2.0    house\n",
              "3  2019-05-28   4  Avalon Beach        2107    1530000  3.0     1  2.0    house\n",
              "4  2019-05-22   5   Whale Beach        2107    8000000  5.0     4  4.0    house"
            ]
          },
          "metadata": {},
          "execution_count": 4
        }
      ]
    },
    {
      "cell_type": "code",
      "metadata": {
        "id": "fCw_zPdLuRvr",
        "outputId": "b4bc921f-b78f-4898-a171-64ed7e915441",
        "colab": {
          "base_uri": "https://localhost:8080/"
        }
      },
      "source": [
        "df.shape"
      ],
      "execution_count": 5,
      "outputs": [
        {
          "output_type": "execute_result",
          "data": {
            "text/plain": [
              "(199504, 9)"
            ]
          },
          "metadata": {},
          "execution_count": 5
        }
      ]
    },
    {
      "cell_type": "code",
      "metadata": {
        "id": "MROUhjkvtrJu",
        "outputId": "4cf2387e-408f-434b-e30c-1de34c8b132b",
        "colab": {
          "base_uri": "https://localhost:8080/"
        }
      },
      "source": [
        "df.info()"
      ],
      "execution_count": 6,
      "outputs": [
        {
          "output_type": "stream",
          "name": "stdout",
          "text": [
            "<class 'pandas.core.frame.DataFrame'>\n",
            "RangeIndex: 199504 entries, 0 to 199503\n",
            "Data columns (total 9 columns):\n",
            " #   Column      Non-Null Count   Dtype  \n",
            "---  ------      --------------   -----  \n",
            " 0   Date        199504 non-null  object \n",
            " 1   Id          199504 non-null  int64  \n",
            " 2   suburb      199504 non-null  object \n",
            " 3   postalCode  199504 non-null  int64  \n",
            " 4   sellPrice   199504 non-null  int64  \n",
            " 5   bed         199350 non-null  float64\n",
            " 6   bath        199504 non-null  int64  \n",
            " 7   car         181353 non-null  float64\n",
            " 8   propType    199504 non-null  object \n",
            "dtypes: float64(2), int64(4), object(3)\n",
            "memory usage: 13.7+ MB\n"
          ]
        }
      ]
    },
    {
      "cell_type": "code",
      "metadata": {
        "id": "-X3wkC1gtrR1",
        "outputId": "7dec3af6-21ff-4a26-937d-f5ee2f960589",
        "colab": {
          "base_uri": "https://localhost:8080/",
          "height": 295
        }
      },
      "source": [
        "round(df.describe(), 2)"
      ],
      "execution_count": 7,
      "outputs": [
        {
          "output_type": "execute_result",
          "data": {
            "text/html": [
              "<div>\n",
              "<style scoped>\n",
              "    .dataframe tbody tr th:only-of-type {\n",
              "        vertical-align: middle;\n",
              "    }\n",
              "\n",
              "    .dataframe tbody tr th {\n",
              "        vertical-align: top;\n",
              "    }\n",
              "\n",
              "    .dataframe thead th {\n",
              "        text-align: right;\n",
              "    }\n",
              "</style>\n",
              "<table border=\"1\" class=\"dataframe\">\n",
              "  <thead>\n",
              "    <tr style=\"text-align: right;\">\n",
              "      <th></th>\n",
              "      <th>Id</th>\n",
              "      <th>postalCode</th>\n",
              "      <th>sellPrice</th>\n",
              "      <th>bed</th>\n",
              "      <th>bath</th>\n",
              "      <th>car</th>\n",
              "    </tr>\n",
              "  </thead>\n",
              "  <tbody>\n",
              "    <tr>\n",
              "      <th>count</th>\n",
              "      <td>199504.00</td>\n",
              "      <td>199504.00</td>\n",
              "      <td>1.995040e+05</td>\n",
              "      <td>199350.00</td>\n",
              "      <td>199504.00</td>\n",
              "      <td>181353.00</td>\n",
              "    </tr>\n",
              "    <tr>\n",
              "      <th>mean</th>\n",
              "      <td>99752.50</td>\n",
              "      <td>2196.38</td>\n",
              "      <td>1.269776e+06</td>\n",
              "      <td>3.52</td>\n",
              "      <td>1.89</td>\n",
              "      <td>1.94</td>\n",
              "    </tr>\n",
              "    <tr>\n",
              "      <th>std</th>\n",
              "      <td>57591.99</td>\n",
              "      <td>193.05</td>\n",
              "      <td>6.948239e+06</td>\n",
              "      <td>1.07</td>\n",
              "      <td>0.93</td>\n",
              "      <td>1.06</td>\n",
              "    </tr>\n",
              "    <tr>\n",
              "      <th>min</th>\n",
              "      <td>1.00</td>\n",
              "      <td>2000.00</td>\n",
              "      <td>1.000000e+00</td>\n",
              "      <td>1.00</td>\n",
              "      <td>1.00</td>\n",
              "      <td>1.00</td>\n",
              "    </tr>\n",
              "    <tr>\n",
              "      <th>25%</th>\n",
              "      <td>49876.75</td>\n",
              "      <td>2082.00</td>\n",
              "      <td>7.200000e+05</td>\n",
              "      <td>3.00</td>\n",
              "      <td>1.00</td>\n",
              "      <td>1.00</td>\n",
              "    </tr>\n",
              "    <tr>\n",
              "      <th>50%</th>\n",
              "      <td>99752.50</td>\n",
              "      <td>2144.00</td>\n",
              "      <td>9.850000e+05</td>\n",
              "      <td>3.00</td>\n",
              "      <td>2.00</td>\n",
              "      <td>2.00</td>\n",
              "    </tr>\n",
              "    <tr>\n",
              "      <th>75%</th>\n",
              "      <td>149628.25</td>\n",
              "      <td>2211.00</td>\n",
              "      <td>1.475000e+06</td>\n",
              "      <td>4.00</td>\n",
              "      <td>2.00</td>\n",
              "      <td>2.00</td>\n",
              "    </tr>\n",
              "    <tr>\n",
              "      <th>max</th>\n",
              "      <td>199504.00</td>\n",
              "      <td>4878.00</td>\n",
              "      <td>2.147484e+09</td>\n",
              "      <td>99.00</td>\n",
              "      <td>99.00</td>\n",
              "      <td>41.00</td>\n",
              "    </tr>\n",
              "  </tbody>\n",
              "</table>\n",
              "</div>"
            ],
            "text/plain": [
              "              Id  postalCode     sellPrice        bed       bath        car\n",
              "count  199504.00   199504.00  1.995040e+05  199350.00  199504.00  181353.00\n",
              "mean    99752.50     2196.38  1.269776e+06       3.52       1.89       1.94\n",
              "std     57591.99      193.05  6.948239e+06       1.07       0.93       1.06\n",
              "min         1.00     2000.00  1.000000e+00       1.00       1.00       1.00\n",
              "25%     49876.75     2082.00  7.200000e+05       3.00       1.00       1.00\n",
              "50%     99752.50     2144.00  9.850000e+05       3.00       2.00       2.00\n",
              "75%    149628.25     2211.00  1.475000e+06       4.00       2.00       2.00\n",
              "max    199504.00     4878.00  2.147484e+09      99.00      99.00      41.00"
            ]
          },
          "metadata": {},
          "execution_count": 7
        }
      ]
    },
    {
      "cell_type": "markdown",
      "metadata": {
        "id": "GeZCTIuazuew"
      },
      "source": [
        "**From the above max - It shows the dataset has outliers and it needs to be removed.**"
      ]
    },
    {
      "cell_type": "markdown",
      "metadata": {
        "id": "ELD27hi3UnzO"
      },
      "source": [
        "## 4. Choosing predictors and target variables for performing Multiple Regression"
      ]
    },
    {
      "cell_type": "markdown",
      "metadata": {
        "id": "x1qfXutU0OjZ"
      },
      "source": [
        "**Target and Source variables**\n",
        "\n",
        "*   SellingPrice - Target Variable\n",
        "*   Bed, Bath, Car, propType, postalCode  - Predictor Variables\n",
        "\n"
      ]
    },
    {
      "cell_type": "code",
      "metadata": {
        "id": "MgpMuZXp0BWg"
      },
      "source": [
        "df_new = df[(df['Date']>= '2017-01-01') & (df['Date']< '2020-01-01')].reset_index(drop=True)\n",
        "df_new = df_new[['postalCode', 'bath', 'car', 'propType' , 'sellPrice']]"
      ],
      "execution_count": 8,
      "outputs": []
    },
    {
      "cell_type": "code",
      "metadata": {
        "id": "4hxaowKcSntL",
        "outputId": "68a2daf0-a400-47f2-96b3-f9b89978dcd0",
        "colab": {
          "base_uri": "https://localhost:8080/"
        }
      },
      "source": [
        "df_new.propType.unique()"
      ],
      "execution_count": 9,
      "outputs": [
        {
          "output_type": "execute_result",
          "data": {
            "text/plain": [
              "array(['house', 'townhouse', 'duplex/semi-detached', 'villa', 'other',\n",
              "       'terrace', 'warehouse', 'acreage'], dtype=object)"
            ]
          },
          "metadata": {},
          "execution_count": 9
        }
      ]
    },
    {
      "cell_type": "code",
      "metadata": {
        "id": "3SKZbw9sRQt0",
        "outputId": "e6682b43-c9b8-46c1-e656-631956c0d3c0",
        "colab": {
          "base_uri": "https://localhost:8080/"
        }
      },
      "source": [
        "df['propType'].value_counts()"
      ],
      "execution_count": 10,
      "outputs": [
        {
          "output_type": "execute_result",
          "data": {
            "text/plain": [
              "house                   170117\n",
              "townhouse                15177\n",
              "duplex/semi-detached      6722\n",
              "villa                     5701\n",
              "terrace                   1344\n",
              "other                      392\n",
              "warehouse                   40\n",
              "acreage                     11\n",
              "Name: propType, dtype: int64"
            ]
          },
          "metadata": {},
          "execution_count": 10
        }
      ]
    },
    {
      "cell_type": "code",
      "metadata": {
        "id": "-zR9DXCn1F8r",
        "outputId": "666fc819-973c-4952-f238-7bbf6e1808de",
        "colab": {
          "base_uri": "https://localhost:8080/",
          "height": 203
        }
      },
      "source": [
        "df_new.head(5)"
      ],
      "execution_count": 11,
      "outputs": [
        {
          "output_type": "execute_result",
          "data": {
            "text/html": [
              "<div>\n",
              "<style scoped>\n",
              "    .dataframe tbody tr th:only-of-type {\n",
              "        vertical-align: middle;\n",
              "    }\n",
              "\n",
              "    .dataframe tbody tr th {\n",
              "        vertical-align: top;\n",
              "    }\n",
              "\n",
              "    .dataframe thead th {\n",
              "        text-align: right;\n",
              "    }\n",
              "</style>\n",
              "<table border=\"1\" class=\"dataframe\">\n",
              "  <thead>\n",
              "    <tr style=\"text-align: right;\">\n",
              "      <th></th>\n",
              "      <th>postalCode</th>\n",
              "      <th>bath</th>\n",
              "      <th>car</th>\n",
              "      <th>propType</th>\n",
              "      <th>sellPrice</th>\n",
              "    </tr>\n",
              "  </thead>\n",
              "  <tbody>\n",
              "    <tr>\n",
              "      <th>0</th>\n",
              "      <td>2107</td>\n",
              "      <td>2</td>\n",
              "      <td>2.0</td>\n",
              "      <td>house</td>\n",
              "      <td>1210000</td>\n",
              "    </tr>\n",
              "    <tr>\n",
              "      <th>1</th>\n",
              "      <td>2107</td>\n",
              "      <td>3</td>\n",
              "      <td>4.0</td>\n",
              "      <td>house</td>\n",
              "      <td>2250000</td>\n",
              "    </tr>\n",
              "    <tr>\n",
              "      <th>2</th>\n",
              "      <td>2107</td>\n",
              "      <td>3</td>\n",
              "      <td>2.0</td>\n",
              "      <td>house</td>\n",
              "      <td>2920000</td>\n",
              "    </tr>\n",
              "    <tr>\n",
              "      <th>3</th>\n",
              "      <td>2107</td>\n",
              "      <td>1</td>\n",
              "      <td>2.0</td>\n",
              "      <td>house</td>\n",
              "      <td>1530000</td>\n",
              "    </tr>\n",
              "    <tr>\n",
              "      <th>4</th>\n",
              "      <td>2107</td>\n",
              "      <td>4</td>\n",
              "      <td>4.0</td>\n",
              "      <td>house</td>\n",
              "      <td>8000000</td>\n",
              "    </tr>\n",
              "  </tbody>\n",
              "</table>\n",
              "</div>"
            ],
            "text/plain": [
              "   postalCode  bath  car propType  sellPrice\n",
              "0        2107     2  2.0    house    1210000\n",
              "1        2107     3  4.0    house    2250000\n",
              "2        2107     3  2.0    house    2920000\n",
              "3        2107     1  2.0    house    1530000\n",
              "4        2107     4  4.0    house    8000000"
            ]
          },
          "metadata": {},
          "execution_count": 11
        }
      ]
    },
    {
      "cell_type": "markdown",
      "metadata": {
        "id": "PD8_zJrU_9CX"
      },
      "source": [
        "Encoding the categorical variables - Change the text into numbers"
      ]
    },
    {
      "cell_type": "code",
      "metadata": {
        "id": "dXi025d87t7J"
      },
      "source": [
        "df_new['propType'] = df_new['propType'].astype('category').cat.codes"
      ],
      "execution_count": 12,
      "outputs": []
    },
    {
      "cell_type": "code",
      "metadata": {
        "id": "TOPJyDy0Stpv",
        "outputId": "88f53e12-3f37-463f-d173-b249f5978ce2",
        "colab": {
          "base_uri": "https://localhost:8080/"
        }
      },
      "source": [
        "df_new.propType.unique()"
      ],
      "execution_count": 13,
      "outputs": [
        {
          "output_type": "execute_result",
          "data": {
            "text/plain": [
              "array([2, 5, 1, 6, 3, 4, 7, 0], dtype=int8)"
            ]
          },
          "metadata": {},
          "execution_count": 13
        }
      ]
    },
    {
      "cell_type": "code",
      "metadata": {
        "id": "p3iOdYnh72mQ",
        "outputId": "4ba06354-8ef0-4cf3-b6e0-12bd46c2bfd2",
        "colab": {
          "base_uri": "https://localhost:8080/",
          "height": 203
        }
      },
      "source": [
        "df_new.head(5)"
      ],
      "execution_count": 14,
      "outputs": [
        {
          "output_type": "execute_result",
          "data": {
            "text/html": [
              "<div>\n",
              "<style scoped>\n",
              "    .dataframe tbody tr th:only-of-type {\n",
              "        vertical-align: middle;\n",
              "    }\n",
              "\n",
              "    .dataframe tbody tr th {\n",
              "        vertical-align: top;\n",
              "    }\n",
              "\n",
              "    .dataframe thead th {\n",
              "        text-align: right;\n",
              "    }\n",
              "</style>\n",
              "<table border=\"1\" class=\"dataframe\">\n",
              "  <thead>\n",
              "    <tr style=\"text-align: right;\">\n",
              "      <th></th>\n",
              "      <th>postalCode</th>\n",
              "      <th>bath</th>\n",
              "      <th>car</th>\n",
              "      <th>propType</th>\n",
              "      <th>sellPrice</th>\n",
              "    </tr>\n",
              "  </thead>\n",
              "  <tbody>\n",
              "    <tr>\n",
              "      <th>0</th>\n",
              "      <td>2107</td>\n",
              "      <td>2</td>\n",
              "      <td>2.0</td>\n",
              "      <td>2</td>\n",
              "      <td>1210000</td>\n",
              "    </tr>\n",
              "    <tr>\n",
              "      <th>1</th>\n",
              "      <td>2107</td>\n",
              "      <td>3</td>\n",
              "      <td>4.0</td>\n",
              "      <td>2</td>\n",
              "      <td>2250000</td>\n",
              "    </tr>\n",
              "    <tr>\n",
              "      <th>2</th>\n",
              "      <td>2107</td>\n",
              "      <td>3</td>\n",
              "      <td>2.0</td>\n",
              "      <td>2</td>\n",
              "      <td>2920000</td>\n",
              "    </tr>\n",
              "    <tr>\n",
              "      <th>3</th>\n",
              "      <td>2107</td>\n",
              "      <td>1</td>\n",
              "      <td>2.0</td>\n",
              "      <td>2</td>\n",
              "      <td>1530000</td>\n",
              "    </tr>\n",
              "    <tr>\n",
              "      <th>4</th>\n",
              "      <td>2107</td>\n",
              "      <td>4</td>\n",
              "      <td>4.0</td>\n",
              "      <td>2</td>\n",
              "      <td>8000000</td>\n",
              "    </tr>\n",
              "  </tbody>\n",
              "</table>\n",
              "</div>"
            ],
            "text/plain": [
              "   postalCode  bath  car  propType  sellPrice\n",
              "0        2107     2  2.0         2    1210000\n",
              "1        2107     3  4.0         2    2250000\n",
              "2        2107     3  2.0         2    2920000\n",
              "3        2107     1  2.0         2    1530000\n",
              "4        2107     4  4.0         2    8000000"
            ]
          },
          "metadata": {},
          "execution_count": 14
        }
      ]
    },
    {
      "cell_type": "code",
      "metadata": {
        "id": "kew-yZLjEz7Q",
        "outputId": "2c61971d-9825-4147-cc84-7c8a78b6281d",
        "colab": {
          "base_uri": "https://localhost:8080/"
        }
      },
      "source": [
        "df_new.dtypes"
      ],
      "execution_count": 15,
      "outputs": [
        {
          "output_type": "execute_result",
          "data": {
            "text/plain": [
              "postalCode      int64\n",
              "bath            int64\n",
              "car           float64\n",
              "propType         int8\n",
              "sellPrice       int64\n",
              "dtype: object"
            ]
          },
          "metadata": {},
          "execution_count": 15
        }
      ]
    },
    {
      "cell_type": "code",
      "metadata": {
        "id": "OwJYvNbMGpKH",
        "outputId": "72299012-b4fe-45be-9bde-5a9a1c05ac87",
        "colab": {
          "base_uri": "https://localhost:8080/"
        }
      },
      "source": [
        "df_new.count()"
      ],
      "execution_count": 16,
      "outputs": [
        {
          "output_type": "execute_result",
          "data": {
            "text/plain": [
              "postalCode    60995\n",
              "bath          60995\n",
              "car           57090\n",
              "propType      60995\n",
              "sellPrice     60995\n",
              "dtype: int64"
            ]
          },
          "metadata": {},
          "execution_count": 16
        }
      ]
    },
    {
      "cell_type": "code",
      "metadata": {
        "id": "jeLpJdyERkp5",
        "outputId": "3ddc62b1-af2a-4859-f36b-72cf2792ca79",
        "colab": {
          "base_uri": "https://localhost:8080/"
        }
      },
      "source": [
        "df_new.isnull().sum()"
      ],
      "execution_count": 17,
      "outputs": [
        {
          "output_type": "execute_result",
          "data": {
            "text/plain": [
              "postalCode       0\n",
              "bath             0\n",
              "car           3905\n",
              "propType         0\n",
              "sellPrice        0\n",
              "dtype: int64"
            ]
          },
          "metadata": {},
          "execution_count": 17
        }
      ]
    },
    {
      "cell_type": "code",
      "metadata": {
        "id": "mwMTcS7Ivmuk"
      },
      "source": [
        "df_new['car'].fillna(df_new.groupby(['postalCode'])['car'].transform('median'), inplace=True)\n",
        "#df_new['bed'].fillna(df_new.groupby(['postalCode', 'propType'])['bed'].transform('median'), inplace=True)"
      ],
      "execution_count": 18,
      "outputs": []
    },
    {
      "cell_type": "code",
      "metadata": {
        "id": "YYybAfybUm1a",
        "outputId": "a6df88f4-88a1-407b-f607-0f864e6ab1de",
        "colab": {
          "base_uri": "https://localhost:8080/"
        }
      },
      "source": [
        "df_new.isnull().sum()"
      ],
      "execution_count": 19,
      "outputs": [
        {
          "output_type": "execute_result",
          "data": {
            "text/plain": [
              "postalCode    0\n",
              "bath          0\n",
              "car           0\n",
              "propType      0\n",
              "sellPrice     0\n",
              "dtype: int64"
            ]
          },
          "metadata": {},
          "execution_count": 19
        }
      ]
    },
    {
      "cell_type": "markdown",
      "metadata": {
        "id": "Mk-BdqGC5Kkm"
      },
      "source": [
        "## 5. Remove outliers in the data"
      ]
    },
    {
      "cell_type": "code",
      "metadata": {
        "id": "2Hm7FDLBGCqq"
      },
      "source": [
        "def remove_outlier(df_in, col_name):\n",
        "# Removes outliers from a specified column of a dataframe using IQR and returns an updated dataframe.\n",
        "    q1 = df_in[col_name].quantile(0.25)\n",
        "    q3 = df_in[col_name].quantile(0.75)\n",
        "    iqr = q3 - q1 # Interquartile range\n",
        "    fence_low  = q1 - 1.5 * iqr\n",
        "    fence_high = q3 + 1.5 * iqr\n",
        "    df_out = df_in.loc[(df_in[col_name] > fence_low) & (df_in[col_name] < fence_high)]\n",
        "    return df_out"
      ],
      "execution_count": 20,
      "outputs": []
    },
    {
      "cell_type": "code",
      "metadata": {
        "id": "0DFWQzfZGu9w"
      },
      "source": [
        "#df_no_outlier_bed = remove_outlier(df_new, 'bed').reset_index(drop=True)\n",
        "df_no_outlier_bath = remove_outlier(df_new, 'bath').reset_index(drop=True)\n",
        "df_no_outlier_car = remove_outlier(df_no_outlier_bath, 'car').reset_index(drop=True)\n",
        "df_no_outlier = remove_outlier(df_no_outlier_car, 'sellPrice').reset_index(drop=True)"
      ],
      "execution_count": 21,
      "outputs": []
    },
    {
      "cell_type": "code",
      "metadata": {
        "id": "2YFjMaQ3G26P",
        "outputId": "ebce428d-7e74-44f0-b39c-ca99bbd4f18d",
        "colab": {
          "base_uri": "https://localhost:8080/",
          "height": 295
        }
      },
      "source": [
        "df_no_outlier.describe()"
      ],
      "execution_count": 22,
      "outputs": [
        {
          "output_type": "execute_result",
          "data": {
            "text/html": [
              "<div>\n",
              "<style scoped>\n",
              "    .dataframe tbody tr th:only-of-type {\n",
              "        vertical-align: middle;\n",
              "    }\n",
              "\n",
              "    .dataframe tbody tr th {\n",
              "        vertical-align: top;\n",
              "    }\n",
              "\n",
              "    .dataframe thead th {\n",
              "        text-align: right;\n",
              "    }\n",
              "</style>\n",
              "<table border=\"1\" class=\"dataframe\">\n",
              "  <thead>\n",
              "    <tr style=\"text-align: right;\">\n",
              "      <th></th>\n",
              "      <th>postalCode</th>\n",
              "      <th>bath</th>\n",
              "      <th>car</th>\n",
              "      <th>propType</th>\n",
              "      <th>sellPrice</th>\n",
              "    </tr>\n",
              "  </thead>\n",
              "  <tbody>\n",
              "    <tr>\n",
              "      <th>count</th>\n",
              "      <td>52458.000000</td>\n",
              "      <td>52458.000000</td>\n",
              "      <td>52458.000000</td>\n",
              "      <td>52458.000000</td>\n",
              "      <td>5.245800e+04</td>\n",
              "    </tr>\n",
              "    <tr>\n",
              "      <th>mean</th>\n",
              "      <td>2259.887110</td>\n",
              "      <td>1.767814</td>\n",
              "      <td>1.712256</td>\n",
              "      <td>2.370067</td>\n",
              "      <td>1.155078e+06</td>\n",
              "    </tr>\n",
              "    <tr>\n",
              "      <th>std</th>\n",
              "      <td>231.380742</td>\n",
              "      <td>0.680559</td>\n",
              "      <td>0.606963</td>\n",
              "      <td>1.123813</td>\n",
              "      <td>5.224147e+05</td>\n",
              "    </tr>\n",
              "    <tr>\n",
              "      <th>min</th>\n",
              "      <td>2000.000000</td>\n",
              "      <td>1.000000</td>\n",
              "      <td>1.000000</td>\n",
              "      <td>0.000000</td>\n",
              "      <td>1.000000e+03</td>\n",
              "    </tr>\n",
              "    <tr>\n",
              "      <th>25%</th>\n",
              "      <td>2115.000000</td>\n",
              "      <td>1.000000</td>\n",
              "      <td>1.000000</td>\n",
              "      <td>2.000000</td>\n",
              "      <td>7.450000e+05</td>\n",
              "    </tr>\n",
              "    <tr>\n",
              "      <th>50%</th>\n",
              "      <td>2166.000000</td>\n",
              "      <td>2.000000</td>\n",
              "      <td>2.000000</td>\n",
              "      <td>2.000000</td>\n",
              "      <td>1.005000e+06</td>\n",
              "    </tr>\n",
              "    <tr>\n",
              "      <th>75%</th>\n",
              "      <td>2232.000000</td>\n",
              "      <td>2.000000</td>\n",
              "      <td>2.000000</td>\n",
              "      <td>2.000000</td>\n",
              "      <td>1.460000e+06</td>\n",
              "    </tr>\n",
              "    <tr>\n",
              "      <th>max</th>\n",
              "      <td>4212.000000</td>\n",
              "      <td>3.000000</td>\n",
              "      <td>3.000000</td>\n",
              "      <td>7.000000</td>\n",
              "      <td>2.766000e+06</td>\n",
              "    </tr>\n",
              "  </tbody>\n",
              "</table>\n",
              "</div>"
            ],
            "text/plain": [
              "         postalCode          bath           car      propType     sellPrice\n",
              "count  52458.000000  52458.000000  52458.000000  52458.000000  5.245800e+04\n",
              "mean    2259.887110      1.767814      1.712256      2.370067  1.155078e+06\n",
              "std      231.380742      0.680559      0.606963      1.123813  5.224147e+05\n",
              "min     2000.000000      1.000000      1.000000      0.000000  1.000000e+03\n",
              "25%     2115.000000      1.000000      1.000000      2.000000  7.450000e+05\n",
              "50%     2166.000000      2.000000      2.000000      2.000000  1.005000e+06\n",
              "75%     2232.000000      2.000000      2.000000      2.000000  1.460000e+06\n",
              "max     4212.000000      3.000000      3.000000      7.000000  2.766000e+06"
            ]
          },
          "metadata": {},
          "execution_count": 22
        }
      ]
    },
    {
      "cell_type": "code",
      "metadata": {
        "id": "MsrzaKfNEOss"
      },
      "source": [
        "corr = df_no_outlier.corr()"
      ],
      "execution_count": 23,
      "outputs": []
    },
    {
      "cell_type": "code",
      "metadata": {
        "id": "6CJcE8PS9WwQ",
        "outputId": "c637cf5f-67a6-49cd-e031-3295d042254d",
        "colab": {
          "base_uri": "https://localhost:8080/",
          "height": 203
        }
      },
      "source": [
        "corr"
      ],
      "execution_count": 24,
      "outputs": [
        {
          "output_type": "execute_result",
          "data": {
            "text/html": [
              "<div>\n",
              "<style scoped>\n",
              "    .dataframe tbody tr th:only-of-type {\n",
              "        vertical-align: middle;\n",
              "    }\n",
              "\n",
              "    .dataframe tbody tr th {\n",
              "        vertical-align: top;\n",
              "    }\n",
              "\n",
              "    .dataframe thead th {\n",
              "        text-align: right;\n",
              "    }\n",
              "</style>\n",
              "<table border=\"1\" class=\"dataframe\">\n",
              "  <thead>\n",
              "    <tr style=\"text-align: right;\">\n",
              "      <th></th>\n",
              "      <th>postalCode</th>\n",
              "      <th>bath</th>\n",
              "      <th>car</th>\n",
              "      <th>propType</th>\n",
              "      <th>sellPrice</th>\n",
              "    </tr>\n",
              "  </thead>\n",
              "  <tbody>\n",
              "    <tr>\n",
              "      <th>postalCode</th>\n",
              "      <td>1.000000</td>\n",
              "      <td>-0.051593</td>\n",
              "      <td>0.017311</td>\n",
              "      <td>-0.030173</td>\n",
              "      <td>-0.539464</td>\n",
              "    </tr>\n",
              "    <tr>\n",
              "      <th>bath</th>\n",
              "      <td>-0.051593</td>\n",
              "      <td>1.000000</td>\n",
              "      <td>0.288033</td>\n",
              "      <td>-0.086355</td>\n",
              "      <td>0.273533</td>\n",
              "    </tr>\n",
              "    <tr>\n",
              "      <th>car</th>\n",
              "      <td>0.017311</td>\n",
              "      <td>0.288033</td>\n",
              "      <td>1.000000</td>\n",
              "      <td>-0.087028</td>\n",
              "      <td>0.143199</td>\n",
              "    </tr>\n",
              "    <tr>\n",
              "      <th>propType</th>\n",
              "      <td>-0.030173</td>\n",
              "      <td>-0.086355</td>\n",
              "      <td>-0.087028</td>\n",
              "      <td>1.000000</td>\n",
              "      <td>-0.185970</td>\n",
              "    </tr>\n",
              "    <tr>\n",
              "      <th>sellPrice</th>\n",
              "      <td>-0.539464</td>\n",
              "      <td>0.273533</td>\n",
              "      <td>0.143199</td>\n",
              "      <td>-0.185970</td>\n",
              "      <td>1.000000</td>\n",
              "    </tr>\n",
              "  </tbody>\n",
              "</table>\n",
              "</div>"
            ],
            "text/plain": [
              "            postalCode      bath       car  propType  sellPrice\n",
              "postalCode    1.000000 -0.051593  0.017311 -0.030173  -0.539464\n",
              "bath         -0.051593  1.000000  0.288033 -0.086355   0.273533\n",
              "car           0.017311  0.288033  1.000000 -0.087028   0.143199\n",
              "propType     -0.030173 -0.086355 -0.087028  1.000000  -0.185970\n",
              "sellPrice    -0.539464  0.273533  0.143199 -0.185970   1.000000"
            ]
          },
          "metadata": {},
          "execution_count": 24
        }
      ]
    },
    {
      "cell_type": "markdown",
      "metadata": {
        "id": "SyOZVymo-Ucu"
      },
      "source": [
        "## 6. Correlation heatmap with the mask and correct aspect ratio"
      ]
    },
    {
      "cell_type": "code",
      "metadata": {
        "id": "P0i-1i6q7iXO",
        "outputId": "41b86514-a404-4b6d-b5d1-79365b9b71d3",
        "colab": {
          "base_uri": "https://localhost:8080/",
          "height": 554
        }
      },
      "source": [
        "mask = np.zeros_like(corr, dtype=np.bool)\n",
        "mask[np.triu_indices_from(mask)] = True\n",
        "cmap = sns.diverging_palette(10, 250, as_cmap=True)\n",
        "f, ax = plt.subplots(figsize=(11, 9))\n",
        "sns.heatmap(corr, mask=mask, cmap=cmap,\n",
        "            square=True, linewidths=0.2, cbar_kws={'shrink': 0.5}, ax=ax, annot=True)"
      ],
      "execution_count": 25,
      "outputs": [
        {
          "output_type": "execute_result",
          "data": {
            "text/plain": [
              "<matplotlib.axes._subplots.AxesSubplot at 0x7f9f810272d0>"
            ]
          },
          "metadata": {},
          "execution_count": 25
        },
        {
          "output_type": "display_data",
          "data": {
            "image/png": "[encoded data removed]",
            "text/plain": [
              "<Figure size 792x648 with 2 Axes>"
            ]
          },
          "metadata": {
            "needs_background": "light"
          }
        }
      ]
    },
    {
      "cell_type": "markdown",
      "metadata": {
        "id": "kgpwjaf2CMz5"
      },
      "source": [
        "## 7. Split Target and Predictor Variables to different dataframes"
      ]
    },
    {
      "cell_type": "code",
      "metadata": {
        "id": "yjYR2O6NCJRt"
      },
      "source": [
        "X = df_no_outlier.iloc[:, :-1]\n",
        "y = df_no_outlier.iloc[:, 4]"
      ],
      "execution_count": 26,
      "outputs": []
    },
    {
      "cell_type": "code",
      "metadata": {
        "id": "7A03Wa-jC8-i",
        "outputId": "079c24eb-091c-462f-b7d1-cc26b599d3e5",
        "colab": {
          "base_uri": "https://localhost:8080/",
          "height": 203
        }
      },
      "source": [
        "X.head(5)"
      ],
      "execution_count": 27,
      "outputs": [
        {
          "output_type": "execute_result",
          "data": {
            "text/html": [
              "<div>\n",
              "<style scoped>\n",
              "    .dataframe tbody tr th:only-of-type {\n",
              "        vertical-align: middle;\n",
              "    }\n",
              "\n",
              "    .dataframe tbody tr th {\n",
              "        vertical-align: top;\n",
              "    }\n",
              "\n",
              "    .dataframe thead th {\n",
              "        text-align: right;\n",
              "    }\n",
              "</style>\n",
              "<table border=\"1\" class=\"dataframe\">\n",
              "  <thead>\n",
              "    <tr style=\"text-align: right;\">\n",
              "      <th></th>\n",
              "      <th>postalCode</th>\n",
              "      <th>bath</th>\n",
              "      <th>car</th>\n",
              "      <th>propType</th>\n",
              "    </tr>\n",
              "  </thead>\n",
              "  <tbody>\n",
              "    <tr>\n",
              "      <th>0</th>\n",
              "      <td>2107</td>\n",
              "      <td>2</td>\n",
              "      <td>2.0</td>\n",
              "      <td>2</td>\n",
              "    </tr>\n",
              "    <tr>\n",
              "      <th>1</th>\n",
              "      <td>2107</td>\n",
              "      <td>1</td>\n",
              "      <td>2.0</td>\n",
              "      <td>2</td>\n",
              "    </tr>\n",
              "    <tr>\n",
              "      <th>2</th>\n",
              "      <td>2107</td>\n",
              "      <td>2</td>\n",
              "      <td>2.0</td>\n",
              "      <td>2</td>\n",
              "    </tr>\n",
              "    <tr>\n",
              "      <th>3</th>\n",
              "      <td>2107</td>\n",
              "      <td>1</td>\n",
              "      <td>2.0</td>\n",
              "      <td>2</td>\n",
              "    </tr>\n",
              "    <tr>\n",
              "      <th>4</th>\n",
              "      <td>2107</td>\n",
              "      <td>1</td>\n",
              "      <td>2.0</td>\n",
              "      <td>2</td>\n",
              "    </tr>\n",
              "  </tbody>\n",
              "</table>\n",
              "</div>"
            ],
            "text/plain": [
              "   postalCode  bath  car  propType\n",
              "0        2107     2  2.0         2\n",
              "1        2107     1  2.0         2\n",
              "2        2107     2  2.0         2\n",
              "3        2107     1  2.0         2\n",
              "4        2107     1  2.0         2"
            ]
          },
          "metadata": {},
          "execution_count": 27
        }
      ]
    },
    {
      "cell_type": "code",
      "metadata": {
        "id": "vT693h-mC_-Z",
        "outputId": "55ca1cf2-56b4-40b7-b1e3-4cd19d451afb",
        "colab": {
          "base_uri": "https://localhost:8080/"
        }
      },
      "source": [
        "y.head(5)"
      ],
      "execution_count": 28,
      "outputs": [
        {
          "output_type": "execute_result",
          "data": {
            "text/plain": [
              "0    1210000\n",
              "1    1530000\n",
              "2    1610000\n",
              "3    1510000\n",
              "4    1400000\n",
              "Name: sellPrice, dtype: int64"
            ]
          },
          "metadata": {},
          "execution_count": 28
        }
      ]
    },
    {
      "cell_type": "markdown",
      "metadata": {
        "id": "OtebqAqQDEcD"
      },
      "source": [
        "Convert dataframes to values to feed into Model"
      ]
    },
    {
      "cell_type": "code",
      "metadata": {
        "id": "vqAKWnYDDCyZ"
      },
      "source": [
        "X = X.values\n",
        "y = y.values"
      ],
      "execution_count": 29,
      "outputs": []
    },
    {
      "cell_type": "code",
      "metadata": {
        "id": "DU3u3eRdDRNr",
        "outputId": "7f8b0e53-4240-4c6b-e9f9-fe97caa66fe2",
        "colab": {
          "base_uri": "https://localhost:8080/"
        }
      },
      "source": [
        "print('Number of records and predictor variables:', X.shape)\n",
        "print('Number of records and target variable:', y.shape)"
      ],
      "execution_count": 30,
      "outputs": [
        {
          "output_type": "stream",
          "name": "stdout",
          "text": [
            "Number of records and predictor variables: (52458, 4)\n",
            "Number of records and target variable: (52458,)\n"
          ]
        }
      ]
    },
    {
      "cell_type": "markdown",
      "metadata": {
        "id": "T9OsPog_DqPJ"
      },
      "source": [
        "## 8. Split dataset into the training and test using train_set_split: 90% - train and 10% - test"
      ]
    },
    {
      "cell_type": "code",
      "metadata": {
        "id": "jbTStZckEPx3"
      },
      "source": [
        "X_train, X_test, y_train, y_test = train_test_split( X, y, test_size=0.1, random_state=23)"
      ],
      "execution_count": 31,
      "outputs": []
    },
    {
      "cell_type": "code",
      "metadata": {
        "id": "TsDkySmVEaw-",
        "outputId": "192cbf3f-ac4d-4fa9-de54-6f9b52c14773",
        "colab": {
          "base_uri": "https://localhost:8080/"
        }
      },
      "source": [
        "print('Training Data:', X_train.shape, y_train.shape)\n",
        "print('Testing Data:', X_test.shape, y_test.shape)"
      ],
      "execution_count": 32,
      "outputs": [
        {
          "output_type": "stream",
          "name": "stdout",
          "text": [
            "Training Data: (47212, 4) (47212,)\n",
            "Testing Data: (5246, 4) (5246,)\n"
          ]
        }
      ]
    },
    {
      "cell_type": "markdown",
      "metadata": {
        "id": "ntbC1AdIFgr-"
      },
      "source": [
        "## 9. Train, Test and Predict using regression model"
      ]
    },
    {
      "cell_type": "markdown",
      "metadata": {
        "id": "nyfw2aBCFIDs"
      },
      "source": [
        "Create an object called regressor in the LinearRegression class"
      ]
    },
    {
      "cell_type": "code",
      "metadata": {
        "id": "tiDx7EdrFOwv"
      },
      "source": [
        "regressor = LinearRegression()"
      ],
      "execution_count": 33,
      "outputs": []
    },
    {
      "cell_type": "markdown",
      "metadata": {
        "id": "dGcxP5OAFam_"
      },
      "source": [
        "Fit the linear regression model to the training set. We use the fit method the arguments of the fit method will be training sets"
      ]
    },
    {
      "cell_type": "code",
      "metadata": {
        "id": "iJFpxajpFcZf",
        "outputId": "75303d61-afc6-4de4-fd43-50daa96af47e",
        "colab": {
          "base_uri": "https://localhost:8080/"
        }
      },
      "source": [
        "regressor.fit(X_train,y_train)"
      ],
      "execution_count": 34,
      "outputs": [
        {
          "output_type": "execute_result",
          "data": {
            "text/plain": [
              "LinearRegression(copy_X=True, fit_intercept=True, n_jobs=None, normalize=False)"
            ]
          },
          "metadata": {},
          "execution_count": 34
        }
      ]
    },
    {
      "cell_type": "markdown",
      "metadata": {
        "id": "Qg_GAA22Oomq"
      },
      "source": [
        "Regression Coefficients"
      ]
    },
    {
      "cell_type": "code",
      "metadata": {
        "id": "IxuEcAqwLA9I",
        "outputId": "0922e822-2b05-4400-8205-bdb1fee40133",
        "colab": {
          "base_uri": "https://localhost:8080/"
        }
      },
      "source": [
        "print('Coefficients: ', regressor.coef_)"
      ],
      "execution_count": 35,
      "outputs": [
        {
          "output_type": "stream",
          "name": "stdout",
          "text": [
            "Coefficients:  [ -1204.26160164 159007.81926934  65613.1335534  -82366.65052855]\n"
          ]
        }
      ]
    },
    {
      "cell_type": "code",
      "metadata": {
        "id": "WVjIGt5pT-H7",
        "outputId": "613ddfc2-72e2-4835-e08e-b16b175353eb",
        "colab": {
          "base_uri": "https://localhost:8080/",
          "height": 80
        }
      },
      "source": [
        "columns=['postalCode', 'bath', 'car', 'propType' ]\n",
        "Coefficient = pd.DataFrame(regressor.coef_).T\n",
        "Coefficient.columns = columns\n",
        "Coefficient"
      ],
      "execution_count": 36,
      "outputs": [
        {
          "output_type": "execute_result",
          "data": {
            "text/html": [
              "<div>\n",
              "<style scoped>\n",
              "    .dataframe tbody tr th:only-of-type {\n",
              "        vertical-align: middle;\n",
              "    }\n",
              "\n",
              "    .dataframe tbody tr th {\n",
              "        vertical-align: top;\n",
              "    }\n",
              "\n",
              "    .dataframe thead th {\n",
              "        text-align: right;\n",
              "    }\n",
              "</style>\n",
              "<table border=\"1\" class=\"dataframe\">\n",
              "  <thead>\n",
              "    <tr style=\"text-align: right;\">\n",
              "      <th></th>\n",
              "      <th>postalCode</th>\n",
              "      <th>bath</th>\n",
              "      <th>car</th>\n",
              "      <th>propType</th>\n",
              "    </tr>\n",
              "  </thead>\n",
              "  <tbody>\n",
              "    <tr>\n",
              "      <th>0</th>\n",
              "      <td>-1204.261602</td>\n",
              "      <td>159007.819269</td>\n",
              "      <td>65613.133553</td>\n",
              "      <td>-82366.650529</td>\n",
              "    </tr>\n",
              "  </tbody>\n",
              "</table>\n",
              "</div>"
            ],
            "text/plain": [
              "    postalCode           bath           car      propType\n",
              "0 -1204.261602  159007.819269  65613.133553 -82366.650529"
            ]
          },
          "metadata": {},
          "execution_count": 36
        }
      ]
    },
    {
      "cell_type": "markdown",
      "metadata": {
        "id": "msEAq6_FFvX-"
      },
      "source": [
        "Predicting the Test set results"
      ]
    },
    {
      "cell_type": "code",
      "metadata": {
        "id": "qatuSLFHFzH-"
      },
      "source": [
        "y_pred= regressor.predict(X_test)"
      ],
      "execution_count": 37,
      "outputs": []
    },
    {
      "cell_type": "markdown",
      "metadata": {
        "id": "mehJbVfqHv9c"
      },
      "source": [
        "## 10. Evaluation metrics - How to Calculate R-Square and RMSE"
      ]
    },
    {
      "cell_type": "code",
      "metadata": {
        "id": "tJmxLtSKHtPe",
        "outputId": "f0318927-c305-4683-e9b0-640e11135db5",
        "colab": {
          "base_uri": "https://localhost:8080/"
        }
      },
      "source": [
        "coefficient_of_dermination = r2_score(y_test,y_pred)\n",
        "print('R-squared:',coefficient_of_dermination)\n",
        "\n",
        "rmse = np.sqrt(mean_squared_error(y_test, y_pred))\n",
        "print('Root Mean Squared Error: {}'.format(rmse))"
      ],
      "execution_count": 38,
      "outputs": [
        {
          "output_type": "stream",
          "name": "stdout",
          "text": [
            "R-squared: 0.4087963299441838\n",
            "Root Mean Squared Error: 407483.5079411727\n"
          ]
        }
      ]
    },
    {
      "cell_type": "code",
      "metadata": {
        "id": "8JeIf2txYaHD",
        "outputId": "a54e0fe4-7426-45f6-aef4-d7db81ee3de6",
        "colab": {
          "base_uri": "https://localhost:8080/",
          "height": 203
        }
      },
      "source": [
        "# Displaying Results and Difference in Table \n",
        "res = pd.DataFrame(y_pred, y_test)\n",
        "res = res.reset_index()\n",
        "res.columns = ['Price', 'Prediction']\n",
        "res['Prediction'] = round(res['Prediction'], 0)\n",
        "res['Difference'] = res['Price'] - res['Prediction']\n",
        "res.head(5)"
      ],
      "execution_count": 39,
      "outputs": [
        {
          "output_type": "execute_result",
          "data": {
            "text/html": [
              "<div>\n",
              "<style scoped>\n",
              "    .dataframe tbody tr th:only-of-type {\n",
              "        vertical-align: middle;\n",
              "    }\n",
              "\n",
              "    .dataframe tbody tr th {\n",
              "        vertical-align: top;\n",
              "    }\n",
              "\n",
              "    .dataframe thead th {\n",
              "        text-align: right;\n",
              "    }\n",
              "</style>\n",
              "<table border=\"1\" class=\"dataframe\">\n",
              "  <thead>\n",
              "    <tr style=\"text-align: right;\">\n",
              "      <th></th>\n",
              "      <th>Price</th>\n",
              "      <th>Prediction</th>\n",
              "      <th>Difference</th>\n",
              "    </tr>\n",
              "  </thead>\n",
              "  <tbody>\n",
              "    <tr>\n",
              "      <th>0</th>\n",
              "      <td>2702000</td>\n",
              "      <td>1547549.0</td>\n",
              "      <td>1154451.0</td>\n",
              "    </tr>\n",
              "    <tr>\n",
              "      <th>1</th>\n",
              "      <td>929000</td>\n",
              "      <td>1301251.0</td>\n",
              "      <td>-372251.0</td>\n",
              "    </tr>\n",
              "    <tr>\n",
              "      <th>2</th>\n",
              "      <td>1042000</td>\n",
              "      <td>918131.0</td>\n",
              "      <td>123869.0</td>\n",
              "    </tr>\n",
              "    <tr>\n",
              "      <th>3</th>\n",
              "      <td>692000</td>\n",
              "      <td>1153665.0</td>\n",
              "      <td>-461665.0</td>\n",
              "    </tr>\n",
              "    <tr>\n",
              "      <th>4</th>\n",
              "      <td>1900000</td>\n",
              "      <td>1560796.0</td>\n",
              "      <td>339204.0</td>\n",
              "    </tr>\n",
              "  </tbody>\n",
              "</table>\n",
              "</div>"
            ],
            "text/plain": [
              "     Price  Prediction  Difference\n",
              "0  2702000   1547549.0   1154451.0\n",
              "1   929000   1301251.0   -372251.0\n",
              "2  1042000    918131.0    123869.0\n",
              "3   692000   1153665.0   -461665.0\n",
              "4  1900000   1560796.0    339204.0"
            ]
          },
          "metadata": {},
          "execution_count": 39
        }
      ]
    },
    {
      "cell_type": "markdown",
      "metadata": {
        "id": "1SZSXG5ERnok"
      },
      "source": [
        "## 11. Regression on Full data using OLS model"
      ]
    },
    {
      "cell_type": "code",
      "metadata": {
        "id": "X_fB-s6iKKrN"
      },
      "source": [
        "Regression = sm.OLS(endog = y, exog = X).fit()"
      ],
      "execution_count": 40,
      "outputs": []
    },
    {
      "cell_type": "code",
      "metadata": {
        "id": "G8pZ2Qf9J8xA",
        "outputId": "4b15d280-1c5c-400e-ba21-b413e6f9c4d2",
        "colab": {
          "base_uri": "https://localhost:8080/"
        }
      },
      "source": [
        "print(Regression.summary())"
      ],
      "execution_count": 41,
      "outputs": [
        {
          "output_type": "stream",
          "name": "stdout",
          "text": [
            "                                 OLS Regression Results                                \n",
            "=======================================================================================\n",
            "Dep. Variable:                      y   R-squared (uncentered):                   0.824\n",
            "Model:                            OLS   Adj. R-squared (uncentered):              0.824\n",
            "Method:                 Least Squares   F-statistic:                          6.153e+04\n",
            "Date:                Tue, 09 Nov 2021   Prob (F-statistic):                        0.00\n",
            "Time:                        16:03:07   Log-Likelihood:                     -7.6600e+05\n",
            "No. Observations:               52458   AIC:                                  1.532e+06\n",
            "Df Residuals:                   52454   BIC:                                  1.532e+06\n",
            "Df Model:                           4                                                  \n",
            "Covariance Type:            nonrobust                                                  \n",
            "==============================================================================\n",
            "                 coef    std err          t      P>|t|      [0.025      0.975]\n",
            "------------------------------------------------------------------------------\n",
            "x1           143.5532      4.005     35.842      0.000     135.703     151.403\n",
            "x2           2.87e+05   3467.600     82.755      0.000     2.8e+05    2.94e+05\n",
            "x3          1.751e+05   3932.680     44.534      0.000    1.67e+05    1.83e+05\n",
            "x4         -3349.0696   2006.499     -1.669      0.095   -7281.827     583.687\n",
            "==============================================================================\n",
            "Omnibus:                     4737.149   Durbin-Watson:                   0.565\n",
            "Prob(Omnibus):                  0.000   Jarque-Bera (JB):             6132.886\n",
            "Skew:                           0.831   Prob(JB):                         0.00\n",
            "Kurtosis:                       3.205   Cond. No.                     4.24e+03\n",
            "==============================================================================\n",
            "\n",
            "Warnings:\n",
            "[1] Standard Errors assume that the covariance matrix of the errors is correctly specified.\n",
            "[2] The condition number is large, 4.24e+03. This might indicate that there are\n",
            "strong multicollinearity or other numerical problems.\n"
          ]
        }
      ]
    },
    {
      "cell_type": "code",
      "metadata": {
        "id": "gnJSbu8_Xwaw",
        "outputId": "89b9c79d-067f-405f-e694-efca0935d0b1",
        "colab": {
          "base_uri": "https://localhost:8080/",
          "height": 172
        }
      },
      "source": [
        "from statsmodels.stats.outliers_influence import variance_inflation_factor\n",
        "VIF = df_no_outlier[list(df_no_outlier.columns[:-1])]\n",
        "vif_info = pd.DataFrame()\n",
        "vif_info['VIF'] = [variance_inflation_factor(VIF.values, i) for i in range(VIF.shape[1])]\n",
        "vif_info['Column'] = VIF.columns\n",
        "vif_info.sort_values('VIF', ascending=False)"
      ],
      "execution_count": 42,
      "outputs": [
        {
          "output_type": "execute_result",
          "data": {
            "text/html": [
              "<div>\n",
              "<style scoped>\n",
              "    .dataframe tbody tr th:only-of-type {\n",
              "        vertical-align: middle;\n",
              "    }\n",
              "\n",
              "    .dataframe tbody tr th {\n",
              "        vertical-align: top;\n",
              "    }\n",
              "\n",
              "    .dataframe thead th {\n",
              "        text-align: right;\n",
              "    }\n",
              "</style>\n",
              "<table border=\"1\" class=\"dataframe\">\n",
              "  <thead>\n",
              "    <tr style=\"text-align: right;\">\n",
              "      <th></th>\n",
              "      <th>VIF</th>\n",
              "      <th>Column</th>\n",
              "    </tr>\n",
              "  </thead>\n",
              "  <tbody>\n",
              "    <tr>\n",
              "      <th>0</th>\n",
              "      <td>15.379863</td>\n",
              "      <td>postalCode</td>\n",
              "    </tr>\n",
              "    <tr>\n",
              "      <th>2</th>\n",
              "      <td>9.482412</td>\n",
              "      <td>car</td>\n",
              "    </tr>\n",
              "    <tr>\n",
              "      <th>1</th>\n",
              "      <td>8.015820</td>\n",
              "      <td>bath</td>\n",
              "    </tr>\n",
              "    <tr>\n",
              "      <th>3</th>\n",
              "      <td>5.146063</td>\n",
              "      <td>propType</td>\n",
              "    </tr>\n",
              "  </tbody>\n",
              "</table>\n",
              "</div>"
            ],
            "text/plain": [
              "         VIF      Column\n",
              "0  15.379863  postalCode\n",
              "2   9.482412         car\n",
              "1   8.015820        bath\n",
              "3   5.146063    propType"
            ]
          },
          "metadata": {},
          "execution_count": 42
        }
      ]
    },
    {
      "cell_type": "markdown",
      "metadata": {
        "id": "PSHZRbXeMfUE"
      },
      "source": [
        "###To read more on skewness, kurtosis, autocorrelation and multicollinearity.\n",
        "\n",
        "---\n",
        "https://www.sciencedirect.com/topics/neuroscience/kurtosis \n",
        "\n",
        "---\n",
        "https://www.investopedia.com/terms/d/durbin-watson-statistic.asp \n",
        "\n",
        "---\n",
        "https://www.analyticsvidhya.com/blog/2020/03/what-is-multicollinearity"
      ]
    }
  ]
}