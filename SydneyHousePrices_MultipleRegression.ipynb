{
  "nbformat": 4,
  "nbformat_minor": 0,
  "metadata": {
    "colab": {
      "name": "SydneyHousePrices_MultipleRegression.ipynb",
      "provenance": [],
      "collapsed_sections": []
    },
    "kernelspec": {
      "name": "python3",
      "display_name": "Python 3"
    },
    "language_info": {
      "name": "python"
    }
  },
  "cells": [
    {
      "cell_type": "markdown",
      "metadata": {
        "id": "ud2tAPt5VBa9"
      },
      "source": [
        "#<centre> **House Price Prediction based on Postal Code, Number of Bedrooms and Bathrooms, Car Parking  and Property Type**</centre>"
      ]
    },
    {
      "cell_type": "markdown",
      "metadata": {
        "id": "FwR4liJvnIwU"
      },
      "source": [
        "Detail on Data : https://www.kaggle.com/mihirhalai/sydney-house-prices"
      ]
    },
    {
      "cell_type": "markdown",
      "metadata": {
        "id": "zu1ja9k4TEvE"
      },
      "source": [
        "## 1. Download source data from Github"
      ]
    },
    {
      "cell_type": "code",
      "metadata": {
        "colab": {
          "base_uri": "https://localhost:8080/"
        },
        "id": "sei0kC5gPk6K",
        "outputId": "3faed4b7-0ac6-4c8f-d85f-e3e8f6f98e14"
      },
      "source": [
        "!wget https://raw.githubusercontent.com/DLPY/Regression-Session-2/master/Data/SydneyHousePrices.csv"
      ],
      "execution_count": null,
      "outputs": [
        {
          "output_type": "stream",
          "name": "stdout",
          "text": [
            "--2021-10-14 11:42:42--  https://raw.githubusercontent.com/DLPY/Regression-Session-1/master/Data/SydneyHousePrices.csv\n",
            "Resolving raw.githubusercontent.com (raw.githubusercontent.com)... 185.199.108.133, 185.199.109.133, 185.199.110.133, ...\n",
            "Connecting to raw.githubusercontent.com (raw.githubusercontent.com)|185.199.108.133|:443... connected.\n",
            "HTTP request sent, awaiting response... 200 OK\n",
            "Length: 11606169 (11M) [text/plain]\n",
            "Saving to: ‘SydneyHousePrices.csv.3’\n",
            "\n",
            "\rSydneyHousePrices.c   0%[                    ]       0  --.-KB/s               \rSydneyHousePrices.c 100%[===================>]  11.07M  --.-KB/s    in 0.07s   \n",
            "\n",
            "2021-10-14 11:42:42 (159 MB/s) - ‘SydneyHousePrices.csv.3’ saved [11606169/11606169]\n",
            "\n"
          ]
        }
      ]
    },
    {
      "cell_type": "markdown",
      "metadata": {
        "id": "2zktx2ZETgjC"
      },
      "source": [
        "## 2. Import neccssary packages for performing EDA and Multiple regression"
      ]
    },
    {
      "cell_type": "code",
      "metadata": {
        "id": "3rZfVG0gtYTq",
        "colab": {
          "base_uri": "https://localhost:8080/"
        },
        "outputId": "b64ca206-7435-4f45-cd5b-4a0d4bc40e66"
      },
      "source": [
        "# Imports\n",
        "import pandas as pd\n",
        "import numpy as np \n",
        "import matplotlib.pyplot as plt\n",
        "import seaborn as sns\n",
        "from sklearn.preprocessing import LabelEncoder, OneHotEncoder\n",
        "from sklearn.model_selection import train_test_split\n",
        "from sklearn.linear_model import LinearRegression\n",
        "import statsmodels.api as sm\n",
        "from sklearn.metrics import r2_score\n",
        "from sklearn.metrics import mean_squared_error\n",
        "%matplotlib inline\n",
        "pd.set_option('display.max_colwidth', None)"
      ],
      "execution_count": null,
      "outputs": [
        {
          "output_type": "stream",
          "name": "stderr",
          "text": [
            "/usr/local/lib/python3.7/dist-packages/statsmodels/tools/_testing.py:19: FutureWarning: pandas.util.testing is deprecated. Use the functions in the public API at pandas.testing instead.\n",
            "  import pandas.util.testing as tm\n"
          ]
        }
      ]
    },
    {
      "cell_type": "markdown",
      "metadata": {
        "id": "QMBooIu2TuTJ"
      },
      "source": [
        "## 3. Read data into pandas dataframe to perform data analysis, cleaning and transformation"
      ]
    },
    {
      "cell_type": "code",
      "metadata": {
        "id": "KOJdx4LmQwC3"
      },
      "source": [
        "df = pd.read_csv('SydneyHousePrices.csv')"
      ],
      "execution_count": null,
      "outputs": []
    },
    {
      "cell_type": "code",
      "metadata": {
        "id": "Zi1iRejKtqyt",
        "colab": {
          "base_uri": "https://localhost:8080/",
          "height": 204
        },
        "outputId": "b25c3361-1b98-4e07-a48e-dcb98166a704"
      },
      "source": [
        "df.head(5)"
      ],
      "execution_count": null,
      "outputs": [
        {
          "output_type": "execute_result",
          "data": {
            "text/html": [
              "<div>\n",
              "<style scoped>\n",
              "    .dataframe tbody tr th:only-of-type {\n",
              "        vertical-align: middle;\n",
              "    }\n",
              "\n",
              "    .dataframe tbody tr th {\n",
              "        vertical-align: top;\n",
              "    }\n",
              "\n",
              "    .dataframe thead th {\n",
              "        text-align: right;\n",
              "    }\n",
              "</style>\n",
              "<table border=\"1\" class=\"dataframe\">\n",
              "  <thead>\n",
              "    <tr style=\"text-align: right;\">\n",
              "      <th></th>\n",
              "      <th>Date</th>\n",
              "      <th>Id</th>\n",
              "      <th>suburb</th>\n",
              "      <th>postalCode</th>\n",
              "      <th>sellPrice</th>\n",
              "      <th>bed</th>\n",
              "      <th>bath</th>\n",
              "      <th>car</th>\n",
              "      <th>propType</th>\n",
              "    </tr>\n",
              "  </thead>\n",
              "  <tbody>\n",
              "    <tr>\n",
              "      <th>0</th>\n",
              "      <td>2019-06-19</td>\n",
              "      <td>1</td>\n",
              "      <td>Avalon Beach</td>\n",
              "      <td>2107</td>\n",
              "      <td>1210000</td>\n",
              "      <td>4.0</td>\n",
              "      <td>2</td>\n",
              "      <td>2.0</td>\n",
              "      <td>house</td>\n",
              "    </tr>\n",
              "    <tr>\n",
              "      <th>1</th>\n",
              "      <td>2019-06-13</td>\n",
              "      <td>2</td>\n",
              "      <td>Avalon Beach</td>\n",
              "      <td>2107</td>\n",
              "      <td>2250000</td>\n",
              "      <td>4.0</td>\n",
              "      <td>3</td>\n",
              "      <td>4.0</td>\n",
              "      <td>house</td>\n",
              "    </tr>\n",
              "    <tr>\n",
              "      <th>2</th>\n",
              "      <td>2019-06-07</td>\n",
              "      <td>3</td>\n",
              "      <td>Whale Beach</td>\n",
              "      <td>2107</td>\n",
              "      <td>2920000</td>\n",
              "      <td>3.0</td>\n",
              "      <td>3</td>\n",
              "      <td>2.0</td>\n",
              "      <td>house</td>\n",
              "    </tr>\n",
              "    <tr>\n",
              "      <th>3</th>\n",
              "      <td>2019-05-28</td>\n",
              "      <td>4</td>\n",
              "      <td>Avalon Beach</td>\n",
              "      <td>2107</td>\n",
              "      <td>1530000</td>\n",
              "      <td>3.0</td>\n",
              "      <td>1</td>\n",
              "      <td>2.0</td>\n",
              "      <td>house</td>\n",
              "    </tr>\n",
              "    <tr>\n",
              "      <th>4</th>\n",
              "      <td>2019-05-22</td>\n",
              "      <td>5</td>\n",
              "      <td>Whale Beach</td>\n",
              "      <td>2107</td>\n",
              "      <td>8000000</td>\n",
              "      <td>5.0</td>\n",
              "      <td>4</td>\n",
              "      <td>4.0</td>\n",
              "      <td>house</td>\n",
              "    </tr>\n",
              "  </tbody>\n",
              "</table>\n",
              "</div>"
            ],
            "text/plain": [
              "         Date  Id        suburb  postalCode  sellPrice  bed  bath  car propType\n",
              "0  2019-06-19   1  Avalon Beach        2107    1210000  4.0     2  2.0    house\n",
              "1  2019-06-13   2  Avalon Beach        2107    2250000  4.0     3  4.0    house\n",
              "2  2019-06-07   3   Whale Beach        2107    2920000  3.0     3  2.0    house\n",
              "3  2019-05-28   4  Avalon Beach        2107    1530000  3.0     1  2.0    house\n",
              "4  2019-05-22   5   Whale Beach        2107    8000000  5.0     4  4.0    house"
            ]
          },
          "metadata": {},
          "execution_count": 4
        }
      ]
    },
    {
      "cell_type": "code",
      "metadata": {
        "colab": {
          "base_uri": "https://localhost:8080/"
        },
        "id": "fCw_zPdLuRvr",
        "outputId": "b7787b4f-3295-40ea-9895-3dadc52b4ba7"
      },
      "source": [
        "df.shape"
      ],
      "execution_count": null,
      "outputs": [
        {
          "output_type": "execute_result",
          "data": {
            "text/plain": [
              "(199504, 9)"
            ]
          },
          "metadata": {},
          "execution_count": 5
        }
      ]
    },
    {
      "cell_type": "code",
      "metadata": {
        "colab": {
          "base_uri": "https://localhost:8080/"
        },
        "id": "MROUhjkvtrJu",
        "outputId": "0693c7fc-909a-4133-a04b-a700e897921d"
      },
      "source": [
        "df.info()"
      ],
      "execution_count": null,
      "outputs": [
        {
          "output_type": "stream",
          "name": "stdout",
          "text": [
            "<class 'pandas.core.frame.DataFrame'>\n",
            "RangeIndex: 199504 entries, 0 to 199503\n",
            "Data columns (total 9 columns):\n",
            " #   Column      Non-Null Count   Dtype  \n",
            "---  ------      --------------   -----  \n",
            " 0   Date        199504 non-null  object \n",
            " 1   Id          199504 non-null  int64  \n",
            " 2   suburb      199504 non-null  object \n",
            " 3   postalCode  199504 non-null  int64  \n",
            " 4   sellPrice   199504 non-null  int64  \n",
            " 5   bed         199350 non-null  float64\n",
            " 6   bath        199504 non-null  int64  \n",
            " 7   car         181353 non-null  float64\n",
            " 8   propType    199504 non-null  object \n",
            "dtypes: float64(2), int64(4), object(3)\n",
            "memory usage: 13.7+ MB\n"
          ]
        }
      ]
    },
    {
      "cell_type": "code",
      "metadata": {
        "colab": {
          "base_uri": "https://localhost:8080/",
          "height": 297
        },
        "id": "-X3wkC1gtrR1",
        "outputId": "3f7db62b-8efe-4ff3-fa06-f825fd7964bf"
      },
      "source": [
        "round(df.describe(),2)"
      ],
      "execution_count": null,
      "outputs": [
        {
          "output_type": "execute_result",
          "data": {
            "text/html": [
              "<div>\n",
              "<style scoped>\n",
              "    .dataframe tbody tr th:only-of-type {\n",
              "        vertical-align: middle;\n",
              "    }\n",
              "\n",
              "    .dataframe tbody tr th {\n",
              "        vertical-align: top;\n",
              "    }\n",
              "\n",
              "    .dataframe thead th {\n",
              "        text-align: right;\n",
              "    }\n",
              "</style>\n",
              "<table border=\"1\" class=\"dataframe\">\n",
              "  <thead>\n",
              "    <tr style=\"text-align: right;\">\n",
              "      <th></th>\n",
              "      <th>Id</th>\n",
              "      <th>postalCode</th>\n",
              "      <th>sellPrice</th>\n",
              "      <th>bed</th>\n",
              "      <th>bath</th>\n",
              "      <th>car</th>\n",
              "    </tr>\n",
              "  </thead>\n",
              "  <tbody>\n",
              "    <tr>\n",
              "      <th>count</th>\n",
              "      <td>199504.00</td>\n",
              "      <td>199504.00</td>\n",
              "      <td>1.995040e+05</td>\n",
              "      <td>199350.00</td>\n",
              "      <td>199504.00</td>\n",
              "      <td>181353.00</td>\n",
              "    </tr>\n",
              "    <tr>\n",
              "      <th>mean</th>\n",
              "      <td>99752.50</td>\n",
              "      <td>2196.38</td>\n",
              "      <td>1.269776e+06</td>\n",
              "      <td>3.52</td>\n",
              "      <td>1.89</td>\n",
              "      <td>1.94</td>\n",
              "    </tr>\n",
              "    <tr>\n",
              "      <th>std</th>\n",
              "      <td>57591.99</td>\n",
              "      <td>193.05</td>\n",
              "      <td>6.948239e+06</td>\n",
              "      <td>1.07</td>\n",
              "      <td>0.93</td>\n",
              "      <td>1.06</td>\n",
              "    </tr>\n",
              "    <tr>\n",
              "      <th>min</th>\n",
              "      <td>1.00</td>\n",
              "      <td>2000.00</td>\n",
              "      <td>1.000000e+00</td>\n",
              "      <td>1.00</td>\n",
              "      <td>1.00</td>\n",
              "      <td>1.00</td>\n",
              "    </tr>\n",
              "    <tr>\n",
              "      <th>25%</th>\n",
              "      <td>49876.75</td>\n",
              "      <td>2082.00</td>\n",
              "      <td>7.200000e+05</td>\n",
              "      <td>3.00</td>\n",
              "      <td>1.00</td>\n",
              "      <td>1.00</td>\n",
              "    </tr>\n",
              "    <tr>\n",
              "      <th>50%</th>\n",
              "      <td>99752.50</td>\n",
              "      <td>2144.00</td>\n",
              "      <td>9.850000e+05</td>\n",
              "      <td>3.00</td>\n",
              "      <td>2.00</td>\n",
              "      <td>2.00</td>\n",
              "    </tr>\n",
              "    <tr>\n",
              "      <th>75%</th>\n",
              "      <td>149628.25</td>\n",
              "      <td>2211.00</td>\n",
              "      <td>1.475000e+06</td>\n",
              "      <td>4.00</td>\n",
              "      <td>2.00</td>\n",
              "      <td>2.00</td>\n",
              "    </tr>\n",
              "    <tr>\n",
              "      <th>max</th>\n",
              "      <td>199504.00</td>\n",
              "      <td>4878.00</td>\n",
              "      <td>2.147484e+09</td>\n",
              "      <td>99.00</td>\n",
              "      <td>99.00</td>\n",
              "      <td>41.00</td>\n",
              "    </tr>\n",
              "  </tbody>\n",
              "</table>\n",
              "</div>"
            ],
            "text/plain": [
              "              Id  postalCode     sellPrice        bed       bath        car\n",
              "count  199504.00   199504.00  1.995040e+05  199350.00  199504.00  181353.00\n",
              "mean    99752.50     2196.38  1.269776e+06       3.52       1.89       1.94\n",
              "std     57591.99      193.05  6.948239e+06       1.07       0.93       1.06\n",
              "min         1.00     2000.00  1.000000e+00       1.00       1.00       1.00\n",
              "25%     49876.75     2082.00  7.200000e+05       3.00       1.00       1.00\n",
              "50%     99752.50     2144.00  9.850000e+05       3.00       2.00       2.00\n",
              "75%    149628.25     2211.00  1.475000e+06       4.00       2.00       2.00\n",
              "max    199504.00     4878.00  2.147484e+09      99.00      99.00      41.00"
            ]
          },
          "metadata": {},
          "execution_count": 7
        }
      ]
    },
    {
      "cell_type": "markdown",
      "metadata": {
        "id": "GeZCTIuazuew"
      },
      "source": [
        "**From the above max - It shows the dataset has outliers and it needs to be removed.**"
      ]
    },
    {
      "cell_type": "markdown",
      "metadata": {
        "id": "ELD27hi3UnzO"
      },
      "source": [
        "## 4. Choosing predictors and target variables for performing Multiple Regression"
      ]
    },
    {
      "cell_type": "markdown",
      "metadata": {
        "id": "x1qfXutU0OjZ"
      },
      "source": [
        "**Target and Source variables**\n",
        "\n",
        "*   SellingPrice - Target Variable\n",
        "*   Bed, Bath, Car, propType, postalCode  - Predictor Variables\n",
        "\n"
      ]
    },
    {
      "cell_type": "code",
      "metadata": {
        "id": "MgpMuZXp0BWg"
      },
      "source": [
        "df_new = df[['postalCode', 'bed', 'bath', 'car', 'propType' , 'sellPrice']]"
      ],
      "execution_count": null,
      "outputs": []
    },
    {
      "cell_type": "code",
      "metadata": {
        "colab": {
          "base_uri": "https://localhost:8080/"
        },
        "id": "4hxaowKcSntL",
        "outputId": "e4760979-58b4-4b92-ce66-b507918d26fe"
      },
      "source": [
        "df_new.propType.unique()"
      ],
      "execution_count": null,
      "outputs": [
        {
          "output_type": "execute_result",
          "data": {
            "text/plain": [
              "array(['house', 'townhouse', 'duplex/semi-detached', 'villa', 'other',\n",
              "       'terrace', 'warehouse', 'acreage'], dtype=object)"
            ]
          },
          "metadata": {},
          "execution_count": 9
        }
      ]
    },
    {
      "cell_type": "code",
      "metadata": {
        "colab": {
          "base_uri": "https://localhost:8080/",
          "height": 204
        },
        "id": "-zR9DXCn1F8r",
        "outputId": "78266278-c96d-4ccc-a069-50e826b27fd0"
      },
      "source": [
        "df_new.head(5)"
      ],
      "execution_count": null,
      "outputs": [
        {
          "output_type": "execute_result",
          "data": {
            "text/html": [
              "<div>\n",
              "<style scoped>\n",
              "    .dataframe tbody tr th:only-of-type {\n",
              "        vertical-align: middle;\n",
              "    }\n",
              "\n",
              "    .dataframe tbody tr th {\n",
              "        vertical-align: top;\n",
              "    }\n",
              "\n",
              "    .dataframe thead th {\n",
              "        text-align: right;\n",
              "    }\n",
              "</style>\n",
              "<table border=\"1\" class=\"dataframe\">\n",
              "  <thead>\n",
              "    <tr style=\"text-align: right;\">\n",
              "      <th></th>\n",
              "      <th>postalCode</th>\n",
              "      <th>bed</th>\n",
              "      <th>bath</th>\n",
              "      <th>car</th>\n",
              "      <th>propType</th>\n",
              "      <th>sellPrice</th>\n",
              "    </tr>\n",
              "  </thead>\n",
              "  <tbody>\n",
              "    <tr>\n",
              "      <th>0</th>\n",
              "      <td>2107</td>\n",
              "      <td>4.0</td>\n",
              "      <td>2</td>\n",
              "      <td>2.0</td>\n",
              "      <td>house</td>\n",
              "      <td>1210000</td>\n",
              "    </tr>\n",
              "    <tr>\n",
              "      <th>1</th>\n",
              "      <td>2107</td>\n",
              "      <td>4.0</td>\n",
              "      <td>3</td>\n",
              "      <td>4.0</td>\n",
              "      <td>house</td>\n",
              "      <td>2250000</td>\n",
              "    </tr>\n",
              "    <tr>\n",
              "      <th>2</th>\n",
              "      <td>2107</td>\n",
              "      <td>3.0</td>\n",
              "      <td>3</td>\n",
              "      <td>2.0</td>\n",
              "      <td>house</td>\n",
              "      <td>2920000</td>\n",
              "    </tr>\n",
              "    <tr>\n",
              "      <th>3</th>\n",
              "      <td>2107</td>\n",
              "      <td>3.0</td>\n",
              "      <td>1</td>\n",
              "      <td>2.0</td>\n",
              "      <td>house</td>\n",
              "      <td>1530000</td>\n",
              "    </tr>\n",
              "    <tr>\n",
              "      <th>4</th>\n",
              "      <td>2107</td>\n",
              "      <td>5.0</td>\n",
              "      <td>4</td>\n",
              "      <td>4.0</td>\n",
              "      <td>house</td>\n",
              "      <td>8000000</td>\n",
              "    </tr>\n",
              "  </tbody>\n",
              "</table>\n",
              "</div>"
            ],
            "text/plain": [
              "   postalCode  bed  bath  car propType  sellPrice\n",
              "0        2107  4.0     2  2.0    house    1210000\n",
              "1        2107  4.0     3  4.0    house    2250000\n",
              "2        2107  3.0     3  2.0    house    2920000\n",
              "3        2107  3.0     1  2.0    house    1530000\n",
              "4        2107  5.0     4  4.0    house    8000000"
            ]
          },
          "metadata": {},
          "execution_count": 10
        }
      ]
    },
    {
      "cell_type": "markdown",
      "metadata": {
        "id": "PD8_zJrU_9CX"
      },
      "source": [
        "Encoding the categorical variables - Change the text into numbers"
      ]
    },
    {
      "cell_type": "code",
      "metadata": {
        "id": "dXi025d87t7J",
        "colab": {
          "base_uri": "https://localhost:8080/"
        },
        "outputId": "6849e01b-ff98-4076-dd95-5cbc8b1b912a"
      },
      "source": [
        "df_new['propType'] = df_new['propType'].astype('category').cat.codes"
      ],
      "execution_count": null,
      "outputs": [
        {
          "output_type": "stream",
          "name": "stderr",
          "text": [
            "/usr/local/lib/python3.7/dist-packages/ipykernel_launcher.py:1: SettingWithCopyWarning: \n",
            "A value is trying to be set on a copy of a slice from a DataFrame.\n",
            "Try using .loc[row_indexer,col_indexer] = value instead\n",
            "\n",
            "See the caveats in the documentation: https://pandas.pydata.org/pandas-docs/stable/user_guide/indexing.html#returning-a-view-versus-a-copy\n",
            "  \"\"\"Entry point for launching an IPython kernel.\n"
          ]
        }
      ]
    },
    {
      "cell_type": "code",
      "metadata": {
        "colab": {
          "base_uri": "https://localhost:8080/"
        },
        "id": "TOPJyDy0Stpv",
        "outputId": "b254057e-6eb6-469b-af11-8969c38d640b"
      },
      "source": [
        "df_new.propType.unique()"
      ],
      "execution_count": null,
      "outputs": [
        {
          "output_type": "execute_result",
          "data": {
            "text/plain": [
              "array([2, 5, 1, 6, 3, 4, 7, 0], dtype=int8)"
            ]
          },
          "metadata": {},
          "execution_count": 12
        }
      ]
    },
    {
      "cell_type": "code",
      "metadata": {
        "colab": {
          "base_uri": "https://localhost:8080/",
          "height": 204
        },
        "id": "p3iOdYnh72mQ",
        "outputId": "87b02767-1e24-431c-b93d-d937f229753e"
      },
      "source": [
        "df_new.head(5)"
      ],
      "execution_count": null,
      "outputs": [
        {
          "output_type": "execute_result",
          "data": {
            "text/html": [
              "<div>\n",
              "<style scoped>\n",
              "    .dataframe tbody tr th:only-of-type {\n",
              "        vertical-align: middle;\n",
              "    }\n",
              "\n",
              "    .dataframe tbody tr th {\n",
              "        vertical-align: top;\n",
              "    }\n",
              "\n",
              "    .dataframe thead th {\n",
              "        text-align: right;\n",
              "    }\n",
              "</style>\n",
              "<table border=\"1\" class=\"dataframe\">\n",
              "  <thead>\n",
              "    <tr style=\"text-align: right;\">\n",
              "      <th></th>\n",
              "      <th>postalCode</th>\n",
              "      <th>bed</th>\n",
              "      <th>bath</th>\n",
              "      <th>car</th>\n",
              "      <th>propType</th>\n",
              "      <th>sellPrice</th>\n",
              "    </tr>\n",
              "  </thead>\n",
              "  <tbody>\n",
              "    <tr>\n",
              "      <th>0</th>\n",
              "      <td>2107</td>\n",
              "      <td>4.0</td>\n",
              "      <td>2</td>\n",
              "      <td>2.0</td>\n",
              "      <td>2</td>\n",
              "      <td>1210000</td>\n",
              "    </tr>\n",
              "    <tr>\n",
              "      <th>1</th>\n",
              "      <td>2107</td>\n",
              "      <td>4.0</td>\n",
              "      <td>3</td>\n",
              "      <td>4.0</td>\n",
              "      <td>2</td>\n",
              "      <td>2250000</td>\n",
              "    </tr>\n",
              "    <tr>\n",
              "      <th>2</th>\n",
              "      <td>2107</td>\n",
              "      <td>3.0</td>\n",
              "      <td>3</td>\n",
              "      <td>2.0</td>\n",
              "      <td>2</td>\n",
              "      <td>2920000</td>\n",
              "    </tr>\n",
              "    <tr>\n",
              "      <th>3</th>\n",
              "      <td>2107</td>\n",
              "      <td>3.0</td>\n",
              "      <td>1</td>\n",
              "      <td>2.0</td>\n",
              "      <td>2</td>\n",
              "      <td>1530000</td>\n",
              "    </tr>\n",
              "    <tr>\n",
              "      <th>4</th>\n",
              "      <td>2107</td>\n",
              "      <td>5.0</td>\n",
              "      <td>4</td>\n",
              "      <td>4.0</td>\n",
              "      <td>2</td>\n",
              "      <td>8000000</td>\n",
              "    </tr>\n",
              "  </tbody>\n",
              "</table>\n",
              "</div>"
            ],
            "text/plain": [
              "   postalCode  bed  bath  car  propType  sellPrice\n",
              "0        2107  4.0     2  2.0         2    1210000\n",
              "1        2107  4.0     3  4.0         2    2250000\n",
              "2        2107  3.0     3  2.0         2    2920000\n",
              "3        2107  3.0     1  2.0         2    1530000\n",
              "4        2107  5.0     4  4.0         2    8000000"
            ]
          },
          "metadata": {},
          "execution_count": 13
        }
      ]
    },
    {
      "cell_type": "code",
      "metadata": {
        "colab": {
          "base_uri": "https://localhost:8080/"
        },
        "id": "kew-yZLjEz7Q",
        "outputId": "83b9cf09-d0b3-4713-a249-b35b9cbff86b"
      },
      "source": [
        "df_new.dtypes"
      ],
      "execution_count": null,
      "outputs": [
        {
          "output_type": "execute_result",
          "data": {
            "text/plain": [
              "postalCode      int64\n",
              "bed           float64\n",
              "bath            int64\n",
              "car           float64\n",
              "propType         int8\n",
              "sellPrice       int64\n",
              "dtype: object"
            ]
          },
          "metadata": {},
          "execution_count": 14
        }
      ]
    },
    {
      "cell_type": "code",
      "metadata": {
        "colab": {
          "base_uri": "https://localhost:8080/"
        },
        "id": "OwJYvNbMGpKH",
        "outputId": "edf2f570-9aae-4c61-ce11-e40d53db7342"
      },
      "source": [
        "df_new.count()"
      ],
      "execution_count": null,
      "outputs": [
        {
          "output_type": "execute_result",
          "data": {
            "text/plain": [
              "postalCode    199504\n",
              "bed           199350\n",
              "bath          199504\n",
              "car           181353\n",
              "propType      199504\n",
              "sellPrice     199504\n",
              "dtype: int64"
            ]
          },
          "metadata": {},
          "execution_count": 15
        }
      ]
    },
    {
      "cell_type": "code",
      "metadata": {
        "colab": {
          "base_uri": "https://localhost:8080/",
          "height": 419
        },
        "id": "mwMTcS7Ivmuk",
        "outputId": "3a8a4360-ed48-4442-97d3-daeb13f67093"
      },
      "source": [
        "df_new.replace(np.nan, 0)"
      ],
      "execution_count": null,
      "outputs": [
        {
          "output_type": "execute_result",
          "data": {
            "text/html": [
              "<div>\n",
              "<style scoped>\n",
              "    .dataframe tbody tr th:only-of-type {\n",
              "        vertical-align: middle;\n",
              "    }\n",
              "\n",
              "    .dataframe tbody tr th {\n",
              "        vertical-align: top;\n",
              "    }\n",
              "\n",
              "    .dataframe thead th {\n",
              "        text-align: right;\n",
              "    }\n",
              "</style>\n",
              "<table border=\"1\" class=\"dataframe\">\n",
              "  <thead>\n",
              "    <tr style=\"text-align: right;\">\n",
              "      <th></th>\n",
              "      <th>postalCode</th>\n",
              "      <th>bed</th>\n",
              "      <th>bath</th>\n",
              "      <th>car</th>\n",
              "      <th>propType</th>\n",
              "      <th>sellPrice</th>\n",
              "    </tr>\n",
              "  </thead>\n",
              "  <tbody>\n",
              "    <tr>\n",
              "      <th>0</th>\n",
              "      <td>2107</td>\n",
              "      <td>4.0</td>\n",
              "      <td>2</td>\n",
              "      <td>2.0</td>\n",
              "      <td>2</td>\n",
              "      <td>1210000</td>\n",
              "    </tr>\n",
              "    <tr>\n",
              "      <th>1</th>\n",
              "      <td>2107</td>\n",
              "      <td>4.0</td>\n",
              "      <td>3</td>\n",
              "      <td>4.0</td>\n",
              "      <td>2</td>\n",
              "      <td>2250000</td>\n",
              "    </tr>\n",
              "    <tr>\n",
              "      <th>2</th>\n",
              "      <td>2107</td>\n",
              "      <td>3.0</td>\n",
              "      <td>3</td>\n",
              "      <td>2.0</td>\n",
              "      <td>2</td>\n",
              "      <td>2920000</td>\n",
              "    </tr>\n",
              "    <tr>\n",
              "      <th>3</th>\n",
              "      <td>2107</td>\n",
              "      <td>3.0</td>\n",
              "      <td>1</td>\n",
              "      <td>2.0</td>\n",
              "      <td>2</td>\n",
              "      <td>1530000</td>\n",
              "    </tr>\n",
              "    <tr>\n",
              "      <th>4</th>\n",
              "      <td>2107</td>\n",
              "      <td>5.0</td>\n",
              "      <td>4</td>\n",
              "      <td>4.0</td>\n",
              "      <td>2</td>\n",
              "      <td>8000000</td>\n",
              "    </tr>\n",
              "    <tr>\n",
              "      <th>...</th>\n",
              "      <td>...</td>\n",
              "      <td>...</td>\n",
              "      <td>...</td>\n",
              "      <td>...</td>\n",
              "      <td>...</td>\n",
              "      <td>...</td>\n",
              "    </tr>\n",
              "    <tr>\n",
              "      <th>199499</th>\n",
              "      <td>2234</td>\n",
              "      <td>5.0</td>\n",
              "      <td>3</td>\n",
              "      <td>7.0</td>\n",
              "      <td>2</td>\n",
              "      <td>1900000</td>\n",
              "    </tr>\n",
              "    <tr>\n",
              "      <th>199500</th>\n",
              "      <td>2234</td>\n",
              "      <td>4.0</td>\n",
              "      <td>3</td>\n",
              "      <td>2.0</td>\n",
              "      <td>2</td>\n",
              "      <td>980000</td>\n",
              "    </tr>\n",
              "    <tr>\n",
              "      <th>199501</th>\n",
              "      <td>2234</td>\n",
              "      <td>4.0</td>\n",
              "      <td>2</td>\n",
              "      <td>2.0</td>\n",
              "      <td>2</td>\n",
              "      <td>850000</td>\n",
              "    </tr>\n",
              "    <tr>\n",
              "      <th>199502</th>\n",
              "      <td>2234</td>\n",
              "      <td>3.0</td>\n",
              "      <td>2</td>\n",
              "      <td>2.0</td>\n",
              "      <td>5</td>\n",
              "      <td>640000</td>\n",
              "    </tr>\n",
              "    <tr>\n",
              "      <th>199503</th>\n",
              "      <td>2234</td>\n",
              "      <td>5.0</td>\n",
              "      <td>4</td>\n",
              "      <td>3.0</td>\n",
              "      <td>2</td>\n",
              "      <td>1611000</td>\n",
              "    </tr>\n",
              "  </tbody>\n",
              "</table>\n",
              "<p>199504 rows × 6 columns</p>\n",
              "</div>"
            ],
            "text/plain": [
              "        postalCode  bed  bath  car  propType  sellPrice\n",
              "0             2107  4.0     2  2.0         2    1210000\n",
              "1             2107  4.0     3  4.0         2    2250000\n",
              "2             2107  3.0     3  2.0         2    2920000\n",
              "3             2107  3.0     1  2.0         2    1530000\n",
              "4             2107  5.0     4  4.0         2    8000000\n",
              "...            ...  ...   ...  ...       ...        ...\n",
              "199499        2234  5.0     3  7.0         2    1900000\n",
              "199500        2234  4.0     3  2.0         2     980000\n",
              "199501        2234  4.0     2  2.0         2     850000\n",
              "199502        2234  3.0     2  2.0         5     640000\n",
              "199503        2234  5.0     4  3.0         2    1611000\n",
              "\n",
              "[199504 rows x 6 columns]"
            ]
          },
          "metadata": {},
          "execution_count": 16
        }
      ]
    },
    {
      "cell_type": "markdown",
      "metadata": {
        "id": "Mk-BdqGC5Kkm"
      },
      "source": [
        "## 5. Remove outliers in the data"
      ]
    },
    {
      "cell_type": "code",
      "metadata": {
        "id": "2Hm7FDLBGCqq"
      },
      "source": [
        "def remove_outlier(df_in, col_name):\n",
        "    q1 = df_in[col_name].quantile(0.25)\n",
        "    q3 = df_in[col_name].quantile(0.75)\n",
        "    iqr = q3-q1 #Interquartile range\n",
        "    fence_low  = q1-1.5*iqr\n",
        "    fence_high = q3+1.5*iqr\n",
        "    df_out = df_in.loc[(df_in[col_name] > fence_low) & (df_in[col_name] < fence_high)]\n",
        "    return df_out"
      ],
      "execution_count": null,
      "outputs": []
    },
    {
      "cell_type": "code",
      "metadata": {
        "id": "0DFWQzfZGu9w"
      },
      "source": [
        "df_no_outlier_bed=remove_outlier(df_new, 'bed').reset_index(drop=True)\n",
        "df_no_outlier_bath=remove_outlier(df_no_outlier_bed, 'bath').reset_index(drop=True)\n",
        "df_no_outlier_car=remove_outlier(df_no_outlier_bath, 'car').reset_index(drop=True)\n",
        "df_no_outlier=remove_outlier(df_no_outlier_car, 'sellPrice').reset_index(drop=True)"
      ],
      "execution_count": null,
      "outputs": []
    },
    {
      "cell_type": "code",
      "metadata": {
        "colab": {
          "base_uri": "https://localhost:8080/",
          "height": 419
        },
        "id": "2YFjMaQ3G26P",
        "outputId": "14384f52-d1d1-4cae-ff4f-9334d9effb55"
      },
      "source": [
        "df_no_outlier"
      ],
      "execution_count": null,
      "outputs": [
        {
          "output_type": "execute_result",
          "data": {
            "text/html": [
              "<div>\n",
              "<style scoped>\n",
              "    .dataframe tbody tr th:only-of-type {\n",
              "        vertical-align: middle;\n",
              "    }\n",
              "\n",
              "    .dataframe tbody tr th {\n",
              "        vertical-align: top;\n",
              "    }\n",
              "\n",
              "    .dataframe thead th {\n",
              "        text-align: right;\n",
              "    }\n",
              "</style>\n",
              "<table border=\"1\" class=\"dataframe\">\n",
              "  <thead>\n",
              "    <tr style=\"text-align: right;\">\n",
              "      <th></th>\n",
              "      <th>postalCode</th>\n",
              "      <th>bed</th>\n",
              "      <th>bath</th>\n",
              "      <th>car</th>\n",
              "      <th>propType</th>\n",
              "      <th>sellPrice</th>\n",
              "    </tr>\n",
              "  </thead>\n",
              "  <tbody>\n",
              "    <tr>\n",
              "      <th>0</th>\n",
              "      <td>2107</td>\n",
              "      <td>4.0</td>\n",
              "      <td>2</td>\n",
              "      <td>2.0</td>\n",
              "      <td>2</td>\n",
              "      <td>1210000</td>\n",
              "    </tr>\n",
              "    <tr>\n",
              "      <th>1</th>\n",
              "      <td>2107</td>\n",
              "      <td>3.0</td>\n",
              "      <td>1</td>\n",
              "      <td>2.0</td>\n",
              "      <td>2</td>\n",
              "      <td>1530000</td>\n",
              "    </tr>\n",
              "    <tr>\n",
              "      <th>2</th>\n",
              "      <td>2107</td>\n",
              "      <td>4.0</td>\n",
              "      <td>2</td>\n",
              "      <td>2.0</td>\n",
              "      <td>2</td>\n",
              "      <td>1610000</td>\n",
              "    </tr>\n",
              "    <tr>\n",
              "      <th>3</th>\n",
              "      <td>2107</td>\n",
              "      <td>3.0</td>\n",
              "      <td>1</td>\n",
              "      <td>2.0</td>\n",
              "      <td>2</td>\n",
              "      <td>1510000</td>\n",
              "    </tr>\n",
              "    <tr>\n",
              "      <th>4</th>\n",
              "      <td>2107</td>\n",
              "      <td>3.0</td>\n",
              "      <td>1</td>\n",
              "      <td>2.0</td>\n",
              "      <td>2</td>\n",
              "      <td>1400000</td>\n",
              "    </tr>\n",
              "    <tr>\n",
              "      <th>...</th>\n",
              "      <td>...</td>\n",
              "      <td>...</td>\n",
              "      <td>...</td>\n",
              "      <td>...</td>\n",
              "      <td>...</td>\n",
              "      <td>...</td>\n",
              "    </tr>\n",
              "    <tr>\n",
              "      <th>151565</th>\n",
              "      <td>2234</td>\n",
              "      <td>5.0</td>\n",
              "      <td>2</td>\n",
              "      <td>2.0</td>\n",
              "      <td>2</td>\n",
              "      <td>1220000</td>\n",
              "    </tr>\n",
              "    <tr>\n",
              "      <th>151566</th>\n",
              "      <td>2234</td>\n",
              "      <td>5.0</td>\n",
              "      <td>3</td>\n",
              "      <td>3.0</td>\n",
              "      <td>2</td>\n",
              "      <td>1415000</td>\n",
              "    </tr>\n",
              "    <tr>\n",
              "      <th>151567</th>\n",
              "      <td>2234</td>\n",
              "      <td>4.0</td>\n",
              "      <td>3</td>\n",
              "      <td>2.0</td>\n",
              "      <td>2</td>\n",
              "      <td>980000</td>\n",
              "    </tr>\n",
              "    <tr>\n",
              "      <th>151568</th>\n",
              "      <td>2234</td>\n",
              "      <td>4.0</td>\n",
              "      <td>2</td>\n",
              "      <td>2.0</td>\n",
              "      <td>2</td>\n",
              "      <td>850000</td>\n",
              "    </tr>\n",
              "    <tr>\n",
              "      <th>151569</th>\n",
              "      <td>2234</td>\n",
              "      <td>3.0</td>\n",
              "      <td>2</td>\n",
              "      <td>2.0</td>\n",
              "      <td>5</td>\n",
              "      <td>640000</td>\n",
              "    </tr>\n",
              "  </tbody>\n",
              "</table>\n",
              "<p>151570 rows × 6 columns</p>\n",
              "</div>"
            ],
            "text/plain": [
              "        postalCode  bed  bath  car  propType  sellPrice\n",
              "0             2107  4.0     2  2.0         2    1210000\n",
              "1             2107  3.0     1  2.0         2    1530000\n",
              "2             2107  4.0     2  2.0         2    1610000\n",
              "3             2107  3.0     1  2.0         2    1510000\n",
              "4             2107  3.0     1  2.0         2    1400000\n",
              "...            ...  ...   ...  ...       ...        ...\n",
              "151565        2234  5.0     2  2.0         2    1220000\n",
              "151566        2234  5.0     3  3.0         2    1415000\n",
              "151567        2234  4.0     3  2.0         2     980000\n",
              "151568        2234  4.0     2  2.0         2     850000\n",
              "151569        2234  3.0     2  2.0         5     640000\n",
              "\n",
              "[151570 rows x 6 columns]"
            ]
          },
          "metadata": {},
          "execution_count": 19
        }
      ]
    },
    {
      "cell_type": "code",
      "metadata": {
        "id": "MsrzaKfNEOss"
      },
      "source": [
        "corr = df_no_outlier.corr()"
      ],
      "execution_count": null,
      "outputs": []
    },
    {
      "cell_type": "code",
      "metadata": {
        "colab": {
          "base_uri": "https://localhost:8080/",
          "height": 235
        },
        "id": "6CJcE8PS9WwQ",
        "outputId": "9f743f31-6bb2-4c81-d3ff-36ef91e98d64"
      },
      "source": [
        "corr"
      ],
      "execution_count": null,
      "outputs": [
        {
          "output_type": "execute_result",
          "data": {
            "text/html": [
              "<div>\n",
              "<style scoped>\n",
              "    .dataframe tbody tr th:only-of-type {\n",
              "        vertical-align: middle;\n",
              "    }\n",
              "\n",
              "    .dataframe tbody tr th {\n",
              "        vertical-align: top;\n",
              "    }\n",
              "\n",
              "    .dataframe thead th {\n",
              "        text-align: right;\n",
              "    }\n",
              "</style>\n",
              "<table border=\"1\" class=\"dataframe\">\n",
              "  <thead>\n",
              "    <tr style=\"text-align: right;\">\n",
              "      <th></th>\n",
              "      <th>postalCode</th>\n",
              "      <th>bed</th>\n",
              "      <th>bath</th>\n",
              "      <th>car</th>\n",
              "      <th>propType</th>\n",
              "      <th>sellPrice</th>\n",
              "    </tr>\n",
              "  </thead>\n",
              "  <tbody>\n",
              "    <tr>\n",
              "      <th>postalCode</th>\n",
              "      <td>1.000000</td>\n",
              "      <td>0.054281</td>\n",
              "      <td>-0.084662</td>\n",
              "      <td>0.004350</td>\n",
              "      <td>-0.029208</td>\n",
              "      <td>-0.426086</td>\n",
              "    </tr>\n",
              "    <tr>\n",
              "      <th>bed</th>\n",
              "      <td>0.054281</td>\n",
              "      <td>1.000000</td>\n",
              "      <td>0.585443</td>\n",
              "      <td>0.313054</td>\n",
              "      <td>-0.302399</td>\n",
              "      <td>0.288013</td>\n",
              "    </tr>\n",
              "    <tr>\n",
              "      <th>bath</th>\n",
              "      <td>-0.084662</td>\n",
              "      <td>0.585443</td>\n",
              "      <td>1.000000</td>\n",
              "      <td>0.295254</td>\n",
              "      <td>-0.073183</td>\n",
              "      <td>0.325798</td>\n",
              "    </tr>\n",
              "    <tr>\n",
              "      <th>car</th>\n",
              "      <td>0.004350</td>\n",
              "      <td>0.313054</td>\n",
              "      <td>0.295254</td>\n",
              "      <td>1.000000</td>\n",
              "      <td>-0.077036</td>\n",
              "      <td>0.183861</td>\n",
              "    </tr>\n",
              "    <tr>\n",
              "      <th>propType</th>\n",
              "      <td>-0.029208</td>\n",
              "      <td>-0.302399</td>\n",
              "      <td>-0.073183</td>\n",
              "      <td>-0.077036</td>\n",
              "      <td>1.000000</td>\n",
              "      <td>-0.207196</td>\n",
              "    </tr>\n",
              "    <tr>\n",
              "      <th>sellPrice</th>\n",
              "      <td>-0.426086</td>\n",
              "      <td>0.288013</td>\n",
              "      <td>0.325798</td>\n",
              "      <td>0.183861</td>\n",
              "      <td>-0.207196</td>\n",
              "      <td>1.000000</td>\n",
              "    </tr>\n",
              "  </tbody>\n",
              "</table>\n",
              "</div>"
            ],
            "text/plain": [
              "            postalCode       bed      bath       car  propType  sellPrice\n",
              "postalCode    1.000000  0.054281 -0.084662  0.004350 -0.029208  -0.426086\n",
              "bed           0.054281  1.000000  0.585443  0.313054 -0.302399   0.288013\n",
              "bath         -0.084662  0.585443  1.000000  0.295254 -0.073183   0.325798\n",
              "car           0.004350  0.313054  0.295254  1.000000 -0.077036   0.183861\n",
              "propType     -0.029208 -0.302399 -0.073183 -0.077036  1.000000  -0.207196\n",
              "sellPrice    -0.426086  0.288013  0.325798  0.183861 -0.207196   1.000000"
            ]
          },
          "metadata": {},
          "execution_count": 22
        }
      ]
    },
    {
      "cell_type": "markdown",
      "metadata": {
        "id": "SyOZVymo-Ucu"
      },
      "source": [
        "## 6. Correlation heatmap with the mask and correct aspect ratio"
      ]
    },
    {
      "cell_type": "code",
      "metadata": {
        "colab": {
          "base_uri": "https://localhost:8080/",
          "height": 554
        },
        "id": "P0i-1i6q7iXO",
        "outputId": "36b5f65d-4016-4c36-858a-70349947ee39"
      },
      "source": [
        "mask = np.zeros_like(corr, dtype=np.bool)\n",
        "mask[np.triu_indices_from(mask)] = True\n",
        "cmap = sns.diverging_palette(10, 250, as_cmap=True)\n",
        "f, ax = plt.subplots(figsize=(11, 9))\n",
        "sns.heatmap(corr, mask=mask, cmap=cmap,\n",
        "            square=True, linewidths=.2, cbar_kws={'shrink': .5}, ax=ax, annot=True)"
      ],
      "execution_count": null,
      "outputs": [
        {
          "output_type": "execute_result",
          "data": {
            "text/plain": [
              "<matplotlib.axes._subplots.AxesSubplot at 0x7fe95478fc10>"
            ]
          },
          "metadata": {},
          "execution_count": 23
        },
        {
          "output_type": "display_data",
          "data": {
            "image/png": "[encoded data removed]",
            "text/plain": [
              "<Figure size 792x648 with 2 Axes>"
            ]
          },
          "metadata": {
            "needs_background": "light"
          }
        }
      ]
    },
    {
      "cell_type": "markdown",
      "metadata": {
        "id": "kgpwjaf2CMz5"
      },
      "source": [
        "## 7. Split Target and Predictor Variables to different dataframes"
      ]
    },
    {
      "cell_type": "code",
      "metadata": {
        "id": "yjYR2O6NCJRt"
      },
      "source": [
        "X = df_no_outlier.iloc[:,:-1]\n",
        "Y = df_no_outlier.iloc[:,5]"
      ],
      "execution_count": null,
      "outputs": []
    },
    {
      "cell_type": "code",
      "metadata": {
        "colab": {
          "base_uri": "https://localhost:8080/",
          "height": 204
        },
        "id": "7A03Wa-jC8-i",
        "outputId": "80ece0e1-50c3-4bca-bc85-8bf2e640e147"
      },
      "source": [
        "X.head(5)"
      ],
      "execution_count": null,
      "outputs": [
        {
          "output_type": "execute_result",
          "data": {
            "text/html": [
              "<div>\n",
              "<style scoped>\n",
              "    .dataframe tbody tr th:only-of-type {\n",
              "        vertical-align: middle;\n",
              "    }\n",
              "\n",
              "    .dataframe tbody tr th {\n",
              "        vertical-align: top;\n",
              "    }\n",
              "\n",
              "    .dataframe thead th {\n",
              "        text-align: right;\n",
              "    }\n",
              "</style>\n",
              "<table border=\"1\" class=\"dataframe\">\n",
              "  <thead>\n",
              "    <tr style=\"text-align: right;\">\n",
              "      <th></th>\n",
              "      <th>postalCode</th>\n",
              "      <th>bed</th>\n",
              "      <th>bath</th>\n",
              "      <th>car</th>\n",
              "      <th>propType</th>\n",
              "    </tr>\n",
              "  </thead>\n",
              "  <tbody>\n",
              "    <tr>\n",
              "      <th>0</th>\n",
              "      <td>2107</td>\n",
              "      <td>4.0</td>\n",
              "      <td>2</td>\n",
              "      <td>2.0</td>\n",
              "      <td>2</td>\n",
              "    </tr>\n",
              "    <tr>\n",
              "      <th>1</th>\n",
              "      <td>2107</td>\n",
              "      <td>3.0</td>\n",
              "      <td>1</td>\n",
              "      <td>2.0</td>\n",
              "      <td>2</td>\n",
              "    </tr>\n",
              "    <tr>\n",
              "      <th>2</th>\n",
              "      <td>2107</td>\n",
              "      <td>4.0</td>\n",
              "      <td>2</td>\n",
              "      <td>2.0</td>\n",
              "      <td>2</td>\n",
              "    </tr>\n",
              "    <tr>\n",
              "      <th>3</th>\n",
              "      <td>2107</td>\n",
              "      <td>3.0</td>\n",
              "      <td>1</td>\n",
              "      <td>2.0</td>\n",
              "      <td>2</td>\n",
              "    </tr>\n",
              "    <tr>\n",
              "      <th>4</th>\n",
              "      <td>2107</td>\n",
              "      <td>3.0</td>\n",
              "      <td>1</td>\n",
              "      <td>2.0</td>\n",
              "      <td>2</td>\n",
              "    </tr>\n",
              "  </tbody>\n",
              "</table>\n",
              "</div>"
            ],
            "text/plain": [
              "   postalCode  bed  bath  car  propType\n",
              "0        2107  4.0     2  2.0         2\n",
              "1        2107  3.0     1  2.0         2\n",
              "2        2107  4.0     2  2.0         2\n",
              "3        2107  3.0     1  2.0         2\n",
              "4        2107  3.0     1  2.0         2"
            ]
          },
          "metadata": {},
          "execution_count": 87
        }
      ]
    },
    {
      "cell_type": "code",
      "metadata": {
        "colab": {
          "base_uri": "https://localhost:8080/"
        },
        "id": "vT693h-mC_-Z",
        "outputId": "bb8906d9-db00-45b0-dc69-c8cbf23aa713"
      },
      "source": [
        "Y.head(5)"
      ],
      "execution_count": null,
      "outputs": [
        {
          "output_type": "execute_result",
          "data": {
            "text/plain": [
              "0    1210000\n",
              "1    1530000\n",
              "2    1610000\n",
              "3    1510000\n",
              "4    1400000\n",
              "Name: sellPrice, dtype: int64"
            ]
          },
          "metadata": {},
          "execution_count": 88
        }
      ]
    },
    {
      "cell_type": "markdown",
      "metadata": {
        "id": "OtebqAqQDEcD"
      },
      "source": [
        "Convert dataframes to values to feed into Model"
      ]
    },
    {
      "cell_type": "code",
      "metadata": {
        "id": "vqAKWnYDDCyZ"
      },
      "source": [
        "X = X.values\n",
        "Y= Y.values"
      ],
      "execution_count": null,
      "outputs": []
    },
    {
      "cell_type": "code",
      "metadata": {
        "colab": {
          "base_uri": "https://localhost:8080/"
        },
        "id": "DU3u3eRdDRNr",
        "outputId": "9bb6fafc-1e09-4172-837d-7d427358a80c"
      },
      "source": [
        "print('Number of records and predictor variables:', X.shape)\n",
        "print('Number of records and target variable:', Y.shape)"
      ],
      "execution_count": null,
      "outputs": [
        {
          "output_type": "stream",
          "name": "stdout",
          "text": [
            "Number of records and predictor variables: (151570, 5)\n",
            "Number of records and target variable: (151570,)\n"
          ]
        }
      ]
    },
    {
      "cell_type": "markdown",
      "metadata": {
        "id": "T9OsPog_DqPJ"
      },
      "source": [
        "## 8. Split dataset into the training and test using train_set_split: 90% - train and 10% - test"
      ]
    },
    {
      "cell_type": "code",
      "metadata": {
        "id": "jbTStZckEPx3"
      },
      "source": [
        "X_train, X_test, Y_train, Y_test = train_test_split( X, Y, test_size=0.1, random_state=23)"
      ],
      "execution_count": null,
      "outputs": []
    },
    {
      "cell_type": "code",
      "metadata": {
        "colab": {
          "base_uri": "https://localhost:8080/"
        },
        "id": "TsDkySmVEaw-",
        "outputId": "667e8b7d-d1f7-45e8-e5bb-21ea6807141d"
      },
      "source": [
        "print ('Training Data:',X_train.shape, Y_train.shape)\n",
        "print ('Testing Data:',X_test.shape, Y_test.shape)"
      ],
      "execution_count": null,
      "outputs": [
        {
          "output_type": "stream",
          "name": "stdout",
          "text": [
            "Training Data: (136413, 5) (136413,)\n",
            "Testing Data: (15157, 5) (15157,)\n"
          ]
        }
      ]
    },
    {
      "cell_type": "markdown",
      "metadata": {
        "id": "ntbC1AdIFgr-"
      },
      "source": [
        "## 9. Train, Test and Predict using regression model"
      ]
    },
    {
      "cell_type": "code",
      "metadata": {
        "id": "X_fB-s6iKKrN"
      },
      "source": [
        "Regression = sm.OLS(endog = Y, exog = X).fit()"
      ],
      "execution_count": null,
      "outputs": []
    },
    {
      "cell_type": "code",
      "metadata": {
        "colab": {
          "base_uri": "https://localhost:8080/"
        },
        "id": "G8pZ2Qf9J8xA",
        "outputId": "78510867-cc14-496f-fa34-463a609c7aa7"
      },
      "source": [
        "print(Regression.summary())"
      ],
      "execution_count": null,
      "outputs": [
        {
          "output_type": "stream",
          "name": "stdout",
          "text": [
            "                                 OLS Regression Results                                \n",
            "=======================================================================================\n",
            "Dep. Variable:                      y   R-squared (uncentered):                   0.849\n",
            "Model:                            OLS   Adj. R-squared (uncentered):              0.849\n",
            "Method:                 Least Squares   F-statistic:                          1.705e+05\n",
            "Date:                Thu, 14 Oct 2021   Prob (F-statistic):                        0.00\n",
            "Time:                        12:15:51   Log-Likelihood:                     -2.1849e+06\n",
            "No. Observations:              151570   AIC:                                  4.370e+06\n",
            "Df Residuals:                  151565   BIC:                                  4.370e+06\n",
            "Df Model:                           5                                                  \n",
            "Covariance Type:            nonrobust                                                  \n",
            "==============================================================================\n",
            "                 coef    std err          t      P>|t|      [0.025      0.975]\n",
            "------------------------------------------------------------------------------\n",
            "x1            26.7134      2.696      9.908      0.000      21.429      31.998\n",
            "x2          1.559e+05   1836.731     84.875      0.000    1.52e+05    1.59e+05\n",
            "x3          1.524e+05   2092.851     72.833      0.000    1.48e+05    1.57e+05\n",
            "x4          1.032e+05   1947.396     52.984      0.000    9.94e+04    1.07e+05\n",
            "x5         -7015.3387    991.609     -7.075      0.000   -8958.871   -5071.806\n",
            "==============================================================================\n",
            "Omnibus:                    12696.767   Durbin-Watson:                   0.589\n",
            "Prob(Omnibus):                  0.000   Jarque-Bera (JB):            16111.028\n",
            "Skew:                           0.779   Prob(JB):                         0.00\n",
            "Kurtosis:                       3.355   Cond. No.                     4.92e+03\n",
            "==============================================================================\n",
            "\n",
            "Warnings:\n",
            "[1] Standard Errors assume that the covariance matrix of the errors is correctly specified.\n",
            "[2] The condition number is large, 4.92e+03. This might indicate that there are\n",
            "strong multicollinearity or other numerical problems.\n"
          ]
        }
      ]
    },
    {
      "cell_type": "markdown",
      "metadata": {
        "id": "PSHZRbXeMfUE"
      },
      "source": [
        "###To read more on skewness, kurtosis, autocorrelation and multicollinearity.\n",
        "\n",
        "---\n",
        "https://www.sciencedirect.com/topics/neuroscience/kurtosis \n",
        "\n",
        "---\n",
        "https://www.investopedia.com/terms/d/durbin-watson-statistic.asp \n",
        "\n",
        "---\n",
        "https://www.analyticsvidhya.com/blog/2020/03/what-is-multicollinearity"
      ]
    },
    {
      "cell_type": "markdown",
      "metadata": {
        "id": "nyfw2aBCFIDs"
      },
      "source": [
        "Create an object called regressor in the LinearRegression class"
      ]
    },
    {
      "cell_type": "code",
      "metadata": {
        "id": "tiDx7EdrFOwv"
      },
      "source": [
        "regressor = LinearRegression()"
      ],
      "execution_count": null,
      "outputs": []
    },
    {
      "cell_type": "markdown",
      "metadata": {
        "id": "dGcxP5OAFam_"
      },
      "source": [
        "Fit the linear regression model to the training set. We use the fit method the arguments of the fit method will be training sets"
      ]
    },
    {
      "cell_type": "code",
      "metadata": {
        "colab": {
          "base_uri": "https://localhost:8080/"
        },
        "id": "iJFpxajpFcZf",
        "outputId": "acba7f71-3907-440a-d67f-780551ac0639"
      },
      "source": [
        "regressor.fit(X_train,Y_train)"
      ],
      "execution_count": null,
      "outputs": [
        {
          "output_type": "execute_result",
          "data": {
            "text/plain": [
              "LinearRegression(copy_X=True, fit_intercept=True, n_jobs=None, normalize=False)"
            ]
          },
          "metadata": {},
          "execution_count": 96
        }
      ]
    },
    {
      "cell_type": "markdown",
      "metadata": {
        "id": "Qg_GAA22Oomq"
      },
      "source": [
        "Regression Coefficients"
      ]
    },
    {
      "cell_type": "code",
      "metadata": {
        "id": "IxuEcAqwLA9I",
        "colab": {
          "base_uri": "https://localhost:8080/"
        },
        "outputId": "a0891c4b-2f68-4b57-f938-a2c6a426c108"
      },
      "source": [
        "print('Coefficients: ', regressor.coef_)"
      ],
      "execution_count": null,
      "outputs": [
        {
          "output_type": "stream",
          "name": "stdout",
          "text": [
            "Coefficients:  [  -994.96779086  77688.21115481 119308.77799992  59036.23018905\n",
            " -63602.96035562]\n"
          ]
        }
      ]
    },
    {
      "cell_type": "markdown",
      "metadata": {
        "id": "msEAq6_FFvX-"
      },
      "source": [
        "Predicting the Test set results"
      ]
    },
    {
      "cell_type": "code",
      "metadata": {
        "id": "qatuSLFHFzH-"
      },
      "source": [
        "Y_pred= regressor.predict(X_test)"
      ],
      "execution_count": null,
      "outputs": []
    },
    {
      "cell_type": "markdown",
      "metadata": {
        "id": "mehJbVfqHv9c"
      },
      "source": [
        "## 10. Evaluation metrics - How to Calculate R-Square and RMSE"
      ]
    },
    {
      "cell_type": "code",
      "metadata": {
        "colab": {
          "base_uri": "https://localhost:8080/"
        },
        "id": "tJmxLtSKHtPe",
        "outputId": "521024b1-20e1-44a4-ac24-46c9792b481c"
      },
      "source": [
        "coefficient_of_dermination = r2_score(Y_test,Y_pred)\n",
        "print('R-squared:',coefficient_of_dermination)\n",
        "\n",
        "rmse = np.sqrt(mean_squared_error(Y_test, Y_pred))\n",
        "print('Root Mean Squared Error: {}'.format(rmse))"
      ],
      "execution_count": null,
      "outputs": [
        {
          "output_type": "stream",
          "name": "stdout",
          "text": [
            "R-squared: 0.32234350141727486\n",
            "Root Mean Squared Error: 375498.5323613452\n"
          ]
        }
      ]
    },
    {
      "cell_type": "markdown",
      "metadata": {
        "id": "Ldw1qMrtPG2p"
      },
      "source": [
        "## 11. Plot for residual error "
      ]
    },
    {
      "cell_type": "code",
      "metadata": {
        "id": "QYXFoBfvPD5Y"
      },
      "source": [
        "plt.style.use('seaborn')"
      ],
      "execution_count": null,
      "outputs": []
    },
    {
      "cell_type": "markdown",
      "metadata": {
        "id": "DMgHckutPQEI"
      },
      "source": [
        "Plotting residual errors in training data"
      ]
    },
    {
      "cell_type": "code",
      "metadata": {
        "colab": {
          "base_uri": "https://localhost:8080/",
          "height": 410
        },
        "id": "wZEzhLw-PN3q",
        "outputId": "db603b01-7ab6-4a16-dd95-fa5be6eff962"
      },
      "source": [
        "residual_train = Y_train - regressor.predict(X_train) \n",
        "plt.scatter(residual_train,regressor.predict(X_train),\n",
        "            color = 'green', s = 8, label = 'Train data')"
      ],
      "execution_count": null,
      "outputs": [
        {
          "output_type": "execute_result",
          "data": {
            "text/plain": [
              "<matplotlib.collections.PathCollection at 0x7fe9446d4210>"
            ]
          },
          "metadata": {},
          "execution_count": 201
        },
        {
          "output_type": "display_data",
          "data": {
            "image/png": "[encoded data removed]",
            "text/plain": [
              "<Figure size 576x396 with 1 Axes>"
            ]
          },
          "metadata": {}
        }
      ]
    },
    {
      "cell_type": "markdown",
      "metadata": {
        "id": "QKNDkrwBh_Iy"
      },
      "source": [
        "Plotting residual errors in test data"
      ]
    },
    {
      "cell_type": "code",
      "metadata": {
        "colab": {
          "base_uri": "https://localhost:8080/",
          "height": 410
        },
        "id": "k0S-niK9PhRk",
        "outputId": "2e336db6-05ca-4e7d-a875-f5175de88eeb"
      },
      "source": [
        "residual_test = Y_test-regressor.predict(X_test)\n",
        "plt.scatter(residual_test,regressor.predict(X_test),\n",
        "            color = 'blue', s = 8, label = 'Test data')"
      ],
      "execution_count": null,
      "outputs": [
        {
          "output_type": "execute_result",
          "data": {
            "text/plain": [
              "<matplotlib.collections.PathCollection at 0x7fe943d1aa90>"
            ]
          },
          "metadata": {},
          "execution_count": 199
        },
        {
          "output_type": "display_data",
          "data": {
            "image/png": "[encoded data removed]",
            "text/plain": [
              "<Figure size 576x396 with 1 Axes>"
            ]
          },
          "metadata": {}
        }
      ]
    },
    {
      "cell_type": "markdown",
      "metadata": {
        "id": "qlP7SJ-ZiMFs"
      },
      "source": [
        "Plotting line for zero residual error and legend and title"
      ]
    },
    {
      "cell_type": "code",
      "metadata": {
        "colab": {
          "base_uri": "https://localhost:8080/",
          "height": 397
        },
        "id": "MI12MukJiOgt",
        "outputId": "c620e02c-4dc7-4462-dbef-d5c7434dd91e"
      },
      "source": [
        "plt.scatter(residual_train, regressor.predict(X_train),\n",
        "            color = 'green', s = 10, label = 'Train data')\n",
        "plt.scatter(residual_test,regressor.predict(X_test),\n",
        "            color = 'blue', s = 10, label = 'Test data')\n",
        "plt.hlines(y=0 , xmin = 0, xmax = 100, linewidth = 5)\n",
        "plt.legend(loc = 'upper right')\n",
        "plt.title('Residual errors')\n",
        "plt.rc('font', size=12)   \n",
        "plt.show()"
      ],
      "execution_count": null,
      "outputs": [
        {
          "output_type": "display_data",
          "data": {
            "image/png": "[encoded data removed]",
            "text/plain": [
              "<Figure size 576x396 with 1 Axes>"
            ]
          },
          "metadata": {}
        }
      ]
    }
  ]
}